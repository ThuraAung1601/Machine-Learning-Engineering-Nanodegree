{
 "cells": [
  {
   "cell_type": "code",
   "execution_count": null,
   "id": "33c8bdf4",
   "metadata": {},
   "outputs": [],
   "source": [
    "# Import necessary libraries\n",
    "import pandas as pd\n",
    "import numpy as np\n",
    "import matplotlib.pyplot as plt\n",
    "import seaborn as sns \n",
    "from sklearn.feature_extraction.text import CountVectorizer\n",
    "from sklearn.feature_extraction.text import TfidfTransformer\n",
    "from sklearn import feature_extraction, linear_model, model_selection, preprocessing\n",
    "from sklearn.metrics import accuracy_score\n",
    "from sklearn.model_selection import train_test_split\n",
    "from sklearn.pipeline import Pipeline"
   ]
  },
  {
   "cell_type": "code",
   "execution_count": null,
   "id": "acd5122c",
   "metadata": {},
   "outputs": [],
   "source": [
    "# Data loading\n",
    "path = \"data\"\n",
    "fake = pd.read_csv(path + \"/Fake.csv\")\n",
    "true = pd.read_csv(path + \"/True.csv\")\n",
    "\n",
    "print(\"Numbers of True news : \", true.shape[0])\n",
    "print(\"Numbers of Fake news : \", fake.shape[0])"
   ]
  },
  {
   "cell_type": "markdown",
   "id": "3deffe6d",
   "metadata": {},
   "source": [
    "### Data cleaning and preparation\n",
    "  \n",
    "  * Concatenate True.csv and Fake.csv for data preparation\n",
    "  * Drop unnecesssary columns\n",
    "  * Convert to lower cases\n",
    "  * Remove punctuation\n",
    "  * Remove stopwords\n",
    "  * Tokenize"
   ]
  },
  {
   "cell_type": "code",
   "execution_count": null,
   "id": "273b273d",
   "metadata": {},
   "outputs": [],
   "source": [
    "# Add flag to track fake and true\n",
    "true['target'] = 'true'\n",
    "fake['target'] = 'fake'\n",
    "\n",
    "# Concatenate dataframes\n",
    "data = pd.concat([fake, true]).reset_index(drop = True)\n",
    "\n",
    "# Shuffle the data\n",
    "from sklearn.utils import shuffle\n",
    "data = shuffle(data)\n",
    "data = data.reset_index(drop=True)\n",
    "\n",
    "# Removing the date as we would not use it for detection\n",
    "data.drop([\"date\"],axis=1,inplace=True)\n",
    "\n",
    "# Removing the title (we will only use the text)\n",
    "data.drop([\"title\"],axis=1,inplace=True)\n",
    "\n",
    "# Convert to lowercase\n",
    "data['text'] = data['text'].apply(lambda x: x.lower())\n",
    "\n",
    "# Remove punctuation\n",
    "\n",
    "import string\n",
    "\n",
    "def punctuation_removal(text):\n",
    "    all_list = [char for char in text if char not in string.punctuation]\n",
    "    clean_str = ''.join(all_list)\n",
    "    return clean_str\n",
    "\n",
    "data['text'] = data['text'].apply(punctuation_removal)\n",
    "\n",
    "# Removing stopwords\n",
    "import nltk\n",
    "nltk.download('stopwords')\n",
    "from nltk.corpus import stopwords\n",
    "stop = stopwords.words('english')\n",
    "\n",
    "data['text'] = data['text'].apply(lambda x: ' '.join([word for word in x.split() if word not in (stop)]))\n",
    "\n",
    "# Tokenization\n",
    "from nltk import tokenize\n",
    "\n",
    "token_space = tokenize.WhitespaceTokenizer()"
   ]
  },
  {
   "cell_type": "markdown",
   "id": "c890e54e",
   "metadata": {},
   "source": [
    "### Decision Tree\n",
    "\n"
   ]
  },
  {
   "cell_type": "code",
   "execution_count": null,
   "id": "8e4d0c6d",
   "metadata": {},
   "outputs": [],
   "source": [
    "from sklearn.tree import DecisionTreeClassifier\n",
    "\n",
    "# Vectorizing and applying TF-IDF\n",
    "pipe = Pipeline([('vect', CountVectorizer()),\n",
    "                 ('tfidf', TfidfTransformer()),\n",
    "                 ('model', DecisionTreeClassifier(criterion= 'entropy',\n",
    "                                           max_depth = 20, \n",
    "                                           splitter='best', \n",
    "                                           random_state=42))])\n",
    "# Fitting the model\n",
    "model = pipe.fit(X_train, y_train)\n",
    "\n",
    "# Accuracy\n",
    "prediction = model.predict(X_test)\n",
    "print(\"accuracy: {}%\".format(round(accuracy_score(y_test, prediction)*100,2)))\n",
    "dct['Decision Tree'] = round(accuracy_score(y_test, prediction)*100,2)\n",
    "\n",
    "cm = metrics.confusion_matrix(y_test, prediction)\n",
    "plot_confusion_matrix(cm, classes=['Fake', 'Real'])\n",
    "\n",
    "import pickle \n",
    "\n",
    "# Save to file in the current working directory\n",
    "pkl_filename = \"svm_model.pkl\"\n",
    "with open(pkl_filename, 'wb') as file:\n",
    "    pickle.dump(model, file)\n",
    "\n",
    "### Random Forest"
   ]
  }
 ],
 "metadata": {
  "kernelspec": {
   "display_name": "Python 3 (ipykernel)",
   "language": "python",
   "name": "python3"
  },
  "language_info": {
   "codemirror_mode": {
    "name": "ipython",
    "version": 3
   },
   "file_extension": ".py",
   "mimetype": "text/x-python",
   "name": "python",
   "nbconvert_exporter": "python",
   "pygments_lexer": "ipython3",
   "version": "3.8.10"
  }
 },
 "nbformat": 4,
 "nbformat_minor": 5
}
