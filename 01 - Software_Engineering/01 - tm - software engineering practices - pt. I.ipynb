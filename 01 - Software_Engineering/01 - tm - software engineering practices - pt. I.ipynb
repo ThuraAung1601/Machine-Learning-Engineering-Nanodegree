{
 "cells": [
  {
   "cell_type": "markdown",
   "metadata": {},
   "source": [
    "# Software Engineering Practices - pt. I\n",
    "\n",
    "## Writing clean code\n",
    "\n",
    "- Use meaningful names \n",
    "- Be descriptive and imply type: E.g. for booleans, use prefix `is_` or `has_` to make clear it is a condition. "
   ]
  },
  {
   "cell_type": "code",
   "execution_count": 1,
   "metadata": {},
   "outputs": [
    {
     "data": {
      "text/plain": [
       "[47, 'minor', 28]"
      ]
     },
     "execution_count": 1,
     "metadata": {},
     "output_type": "execute_result"
    }
   ],
   "source": [
    "age_list = [47, 12, 28]\n",
    "\n",
    "for i, age in enumerate(age_list):\n",
    "    if age < 18:\n",
    "        is_minor = True\n",
    "        age_list[i] = \"minor\"\n",
    "        \n",
    "age_list"
   ]
  },
  {
   "cell_type": "markdown",
   "metadata": {},
   "source": [
    "- Be consistent but clearly differentiate\n",
    "- Avoid abbreviations and especially single letters\n",
    "- Long names $\\neq$ descriptive names "
   ]
  },
  {
   "cell_type": "markdown",
   "metadata": {},
   "source": [
    "## Writing modular code\n",
    "\n",
    "- DRY: Don't repeat yourself\n",
    "- Abstract out logic to improve readability\n",
    "- Minimize the number of entities (functions, classes, modules, etc.)\n",
    "- Functions should do one thing\n",
    "- Arbitrary variable names can be more effective in certain functions. \n",
    "- Try to use fewer than three arguments per function."
   ]
  },
  {
   "cell_type": "markdown",
   "metadata": {},
   "source": [
    "## Quiz: Refactoring - Wine quality"
   ]
  },
  {
   "cell_type": "code",
   "execution_count": 2,
   "metadata": {},
   "outputs": [
    {
     "data": {
      "text/html": [
       "<div>\n",
       "<style scoped>\n",
       "    .dataframe tbody tr th:only-of-type {\n",
       "        vertical-align: middle;\n",
       "    }\n",
       "\n",
       "    .dataframe tbody tr th {\n",
       "        vertical-align: top;\n",
       "    }\n",
       "\n",
       "    .dataframe thead th {\n",
       "        text-align: right;\n",
       "    }\n",
       "</style>\n",
       "<table border=\"1\" class=\"dataframe\">\n",
       "  <thead>\n",
       "    <tr style=\"text-align: right;\">\n",
       "      <th></th>\n",
       "      <th>fixed acidity</th>\n",
       "      <th>volatile acidity</th>\n",
       "      <th>citric acid</th>\n",
       "      <th>residual sugar</th>\n",
       "      <th>chlorides</th>\n",
       "      <th>free sulfur dioxide</th>\n",
       "      <th>total sulfur dioxide</th>\n",
       "      <th>density</th>\n",
       "      <th>pH</th>\n",
       "      <th>sulphates</th>\n",
       "      <th>alcohol</th>\n",
       "      <th>quality</th>\n",
       "    </tr>\n",
       "  </thead>\n",
       "  <tbody>\n",
       "    <tr>\n",
       "      <td>0</td>\n",
       "      <td>7.4</td>\n",
       "      <td>0.70</td>\n",
       "      <td>0.00</td>\n",
       "      <td>1.9</td>\n",
       "      <td>0.076</td>\n",
       "      <td>11.0</td>\n",
       "      <td>34.0</td>\n",
       "      <td>0.9978</td>\n",
       "      <td>3.51</td>\n",
       "      <td>0.56</td>\n",
       "      <td>9.4</td>\n",
       "      <td>5</td>\n",
       "    </tr>\n",
       "    <tr>\n",
       "      <td>1</td>\n",
       "      <td>7.8</td>\n",
       "      <td>0.88</td>\n",
       "      <td>0.00</td>\n",
       "      <td>2.6</td>\n",
       "      <td>0.098</td>\n",
       "      <td>25.0</td>\n",
       "      <td>67.0</td>\n",
       "      <td>0.9968</td>\n",
       "      <td>3.20</td>\n",
       "      <td>0.68</td>\n",
       "      <td>9.8</td>\n",
       "      <td>5</td>\n",
       "    </tr>\n",
       "    <tr>\n",
       "      <td>2</td>\n",
       "      <td>7.8</td>\n",
       "      <td>0.76</td>\n",
       "      <td>0.04</td>\n",
       "      <td>2.3</td>\n",
       "      <td>0.092</td>\n",
       "      <td>15.0</td>\n",
       "      <td>54.0</td>\n",
       "      <td>0.9970</td>\n",
       "      <td>3.26</td>\n",
       "      <td>0.65</td>\n",
       "      <td>9.8</td>\n",
       "      <td>5</td>\n",
       "    </tr>\n",
       "    <tr>\n",
       "      <td>3</td>\n",
       "      <td>11.2</td>\n",
       "      <td>0.28</td>\n",
       "      <td>0.56</td>\n",
       "      <td>1.9</td>\n",
       "      <td>0.075</td>\n",
       "      <td>17.0</td>\n",
       "      <td>60.0</td>\n",
       "      <td>0.9980</td>\n",
       "      <td>3.16</td>\n",
       "      <td>0.58</td>\n",
       "      <td>9.8</td>\n",
       "      <td>6</td>\n",
       "    </tr>\n",
       "    <tr>\n",
       "      <td>4</td>\n",
       "      <td>7.4</td>\n",
       "      <td>0.70</td>\n",
       "      <td>0.00</td>\n",
       "      <td>1.9</td>\n",
       "      <td>0.076</td>\n",
       "      <td>11.0</td>\n",
       "      <td>34.0</td>\n",
       "      <td>0.9978</td>\n",
       "      <td>3.51</td>\n",
       "      <td>0.56</td>\n",
       "      <td>9.4</td>\n",
       "      <td>5</td>\n",
       "    </tr>\n",
       "  </tbody>\n",
       "</table>\n",
       "</div>"
      ],
      "text/plain": [
       "   fixed acidity  volatile acidity  citric acid  residual sugar  chlorides  \\\n",
       "0            7.4              0.70         0.00             1.9      0.076   \n",
       "1            7.8              0.88         0.00             2.6      0.098   \n",
       "2            7.8              0.76         0.04             2.3      0.092   \n",
       "3           11.2              0.28         0.56             1.9      0.075   \n",
       "4            7.4              0.70         0.00             1.9      0.076   \n",
       "\n",
       "   free sulfur dioxide  total sulfur dioxide  density    pH  sulphates  \\\n",
       "0                 11.0                  34.0   0.9978  3.51       0.56   \n",
       "1                 25.0                  67.0   0.9968  3.20       0.68   \n",
       "2                 15.0                  54.0   0.9970  3.26       0.65   \n",
       "3                 17.0                  60.0   0.9980  3.16       0.58   \n",
       "4                 11.0                  34.0   0.9978  3.51       0.56   \n",
       "\n",
       "   alcohol  quality  \n",
       "0      9.4        5  \n",
       "1      9.8        5  \n",
       "2      9.8        5  \n",
       "3      9.8        6  \n",
       "4      9.4        5  "
      ]
     },
     "execution_count": 2,
     "metadata": {},
     "output_type": "execute_result"
    }
   ],
   "source": [
    "import pandas as pd\n",
    "df = pd.read_csv(\"../data/winequality-red.csv\", sep=\";\")\n",
    "df.head()"
   ]
  },
  {
   "cell_type": "markdown",
   "metadata": {},
   "source": [
    "### Renaming Columns\n",
    "\n",
    "We would like to reference to the column names using dot notation. In order to do this we have to replace the white space `\" \"` by an underscore `\"_\"`. \n"
   ]
  },
  {
   "cell_type": "code",
   "execution_count": 3,
   "metadata": {},
   "outputs": [
    {
     "data": {
      "text/html": [
       "<div>\n",
       "<style scoped>\n",
       "    .dataframe tbody tr th:only-of-type {\n",
       "        vertical-align: middle;\n",
       "    }\n",
       "\n",
       "    .dataframe tbody tr th {\n",
       "        vertical-align: top;\n",
       "    }\n",
       "\n",
       "    .dataframe thead th {\n",
       "        text-align: right;\n",
       "    }\n",
       "</style>\n",
       "<table border=\"1\" class=\"dataframe\">\n",
       "  <thead>\n",
       "    <tr style=\"text-align: right;\">\n",
       "      <th></th>\n",
       "      <th>fixed_acidity</th>\n",
       "      <th>volatile_acidity</th>\n",
       "      <th>citric_acid</th>\n",
       "      <th>residual_sugar</th>\n",
       "      <th>chlorides</th>\n",
       "      <th>free_sulfur_dioxide</th>\n",
       "      <th>total_sulfur_dioxide</th>\n",
       "      <th>density</th>\n",
       "      <th>pH</th>\n",
       "      <th>sulphates</th>\n",
       "      <th>alcohol</th>\n",
       "      <th>quality</th>\n",
       "    </tr>\n",
       "  </thead>\n",
       "  <tbody>\n",
       "    <tr>\n",
       "      <td>0</td>\n",
       "      <td>7.4</td>\n",
       "      <td>0.70</td>\n",
       "      <td>0.00</td>\n",
       "      <td>1.9</td>\n",
       "      <td>0.076</td>\n",
       "      <td>11.0</td>\n",
       "      <td>34.0</td>\n",
       "      <td>0.9978</td>\n",
       "      <td>3.51</td>\n",
       "      <td>0.56</td>\n",
       "      <td>9.4</td>\n",
       "      <td>5</td>\n",
       "    </tr>\n",
       "    <tr>\n",
       "      <td>1</td>\n",
       "      <td>7.8</td>\n",
       "      <td>0.88</td>\n",
       "      <td>0.00</td>\n",
       "      <td>2.6</td>\n",
       "      <td>0.098</td>\n",
       "      <td>25.0</td>\n",
       "      <td>67.0</td>\n",
       "      <td>0.9968</td>\n",
       "      <td>3.20</td>\n",
       "      <td>0.68</td>\n",
       "      <td>9.8</td>\n",
       "      <td>5</td>\n",
       "    </tr>\n",
       "    <tr>\n",
       "      <td>2</td>\n",
       "      <td>7.8</td>\n",
       "      <td>0.76</td>\n",
       "      <td>0.04</td>\n",
       "      <td>2.3</td>\n",
       "      <td>0.092</td>\n",
       "      <td>15.0</td>\n",
       "      <td>54.0</td>\n",
       "      <td>0.9970</td>\n",
       "      <td>3.26</td>\n",
       "      <td>0.65</td>\n",
       "      <td>9.8</td>\n",
       "      <td>5</td>\n",
       "    </tr>\n",
       "    <tr>\n",
       "      <td>3</td>\n",
       "      <td>11.2</td>\n",
       "      <td>0.28</td>\n",
       "      <td>0.56</td>\n",
       "      <td>1.9</td>\n",
       "      <td>0.075</td>\n",
       "      <td>17.0</td>\n",
       "      <td>60.0</td>\n",
       "      <td>0.9980</td>\n",
       "      <td>3.16</td>\n",
       "      <td>0.58</td>\n",
       "      <td>9.8</td>\n",
       "      <td>6</td>\n",
       "    </tr>\n",
       "    <tr>\n",
       "      <td>4</td>\n",
       "      <td>7.4</td>\n",
       "      <td>0.70</td>\n",
       "      <td>0.00</td>\n",
       "      <td>1.9</td>\n",
       "      <td>0.076</td>\n",
       "      <td>11.0</td>\n",
       "      <td>34.0</td>\n",
       "      <td>0.9978</td>\n",
       "      <td>3.51</td>\n",
       "      <td>0.56</td>\n",
       "      <td>9.4</td>\n",
       "      <td>5</td>\n",
       "    </tr>\n",
       "  </tbody>\n",
       "</table>\n",
       "</div>"
      ],
      "text/plain": [
       "   fixed_acidity  volatile_acidity  citric_acid  residual_sugar  chlorides  \\\n",
       "0            7.4              0.70         0.00             1.9      0.076   \n",
       "1            7.8              0.88         0.00             2.6      0.098   \n",
       "2            7.8              0.76         0.04             2.3      0.092   \n",
       "3           11.2              0.28         0.56             1.9      0.075   \n",
       "4            7.4              0.70         0.00             1.9      0.076   \n",
       "\n",
       "   free_sulfur_dioxide  total_sulfur_dioxide  density    pH  sulphates  \\\n",
       "0                 11.0                  34.0   0.9978  3.51       0.56   \n",
       "1                 25.0                  67.0   0.9968  3.20       0.68   \n",
       "2                 15.0                  54.0   0.9970  3.26       0.65   \n",
       "3                 17.0                  60.0   0.9980  3.16       0.58   \n",
       "4                 11.0                  34.0   0.9978  3.51       0.56   \n",
       "\n",
       "   alcohol  quality  \n",
       "0      9.4        5  \n",
       "1      9.8        5  \n",
       "2      9.8        5  \n",
       "3      9.8        6  \n",
       "4      9.4        5  "
      ]
     },
     "execution_count": 3,
     "metadata": {},
     "output_type": "execute_result"
    }
   ],
   "source": [
    "# rewrite using list comprehension\n",
    "df.columns = [label.replace(\" \", \"_\") for label in df.columns]\n",
    "df.head()"
   ]
  },
  {
   "cell_type": "markdown",
   "metadata": {},
   "source": [
    "### Analyzing Features\n",
    "\n",
    "Check relation between features and quality rating of the wine\n",
    "\n",
    "- Observing mean quality rating for the top and bottom half of the feature"
   ]
  },
  {
   "cell_type": "markdown",
   "metadata": {},
   "source": [
    "#### `pandas.DataFrame.loc`\n",
    "\n",
    "- Access a group of rows and columns by label(s) or a boolean array. `.loc[]` is primarily label based, but may also be used with a boolean array.\n",
    "- Example: `df.loc[\"viper\"]` \n",
    "- [link](https://pandas.pydata.org/pandas-docs/stable/reference/api/pandas.DataFrame.loc.html)"
   ]
  },
  {
   "cell_type": "code",
   "execution_count": 4,
   "metadata": {},
   "outputs": [
    {
     "name": "stdout",
     "output_type": "stream",
     "text": [
      "            max_speed  shield\n",
      "cobra               1       2\n",
      "viper               4       5\n",
      "sidewinder          7       8 \n",
      "\n",
      "max_speed    1\n",
      "shield       2\n",
      "Name: cobra, dtype: int64 \n",
      "\n",
      "       max_speed  shield\n",
      "cobra          1       2 \n",
      "\n",
      "cobra    1\n",
      "viper    4\n",
      "Name: max_speed, dtype: int64 \n",
      "\n"
     ]
    }
   ],
   "source": [
    "# Example\n",
    "import pandas as pd\n",
    "example_df = pd.DataFrame([[1,2], [4, 5], [7, 8]], \n",
    "                 index=[\"cobra\", \"viper\", \"sidewinder\"],\n",
    "                 columns=[\"max_speed\", \"shield\"])\n",
    "\n",
    "print(example_df, \"\\n\")\n",
    "print(example_df.loc[\"cobra\"], \"\\n\")\n",
    "print(example_df.loc[[\"cobra\"]], \"\\n\")\n",
    "print(example_df.loc[\"cobra\":\"viper\", \"max_speed\"], \"\\n\")"
   ]
  },
  {
   "cell_type": "markdown",
   "metadata": {},
   "source": [
    "#### Before:\n",
    "```python\n",
    "median_alcohol = df.alcohol.median()\n",
    "\n",
    "for i, alcohol in enumerate(df.alcohol):\n",
    "    if alcohol >= median_alcohol:\n",
    "        df.loc[i, \"alcohol\"] = \"high\"\n",
    "    else:\n",
    "        df.loc[i, \"alcohol\"] = \"low\"\n",
    "```"
   ]
  },
  {
   "cell_type": "markdown",
   "metadata": {},
   "source": [
    "#### `pandas.DataFrame.groupby`\n",
    "\n",
    "- Group DataFrame or Series using a mapper or by a Series of columns. \n",
    "- Involves combination of splitting the object, applying a funciton, and combining the results. "
   ]
  },
  {
   "cell_type": "code",
   "execution_count": 5,
   "metadata": {},
   "outputs": [
    {
     "name": "stdout",
     "output_type": "stream",
     "text": [
      "   Animal  Max Speed\n",
      "0  Falcon      380.0\n",
      "1  Falcon      370.0\n",
      "2  Parrot       24.0\n",
      "3  Parrot       26.0\n",
      "        Max Speed\n",
      "Animal           \n",
      "Falcon      375.0\n",
      "Parrot       25.0\n"
     ]
    },
    {
     "data": {
      "text/plain": [
       "<pandas.core.groupby.generic.DataFrameGroupBy object at 0x0000012DC1AB5748>"
      ]
     },
     "execution_count": 5,
     "metadata": {},
     "output_type": "execute_result"
    }
   ],
   "source": [
    "# Example: groupby\n",
    "example_df = pd.DataFrame({\"Animal\": [\"Falcon\", \n",
    "                              \"Falcon\", \n",
    "                              \"Parrot\", \n",
    "                              \"Parrot\"],\n",
    "                  \"Max Speed\" : [380., 370., 24., 26.]})\n",
    "\n",
    "print(example_df)\n",
    "print(example_df.groupby([\"Animal\"]).mean())\n",
    "example_df.groupby([\"Max Speed\"])"
   ]
  },
  {
   "cell_type": "markdown",
   "metadata": {},
   "source": [
    "#### Task\n",
    "\n",
    "Instead of repeating this for `pH`, `residual_sugar`, and `citric_acid` can you automate this?\n",
    "\n",
    "- Use a function to automate this task"
   ]
  },
  {
   "cell_type": "code",
   "execution_count": 6,
   "metadata": {},
   "outputs": [],
   "source": [
    "def numeric_to_buckets(df, column_name): \n",
    "    median = df[column_name].median()\n",
    "    \n",
    "    for i, val in enumerate(df[column_name]): \n",
    "        if val >= median: \n",
    "            df.loc[i, column_name] = \"high\"\n",
    "        else: \n",
    "            df.loc[i, column_name] = \"low\""
   ]
  },
  {
   "cell_type": "code",
   "execution_count": 7,
   "metadata": {},
   "outputs": [
    {
     "name": "stdout",
     "output_type": "stream",
     "text": [
      "fixed_acidity\n",
      "high    5.726061\n",
      "low     5.540052\n",
      "Name: quality, dtype: float64 \n",
      "\n",
      "volatile_acidity\n",
      "high    5.392157\n",
      "low     5.890166\n",
      "Name: quality, dtype: float64 \n",
      "\n",
      "citric_acid\n",
      "high    5.822360\n",
      "low     5.447103\n",
      "Name: quality, dtype: float64 \n",
      "\n",
      "residual_sugar\n",
      "high    5.665880\n",
      "low     5.602394\n",
      "Name: quality, dtype: float64 \n",
      "\n",
      "chlorides\n",
      "high    5.507194\n",
      "low     5.776471\n",
      "Name: quality, dtype: float64 \n",
      "\n",
      "free_sulfur_dioxide\n",
      "high    5.595268\n",
      "low     5.677136\n",
      "Name: quality, dtype: float64 \n",
      "\n",
      "total_sulfur_dioxide\n",
      "high    5.522981\n",
      "low     5.750630\n",
      "Name: quality, dtype: float64 \n",
      "\n",
      "density\n",
      "high    5.540574\n",
      "low     5.731830\n",
      "Name: quality, dtype: float64 \n",
      "\n",
      "pH\n",
      "high    5.598039\n",
      "low     5.675607\n",
      "Name: quality, dtype: float64 \n",
      "\n",
      "sulphates\n",
      "high    5.898917\n",
      "low     5.351562\n",
      "Name: quality, dtype: float64 \n",
      "\n",
      "alcohol\n",
      "high    5.958904\n",
      "low     5.310302\n",
      "Name: quality, dtype: float64 \n",
      "\n"
     ]
    }
   ],
   "source": [
    "for feature in df.columns[:-1]:\n",
    "    numeric_to_buckets(df, feature)\n",
    "    print(df.groupby(feature).quality.mean(), '\\n')"
   ]
  },
  {
   "cell_type": "markdown",
   "metadata": {},
   "source": [
    "#### Efficient code\n",
    "\n",
    "- Reducing run time\n",
    "- Reducing space in memory\n",
    "\n",
    "Resources: \n",
    "\n",
    "- [What makes sets faster than lists](https://stackoverflow.com/questions/8929284/what-makes-sets-faster-than-lists/8929445#8929445)\n",
    "\n",
    "## Optimizing - Common Books\n",
    "\n",
    "Improve on matching the books in the lists by:\n",
    "\n",
    "- Using vector operations over loops when possible (numpy and pandas are your best friends)\n",
    "- (after googling: fow to find common elements in two numppy arrays), use `numpy.intersect1d` method ([link](https://docs.scipy.org/doc/numpy/reference/generated/numpy.intersect1d.html))\n",
    "- Next, know your data structures and which methods are faster.\n",
    " - Sets are more efficient here!"
   ]
  },
  {
   "cell_type": "code",
   "execution_count": 8,
   "metadata": {},
   "outputs": [],
   "source": [
    "import time\n",
    "import pandas as pd\n",
    "import numpy as np"
   ]
  },
  {
   "cell_type": "markdown",
   "metadata": {},
   "source": [
    "#### `with` statement in Python\n",
    "\n",
    "- Give access to a file by opening it. \n",
    " - using `open()` function: Open returns a `file object`, which has methods and attributes for getting information about and manipulating the open file. \n",
    "- `with` statement has better syntax and exceptions handling\n",
    " - simplified excepttion handling by encapsulating commong preparation and cleanup tasks. In addition, it will automatically close the file. The `with` statement provides a way for ensuring that a clean-up is always used.  "
   ]
  },
  {
   "cell_type": "code",
   "execution_count": 9,
   "metadata": {},
   "outputs": [],
   "source": [
    "with open(\"../data/books_published_last_two_years.txt\") as file:\n",
    "    recent_books = file.read().split(\"\\n\")\n",
    "    \n",
    "with open(\"../data/all_coding_books.txt\") as file: \n",
    "    coding_books = file.read().split(\"\\n\")"
   ]
  },
  {
   "cell_type": "code",
   "execution_count": 10,
   "metadata": {},
   "outputs": [
    {
     "name": "stdout",
     "output_type": "stream",
     "text": [
      "Length recent_books: 24159\n",
      "Length coding_books: 32250\n"
     ]
    }
   ],
   "source": [
    "print(\"Length recent_books:\", len(recent_books))\n",
    "print(\"Length coding_books:\", len(coding_books))"
   ]
  },
  {
   "cell_type": "code",
   "execution_count": 11,
   "metadata": {},
   "outputs": [
    {
     "data": {
      "text/plain": [
       "['1262771', '9011996', '2007022', '9389522', '8181760']"
      ]
     },
     "execution_count": 11,
     "metadata": {},
     "output_type": "execute_result"
    }
   ],
   "source": [
    "recent_books[:5]"
   ]
  },
  {
   "cell_type": "code",
   "execution_count": 12,
   "metadata": {},
   "outputs": [
    {
     "name": "stdout",
     "output_type": "stream",
     "text": [
      "Duration: 18.4696\n",
      "\n",
      "No. of recent_coding_books: 96\n"
     ]
    }
   ],
   "source": [
    "# first method\n",
    "start = time.time()\n",
    "recent_coding_books = []\n",
    "\n",
    "for book in recent_books:\n",
    "    if book in coding_books:\n",
    "        recent_coding_books.append(book)\n",
    "        \n",
    "end = time.time()\n",
    "print(\"Duration: {:.4f}\".format(end-start))\n",
    "print(\"\\nNo. of recent_coding_books:\", len(recent_coding_books))"
   ]
  },
  {
   "cell_type": "markdown",
   "metadata": {},
   "source": [
    "#### Tip #1: Use vector operations over loops whenever possible\n",
    "\n",
    "Numpy's `intersect1d` method can be used to get the intersection of the `recent_books` and `coding_books`arrays. \n",
    "\n",
    "- `intersect1d`: Find the intersection of two arrays. Return the sorted, unique values that are in both of the input arrays. \n",
    "```python\n",
    ">>> numpy.intersect1d([1,2,3], [3,1,1])\n",
    "array([1,3])\n",
    "```\n",
    "- [link](https://docs.scipy.org/doc/numpy/reference/generated/numpy.intersect1d.html)"
   ]
  },
  {
   "cell_type": "code",
   "execution_count": 13,
   "metadata": {},
   "outputs": [
    {
     "name": "stdout",
     "output_type": "stream",
     "text": [
      "Duration: 0.0530\n",
      "\n",
      "No. of recent_coding_books: 96\n"
     ]
    }
   ],
   "source": [
    "# second method\n",
    "start = time.time()\n",
    "recent_coding_books = np.intersect1d(recent_books, coding_books)\n",
    "end = time.time()\n",
    "\n",
    "print(\"Duration: {:.4f}\".format(end-start))\n",
    "print(\"\\nNo. of recent_coding_books:\", len(recent_coding_books))"
   ]
  },
  {
   "cell_type": "markdown",
   "metadata": {},
   "source": [
    "#### Tip #2: Know your data structures and which methods are faster\n",
    "\n",
    "Use the set's `intersection` method to get the common elements in `recent_books` and `coding_books`. "
   ]
  },
  {
   "cell_type": "code",
   "execution_count": 14,
   "metadata": {},
   "outputs": [
    {
     "name": "stdout",
     "output_type": "stream",
     "text": [
      "Duration: 0.0090\n",
      "\n",
      "No. of recent_coding_books: 96\n"
     ]
    }
   ],
   "source": [
    "# third method\n",
    "start = time.time()\n",
    "recent_coding_books = set(recent_books).intersection(coding_books)\n",
    "end = time.time()\n",
    "\n",
    "print(\"Duration: {:.4f}\".format(end-start))\n",
    "print(\"\\nNo. of recent_coding_books:\", len(recent_coding_books))"
   ]
  },
  {
   "cell_type": "markdown",
   "metadata": {},
   "source": [
    "## Quiz: Optimizing - Holiday Gifts\n",
    "\n",
    "- Using vectorized operations and more efficient data structures can optimize the code significantly. \n",
    "\n",
    "We'll use this for another example. \n",
    "\n",
    "- One million users have listed a gift on a wish list. \n",
    "- Prices: `gift_costs.txt`\n",
    "- Give each customer gift for free if it is under 25 dollars. \n",
    "- Calculate total costs of all gifts under 25 dollars to see total costs.\n",
    "\n",
    "General notes:\n",
    "\n",
    "- Check data of your data\n",
    "- What type of data do you want? In general, numpy arrays are nice to work with and they are fast. "
   ]
  },
  {
   "cell_type": "code",
   "execution_count": 15,
   "metadata": {},
   "outputs": [],
   "source": [
    "import time\n",
    "import numpy as np"
   ]
  },
  {
   "cell_type": "code",
   "execution_count": 16,
   "metadata": {},
   "outputs": [],
   "source": [
    "# load data\n",
    "with open(\"../data/gift_costs.txt\") as f:\n",
    "    gift_costs = f.read().split(\"\\n\")"
   ]
  },
  {
   "cell_type": "code",
   "execution_count": 17,
   "metadata": {},
   "outputs": [
    {
     "name": "stdout",
     "output_type": "stream",
     "text": [
      "type: <class 'str'>\n",
      "type: <class 'numpy.int32'>\n",
      "[ 8 84 42 65 74]\n"
     ]
    }
   ],
   "source": [
    "# check type\n",
    "print(\"type:\", type(gift_costs[0]))\n",
    "\n",
    "# type wanted: int <- convert to numpy array\n",
    "gift_costs = np.array(gift_costs).astype(int)\n",
    "\n",
    "print(\"type:\", type(gift_costs[0]))\n",
    "print(gift_costs[:5])"
   ]
  },
  {
   "cell_type": "code",
   "execution_count": null,
   "metadata": {},
   "outputs": [],
   "source": [
    "# first method\n",
    "start = time.time()\n",
    "\n",
    "total_price = 0\n",
    "\n",
    "for cost in gift_costs:\n",
    "    if cost < 25:\n",
    "        total_price += cost*1.08 # cost after tax\n",
    "\n",
    "end = time.time()\n",
    "\n",
    "print(round(total_price,2))\n",
    "print(\"Duration: {:.4f} seconds\".format(end-start))"
   ]
  },
  {
   "cell_type": "code",
   "execution_count": null,
   "metadata": {},
   "outputs": [],
   "source": [
    "# second method using conditional numpy\n",
    "start = time.time()\n",
    "\n",
    "total_price = (gift_costs[gift_costs < 25]).sum() * 1.08\n",
    "\n",
    "end = time.time()\n",
    "\n",
    "print(round(total_price,2))\n",
    "print(\"Duration: {:.4f} seconds\".format(end-start))"
   ]
  },
  {
   "cell_type": "code",
   "execution_count": null,
   "metadata": {},
   "outputs": [],
   "source": [
    "# third method\n",
    "start = time.time()\n",
    "\n",
    "total_price = sum((gift_costs[gift_costs < 25])) * 1.08\n",
    "\n",
    "end = time.time()\n",
    "\n",
    "print(round(total_price,2))\n",
    "print(\"Duration: {:.4f} seconds\".format(end-start))"
   ]
  },
  {
   "cell_type": "markdown",
   "metadata": {},
   "source": [
    "Note that dot notation, i.e. using `.sum()` is considerably faster than `sum(...)`."
   ]
  },
  {
   "cell_type": "markdown",
   "metadata": {},
   "source": [
    "## Documentation\n",
    "\n",
    "- Clarify complex parts of code \n",
    "- Making your code easier to navigate\n",
    "- Quickly conveying how and why different components of your program are used.\n",
    "\n",
    "### In-line Comments \n",
    "\n",
    "### Docstrings\n",
    "\n",
    "### Project Documentation\n",
    "\n",
    "### Version Control \n",
    "\n",
    "#### Scenario #1: \n",
    "\n",
    "Stop working at one feature in favor of another one. What to do with the \"half-baked\" code? Create new branch in git\n",
    "\n",
    "- Step 1: You have a local version of this repo on your laptop, and to get the latest stable version, you pull from the develop branch. \n",
    "\n",
    "> **Switch to develop branch**   \n",
    "`git checkout develop`\n",
    "\n",
    "> **Pull latest changes in the develop branch**  \n",
    "`git pull`\n",
    "\n",
    "#### STEP 2: When you start working on this demographic feature, you create a new branch for this called demographic, and start working on your code in this branch.\n",
    "\n",
    "> Create and switch to new branch called demographic from develop branch:\n",
    "`git checkout -b demographic`\n",
    "\n",
    "> Work on this new feature and commit as you go:  \n",
    "`git commit -m 'added gender recommendations'`  \n",
    "`git commit -m 'added location specific' recommendations'`  \n",
    "...\n",
    "\n",
    "#### STEP 3: However, in the middle of your work, you need to work on another feature. So you commit your changes on this demographic branch, and switch back to the develop branch.\n",
    "\n",
    "> Commit changes before switching  \n",
    "`git commit -m 'refactored demographic gender and location recommendations '`\n",
    "\n",
    "> Switch to the develop branch  \n",
    "`git checkout develop`\n",
    "\n",
    "#### STEP 4: From this stable develop branch, you create another branch for a new feature called friend_groups.\n",
    "\n",
    "> Create and switch to new branch called friend_groups from develop branch  \n",
    "`git checkout -b friend_groups`\n",
    "\n",
    "#### STEP 5: After you finish your work on the friend_groups branch, you commit your changes, switch back to the development branch, merge it back to the develop branch, and push this to the remote repository’s develop branch.\n",
    "\n",
    "> Commit changes before switching  \n",
    "`git commit -m 'finalized friend_groups recommendations '`\n",
    "\n",
    "> Switch to the develop branch  \n",
    "`git checkout develop`\n",
    "\n",
    "> Merge friend_groups branch to develop  \n",
    "`git merge --no-ff friends_groups`\n",
    "\n",
    "> Push to remote repository\n",
    "`git push origin develop`\n",
    "\n",
    "#### STEP 6: Now, you can switch back to the demographic branch to continue your progress on that feature.\n",
    "\n",
    "> Switch to the demographic branch  \n",
    "`git checkout demographic`\n",
    "\n",
    "## Model Versioning \n",
    "\n",
    "Resources for useful ways and tools for managing versions of models and large data. \n",
    "\n",
    "- [How to Version Control Your Production Machine Learning Models](https://blog.algorithmia.com/how-to-version-control-your-production-machine-learning-models/)\n",
    "- [Versioning Data Science](https://shuaiw.github.io/2017/07/30/versioning-data-science.html)"
   ]
  },
  {
   "cell_type": "code",
   "execution_count": null,
   "metadata": {},
   "outputs": [],
   "source": [
    "!jupyter nbconvert --to html notebook.ipynb"
   ]
  },
  {
   "cell_type": "code",
   "execution_count": null,
   "metadata": {},
   "outputs": [],
   "source": [
    "print(\"Done!\")"
   ]
  }
 ],
 "metadata": {
  "kernelspec": {
   "display_name": "Python 3",
   "language": "python",
   "name": "python3"
  },
  "language_info": {
   "codemirror_mode": {
    "name": "ipython",
    "version": 3
   },
   "file_extension": ".py",
   "mimetype": "text/x-python",
   "name": "python",
   "nbconvert_exporter": "python",
   "pygments_lexer": "ipython3",
   "version": "3.6.9"
  }
 },
 "nbformat": 4,
 "nbformat_minor": 2
}
