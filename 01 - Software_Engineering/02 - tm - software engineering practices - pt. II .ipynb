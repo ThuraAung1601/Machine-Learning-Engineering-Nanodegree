{
 "cells": [
  {
   "cell_type": "markdown",
   "metadata": {},
   "source": [
    "# Software Engineering Practices Part II\n",
    "\n",
    "Adding robustness with \n",
    "\n",
    "- Testing \n",
    "- Logging\n",
    "- Code reviews\n",
    "\n",
    "## Testing \n",
    "\n",
    "- Lack of testing is a common problem, in particular in the work of data scientists\n",
    "- Skills to properly prepare code for an industry setting includes testing code\n",
    "- **Test driven development:** A development process where you write tests for tasks before writing the code to implement those tasks. \n",
    "- **Unit Test:** A type of test that covers a \"unit\" of code, usually a single function, independently from the rest of the program.\n",
    "\n",
    "Resources: \n",
    "\n",
    "- [Blog Post](https://www.predictiveanalyticsworld.com/patimes/four-ways-data-science-goes-wrong-and-how-test-driven-data-analysis-can-help/6947/)\n",
    "- Getting started Testing: [Slide Deck](https://speakerdeck.com/pycon2014/getting-started-testing-by-ned-batchelder) and [Presentation Vide](https://www.youtube.com/watch?v=FxSsnHeWQBY)\n",
    "\n",
    "#### Unit Tests\n",
    "\n",
    "- Test functions in a way that is repeatable and automated. \n",
    "- Ideally, we'd run a test program that runs all our unit tests and cleanly lets us know which ones failed and which ones succeeded. \n",
    "- Advantage: Unit tests are isolated from the rest of the program\n",
    "- Note that passing unit tests isn't always enough to prove that our program is working successfully. \n",
    "- [Integration Testing](https://www.fullstackpython.com/integration-testing.html)\n",
    "\n",
    "#### Unit Testing Tools \n",
    "\n",
    "- [pytest: Installation and getting started](https://docs.pytest.org/en/latest/getting-started.html)\n",
    "\n",
    "> **Task:** run `pytest` in command line to evaluate all files with `test_` \n",
    "\n",
    "Structure of the tests: \n",
    "\n",
    "- Write a function that has a specific task in one file\n",
    "```python\n",
    "def days_until_launch(current_day, launch_day):\n",
    "    return launch_day - current_day\n",
    "```\n",
    "- add another file which defines a new function in which there is an `assert` statement to test the function \n",
    "\n",
    "```python\n",
    "# import function to be tested\n",
    "from compute_launch import days_until_launch\n",
    "\n",
    "def test_days_until_launch_4():\n",
    "    assert(days_until_launch(22,26) == 4)\n",
    "```\n",
    "\n",
    "- run `pytest`in console.\n",
    "\n",
    "\n",
    "### Test Driven development "
   ]
  },
  {
   "cell_type": "code",
   "execution_count": 1,
   "metadata": {},
   "outputs": [
    {
     "name": "stdout",
     "output_type": "stream",
     "text": [
      "True\n",
      "False\n",
      "True\n",
      "True\n",
      "False\n",
      "False\n"
     ]
    }
   ],
   "source": [
    "### Workflow example ###\n",
    "\n",
    "# valid email\n",
    "def email_validator(email):\n",
    "    if email.count(\"@\") != 0 and email.count(\".\") != 0:\n",
    "        return True\n",
    "    else:\n",
    "        return False\n",
    "    \n",
    "# start testing\n",
    "print(email_validator(\"tmeiendresch@gmx.de\"))\n",
    "print(email_validator(\"tmeiendresch@gmx\"))\n",
    "print(email_validator(\"tmei@endresch@gmx..de\")) # <- wait!\n",
    "\n",
    "# ...Correct function to account for this error...\n",
    "\n",
    "# valid email v2\n",
    "def email_validator(email):\n",
    "    if email.count(\"@\") == 1 and email.count(\".\") == 1:\n",
    "        return True\n",
    "    else:\n",
    "        return False\n",
    "    \n",
    "# start testing v2\n",
    "print(email_validator(\"tmeiendresch@gmx.de\"))\n",
    "print(email_validator(\"tmeiendresch@gmx\"))\n",
    "print(email_validator(\"tmei@endresch@gmx..de\")) # <- wait!\n",
    "\n",
    "# ... and so forth."
   ]
  },
  {
   "cell_type": "markdown",
   "metadata": {},
   "source": [
    "**This can be automated ...**"
   ]
  },
  {
   "cell_type": "code",
   "execution_count": 2,
   "metadata": {},
   "outputs": [
    {
     "name": "stdout",
     "output_type": "stream",
     "text": [
      "Done!\n"
     ]
    }
   ],
   "source": [
    "def test_email_validator():\n",
    "    assert email_validator(\"tmeiendresch@gmx.de\") == True\n",
    "    assert email_validator(\"tmeiendresch@gmx\") == False\n",
    "    assert email_validator(\"tmei@@gmx.de\") == False\n",
    "    print(\"Done!\")\n",
    "\n",
    "# after changes in the base function we can test it using\n",
    "test_email_validator()"
   ]
  },
  {
   "cell_type": "markdown",
   "metadata": {},
   "source": [
    "- **Test Driven Development:** Writing tests before you write the code that's being tested. Your test would fail at first, and you'll know you've finished implementing a task when this test passes. \n",
    "- Tests ought to check for all the differnt scenarios and edge cases you can think of, before even starting to write your function. \n",
    "- Run this test to get immediate feedback\n",
    "- When refactoring or adding to your code, tests help you rest assured that the rest of your code didn't break while you were making those changes. Test also helps ensure that your function behavior is repeatable, regardless of external parameters, such as hardware and time. \n",
    "\n",
    "Resources: \n",
    "\n",
    "- [Data Science TDD](https://www.linkedin.com/pulse/data-science-test-driven-development-sam-savage/)\n",
    "- [TDD for Data Science](http://engineering.pivotal.io/post/test-driven-development-for-data-science/)\n",
    "- [TDD is Essential for Good Data Science Here's Why](https://medium.com/@karijdempsey/test-driven-development-is-essential-for-good-data-science-heres-why-db7975a03a44)\n",
    "- [Testing your code](http://docs.python-guide.org/en/latest/writing/tests/)\n",
    "\n",
    "## Logging \n",
    "\n",
    "- Messages that help understand what the model is doing, especially when run time is long and various tasks are performed sequentially. \n",
    "\n",
    "> Logging is the process of recording messages to describe events that have occurred while running your software. \n",
    "\n",
    "- Use levels like ERROR, DEBUG, etc. for clarification\n",
    "\n",
    "## Code Reviews\n",
    "\n",
    "Benefits: \n",
    "\n",
    "- Catch errors\n",
    "- Ensure readability\n",
    "- Check standards are met\n",
    "- Share knowledge among teams \n",
    "\n",
    "Resources: \n",
    "\n",
    "- [Code Review](https://github.com/lyst/MakingLyst/tree/master/code-reviews)\n",
    "- [Code Review Best Practices](https://www.kevinlondon.com/2015/05/05/code-review-best-practices.html>)\n",
    "\n",
    "#### Questions to Ask Yourself When Conducting a Code Review\n",
    "\n",
    "Is the code clean and modular?\n",
    "\n",
    "- Can I understand the code easily?\n",
    "- Does it use meaningful names and whitespace?\n",
    "- Is there duplicated code?\n",
    "- Can you provide another layer of abstraction?\n",
    "- Is each function and module necessary?\n",
    "- Is each function or module too long?\n",
    "\n",
    "Is the code efficient?\n",
    "\n",
    "- Are there loops or other steps we can vectorize?\n",
    "- Can we use better data structures to optimize any steps?\n",
    "- Can we shorten the number of calculations needed for any steps?\n",
    "- Can we use generators or multiprocessing to optimize any steps?\n",
    "\n",
    "Is documentation effective?\n",
    "\n",
    "- Are in-line comments concise and meaningful?\n",
    "- Is there complex code that's missing documentation?\n",
    "- Do function use effective docstrings?\n",
    "- Is the necessary project documentation provided?\n",
    "\n",
    "Is the code well tested?\n",
    "\n",
    "- Does the code high test coverage?\n",
    "- Do tests check for interesting cases?\n",
    "- Are the tests readable?\n",
    "- Can the tests be made more efficient?\n",
    "\n",
    "Is the logging effective?\n",
    "\n",
    "- Are log messages clear, concise, and professional?\n",
    "- Do they include all relevant and useful information?\n",
    "- Do they use the appropriate logging level?\n",
    "\n",
    "#### Tips for conducting a code review\n",
    "\n",
    "- Use a code linter for checking coding standards and PEP 8\n",
    "- Explain issues and make suggestions\n",
    "- Keep comments objective \n",
    "- Provide code examples"
   ]
  },
  {
   "cell_type": "code",
   "execution_count": 3,
   "metadata": {},
   "outputs": [
    {
     "name": "stdout",
     "output_type": "stream",
     "text": [
      "Done\n"
     ]
    }
   ],
   "source": [
    "print(\"Done\")"
   ]
  }
 ],
 "metadata": {
  "kernelspec": {
   "display_name": "Python [conda env:Anaconda3]",
   "language": "python",
   "name": "conda-env-Anaconda3-py"
  },
  "language_info": {
   "codemirror_mode": {
    "name": "ipython",
    "version": 3
   },
   "file_extension": ".py",
   "mimetype": "text/x-python",
   "name": "python",
   "nbconvert_exporter": "python",
   "pygments_lexer": "ipython3",
   "version": "3.6.6"
  }
 },
 "nbformat": 4,
 "nbformat_minor": 2
}
