{
 "cells": [
  {
   "cell_type": "markdown",
   "metadata": {},
   "source": [
    "# Predicting Boston Housing Prices\n",
    "\n",
    "## Using XGBoost in SageMaker (Hyperparameter Tuning)\n",
    "\n",
    "_Deep Learning Nanodegree Program | Deployment_\n",
    "\n",
    "---\n",
    "\n",
    "As an introduction to using SageMaker's High Level Python API for hyperparameter tuning, we will look again at the [Boston Housing Dataset](https://www.cs.toronto.edu/~delve/data/boston/bostonDetail.html) to predict the median value of a home in the area of Boston Mass.\n",
    "\n",
    "The documentation for the high level API can be found on the [ReadTheDocs page](http://sagemaker.readthedocs.io/en/latest/)\n",
    "\n",
    "## General Outline\n",
    "\n",
    "Typically, when using a notebook instance with SageMaker, you will proceed through the following steps. Of course, not every step will need to be done with each project. Also, there is quite a lot of room for variation in many of the steps, as you will see throughout these lessons.\n",
    "\n",
    "1. Download or otherwise retrieve the data.\n",
    "2. Process / Prepare the data.\n",
    "3. Upload the processed data to S3.\n",
    "4. Train a chosen model.\n",
    "5. Test the trained model (typically using a batch transform job).\n",
    "6. Deploy the trained model.\n",
    "7. Use the deployed model.\n",
    "\n",
    "In this notebook we will only be covering steps 1 through 5 as we are only interested in creating a tuned model and testing its performance."
   ]
  },
  {
   "cell_type": "markdown",
   "metadata": {},
   "source": [
    "## Step 0: Setting up the notebook\n",
    "\n",
    "We begin by setting up all of the necessary bits required to run our notebook. To start that means loading all of the Python modules we will need."
   ]
  },
  {
   "cell_type": "code",
   "execution_count": 1,
   "metadata": {},
   "outputs": [],
   "source": [
    "%matplotlib inline\n",
    "\n",
    "import os\n",
    "\n",
    "import numpy as np\n",
    "import pandas as pd\n",
    "\n",
    "import matplotlib.pyplot as plt\n",
    "\n",
    "from sklearn.datasets import load_boston\n",
    "import sklearn.model_selection"
   ]
  },
  {
   "cell_type": "markdown",
   "metadata": {},
   "source": [
    "In addition to the modules above, we need to import the various bits of SageMaker that we will be using. "
   ]
  },
  {
   "cell_type": "code",
   "execution_count": 2,
   "metadata": {},
   "outputs": [],
   "source": [
    "import sagemaker\n",
    "from sagemaker import get_execution_role\n",
    "from sagemaker.amazon.amazon_estimator import get_image_uri\n",
    "from sagemaker.predictor import csv_serializer\n",
    "\n",
    "# This is an object that represents the SageMaker session that we are currently operating in. This\n",
    "# object contains some useful information that we will need to access later such as our region.\n",
    "session = sagemaker.Session()\n",
    "\n",
    "# This is an object that represents the IAM role that we are currently assigned. When we construct\n",
    "# and launch the training job later we will need to tell it what IAM role it should have. Since our\n",
    "# use case is relatively simple we will simply assign the training job the role we currently have.\n",
    "role = get_execution_role()"
   ]
  },
  {
   "cell_type": "markdown",
   "metadata": {},
   "source": [
    "## Step 1: Downloading the data\n",
    "\n",
    "Fortunately, this dataset can be retrieved using sklearn and so this step is relatively straightforward."
   ]
  },
  {
   "cell_type": "code",
   "execution_count": 3,
   "metadata": {},
   "outputs": [],
   "source": [
    "boston = load_boston()"
   ]
  },
  {
   "cell_type": "markdown",
   "metadata": {},
   "source": [
    "## Step 2: Preparing and splitting the data\n",
    "\n",
    "Given that this is clean tabular data, we don't need to do any processing. However, we do need to split the rows in the dataset up into train, test and validation sets."
   ]
  },
  {
   "cell_type": "code",
   "execution_count": 4,
   "metadata": {},
   "outputs": [],
   "source": [
    "# First we package up the input data and the target variable (the median value) as pandas dataframes. This\n",
    "# will make saving the data to a file a little easier later on.\n",
    "\n",
    "X_bos_pd = pd.DataFrame(boston.data, columns=boston.feature_names)\n",
    "Y_bos_pd = pd.DataFrame(boston.target)\n",
    "\n",
    "# We split the dataset into 2/3 training and 1/3 testing sets.\n",
    "X_train, X_test, Y_train, Y_test = sklearn.model_selection.train_test_split(X_bos_pd, Y_bos_pd, test_size=0.33)\n",
    "\n",
    "# Then we split the training set further into 2/3 training and 1/3 validation sets.\n",
    "X_train, X_val, Y_train, Y_val = sklearn.model_selection.train_test_split(X_train, Y_train, test_size=0.33)"
   ]
  },
  {
   "cell_type": "markdown",
   "metadata": {},
   "source": [
    "## Step 3: Uploading the data files to S3\n",
    "\n",
    "When a training job is constructed using SageMaker, a container is executed which performs the training operation. This container is given access to data that is stored in S3. This means that we need to upload the data we want to use for training to S3. In addition, when we perform a batch transform job, SageMaker expects the input data to be stored on S3. We can use the SageMaker API to do this and hide some of the details.\n",
    "\n",
    "### Save the data locally\n",
    "\n",
    "First we need to create the test, train and validation csv files which we will then upload to S3."
   ]
  },
  {
   "cell_type": "code",
   "execution_count": 5,
   "metadata": {},
   "outputs": [],
   "source": [
    "# This is our local data directory. We need to make sure that it exists.\n",
    "data_dir = '../data/boston'\n",
    "if not os.path.exists(data_dir):\n",
    "    os.makedirs(data_dir)"
   ]
  },
  {
   "cell_type": "code",
   "execution_count": 6,
   "metadata": {},
   "outputs": [],
   "source": [
    "# We use pandas to save our test, train and validation data to csv files. Note that we make sure not to include header\n",
    "# information or an index as this is required by the built in algorithms provided by Amazon. Also, for the train and\n",
    "# validation data, it is assumed that the first entry in each row is the target variable.\n",
    "\n",
    "X_test.to_csv(os.path.join(data_dir, 'test.csv'), header=False, index=False)\n",
    "\n",
    "pd.concat([Y_val, X_val], axis=1).to_csv(os.path.join(data_dir, 'validation.csv'), header=False, index=False)\n",
    "pd.concat([Y_train, X_train], axis=1).to_csv(os.path.join(data_dir, 'train.csv'), header=False, index=False)"
   ]
  },
  {
   "cell_type": "markdown",
   "metadata": {},
   "source": [
    "### Upload to S3\n",
    "\n",
    "Since we are currently running inside of a SageMaker session, we can use the object which represents this session to upload our data to the 'default' S3 bucket. Note that it is good practice to provide a custom prefix (essentially an S3 folder) to make sure that you don't accidentally interfere with data uploaded from some other notebook or project."
   ]
  },
  {
   "cell_type": "code",
   "execution_count": 7,
   "metadata": {},
   "outputs": [],
   "source": [
    "prefix = 'boston-xgboost-tuning-HL'\n",
    "\n",
    "test_location = session.upload_data(os.path.join(data_dir, 'test.csv'), key_prefix=prefix)\n",
    "val_location = session.upload_data(os.path.join(data_dir, 'validation.csv'), key_prefix=prefix)\n",
    "train_location = session.upload_data(os.path.join(data_dir, 'train.csv'), key_prefix=prefix)"
   ]
  },
  {
   "cell_type": "markdown",
   "metadata": {},
   "source": [
    "## Step 4: Train the XGBoost model\n",
    "\n",
    "Now that we have the training and validation data uploaded to S3, we can construct our XGBoost model and train it. Unlike in the previous notebooks, instead of training a single model, we will use SageMaker's hyperparameter tuning functionality to train multiple models and use the one that performs the best on the validation set.\n",
    "\n",
    "To begin with, as in the previous approaches, we will need to construct an estimator object."
   ]
  },
  {
   "cell_type": "markdown",
   "metadata": {},
   "source": [
    "- This model serves as a baseline for later tuning of hyperparameters.\n",
    "- container contains path to find data on S3 and specifies the algorithm (stored on S3 as well?)\n",
    "- role specifies rights\n",
    "- instance number and instance type need to be specified\n",
    "- current session needs to be specified.\n",
    "\n",
    "### Specify Estimator"
   ]
  },
  {
   "cell_type": "code",
   "execution_count": 8,
   "metadata": {},
   "outputs": [],
   "source": [
    "# As stated above, we use this utility method to construct the image name for the training container.\n",
    "container = get_image_uri(session.boto_region_name, 'xgboost')\n",
    "\n",
    "# Now that we know which container to use, we can construct the estimator object.\n",
    "xgb = sagemaker.estimator.Estimator(container, # The name of the training container\n",
    "                                    role,      # The IAM role to use (our current role in this case)\n",
    "                                    train_instance_count=1, # The number of instances to use for training\n",
    "                                    train_instance_type='ml.m4.xlarge', # The type of instance ot use for training\n",
    "                                    output_path='s3://{}/{}/output'.format(session.default_bucket(), prefix),\n",
    "                                                                        # Where to save the output (the model artifacts)\n",
    "                                    sagemaker_session=session) # The current SageMaker session"
   ]
  },
  {
   "cell_type": "code",
   "execution_count": 10,
   "metadata": {},
   "outputs": [
    {
     "name": "stdout",
     "output_type": "stream",
     "text": [
      "us-west-2\n",
      "433757028032.dkr.ecr.us-west-2.amazonaws.com/xgboost:1\n",
      "<sagemaker.estimator.Estimator object at 0x7fe31aa99eb8>\n"
     ]
    }
   ],
   "source": [
    "print(session.boto_region_name)\n",
    "print(container)\n",
    "print(xgb)"
   ]
  },
  {
   "cell_type": "markdown",
   "metadata": {},
   "source": [
    "Before beginning the hyperparameter tuning, we should make sure to set any model specific hyperparameters that we wish to have default values. There are quite a few that can be set when using the XGBoost algorithm, below are just a few of them. If you would like to change the hyperparameters below or modify additional ones you can find additional information on the [XGBoost hyperparameter page](https://docs.aws.amazon.com/sagemaker/latest/dg/xgboost_hyperparameters.html)"
   ]
  },
  {
   "cell_type": "code",
   "execution_count": 11,
   "metadata": {},
   "outputs": [],
   "source": [
    "# specify hyperparameters\n",
    "xgb.set_hyperparameters(max_depth=5,\n",
    "                        eta=0.2,\n",
    "                        gamma=4,\n",
    "                        min_child_weight=6,\n",
    "                        subsample=0.8,\n",
    "                        objective='reg:linear',\n",
    "                        early_stopping_rounds=10,\n",
    "                        num_round=200)"
   ]
  },
  {
   "cell_type": "markdown",
   "metadata": {},
   "source": [
    "Now that we have our estimator object completely set up, it is time to create the hyperparameter tuner. To do this we need to construct a new object which contains each of the parameters we want SageMaker to tune. In this case, we wish to find the best values for the `max_depth`, `eta`, `min_child_weight`, `subsample`, and `gamma` parameters. Note that for each parameter that we want SageMaker to tune we need to specify both the *type* of the parameter and the *range* of values that parameter may take on.\n",
    "\n",
    "In addition, we specify the *number* of models to construct (`max_jobs`) and the number of those that can be trained in parallel (`max_parallel_jobs`). In the cell below we have chosen to train `20` models, of which we ask that SageMaker train `3` at a time in parallel. Note that this results in a total of `20` training jobs being executed which can take some time, in this case almost a half hour. With more complicated models this can take even longer so be aware!"
   ]
  },
  {
   "cell_type": "markdown",
   "metadata": {},
   "source": [
    "### Specify Hyperparameter Tuner"
   ]
  },
  {
   "cell_type": "code",
   "execution_count": 12,
   "metadata": {},
   "outputs": [],
   "source": [
    "from sagemaker.tuner import IntegerParameter, ContinuousParameter, HyperparameterTuner\n",
    "\n",
    "xgb_hyperparameter_tuner = HyperparameterTuner(estimator = xgb, # The estimator object to use as the basis for the training jobs.\n",
    "                                               objective_metric_name = 'validation:rmse', # The metric used to compare trained models.\n",
    "                                               objective_type = 'Minimize', # Whether we wish to minimize or maximize the metric.\n",
    "                                               max_jobs = 20, # The total number of models to train\n",
    "                                               max_parallel_jobs = 3, # The number of models to train in parallel\n",
    "                                               hyperparameter_ranges = {\n",
    "                                                    'max_depth': IntegerParameter(3, 12),\n",
    "                                                    'eta'      : ContinuousParameter(0.05, 0.5),\n",
    "                                                    'min_child_weight': IntegerParameter(2, 8),\n",
    "                                                    'subsample': ContinuousParameter(0.5, 0.9),\n",
    "                                                    'gamma': ContinuousParameter(0, 10),\n",
    "                                               })"
   ]
  },
  {
   "cell_type": "markdown",
   "metadata": {},
   "source": [
    "Now that we have our hyperparameter tuner object completely set up, it is time to train it. To do this we make sure that SageMaker knows our input data is in csv format and then execute the `fit` method."
   ]
  },
  {
   "cell_type": "code",
   "execution_count": 17,
   "metadata": {},
   "outputs": [],
   "source": [
    "# This is a wrapper around the location of our train and validation data, to make sure that SageMaker\n",
    "# knows our data is in csv format.\n",
    "s3_input_train = sagemaker.s3_input(s3_data=train_location, content_type='csv')\n",
    "s3_input_validation = sagemaker.s3_input(s3_data=val_location, content_type='csv')\n",
    "\n",
    "xgb_hyperparameter_tuner.fit({'train': s3_input_train, 'validation': s3_input_validation})"
   ]
  },
  {
   "cell_type": "markdown",
   "metadata": {},
   "source": [
    "As in many of the examples we have seen so far, the `fit()` method takes care of setting up and fitting a number of different models, each with different hyperparameters. If we wish to wait for this process to finish, we can call the `wait()` method."
   ]
  },
  {
   "cell_type": "code",
   "execution_count": 18,
   "metadata": {},
   "outputs": [
    {
     "name": "stdout",
     "output_type": "stream",
     "text": [
      "..........................................................................................................................................................................................................................................................................................!\n"
     ]
    }
   ],
   "source": [
    "xgb_hyperparameter_tuner.wait()"
   ]
  },
  {
   "cell_type": "markdown",
   "metadata": {},
   "source": [
    "Once the hyperamater tuner has finished, we can retrieve information about the best performing model. "
   ]
  },
  {
   "cell_type": "code",
   "execution_count": 19,
   "metadata": {},
   "outputs": [
    {
     "data": {
      "text/plain": [
       "'xgboost-190802-1326-019-cbfb043f'"
      ]
     },
     "execution_count": 19,
     "metadata": {},
     "output_type": "execute_result"
    }
   ],
   "source": [
    "# get name of the best training job \n",
    "xgb_hyperparameter_tuner.best_training_job()"
   ]
  },
  {
   "cell_type": "markdown",
   "metadata": {},
   "source": [
    "In addition, since we'd like to set up a batch transform job to test the best model, we can construct a new estimator object from the results of the best training job. The `xgb_attached` object below can now be used as though we constructed an estimator with the best performing hyperparameters and then fit it to our training data.\n",
    "\n",
    "- Before: Whenever we wanted to get a wanted to create a transformer object in order to perform a batch transform job (inference) we used an estimator object.\n",
    "- Now: We don't have an estimator object which has been trained.\n",
    "- Create new estimator object using the attach method and attach this object to the training object\n",
    "- results in estimator object that has been trained. It is associated with the model artifacts that are associated with the training job (in particular we are using those hyperparameters associated with the \"best\" one)"
   ]
  },
  {
   "cell_type": "code",
   "execution_count": 20,
   "metadata": {},
   "outputs": [
    {
     "name": "stdout",
     "output_type": "stream",
     "text": [
      "2019-08-02 13:49:54 Starting - Preparing the instances for training\n",
      "2019-08-02 13:49:54 Downloading - Downloading input data\n",
      "2019-08-02 13:49:54 Training - Training image download completed. Training in progress.\n",
      "2019-08-02 13:49:54 Uploading - Uploading generated training model\n",
      "2019-08-02 13:49:54 Completed - Training job completed\u001b[31mArguments: train\u001b[0m\n",
      "\u001b[31m[2019-08-02:13:49:42:INFO] Running standalone xgboost training.\u001b[0m\n",
      "\u001b[31m[2019-08-02:13:49:42:INFO] Setting up HPO optimized metric to be : rmse\u001b[0m\n",
      "\u001b[31m[2019-08-02:13:49:42:INFO] File size need to be processed in the node: 0.02mb. Available memory size in the node: 8446.23mb\u001b[0m\n",
      "\u001b[31m[2019-08-02:13:49:42:INFO] Determined delimiter of CSV input is ','\u001b[0m\n",
      "\u001b[31m[13:49:42] S3DistributionType set as FullyReplicated\u001b[0m\n",
      "\u001b[31m[13:49:42] 227x13 matrix with 2951 entries loaded from /opt/ml/input/data/train?format=csv&label_column=0&delimiter=,\u001b[0m\n",
      "\u001b[31m[2019-08-02:13:49:42:INFO] Determined delimiter of CSV input is ','\u001b[0m\n",
      "\u001b[31m[13:49:42] S3DistributionType set as FullyReplicated\u001b[0m\n",
      "\u001b[31m[13:49:42] 112x13 matrix with 1456 entries loaded from /opt/ml/input/data/validation?format=csv&label_column=0&delimiter=,\u001b[0m\n",
      "\u001b[31m[13:49:42] src/tree/updater_prune.cc:74: tree pruning end, 1 roots, 6 extra nodes, 0 pruned nodes, max_depth=3\u001b[0m\n",
      "\u001b[31m[0]#011train-rmse:22.6153#011validation-rmse:23.1425\u001b[0m\n",
      "\u001b[31mMultiple eval metrics have been passed: 'validation-rmse' will be used for early stopping.\n",
      "\u001b[0m\n",
      "\u001b[31mWill train until validation-rmse hasn't improved in 10 rounds.\u001b[0m\n",
      "\u001b[31m[13:49:42] src/tree/updater_prune.cc:74: tree pruning end, 1 roots, 8 extra nodes, 0 pruned nodes, max_depth=3\u001b[0m\n",
      "\u001b[31m[1]#011train-rmse:21.1567#011validation-rmse:21.6985\u001b[0m\n",
      "\u001b[31m[13:49:42] src/tree/updater_prune.cc:74: tree pruning end, 1 roots, 8 extra nodes, 0 pruned nodes, max_depth=3\u001b[0m\n",
      "\u001b[31m[2]#011train-rmse:19.8314#011validation-rmse:20.4318\u001b[0m\n",
      "\u001b[31m[13:49:42] src/tree/updater_prune.cc:74: tree pruning end, 1 roots, 10 extra nodes, 0 pruned nodes, max_depth=4\u001b[0m\n",
      "\u001b[31m[3]#011train-rmse:18.5669#011validation-rmse:19.1884\u001b[0m\n",
      "\u001b[31m[13:49:42] src/tree/updater_prune.cc:74: tree pruning end, 1 roots, 14 extra nodes, 0 pruned nodes, max_depth=4\u001b[0m\n",
      "\u001b[31m[4]#011train-rmse:17.3766#011validation-rmse:18.007\u001b[0m\n",
      "\u001b[31m[13:49:42] src/tree/updater_prune.cc:74: tree pruning end, 1 roots, 8 extra nodes, 0 pruned nodes, max_depth=3\u001b[0m\n",
      "\u001b[31m[5]#011train-rmse:16.2959#011validation-rmse:16.945\u001b[0m\n",
      "\u001b[31m[13:49:42] src/tree/updater_prune.cc:74: tree pruning end, 1 roots, 10 extra nodes, 0 pruned nodes, max_depth=4\u001b[0m\n",
      "\u001b[31m[6]#011train-rmse:15.2557#011validation-rmse:15.9178\u001b[0m\n",
      "\u001b[31m[13:49:42] src/tree/updater_prune.cc:74: tree pruning end, 1 roots, 12 extra nodes, 2 pruned nodes, max_depth=4\u001b[0m\n",
      "\u001b[31m[7]#011train-rmse:14.285#011validation-rmse:14.8997\u001b[0m\n",
      "\u001b[31m[13:49:42] src/tree/updater_prune.cc:74: tree pruning end, 1 roots, 12 extra nodes, 2 pruned nodes, max_depth=4\u001b[0m\n",
      "\u001b[31m[8]#011train-rmse:13.4041#011validation-rmse:14.0478\u001b[0m\n",
      "\u001b[31m[13:49:42] src/tree/updater_prune.cc:74: tree pruning end, 1 roots, 10 extra nodes, 2 pruned nodes, max_depth=4\u001b[0m\n",
      "\u001b[31m[9]#011train-rmse:12.5627#011validation-rmse:13.2565\u001b[0m\n",
      "\u001b[31m[13:49:42] src/tree/updater_prune.cc:74: tree pruning end, 1 roots, 12 extra nodes, 4 pruned nodes, max_depth=3\u001b[0m\n",
      "\u001b[31m[10]#011train-rmse:11.7683#011validation-rmse:12.4977\u001b[0m\n",
      "\u001b[31m[13:49:42] src/tree/updater_prune.cc:74: tree pruning end, 1 roots, 16 extra nodes, 0 pruned nodes, max_depth=4\u001b[0m\n",
      "\u001b[31m[11]#011train-rmse:11.0528#011validation-rmse:11.8337\u001b[0m\n",
      "\u001b[31m[13:49:42] src/tree/updater_prune.cc:74: tree pruning end, 1 roots, 12 extra nodes, 0 pruned nodes, max_depth=4\u001b[0m\n",
      "\u001b[31m[12]#011train-rmse:10.3847#011validation-rmse:11.1757\u001b[0m\n",
      "\u001b[31m[13:49:42] src/tree/updater_prune.cc:74: tree pruning end, 1 roots, 16 extra nodes, 0 pruned nodes, max_depth=4\u001b[0m\n",
      "\u001b[31m[13]#011train-rmse:9.76361#011validation-rmse:10.5896\u001b[0m\n",
      "\u001b[31m[13:49:42] src/tree/updater_prune.cc:74: tree pruning end, 1 roots, 14 extra nodes, 0 pruned nodes, max_depth=4\u001b[0m\n",
      "\u001b[31m[14]#011train-rmse:9.19763#011validation-rmse:10.0224\u001b[0m\n",
      "\u001b[31m[13:49:42] src/tree/updater_prune.cc:74: tree pruning end, 1 roots, 12 extra nodes, 6 pruned nodes, max_depth=3\u001b[0m\n",
      "\u001b[31m[15]#011train-rmse:8.67449#011validation-rmse:9.50741\u001b[0m\n",
      "\u001b[31m[13:49:42] src/tree/updater_prune.cc:74: tree pruning end, 1 roots, 12 extra nodes, 2 pruned nodes, max_depth=4\u001b[0m\n",
      "\u001b[31m[16]#011train-rmse:8.18741#011validation-rmse:9.07072\u001b[0m\n",
      "\u001b[31m[13:49:42] src/tree/updater_prune.cc:74: tree pruning end, 1 roots, 18 extra nodes, 0 pruned nodes, max_depth=4\u001b[0m\n",
      "\u001b[31m[17]#011train-rmse:7.7347#011validation-rmse:8.67708\u001b[0m\n",
      "\u001b[31m[13:49:42] src/tree/updater_prune.cc:74: tree pruning end, 1 roots, 20 extra nodes, 0 pruned nodes, max_depth=4\u001b[0m\n",
      "\u001b[31m[18]#011train-rmse:7.29#011validation-rmse:8.27712\u001b[0m\n",
      "\u001b[31m[13:49:42] src/tree/updater_prune.cc:74: tree pruning end, 1 roots, 16 extra nodes, 2 pruned nodes, max_depth=4\u001b[0m\n",
      "\u001b[31m[19]#011train-rmse:6.89777#011validation-rmse:7.95793\u001b[0m\n",
      "\u001b[31m[13:49:42] src/tree/updater_prune.cc:74: tree pruning end, 1 roots, 16 extra nodes, 2 pruned nodes, max_depth=4\u001b[0m\n",
      "\u001b[31m[20]#011train-rmse:6.51675#011validation-rmse:7.62843\u001b[0m\n",
      "\u001b[31m[13:49:42] src/tree/updater_prune.cc:74: tree pruning end, 1 roots, 12 extra nodes, 0 pruned nodes, max_depth=4\u001b[0m\n",
      "\u001b[31m[21]#011train-rmse:6.18686#011validation-rmse:7.36133\u001b[0m\n",
      "\u001b[31m[13:49:42] src/tree/updater_prune.cc:74: tree pruning end, 1 roots, 18 extra nodes, 0 pruned nodes, max_depth=4\u001b[0m\n",
      "\u001b[31m[22]#011train-rmse:5.85842#011validation-rmse:7.10393\u001b[0m\n",
      "\u001b[31m[13:49:42] src/tree/updater_prune.cc:74: tree pruning end, 1 roots, 20 extra nodes, 0 pruned nodes, max_depth=4\u001b[0m\n",
      "\u001b[31m[23]#011train-rmse:5.5767#011validation-rmse:6.90201\u001b[0m\n",
      "\u001b[31m[13:49:42] src/tree/updater_prune.cc:74: tree pruning end, 1 roots, 14 extra nodes, 0 pruned nodes, max_depth=4\u001b[0m\n",
      "\u001b[31m[24]#011train-rmse:5.28214#011validation-rmse:6.6566\u001b[0m\n",
      "\u001b[31m[13:49:42] src/tree/updater_prune.cc:74: tree pruning end, 1 roots, 16 extra nodes, 0 pruned nodes, max_depth=4\u001b[0m\n",
      "\u001b[31m[25]#011train-rmse:4.99088#011validation-rmse:6.40359\u001b[0m\n",
      "\u001b[31m[13:49:42] src/tree/updater_prune.cc:74: tree pruning end, 1 roots, 18 extra nodes, 2 pruned nodes, max_depth=4\u001b[0m\n",
      "\u001b[31m[26]#011train-rmse:4.75057#011validation-rmse:6.25421\u001b[0m\n",
      "\u001b[31m[13:49:42] src/tree/updater_prune.cc:74: tree pruning end, 1 roots, 18 extra nodes, 0 pruned nodes, max_depth=4\u001b[0m\n",
      "\u001b[31m[27]#011train-rmse:4.52251#011validation-rmse:6.07855\u001b[0m\n",
      "\u001b[31m[13:49:42] src/tree/updater_prune.cc:74: tree pruning end, 1 roots, 12 extra nodes, 2 pruned nodes, max_depth=4\u001b[0m\n",
      "\u001b[31m[28]#011train-rmse:4.33467#011validation-rmse:5.95403\u001b[0m\n",
      "\u001b[31m[13:49:42] src/tree/updater_prune.cc:74: tree pruning end, 1 roots, 12 extra nodes, 2 pruned nodes, max_depth=4\u001b[0m\n",
      "\u001b[31m[29]#011train-rmse:4.14401#011validation-rmse:5.83755\u001b[0m\n",
      "\u001b[31m[13:49:42] src/tree/updater_prune.cc:74: tree pruning end, 1 roots, 24 extra nodes, 0 pruned nodes, max_depth=4\u001b[0m\n",
      "\u001b[31m[30]#011train-rmse:3.94924#011validation-rmse:5.71596\u001b[0m\n",
      "\u001b[31m[13:49:42] src/tree/updater_prune.cc:74: tree pruning end, 1 roots, 12 extra nodes, 4 pruned nodes, max_depth=4\u001b[0m\n",
      "\u001b[31m[31]#011train-rmse:3.79318#011validation-rmse:5.61704\u001b[0m\n",
      "\u001b[31m[13:49:42] src/tree/updater_prune.cc:74: tree pruning end, 1 roots, 14 extra nodes, 0 pruned nodes, max_depth=4\u001b[0m\n",
      "\u001b[31m[32]#011train-rmse:3.64025#011validation-rmse:5.54096\u001b[0m\n",
      "\u001b[31m[13:49:42] src/tree/updater_prune.cc:74: tree pruning end, 1 roots, 18 extra nodes, 2 pruned nodes, max_depth=4\u001b[0m\n",
      "\u001b[31m[33]#011train-rmse:3.49853#011validation-rmse:5.4452\u001b[0m\n",
      "\u001b[31m[13:49:42] src/tree/updater_prune.cc:74: tree pruning end, 1 roots, 18 extra nodes, 2 pruned nodes, max_depth=4\u001b[0m\n",
      "\u001b[31m[34]#011train-rmse:3.36028#011validation-rmse:5.36603\u001b[0m\n",
      "\u001b[31m[13:49:42] src/tree/updater_prune.cc:74: tree pruning end, 1 roots, 16 extra nodes, 2 pruned nodes, max_depth=4\u001b[0m\n",
      "\u001b[31m[35]#011train-rmse:3.2558#011validation-rmse:5.33409\u001b[0m\n",
      "\u001b[31m[13:49:42] src/tree/updater_prune.cc:74: tree pruning end, 1 roots, 10 extra nodes, 0 pruned nodes, max_depth=4\u001b[0m\n",
      "\u001b[31m[36]#011train-rmse:3.13523#011validation-rmse:5.25485\u001b[0m\n",
      "\u001b[31m[13:49:42] src/tree/updater_prune.cc:74: tree pruning end, 1 roots, 10 extra nodes, 2 pruned nodes, max_depth=4\u001b[0m\n",
      "\u001b[31m[37]#011train-rmse:3.05048#011validation-rmse:5.2261\u001b[0m\n",
      "\u001b[31m[13:49:42] src/tree/updater_prune.cc:74: tree pruning end, 1 roots, 16 extra nodes, 2 pruned nodes, max_depth=4\u001b[0m\n",
      "\u001b[31m[38]#011train-rmse:2.94466#011validation-rmse:5.17404\u001b[0m\n",
      "\u001b[31m[13:49:42] src/tree/updater_prune.cc:74: tree pruning end, 1 roots, 12 extra nodes, 4 pruned nodes, max_depth=4\u001b[0m\n",
      "\u001b[31m[39]#011train-rmse:2.84959#011validation-rmse:5.11792\u001b[0m\n",
      "\u001b[31m[13:49:42] src/tree/updater_prune.cc:74: tree pruning end, 1 roots, 10 extra nodes, 0 pruned nodes, max_depth=4\u001b[0m\n",
      "\u001b[31m[40]#011train-rmse:2.75816#011validation-rmse:5.04709\u001b[0m\n",
      "\u001b[31m[13:49:42] src/tree/updater_prune.cc:74: tree pruning end, 1 roots, 22 extra nodes, 0 pruned nodes, max_depth=4\u001b[0m\n",
      "\u001b[31m[41]#011train-rmse:2.66686#011validation-rmse:5.00855\u001b[0m\n",
      "\u001b[31m[13:49:42] src/tree/updater_prune.cc:74: tree pruning end, 1 roots, 16 extra nodes, 2 pruned nodes, max_depth=4\u001b[0m\n",
      "\u001b[31m[42]#011train-rmse:2.58716#011validation-rmse:4.96684\u001b[0m\n",
      "\u001b[31m[13:49:42] src/tree/updater_prune.cc:74: tree pruning end, 1 roots, 12 extra nodes, 4 pruned nodes, max_depth=4\u001b[0m\n",
      "\u001b[31m[43]#011train-rmse:2.52299#011validation-rmse:4.91013\u001b[0m\n",
      "\u001b[31m[13:49:42] src/tree/updater_prune.cc:74: tree pruning end, 1 roots, 10 extra nodes, 2 pruned nodes, max_depth=4\u001b[0m\n",
      "\u001b[31m[44]#011train-rmse:2.44959#011validation-rmse:4.86219\u001b[0m\n",
      "\u001b[31m[13:49:42] src/tree/updater_prune.cc:74: tree pruning end, 1 roots, 10 extra nodes, 4 pruned nodes, max_depth=4\u001b[0m\n",
      "\u001b[31m[45]#011train-rmse:2.40732#011validation-rmse:4.82538\u001b[0m\n",
      "\u001b[31m[13:49:42] src/tree/updater_prune.cc:74: tree pruning end, 1 roots, 12 extra nodes, 0 pruned nodes, max_depth=4\u001b[0m\n",
      "\u001b[31m[46]#011train-rmse:2.34388#011validation-rmse:4.78148\u001b[0m\n",
      "\u001b[31m[13:49:42] src/tree/updater_prune.cc:74: tree pruning end, 1 roots, 20 extra nodes, 2 pruned nodes, max_depth=4\u001b[0m\n",
      "\u001b[31m[47]#011train-rmse:2.28715#011validation-rmse:4.7746\u001b[0m\n",
      "\u001b[31m[13:49:42] src/tree/updater_prune.cc:74: tree pruning end, 1 roots, 16 extra nodes, 4 pruned nodes, max_depth=4\u001b[0m\n",
      "\u001b[31m[48]#011train-rmse:2.22788#011validation-rmse:4.76534\u001b[0m\n",
      "\u001b[31m[13:49:42] src/tree/updater_prune.cc:74: tree pruning end, 1 roots, 16 extra nodes, 6 pruned nodes, max_depth=4\u001b[0m\n",
      "\u001b[31m[49]#011train-rmse:2.18815#011validation-rmse:4.74232\u001b[0m\n",
      "\u001b[31m[13:49:42] src/tree/updater_prune.cc:74: tree pruning end, 1 roots, 16 extra nodes, 0 pruned nodes, max_depth=4\u001b[0m\n",
      "\u001b[31m[50]#011train-rmse:2.1587#011validation-rmse:4.74787\u001b[0m\n",
      "\u001b[31m[13:49:42] src/tree/updater_prune.cc:74: tree pruning end, 1 roots, 14 extra nodes, 0 pruned nodes, max_depth=4\u001b[0m\n",
      "\u001b[31m[51]#011train-rmse:2.13265#011validation-rmse:4.7392\u001b[0m\n",
      "\u001b[31m[13:49:42] src/tree/updater_prune.cc:74: tree pruning end, 1 roots, 14 extra nodes, 0 pruned nodes, max_depth=4\u001b[0m\n",
      "\u001b[31m[52]#011train-rmse:2.0879#011validation-rmse:4.69652\u001b[0m\n",
      "\u001b[31m[13:49:42] src/tree/updater_prune.cc:74: tree pruning end, 1 roots, 16 extra nodes, 4 pruned nodes, max_depth=4\u001b[0m\n",
      "\u001b[31m[53]#011train-rmse:2.05486#011validation-rmse:4.68492\u001b[0m\n",
      "\u001b[31m[13:49:42] src/tree/updater_prune.cc:74: tree pruning end, 1 roots, 12 extra nodes, 0 pruned nodes, max_depth=4\u001b[0m\n",
      "\u001b[31m[54]#011train-rmse:2.01913#011validation-rmse:4.66738\u001b[0m\n",
      "\u001b[31m[13:49:42] src/tree/updater_prune.cc:74: tree pruning end, 1 roots, 8 extra nodes, 4 pruned nodes, max_depth=4\u001b[0m\n",
      "\u001b[31m[55]#011train-rmse:1.99691#011validation-rmse:4.67003\u001b[0m\n",
      "\u001b[31m[13:49:42] src/tree/updater_prune.cc:74: tree pruning end, 1 roots, 20 extra nodes, 2 pruned nodes, max_depth=4\u001b[0m\n",
      "\u001b[31m[56]#011train-rmse:1.96707#011validation-rmse:4.66519\u001b[0m\n",
      "\u001b[31m[13:49:42] src/tree/updater_prune.cc:74: tree pruning end, 1 roots, 16 extra nodes, 0 pruned nodes, max_depth=4\u001b[0m\n",
      "\u001b[31m[57]#011train-rmse:1.94043#011validation-rmse:4.6575\u001b[0m\n",
      "\u001b[31m[13:49:42] src/tree/updater_prune.cc:74: tree pruning end, 1 roots, 12 extra nodes, 4 pruned nodes, max_depth=4\u001b[0m\n",
      "\u001b[31m[58]#011train-rmse:1.9181#011validation-rmse:4.63007\u001b[0m\n",
      "\u001b[31m[13:49:42] src/tree/updater_prune.cc:74: tree pruning end, 1 roots, 14 extra nodes, 2 pruned nodes, max_depth=4\u001b[0m\n",
      "\u001b[31m[59]#011train-rmse:1.88514#011validation-rmse:4.60378\u001b[0m\n",
      "\u001b[31m[13:49:42] src/tree/updater_prune.cc:74: tree pruning end, 1 roots, 16 extra nodes, 0 pruned nodes, max_depth=4\u001b[0m\n",
      "\u001b[31m[60]#011train-rmse:1.85776#011validation-rmse:4.58334\u001b[0m\n",
      "\u001b[31m[13:49:42] src/tree/updater_prune.cc:74: tree pruning end, 1 roots, 16 extra nodes, 2 pruned nodes, max_depth=4\u001b[0m\n",
      "\u001b[31m[61]#011train-rmse:1.82501#011validation-rmse:4.54188\u001b[0m\n",
      "\u001b[31m[13:49:42] src/tree/updater_prune.cc:74: tree pruning end, 1 roots, 18 extra nodes, 4 pruned nodes, max_depth=4\u001b[0m\n",
      "\u001b[31m[62]#011train-rmse:1.79618#011validation-rmse:4.53651\u001b[0m\n",
      "\u001b[31m[13:49:42] src/tree/updater_prune.cc:74: tree pruning end, 1 roots, 18 extra nodes, 4 pruned nodes, max_depth=4\u001b[0m\n",
      "\u001b[31m[63]#011train-rmse:1.76557#011validation-rmse:4.52011\u001b[0m\n",
      "\u001b[31m[13:49:42] src/tree/updater_prune.cc:74: tree pruning end, 1 roots, 18 extra nodes, 4 pruned nodes, max_depth=4\u001b[0m\n",
      "\u001b[31m[64]#011train-rmse:1.73916#011validation-rmse:4.50842\u001b[0m\n",
      "\u001b[31m[13:49:42] src/tree/updater_prune.cc:74: tree pruning end, 1 roots, 10 extra nodes, 4 pruned nodes, max_depth=4\u001b[0m\n",
      "\u001b[31m[65]#011train-rmse:1.72257#011validation-rmse:4.48559\u001b[0m\n",
      "\u001b[31m[13:49:42] src/tree/updater_prune.cc:74: tree pruning end, 1 roots, 12 extra nodes, 2 pruned nodes, max_depth=4\u001b[0m\n",
      "\u001b[31m[66]#011train-rmse:1.70207#011validation-rmse:4.48652\u001b[0m\n",
      "\u001b[31m[13:49:42] src/tree/updater_prune.cc:74: tree pruning end, 1 roots, 10 extra nodes, 6 pruned nodes, max_depth=4\u001b[0m\n",
      "\u001b[31m[67]#011train-rmse:1.68132#011validation-rmse:4.47072\u001b[0m\n",
      "\u001b[31m[13:49:42] src/tree/updater_prune.cc:74: tree pruning end, 1 roots, 12 extra nodes, 6 pruned nodes, max_depth=4\u001b[0m\n",
      "\u001b[31m[68]#011train-rmse:1.66321#011validation-rmse:4.47617\u001b[0m\n",
      "\u001b[31m[13:49:42] src/tree/updater_prune.cc:74: tree pruning end, 1 roots, 10 extra nodes, 4 pruned nodes, max_depth=4\u001b[0m\n",
      "\u001b[31m[69]#011train-rmse:1.64419#011validation-rmse:4.45908\u001b[0m\n",
      "\u001b[31m[13:49:42] src/tree/updater_prune.cc:74: tree pruning end, 1 roots, 22 extra nodes, 4 pruned nodes, max_depth=4\u001b[0m\n",
      "\u001b[31m[70]#011train-rmse:1.61404#011validation-rmse:4.4532\u001b[0m\n",
      "\u001b[31m[13:49:42] src/tree/updater_prune.cc:74: tree pruning end, 1 roots, 14 extra nodes, 8 pruned nodes, max_depth=4\u001b[0m\n",
      "\u001b[31m[71]#011train-rmse:1.59896#011validation-rmse:4.45211\u001b[0m\n",
      "\u001b[31m[13:49:42] src/tree/updater_prune.cc:74: tree pruning end, 1 roots, 14 extra nodes, 2 pruned nodes, max_depth=4\u001b[0m\n",
      "\u001b[31m[72]#011train-rmse:1.58594#011validation-rmse:4.4389\u001b[0m\n",
      "\u001b[31m[13:49:42] src/tree/updater_prune.cc:74: tree pruning end, 1 roots, 14 extra nodes, 6 pruned nodes, max_depth=4\u001b[0m\n",
      "\u001b[31m[73]#011train-rmse:1.56973#011validation-rmse:4.41846\u001b[0m\n",
      "\u001b[31m[13:49:42] src/tree/updater_prune.cc:74: tree pruning end, 1 roots, 14 extra nodes, 12 pruned nodes, max_depth=4\u001b[0m\n",
      "\u001b[31m[74]#011train-rmse:1.55146#011validation-rmse:4.41608\u001b[0m\n",
      "\u001b[31m[13:49:42] src/tree/updater_prune.cc:74: tree pruning end, 1 roots, 10 extra nodes, 2 pruned nodes, max_depth=4\u001b[0m\n",
      "\u001b[31m[75]#011train-rmse:1.53516#011validation-rmse:4.40073\u001b[0m\n",
      "\u001b[31m[13:49:42] src/tree/updater_prune.cc:74: tree pruning end, 1 roots, 16 extra nodes, 2 pruned nodes, max_depth=4\u001b[0m\n",
      "\u001b[31m[76]#011train-rmse:1.51883#011validation-rmse:4.40108\u001b[0m\n",
      "\u001b[31m[13:49:42] src/tree/updater_prune.cc:74: tree pruning end, 1 roots, 14 extra nodes, 6 pruned nodes, max_depth=4\u001b[0m\n",
      "\u001b[31m[77]#011train-rmse:1.50737#011validation-rmse:4.40036\u001b[0m\n",
      "\u001b[31m[13:49:42] src/tree/updater_prune.cc:74: tree pruning end, 1 roots, 14 extra nodes, 6 pruned nodes, max_depth=4\u001b[0m\n",
      "\u001b[31m[78]#011train-rmse:1.49416#011validation-rmse:4.3961\u001b[0m\n",
      "\u001b[31m[13:49:42] src/tree/updater_prune.cc:74: tree pruning end, 1 roots, 12 extra nodes, 0 pruned nodes, max_depth=4\u001b[0m\n",
      "\u001b[31m[79]#011train-rmse:1.48055#011validation-rmse:4.38303\u001b[0m\n",
      "\u001b[31m[13:49:42] src/tree/updater_prune.cc:74: tree pruning end, 1 roots, 6 extra nodes, 6 pruned nodes, max_depth=3\u001b[0m\n",
      "\u001b[31m[80]#011train-rmse:1.47614#011validation-rmse:4.38354\u001b[0m\n",
      "\u001b[31m[13:49:42] src/tree/updater_prune.cc:74: tree pruning end, 1 roots, 8 extra nodes, 2 pruned nodes, max_depth=4\u001b[0m\n",
      "\u001b[31m[81]#011train-rmse:1.46923#011validation-rmse:4.38938\u001b[0m\n",
      "\u001b[31m[13:49:42] src/tree/updater_prune.cc:74: tree pruning end, 1 roots, 10 extra nodes, 4 pruned nodes, max_depth=4\u001b[0m\n",
      "\u001b[31m[82]#011train-rmse:1.46024#011validation-rmse:4.3824\u001b[0m\n",
      "\u001b[31m[13:49:42] src/tree/updater_prune.cc:74: tree pruning end, 1 roots, 4 extra nodes, 12 pruned nodes, max_depth=2\u001b[0m\n",
      "\u001b[31m[83]#011train-rmse:1.45515#011validation-rmse:4.38369\u001b[0m\n",
      "\u001b[31m[13:49:42] src/tree/updater_prune.cc:74: tree pruning end, 1 roots, 8 extra nodes, 8 pruned nodes, max_depth=4\u001b[0m\n",
      "\u001b[31m[84]#011train-rmse:1.44736#011validation-rmse:4.38263\u001b[0m\n",
      "\u001b[31m[13:49:42] src/tree/updater_prune.cc:74: tree pruning end, 1 roots, 4 extra nodes, 6 pruned nodes, max_depth=2\u001b[0m\n",
      "\u001b[31m[85]#011train-rmse:1.44285#011validation-rmse:4.37048\u001b[0m\n",
      "\u001b[31m[13:49:42] src/tree/updater_prune.cc:74: tree pruning end, 1 roots, 10 extra nodes, 14 pruned nodes, max_depth=3\u001b[0m\n",
      "\u001b[31m[86]#011train-rmse:1.43507#011validation-rmse:4.37171\u001b[0m\n",
      "\u001b[31m[13:49:42] src/tree/updater_prune.cc:74: tree pruning end, 1 roots, 12 extra nodes, 12 pruned nodes, max_depth=4\u001b[0m\n",
      "\u001b[31m[87]#011train-rmse:1.42655#011validation-rmse:4.37063\u001b[0m\n",
      "\u001b[31m[13:49:42] src/tree/updater_prune.cc:74: tree pruning end, 1 roots, 10 extra nodes, 2 pruned nodes, max_depth=4\u001b[0m\n",
      "\u001b[31m[88]#011train-rmse:1.41807#011validation-rmse:4.37379\u001b[0m\n",
      "\u001b[31m[13:49:42] src/tree/updater_prune.cc:74: tree pruning end, 1 roots, 10 extra nodes, 4 pruned nodes, max_depth=4\u001b[0m\n",
      "\u001b[31m[89]#011train-rmse:1.40838#011validation-rmse:4.37782\u001b[0m\n",
      "\u001b[31m[13:49:42] src/tree/updater_prune.cc:74: tree pruning end, 1 roots, 12 extra nodes, 0 pruned nodes, max_depth=4\u001b[0m\n",
      "\u001b[31m[90]#011train-rmse:1.39643#011validation-rmse:4.3654\u001b[0m\n",
      "\u001b[31m[13:49:42] src/tree/updater_prune.cc:74: tree pruning end, 1 roots, 12 extra nodes, 10 pruned nodes, max_depth=4\u001b[0m\n",
      "\u001b[31m[91]#011train-rmse:1.39256#011validation-rmse:4.36684\u001b[0m\n",
      "\u001b[31m[13:49:42] src/tree/updater_prune.cc:74: tree pruning end, 1 roots, 14 extra nodes, 8 pruned nodes, max_depth=4\u001b[0m\n",
      "\u001b[31m[92]#011train-rmse:1.38058#011validation-rmse:4.36373\u001b[0m\n",
      "\u001b[31m[13:49:42] src/tree/updater_prune.cc:74: tree pruning end, 1 roots, 14 extra nodes, 10 pruned nodes, max_depth=4\u001b[0m\n",
      "\u001b[31m[93]#011train-rmse:1.37016#011validation-rmse:4.36446\u001b[0m\n",
      "\u001b[31m[13:49:42] src/tree/updater_prune.cc:74: tree pruning end, 1 roots, 12 extra nodes, 14 pruned nodes, max_depth=4\u001b[0m\n",
      "\u001b[31m[94]#011train-rmse:1.36271#011validation-rmse:4.35866\u001b[0m\n",
      "\u001b[31m[13:49:42] src/tree/updater_prune.cc:74: tree pruning end, 1 roots, 12 extra nodes, 6 pruned nodes, max_depth=4\u001b[0m\n",
      "\u001b[31m[95]#011train-rmse:1.34963#011validation-rmse:4.33884\u001b[0m\n",
      "\u001b[31m[13:49:42] src/tree/updater_prune.cc:74: tree pruning end, 1 roots, 8 extra nodes, 8 pruned nodes, max_depth=4\u001b[0m\n",
      "\u001b[31m[96]#011train-rmse:1.34451#011validation-rmse:4.33939\u001b[0m\n",
      "\u001b[31m[13:49:42] src/tree/updater_prune.cc:74: tree pruning end, 1 roots, 12 extra nodes, 10 pruned nodes, max_depth=4\u001b[0m\n",
      "\u001b[31m[97]#011train-rmse:1.33415#011validation-rmse:4.3304\u001b[0m\n",
      "\u001b[31m[13:49:42] src/tree/updater_prune.cc:74: tree pruning end, 1 roots, 8 extra nodes, 8 pruned nodes, max_depth=4\u001b[0m\n",
      "\u001b[31m[98]#011train-rmse:1.32957#011validation-rmse:4.33585\u001b[0m\n",
      "\u001b[31m[13:49:42] src/tree/updater_prune.cc:74: tree pruning end, 1 roots, 10 extra nodes, 12 pruned nodes, max_depth=4\u001b[0m\n",
      "\u001b[31m[99]#011train-rmse:1.3249#011validation-rmse:4.33626\u001b[0m\n",
      "\u001b[31m[13:49:42] src/tree/updater_prune.cc:74: tree pruning end, 1 roots, 14 extra nodes, 2 pruned nodes, max_depth=4\u001b[0m\n",
      "\u001b[31m[100]#011train-rmse:1.31675#011validation-rmse:4.33383\u001b[0m\n",
      "\u001b[31m[13:49:42] src/tree/updater_prune.cc:74: tree pruning end, 1 roots, 10 extra nodes, 16 pruned nodes, max_depth=4\u001b[0m\n",
      "\u001b[31m[101]#011train-rmse:1.30623#011validation-rmse:4.32105\u001b[0m\n",
      "\u001b[31m[13:49:42] src/tree/updater_prune.cc:74: tree pruning end, 1 roots, 10 extra nodes, 6 pruned nodes, max_depth=4\u001b[0m\n",
      "\u001b[31m[102]#011train-rmse:1.29863#011validation-rmse:4.31586\u001b[0m\n",
      "\u001b[31m[13:49:42] src/tree/updater_prune.cc:74: tree pruning end, 1 roots, 10 extra nodes, 6 pruned nodes, max_depth=4\u001b[0m\n",
      "\u001b[31m[103]#011train-rmse:1.29264#011validation-rmse:4.31976\u001b[0m\n",
      "\u001b[31m[13:49:42] src/tree/updater_prune.cc:74: tree pruning end, 1 roots, 10 extra nodes, 14 pruned nodes, max_depth=4\u001b[0m\n",
      "\u001b[31m[104]#011train-rmse:1.28636#011validation-rmse:4.32246\u001b[0m\n",
      "\u001b[31m[13:49:42] src/tree/updater_prune.cc:74: tree pruning end, 1 roots, 12 extra nodes, 12 pruned nodes, max_depth=4\u001b[0m\n",
      "\u001b[31m[105]#011train-rmse:1.2768#011validation-rmse:4.31128\u001b[0m\n",
      "\u001b[31m[13:49:42] src/tree/updater_prune.cc:74: tree pruning end, 1 roots, 4 extra nodes, 18 pruned nodes, max_depth=2\u001b[0m\n",
      "\u001b[31m[106]#011train-rmse:1.27503#011validation-rmse:4.30568\u001b[0m\n",
      "\u001b[31m[13:49:42] src/tree/updater_prune.cc:74: tree pruning end, 1 roots, 10 extra nodes, 2 pruned nodes, max_depth=4\u001b[0m\n",
      "\u001b[31m[107]#011train-rmse:1.26773#011validation-rmse:4.29257\u001b[0m\n",
      "\u001b[31m[13:49:42] src/tree/updater_prune.cc:74: tree pruning end, 1 roots, 10 extra nodes, 8 pruned nodes, max_depth=4\u001b[0m\n",
      "\u001b[31m[108]#011train-rmse:1.26131#011validation-rmse:4.27854\u001b[0m\n",
      "\u001b[31m[13:49:42] src/tree/updater_prune.cc:74: tree pruning end, 1 roots, 0 extra nodes, 8 pruned nodes, max_depth=0\u001b[0m\n",
      "\u001b[31m[109]#011train-rmse:1.26141#011validation-rmse:4.2782\u001b[0m\n",
      "\u001b[31m[13:49:42] src/tree/updater_prune.cc:74: tree pruning end, 1 roots, 12 extra nodes, 12 pruned nodes, max_depth=4\u001b[0m\n",
      "\u001b[31m[110]#011train-rmse:1.2515#011validation-rmse:4.27204\u001b[0m\n",
      "\u001b[31m[13:49:42] src/tree/updater_prune.cc:74: tree pruning end, 1 roots, 8 extra nodes, 6 pruned nodes, max_depth=4\u001b[0m\n",
      "\u001b[31m[111]#011train-rmse:1.24791#011validation-rmse:4.25953\u001b[0m\n",
      "\u001b[31m[13:49:42] src/tree/updater_prune.cc:74: tree pruning end, 1 roots, 8 extra nodes, 4 pruned nodes, max_depth=4\u001b[0m\n",
      "\u001b[31m[112]#011train-rmse:1.24095#011validation-rmse:4.26113\u001b[0m\n",
      "\u001b[31m[13:49:42] src/tree/updater_prune.cc:74: tree pruning end, 1 roots, 6 extra nodes, 12 pruned nodes, max_depth=3\u001b[0m\n",
      "\u001b[31m[113]#011train-rmse:1.23763#011validation-rmse:4.26417\u001b[0m\n",
      "\u001b[31m[13:49:42] src/tree/updater_prune.cc:74: tree pruning end, 1 roots, 8 extra nodes, 20 pruned nodes, max_depth=4\u001b[0m\n",
      "\u001b[31m[114]#011train-rmse:1.23335#011validation-rmse:4.26011\u001b[0m\n",
      "\u001b[31m[13:49:42] src/tree/updater_prune.cc:74: tree pruning end, 1 roots, 12 extra nodes, 8 pruned nodes, max_depth=4\u001b[0m\n",
      "\u001b[31m[115]#011train-rmse:1.21994#011validation-rmse:4.26083\u001b[0m\n",
      "\u001b[31m[13:49:42] src/tree/updater_prune.cc:74: tree pruning end, 1 roots, 14 extra nodes, 12 pruned nodes, max_depth=4\u001b[0m\n",
      "\u001b[31m[116]#011train-rmse:1.20999#011validation-rmse:4.25825\u001b[0m\n",
      "\u001b[31m[13:49:42] src/tree/updater_prune.cc:74: tree pruning end, 1 roots, 6 extra nodes, 16 pruned nodes, max_depth=3\u001b[0m\n",
      "\u001b[31m[117]#011train-rmse:1.20553#011validation-rmse:4.25266\u001b[0m\n",
      "\u001b[31m[13:49:42] src/tree/updater_prune.cc:74: tree pruning end, 1 roots, 14 extra nodes, 12 pruned nodes, max_depth=4\u001b[0m\n",
      "\u001b[31m[118]#011train-rmse:1.1966#011validation-rmse:4.25329\u001b[0m\n",
      "\u001b[31m[13:49:42] src/tree/updater_prune.cc:74: tree pruning end, 1 roots, 8 extra nodes, 2 pruned nodes, max_depth=4\u001b[0m\n",
      "\u001b[31m[119]#011train-rmse:1.19305#011validation-rmse:4.24293\u001b[0m\n",
      "\u001b[31m[13:49:42] src/tree/updater_prune.cc:74: tree pruning end, 1 roots, 6 extra nodes, 6 pruned nodes, max_depth=3\u001b[0m\n",
      "\u001b[31m[120]#011train-rmse:1.19126#011validation-rmse:4.24366\u001b[0m\n",
      "\u001b[31m[13:49:42] src/tree/updater_prune.cc:74: tree pruning end, 1 roots, 6 extra nodes, 12 pruned nodes, max_depth=2\u001b[0m\n",
      "\u001b[31m[121]#011train-rmse:1.18728#011validation-rmse:4.24519\u001b[0m\n",
      "\u001b[31m[13:49:42] src/tree/updater_prune.cc:74: tree pruning end, 1 roots, 8 extra nodes, 12 pruned nodes, max_depth=4\u001b[0m\n",
      "\u001b[31m[122]#011train-rmse:1.1836#011validation-rmse:4.2478\u001b[0m\n",
      "\u001b[31m[13:49:42] src/tree/updater_prune.cc:74: tree pruning end, 1 roots, 8 extra nodes, 10 pruned nodes, max_depth=4\u001b[0m\n",
      "\u001b[31m[123]#011train-rmse:1.17845#011validation-rmse:4.24815\u001b[0m\n",
      "\u001b[31m[13:49:42] src/tree/updater_prune.cc:74: tree pruning end, 1 roots, 14 extra nodes, 4 pruned nodes, max_depth=4\u001b[0m\n",
      "\u001b[31m[124]#011train-rmse:1.17018#011validation-rmse:4.25085\u001b[0m\n",
      "\u001b[31m[13:49:42] src/tree/updater_prune.cc:74: tree pruning end, 1 roots, 8 extra nodes, 16 pruned nodes, max_depth=3\u001b[0m\n",
      "\u001b[31m[125]#011train-rmse:1.16666#011validation-rmse:4.25781\u001b[0m\n",
      "\u001b[31m[13:49:42] src/tree/updater_prune.cc:74: tree pruning end, 1 roots, 8 extra nodes, 8 pruned nodes, max_depth=4\u001b[0m\n",
      "\u001b[31m[126]#011train-rmse:1.16249#011validation-rmse:4.26084\u001b[0m\n",
      "\u001b[31m[13:49:42] src/tree/updater_prune.cc:74: tree pruning end, 1 roots, 6 extra nodes, 16 pruned nodes, max_depth=3\u001b[0m\n",
      "\u001b[31m[127]#011train-rmse:1.15999#011validation-rmse:4.26016\u001b[0m\n",
      "\u001b[31m[13:49:42] src/tree/updater_prune.cc:74: tree pruning end, 1 roots, 12 extra nodes, 18 pruned nodes, max_depth=4\u001b[0m\n",
      "\u001b[31m[128]#011train-rmse:1.15237#011validation-rmse:4.25369\u001b[0m\n",
      "\u001b[31m[13:49:42] src/tree/updater_prune.cc:74: tree pruning end, 1 roots, 0 extra nodes, 22 pruned nodes, max_depth=0\u001b[0m\n",
      "\u001b[31m[129]#011train-rmse:1.15234#011validation-rmse:4.25386\u001b[0m\n",
      "\u001b[31mStopping. Best iteration:\u001b[0m\n",
      "\u001b[31m[119]#011train-rmse:1.19305#011validation-rmse:4.24293\n",
      "\u001b[0m\n",
      "Billable seconds: 63\n"
     ]
    }
   ],
   "source": [
    "# Attach/Use the best hyperparameters\n",
    "xgb_attached = sagemaker.estimator.Estimator.attach(xgb_hyperparameter_tuner.best_training_job())"
   ]
  },
  {
   "cell_type": "markdown",
   "metadata": {},
   "source": [
    "## Step 5: Test the model\n",
    "\n",
    "Now that we have our best performing model, we can test it. To do this we will use the batch transform functionality. To start with, we need to build a transformer object from our fit model."
   ]
  },
  {
   "cell_type": "code",
   "execution_count": 21,
   "metadata": {},
   "outputs": [],
   "source": [
    "xgb_transformer = xgb_attached.transformer(instance_count = 1, instance_type = 'ml.m4.xlarge')"
   ]
  },
  {
   "cell_type": "markdown",
   "metadata": {},
   "source": [
    "Next we ask SageMaker to begin a batch transform job using our trained model and applying it to the test data we previous stored in S3. We need to make sure to provide SageMaker with the type of data that we are providing to our model, in our case `text/csv`, so that it knows how to serialize our data. In addition, we need to make sure to let SageMaker know how to split our data up into chunks if the entire data set happens to be too large to send to our model all at once.\n",
    "\n",
    "Note that when we ask SageMaker to do this it will execute the batch transform job in the background. Since we need to wait for the results of this job before we can continue, we use the `wait()` method. An added benefit of this is that we get some output from our batch transform job which lets us know if anything went wrong."
   ]
  },
  {
   "cell_type": "code",
   "execution_count": 22,
   "metadata": {},
   "outputs": [],
   "source": [
    "xgb_transformer.transform(test_location, content_type='text/csv', split_type='Line')"
   ]
  },
  {
   "cell_type": "code",
   "execution_count": 23,
   "metadata": {},
   "outputs": [
    {
     "name": "stdout",
     "output_type": "stream",
     "text": [
      ".........................................!\n"
     ]
    }
   ],
   "source": [
    "xgb_transformer.wait()"
   ]
  },
  {
   "cell_type": "markdown",
   "metadata": {},
   "source": [
    "Now that the batch transform job has finished, the resulting output is stored on S3. Since we wish to analyze the output inside of our notebook we can use a bit of notebook magic to copy the output file from its S3 location and save it locally."
   ]
  },
  {
   "cell_type": "code",
   "execution_count": 24,
   "metadata": {},
   "outputs": [
    {
     "name": "stdout",
     "output_type": "stream",
     "text": [
      "Completed 2.3 KiB/2.3 KiB (35.0 KiB/s) with 1 file(s) remaining\r",
      "download: s3://sagemaker-us-west-2-394610559328/xgboost-190802-1326-019-cbfb043f-2019-08-02-14-08-31-066/test.csv.out to ../data/boston/test.csv.out\r\n"
     ]
    }
   ],
   "source": [
    "!aws s3 cp --recursive $xgb_transformer.output_path $data_dir"
   ]
  },
  {
   "cell_type": "markdown",
   "metadata": {},
   "source": [
    "To see how well our model works we can create a simple scatter plot between the predicted and actual values. If the model was completely accurate the resulting scatter plot would look like the line $x=y$. As we can see, our model seems to have done okay but there is room for improvement."
   ]
  },
  {
   "cell_type": "code",
   "execution_count": 25,
   "metadata": {},
   "outputs": [],
   "source": [
    "Y_pred = pd.read_csv(os.path.join(data_dir, 'test.csv.out'), header=None)"
   ]
  },
  {
   "cell_type": "code",
   "execution_count": 26,
   "metadata": {},
   "outputs": [
    {
     "data": {
      "text/plain": [
       "Text(0.5, 1.0, 'Median Price vs Predicted Price')"
      ]
     },
     "execution_count": 26,
     "metadata": {},
     "output_type": "execute_result"
    },
    {
     "data": {
      "image/png": "[encoded data removed]",
      "text/plain": [
       "<Figure size 432x288 with 1 Axes>"
      ]
     },
     "metadata": {},
     "output_type": "display_data"
    }
   ],
   "source": [
    "plt.scatter(Y_test, Y_pred)\n",
    "plt.xlabel(\"Median Price\")\n",
    "plt.ylabel(\"Predicted Price\")\n",
    "plt.title(\"Median Price vs Predicted Price\")"
   ]
  },
  {
   "cell_type": "markdown",
   "metadata": {},
   "source": [
    "## Optional: Clean up\n",
    "\n",
    "The default notebook instance on SageMaker doesn't have a lot of excess disk space available. As you continue to complete and execute notebooks you will eventually fill up this disk space, leading to errors which can be difficult to diagnose. Once you are completely finished using a notebook it is a good idea to remove the files that you created along the way. Of course, you can do this from the terminal or from the notebook hub if you would like. The cell below contains some commands to clean up the created files from within the notebook."
   ]
  },
  {
   "cell_type": "code",
   "execution_count": 27,
   "metadata": {},
   "outputs": [],
   "source": [
    "# First we will remove all of the files contained in the data_dir directory\n",
    "!rm $data_dir/*\n",
    "\n",
    "# And then we delete the directory itself\n",
    "!rmdir $data_dir"
   ]
  },
  {
   "cell_type": "code",
   "execution_count": 28,
   "metadata": {},
   "outputs": [
    {
     "name": "stdout",
     "output_type": "stream",
     "text": [
      "Done!\n"
     ]
    }
   ],
   "source": [
    "print(\"Done!\")"
   ]
  },
  {
   "cell_type": "code",
   "execution_count": null,
   "metadata": {},
   "outputs": [],
   "source": []
  }
 ],
 "metadata": {
  "kernelspec": {
   "display_name": "conda_pytorch_p36",
   "language": "python",
   "name": "conda_pytorch_p36"
  },
  "language_info": {
   "codemirror_mode": {
    "name": "ipython",
    "version": 3
   },
   "file_extension": ".py",
   "mimetype": "text/x-python",
   "name": "python",
   "nbconvert_exporter": "python",
   "pygments_lexer": "ipython3",
   "version": "3.6.5"
  }
 },
 "nbformat": 4,
 "nbformat_minor": 2
}
