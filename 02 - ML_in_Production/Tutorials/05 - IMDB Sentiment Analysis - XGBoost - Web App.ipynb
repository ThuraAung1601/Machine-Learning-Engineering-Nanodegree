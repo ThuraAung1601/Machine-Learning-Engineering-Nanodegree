{
 "cells": [
  {
   "cell_type": "markdown",
   "metadata": {},
   "source": [
    "# Sentiment Analysis Web App\n",
    "\n",
    "_Deep Learning Nanodegree Program | Deployment_\n",
    "\n",
    "---\n",
    "\n",
    "In this notebook we will use Amazon's SageMaker service to construct a random tree model to predict the sentiment of a movie review. In addition, we will deploy this model to an endpoint and construct a very simple web app which will interact with our model's deployed endpoint.\n",
    "\n",
    "## General Outline\n",
    "\n",
    "Typically, when using a notebook instance with SageMaker, you will proceed through the following steps. Of course, not every step will need to be done with each project. Also, there is quite a lot of room for variation in many of the steps, as you will see throughout these lessons.\n",
    "\n",
    "1. Download or otherwise retrieve the data.\n",
    "2. Process / Prepare the data.\n",
    "3. Upload the processed data to S3.\n",
    "4. Train a chosen model.\n",
    "5. Test the trained model (typically using a batch transform job).\n",
    "6. Deploy the trained model.\n",
    "7. Use the deployed model.\n",
    "\n",
    "In this notebook we will progress through each of the steps above. We will also see that the final step, using the deployed model, can be quite challenging."
   ]
  },
  {
   "cell_type": "markdown",
   "metadata": {},
   "source": [
    "## Step 1: Downloading the data\n",
    "\n",
    "The dataset we are going to use is very popular among researchers in Natural Language Processing, usually referred to as the [IMDb dataset](http://ai.stanford.edu/~amaas/data/sentiment/). It consists of movie reviews from the website [imdb.com](http://www.imdb.com/), each labeled as either '**pos**itive', if the reviewer enjoyed the film, or '**neg**ative' otherwise.\n",
    "\n",
    "> Maas, Andrew L., et al. [Learning Word Vectors for Sentiment Analysis](http://ai.stanford.edu/~amaas/data/sentiment/). In _Proceedings of the 49th Annual Meeting of the Association for Computational Linguistics: Human Language Technologies_. Association for Computational Linguistics, 2011.\n",
    "\n",
    "We begin by using some Jupyter Notebook magic to download and extract the dataset."
   ]
  },
  {
   "cell_type": "code",
   "execution_count": 1,
   "metadata": {},
   "outputs": [
    {
     "name": "stdout",
     "output_type": "stream",
     "text": [
      "mkdir: cannot create directory ‘../data’: File exists\n",
      "--2019-08-01 12:48:49--  http://ai.stanford.edu/~amaas/data/sentiment/aclImdb_v1.tar.gz\n",
      "Resolving ai.stanford.edu (ai.stanford.edu)... 171.64.68.10\n",
      "Connecting to ai.stanford.edu (ai.stanford.edu)|171.64.68.10|:80... connected.\n",
      "HTTP request sent, awaiting response... 200 OK\n",
      "Length: 84125825 (80M) [application/x-gzip]\n",
      "Saving to: ‘../data/aclImdb_v1.tar.gz’\n",
      "\n",
      "../data/aclImdb_v1. 100%[===================>]  80.23M  42.0MB/s    in 1.9s    \n",
      "\n",
      "2019-08-01 12:48:51 (42.0 MB/s) - ‘../data/aclImdb_v1.tar.gz’ saved [84125825/84125825]\n",
      "\n"
     ]
    }
   ],
   "source": [
    "%mkdir ../data\n",
    "!wget -O ../data/aclImdb_v1.tar.gz http://ai.stanford.edu/~amaas/data/sentiment/aclImdb_v1.tar.gz\n",
    "!tar -zxf ../data/aclImdb_v1.tar.gz -C ../data"
   ]
  },
  {
   "cell_type": "markdown",
   "metadata": {},
   "source": [
    "## Step 2: Preparing and Processing the data\n",
    "\n",
    "The data we have downloaded is split into various files, each of which contains a single review. It will be much easier going forward if we combine these individual files into two large files, one for training and one for testing."
   ]
  },
  {
   "cell_type": "code",
   "execution_count": 2,
   "metadata": {},
   "outputs": [],
   "source": [
    "import os\n",
    "import glob\n",
    "\n",
    "def read_imdb_data(data_dir='../data/aclImdb'):\n",
    "    data = {}\n",
    "    labels = {}\n",
    "    \n",
    "    for data_type in ['train', 'test']:\n",
    "        data[data_type] = {}\n",
    "        labels[data_type] = {}\n",
    "        \n",
    "        for sentiment in ['pos', 'neg']:\n",
    "            data[data_type][sentiment] = []\n",
    "            labels[data_type][sentiment] = []\n",
    "            \n",
    "            path = os.path.join(data_dir, data_type, sentiment, '*.txt')\n",
    "            files = glob.glob(path)\n",
    "            \n",
    "            for f in files:\n",
    "                with open(f) as review:\n",
    "                    data[data_type][sentiment].append(review.read())\n",
    "                    # Here we represent a positive review by '1' and a negative review by '0'\n",
    "                    labels[data_type][sentiment].append(1 if sentiment == 'pos' else 0)\n",
    "                    \n",
    "            assert len(data[data_type][sentiment]) == len(labels[data_type][sentiment]), \\\n",
    "                    \"{}/{} data size does not match labels size\".format(data_type, sentiment)\n",
    "                \n",
    "    return data, labels"
   ]
  },
  {
   "cell_type": "code",
   "execution_count": 3,
   "metadata": {},
   "outputs": [
    {
     "name": "stdout",
     "output_type": "stream",
     "text": [
      "IMDB reviews: train = 12500 pos / 12500 neg, test = 12500 pos / 12500 neg\n"
     ]
    }
   ],
   "source": [
    "data, labels = read_imdb_data()\n",
    "print(\"IMDB reviews: train = {} pos / {} neg, test = {} pos / {} neg\".format(\n",
    "            len(data['train']['pos']), len(data['train']['neg']),\n",
    "            len(data['test']['pos']), len(data['test']['neg'])))"
   ]
  },
  {
   "cell_type": "code",
   "execution_count": 4,
   "metadata": {},
   "outputs": [],
   "source": [
    "from sklearn.utils import shuffle\n",
    "\n",
    "def prepare_imdb_data(data, labels):\n",
    "    \"\"\"Prepare training and test sets from IMDb movie reviews.\"\"\"\n",
    "    \n",
    "    #Combine positive and negative reviews and labels\n",
    "    data_train = data['train']['pos'] + data['train']['neg']\n",
    "    data_test = data['test']['pos'] + data['test']['neg']\n",
    "    labels_train = labels['train']['pos'] + labels['train']['neg']\n",
    "    labels_test = labels['test']['pos'] + labels['test']['neg']\n",
    "    \n",
    "    #Shuffle reviews and corresponding labels within training and test sets\n",
    "    data_train, labels_train = shuffle(data_train, labels_train)\n",
    "    data_test, labels_test = shuffle(data_test, labels_test)\n",
    "    \n",
    "    # Return a unified training data, test data, training labels, test labets\n",
    "    return data_train, data_test, labels_train, labels_test"
   ]
  },
  {
   "cell_type": "code",
   "execution_count": 5,
   "metadata": {},
   "outputs": [
    {
     "name": "stdout",
     "output_type": "stream",
     "text": [
      "IMDb reviews (combined): train = 25000, test = 25000\n"
     ]
    }
   ],
   "source": [
    "train_X, test_X, train_y, test_y = prepare_imdb_data(data, labels)\n",
    "print(\"IMDb reviews (combined): train = {}, test = {}\".format(len(train_X), len(test_X)))"
   ]
  },
  {
   "cell_type": "code",
   "execution_count": 6,
   "metadata": {},
   "outputs": [
    {
     "data": {
      "text/plain": [
       "\"I loved October Sky. The thing I loved most had to be the music. It worked two ways: in the first hour of the film, it gives the viewer a time-frame. This is done by playing songs from the late Fifties. In the second hour, an instrumental score takes over. The music now fits the mood of the film perfectly.<br /><br />I did not only enjoy the music, I also quite enjoyed the cast. Jake Gyllenhaal as Homer Hickam was especially a surprise for me. He gave off a first-class performance, as did Chris Owen (Quentin) and Chris Cooper (John Hickam).<br /><br />I've seen this movie about escaping the life already laid out for you twice now, and both times I thoroughly enjoyed myself.\""
      ]
     },
     "execution_count": 6,
     "metadata": {},
     "output_type": "execute_result"
    }
   ],
   "source": [
    "train_X[100]"
   ]
  },
  {
   "cell_type": "markdown",
   "metadata": {},
   "source": [
    "## Processing the data\n",
    "\n",
    "Now that we have our training and testing datasets merged and ready to use, we need to start processing the raw data into something that will be useable by our machine learning algorithm. To begin with, we remove any html formatting and any non-alpha numeric characters that may appear in the reviews. We will do this in a very simplistic way using Python's regular expression module. We will discuss the reason for this rather simplistic pre-processing later on."
   ]
  },
  {
   "cell_type": "code",
   "execution_count": 7,
   "metadata": {},
   "outputs": [],
   "source": [
    "import re\n",
    "\n",
    "REPLACE_NO_SPACE = re.compile(\"(\\.)|(\\;)|(\\:)|(\\!)|(\\')|(\\?)|(\\,)|(\\\")|(\\()|(\\))|(\\[)|(\\])\")\n",
    "REPLACE_WITH_SPACE = re.compile(\"(<br\\s*/><br\\s*/>)|(\\-)|(\\/)\")\n",
    "\n",
    "def review_to_words(review):\n",
    "    words = REPLACE_NO_SPACE.sub(\"\", review.lower())\n",
    "    words = REPLACE_WITH_SPACE.sub(\" \", words)\n",
    "    return words"
   ]
  },
  {
   "cell_type": "code",
   "execution_count": 8,
   "metadata": {},
   "outputs": [
    {
     "data": {
      "text/plain": [
       "'i loved october sky the thing i loved most had to be the music it worked two ways in the first hour of the film it gives the viewer a time frame this is done by playing songs from the late fifties in the second hour an instrumental score takes over the music now fits the mood of the film perfectly i did not only enjoy the music i also quite enjoyed the cast jake gyllenhaal as homer hickam was especially a surprise for me he gave off a first class performance as did chris owen quentin and chris cooper john hickam ive seen this movie about escaping the life already laid out for you twice now and both times i thoroughly enjoyed myself'"
      ]
     },
     "execution_count": 8,
     "metadata": {},
     "output_type": "execute_result"
    }
   ],
   "source": [
    "review_to_words(train_X[100])"
   ]
  },
  {
   "cell_type": "code",
   "execution_count": 9,
   "metadata": {},
   "outputs": [],
   "source": [
    "import pickle\n",
    "\n",
    "cache_dir = os.path.join(\"../cache\", \"sentiment_web_app\")  # where to store cache files\n",
    "os.makedirs(cache_dir, exist_ok=True)  # ensure cache directory exists\n",
    "\n",
    "def preprocess_data(data_train, data_test, labels_train, labels_test,\n",
    "                    cache_dir=cache_dir, cache_file=\"preprocessed_data.pkl\"):\n",
    "    \"\"\"Convert each review to words; read from cache if available.\"\"\"\n",
    "\n",
    "    # If cache_file is not None, try to read from it first\n",
    "    cache_data = None\n",
    "    if cache_file is not None:\n",
    "        try:\n",
    "            with open(os.path.join(cache_dir, cache_file), \"rb\") as f:\n",
    "                cache_data = pickle.load(f)\n",
    "            print(\"Read preprocessed data from cache file:\", cache_file)\n",
    "        except:\n",
    "            pass  # unable to read from cache, but that's okay\n",
    "    \n",
    "    # If cache is missing, then do the heavy lifting\n",
    "    if cache_data is None:\n",
    "        # Preprocess training and test data to obtain words for each review\n",
    "        #words_train = list(map(review_to_words, data_train))\n",
    "        #words_test = list(map(review_to_words, data_test))\n",
    "        words_train = [review_to_words(review) for review in data_train]\n",
    "        words_test = [review_to_words(review) for review in data_test]\n",
    "        \n",
    "        # Write to cache file for future runs\n",
    "        if cache_file is not None:\n",
    "            cache_data = dict(words_train=words_train, words_test=words_test,\n",
    "                              labels_train=labels_train, labels_test=labels_test)\n",
    "            with open(os.path.join(cache_dir, cache_file), \"wb\") as f:\n",
    "                pickle.dump(cache_data, f)\n",
    "            print(\"Wrote preprocessed data to cache file:\", cache_file)\n",
    "    else:\n",
    "        # Unpack data loaded from cache file\n",
    "        words_train, words_test, labels_train, labels_test = (cache_data['words_train'],\n",
    "                cache_data['words_test'], cache_data['labels_train'], cache_data['labels_test'])\n",
    "    \n",
    "    return words_train, words_test, labels_train, labels_test"
   ]
  },
  {
   "cell_type": "code",
   "execution_count": 10,
   "metadata": {},
   "outputs": [
    {
     "name": "stdout",
     "output_type": "stream",
     "text": [
      "Wrote preprocessed data to cache file: preprocessed_data.pkl\n"
     ]
    }
   ],
   "source": [
    "# Preprocess data\n",
    "train_X, test_X, train_y, test_y = preprocess_data(train_X, test_X, train_y, test_y)"
   ]
  },
  {
   "cell_type": "markdown",
   "metadata": {},
   "source": [
    "### Extract Bag-of-Words features\n",
    "\n",
    "For the model we will be implementing, rather than using the reviews directly, we are going to transform each review into a Bag-of-Words feature representation. Keep in mind that 'in the wild' we will only have access to the training set so our transformer can only use the training set to construct a representation."
   ]
  },
  {
   "cell_type": "code",
   "execution_count": 11,
   "metadata": {},
   "outputs": [],
   "source": [
    "import numpy as np\n",
    "from sklearn.feature_extraction.text import CountVectorizer\n",
    "from sklearn.externals import joblib\n",
    "# joblib is an enhanced version of pickle that is more efficient for storing NumPy arrays\n",
    "\n",
    "def extract_BoW_features(words_train, words_test, vocabulary_size=5000,\n",
    "                         cache_dir=cache_dir, cache_file=\"bow_features.pkl\"):\n",
    "    \"\"\"Extract Bag-of-Words for a given set of documents, already preprocessed into words.\"\"\"\n",
    "    \n",
    "    # If cache_file is not None, try to read from it first\n",
    "    cache_data = None\n",
    "    if cache_file is not None:\n",
    "        try:\n",
    "            with open(os.path.join(cache_dir, cache_file), \"rb\") as f:\n",
    "                cache_data = joblib.load(f)\n",
    "            print(\"Read features from cache file:\", cache_file)\n",
    "        except:\n",
    "            pass  # unable to read from cache, but that's okay\n",
    "    \n",
    "    # If cache is missing, then do the heavy lifting\n",
    "    if cache_data is None:\n",
    "        # Fit a vectorizer to training documents and use it to transform them\n",
    "        # NOTE: Training documents have already been preprocessed and tokenized into words;\n",
    "        #       pass in dummy functions to skip those steps, e.g. preprocessor=lambda x: x\n",
    "        vectorizer = CountVectorizer(max_features=vocabulary_size)\n",
    "        features_train = vectorizer.fit_transform(words_train).toarray()\n",
    "\n",
    "        # Apply the same vectorizer to transform the test documents (ignore unknown words)\n",
    "        features_test = vectorizer.transform(words_test).toarray()\n",
    "        \n",
    "        # NOTE: Remember to convert the features using .toarray() for a compact representation\n",
    "        \n",
    "        # Write to cache file for future runs (store vocabulary as well)\n",
    "        if cache_file is not None:\n",
    "            vocabulary = vectorizer.vocabulary_\n",
    "            cache_data = dict(features_train=features_train, features_test=features_test,\n",
    "                             vocabulary=vocabulary)\n",
    "            with open(os.path.join(cache_dir, cache_file), \"wb\") as f:\n",
    "                joblib.dump(cache_data, f)\n",
    "            print(\"Wrote features to cache file:\", cache_file)\n",
    "    else:\n",
    "        # Unpack data loaded from cache file\n",
    "        features_train, features_test, vocabulary = (cache_data['features_train'],\n",
    "                cache_data['features_test'], cache_data['vocabulary'])\n",
    "    \n",
    "    # Return both the extracted features as well as the vocabulary\n",
    "    return features_train, features_test, vocabulary"
   ]
  },
  {
   "cell_type": "code",
   "execution_count": 12,
   "metadata": {},
   "outputs": [
    {
     "name": "stdout",
     "output_type": "stream",
     "text": [
      "Wrote features to cache file: bow_features.pkl\n"
     ]
    }
   ],
   "source": [
    "# Extract Bag of Words features for both training and test datasets\n",
    "train_X, test_X, vocabulary = extract_BoW_features(train_X, test_X)"
   ]
  },
  {
   "cell_type": "code",
   "execution_count": 13,
   "metadata": {},
   "outputs": [
    {
     "data": {
      "text/plain": [
       "5000"
      ]
     },
     "execution_count": 13,
     "metadata": {},
     "output_type": "execute_result"
    }
   ],
   "source": [
    "len(train_X[100])"
   ]
  },
  {
   "cell_type": "markdown",
   "metadata": {},
   "source": [
    "## Step 3: Upload data to S3\n",
    "\n",
    "Now that we have created the feature representation of our training (and testing) data, it is time to start setting up and using the XGBoost classifier provided by SageMaker.\n",
    "\n",
    "### Writing the datasets\n",
    "\n",
    "The XGBoost classifier that we will be using requires the dataset to be written to a file and stored using Amazon S3. To do this, we will start by splitting the training dataset into two parts, the data we will train the model with and a validation set. Then, we will write those datasets to a file locally and then upload the files to S3. In addition, we will write the test set to a file and upload that file to S3. This is so that we can use SageMakers Batch Transform functionality to test our model once we've fit it."
   ]
  },
  {
   "cell_type": "code",
   "execution_count": 14,
   "metadata": {},
   "outputs": [],
   "source": [
    "import pandas as pd\n",
    "\n",
    "# Earlier we shuffled the training dataset so to make things simple we can just assign\n",
    "# the first 10 000 reviews to the validation set and use the remaining reviews for training.\n",
    "val_X = pd.DataFrame(train_X[:10000])\n",
    "train_X = pd.DataFrame(train_X[10000:])\n",
    "\n",
    "val_y = pd.DataFrame(train_y[:10000])\n",
    "train_y = pd.DataFrame(train_y[10000:])"
   ]
  },
  {
   "cell_type": "markdown",
   "metadata": {},
   "source": [
    "The documentation for the XGBoost algorithm in SageMaker requires that the training and validation datasets should contain no headers or index and that the label should occur first for each sample.\n",
    "\n",
    "For more information about this and other algorithms, the SageMaker developer documentation can be found on __[Amazon's website.](https://docs.aws.amazon.com/sagemaker/latest/dg/)__"
   ]
  },
  {
   "cell_type": "code",
   "execution_count": 15,
   "metadata": {},
   "outputs": [],
   "source": [
    "# First we make sure that the local directory in which we'd like to store the training and validation csv files exists.\n",
    "data_dir = '../data/sentiment_web_app'\n",
    "if not os.path.exists(data_dir):\n",
    "    os.makedirs(data_dir)"
   ]
  },
  {
   "cell_type": "code",
   "execution_count": 16,
   "metadata": {},
   "outputs": [],
   "source": [
    "pd.DataFrame(test_X).to_csv(os.path.join(data_dir, 'test.csv'), header=False, index=False)\n",
    "\n",
    "pd.concat([val_y, val_X], axis=1).to_csv(os.path.join(data_dir, 'validation.csv'), header=False, index=False)\n",
    "pd.concat([train_y, train_X], axis=1).to_csv(os.path.join(data_dir, 'train.csv'), header=False, index=False)"
   ]
  },
  {
   "cell_type": "code",
   "execution_count": 17,
   "metadata": {},
   "outputs": [],
   "source": [
    "# To save a bit of memory we can set text_X, train_X, val_X, train_y and val_y to None.\n",
    "\n",
    "test_X = train_X = val_X = train_y = val_y = None"
   ]
  },
  {
   "cell_type": "markdown",
   "metadata": {},
   "source": [
    "### Uploading Training / Validation files to S3\n",
    "\n",
    "Amazon's S3 service allows us to store files that can be accessed by both the built-in training models such as the XGBoost model we will be using as well as custom models such as the one we will see a little later.\n",
    "\n",
    "For this and most other tasks we will be doing using SageMaker, there are two methods we could use. The first is to use the low level functionality of SageMaker which requires knowing each of the objects involved in the SageMaker environment. The second is to use the high level functionality in which certain choices have been made on the user's behalf. The low level approach benefits from allowing the user a great deal of flexibility while the high level approach makes development much quicker. For our purposes we will opt to use the high level approach although using the low-level approach is certainly an option.\n",
    "\n",
    "Recall the method `upload_data()` which is a member of the object representing our current SageMaker session. What this method does is upload the data to the default bucket (which is created if it does not exist) into the path described by the key_prefix variable. To see this for yourself, once you have uploaded the data files, go to the S3 console and look to see where the files have been uploaded.\n",
    "\n",
    "For additional resources, see the __[SageMaker API documentation](http://sagemaker.readthedocs.io/en/latest/)__ and in addition the __[SageMaker Developer Guide.](https://docs.aws.amazon.com/sagemaker/latest/dg/)__"
   ]
  },
  {
   "cell_type": "code",
   "execution_count": 18,
   "metadata": {},
   "outputs": [],
   "source": [
    "import sagemaker\n",
    "\n",
    "session = sagemaker.Session() # Store the current SageMaker session\n",
    "\n",
    "# S3 prefix (which folder will we use)\n",
    "prefix = 'sentiment-web-app'\n",
    "\n",
    "test_location = session.upload_data(os.path.join(data_dir, 'test.csv'), key_prefix=prefix)\n",
    "val_location = session.upload_data(os.path.join(data_dir, 'validation.csv'), key_prefix=prefix)\n",
    "train_location = session.upload_data(os.path.join(data_dir, 'train.csv'), key_prefix=prefix)"
   ]
  },
  {
   "cell_type": "markdown",
   "metadata": {},
   "source": [
    "## Step 4: Creating the XGBoost model\n",
    "\n",
    "Now that the data has been uploaded it is time to create the XGBoost model. To begin with, we need to do some setup. At this point it is worth discussing what a model is in SageMaker. It is easiest to think of a model of comprising three different objects in the SageMaker ecosystem, which interact with one another.\n",
    "\n",
    "- Model Artifacts\n",
    "- Training Code (Container)\n",
    "- Inference Code (Container)\n",
    "\n",
    "The Model Artifacts are what you might think of as the actual model itself. For example, if you were building a neural network, the model artifacts would be the weights of the various layers. In our case, for an XGBoost model, the artifacts are the actual trees that are created during training.\n",
    "\n",
    "The other two objects, the training code and the inference code are then used to manipulate the training artifacts. More precisely, the training code uses the training data that is provided and creates the model artifacts, while the inference code uses the model artifacts to make predictions on new data.\n",
    "\n",
    "The way that SageMaker runs the training and inference code is by making use of Docker containers. For now, think of a container as being a way of packaging code up so that dependencies aren't an issue."
   ]
  },
  {
   "cell_type": "code",
   "execution_count": 19,
   "metadata": {},
   "outputs": [],
   "source": [
    "from sagemaker import get_execution_role\n",
    "\n",
    "# Our current execution role is required when creating the model as the training\n",
    "# and inference code will need to access the model artifacts.\n",
    "role = get_execution_role()"
   ]
  },
  {
   "cell_type": "code",
   "execution_count": 20,
   "metadata": {},
   "outputs": [
    {
     "data": {
      "text/plain": [
       "'arn:aws:iam::394610559328:role/service-role/AmazonSageMaker-ExecutionRole-20190722T122791'"
      ]
     },
     "execution_count": 20,
     "metadata": {},
     "output_type": "execute_result"
    }
   ],
   "source": [
    "role"
   ]
  },
  {
   "cell_type": "code",
   "execution_count": 21,
   "metadata": {},
   "outputs": [],
   "source": [
    "# We need to retrieve the location of the container which is provided by Amazon for using XGBoost.\n",
    "# As a matter of convenience, the training and inference code both use the same container.\n",
    "from sagemaker.amazon.amazon_estimator import get_image_uri\n",
    "\n",
    "container = get_image_uri(session.boto_region_name, 'xgboost')"
   ]
  },
  {
   "cell_type": "code",
   "execution_count": 22,
   "metadata": {},
   "outputs": [],
   "source": [
    "# First we create a SageMaker estimator object for our model.\n",
    "xgb = sagemaker.estimator.Estimator(container, # The location of the container we wish to use\n",
    "                                    role,                                    # What is our current IAM Role\n",
    "                                    train_instance_count=1,                  # How many compute instances\n",
    "                                    train_instance_type='ml.m4.xlarge',      # What kind of compute instances\n",
    "                                    output_path='s3://{}/{}/output'.format(session.default_bucket(), prefix),\n",
    "                                    sagemaker_session=session)\n",
    "\n",
    "# And then set the algorithm specific parameters.\n",
    "xgb.set_hyperparameters(max_depth=5,\n",
    "                        eta=0.2,\n",
    "                        gamma=4,\n",
    "                        min_child_weight=6,\n",
    "                        subsample=0.8,\n",
    "                        silent=0,\n",
    "                        objective='binary:logistic',\n",
    "                        early_stopping_rounds=10,\n",
    "                        num_round=500)"
   ]
  },
  {
   "cell_type": "markdown",
   "metadata": {},
   "source": [
    "### Fit the XGBoost model\n",
    "\n",
    "Now that our model has been set up we simply need to attach the training and validation datasets and then ask SageMaker to set up the computation."
   ]
  },
  {
   "cell_type": "code",
   "execution_count": 25,
   "metadata": {},
   "outputs": [],
   "source": [
    "s3_input_train = sagemaker.s3_input(s3_data=train_location, content_type='csv')\n",
    "s3_input_validation = sagemaker.s3_input(s3_data=val_location, content_type='csv')"
   ]
  },
  {
   "cell_type": "code",
   "execution_count": 26,
   "metadata": {},
   "outputs": [
    {
     "name": "stdout",
     "output_type": "stream",
     "text": [
      "<sagemaker.session.s3_input object at 0x7f5caccc6080>\n",
      "<sagemaker.session.s3_input object at 0x7f5caccc6748>\n"
     ]
    }
   ],
   "source": [
    "print(s3_input_train)\n",
    "print(s3_input_validation)"
   ]
  },
  {
   "cell_type": "code",
   "execution_count": 27,
   "metadata": {},
   "outputs": [
    {
     "name": "stdout",
     "output_type": "stream",
     "text": [
      "2019-08-01 13:04:05 Starting - Starting the training job...\n",
      "2019-08-01 13:04:17 Starting - Launching requested ML instances......\n",
      "2019-08-01 13:05:25 Starting - Preparing the instances for training......\n",
      "2019-08-01 13:06:36 Downloading - Downloading input data...\n",
      "2019-08-01 13:07:06 Training - Downloading the training image...\n",
      "2019-08-01 13:07:24 Training - Training image download completed. Training in progress.\n",
      "\u001b[31mArguments: train\u001b[0m\n",
      "\u001b[31m[2019-08-01:13:07:24:INFO] Running standalone xgboost training.\u001b[0m\n",
      "\u001b[31m[2019-08-01:13:07:24:INFO] File size need to be processed in the node: 238.5mb. Available memory size in the node: 8449.18mb\u001b[0m\n",
      "\u001b[31m[2019-08-01:13:07:24:INFO] Determined delimiter of CSV input is ','\u001b[0m\n",
      "\u001b[31m[13:07:24] S3DistributionType set as FullyReplicated\u001b[0m\n",
      "\u001b[31m[13:07:26] 15000x5000 matrix with 75000000 entries loaded from /opt/ml/input/data/train?format=csv&label_column=0&delimiter=,\u001b[0m\n",
      "\u001b[31m[2019-08-01:13:07:26:INFO] Determined delimiter of CSV input is ','\u001b[0m\n",
      "\u001b[31m[13:07:26] S3DistributionType set as FullyReplicated\u001b[0m\n",
      "\u001b[31m[13:07:27] 10000x5000 matrix with 50000000 entries loaded from /opt/ml/input/data/validation?format=csv&label_column=0&delimiter=,\u001b[0m\n",
      "\u001b[31m[13:07:31] src/tree/updater_prune.cc:74: tree pruning end, 1 roots, 38 extra nodes, 10 pruned nodes, max_depth=5\u001b[0m\n",
      "\u001b[31m[0]#011train-error:0.3064#011validation-error:0.3068\u001b[0m\n",
      "\u001b[31mMultiple eval metrics have been passed: 'validation-error' will be used for early stopping.\n",
      "\u001b[0m\n",
      "\u001b[31mWill train until validation-error hasn't improved in 10 rounds.\u001b[0m\n",
      "\u001b[31m[13:07:32] src/tree/updater_prune.cc:74: tree pruning end, 1 roots, 38 extra nodes, 10 pruned nodes, max_depth=5\u001b[0m\n",
      "\u001b[31m[1]#011train-error:0.303933#011validation-error:0.3041\u001b[0m\n",
      "\u001b[31m[13:07:33] src/tree/updater_prune.cc:74: tree pruning end, 1 roots, 40 extra nodes, 6 pruned nodes, max_depth=5\u001b[0m\n",
      "\u001b[31m[2]#011train-error:0.282133#011validation-error:0.2854\u001b[0m\n",
      "\u001b[31m[13:07:35] src/tree/updater_prune.cc:74: tree pruning end, 1 roots, 30 extra nodes, 4 pruned nodes, max_depth=5\u001b[0m\n",
      "\u001b[31m[3]#011train-error:0.273467#011validation-error:0.2753\u001b[0m\n",
      "\u001b[31m[13:07:36] src/tree/updater_prune.cc:74: tree pruning end, 1 roots, 40 extra nodes, 8 pruned nodes, max_depth=5\u001b[0m\n",
      "\u001b[31m[4]#011train-error:0.2616#011validation-error:0.267\u001b[0m\n",
      "\u001b[31m[13:07:38] src/tree/updater_prune.cc:74: tree pruning end, 1 roots, 34 extra nodes, 8 pruned nodes, max_depth=5\u001b[0m\n",
      "\u001b[31m[5]#011train-error:0.2668#011validation-error:0.2684\u001b[0m\n",
      "\u001b[31m[13:07:39] src/tree/updater_prune.cc:74: tree pruning end, 1 roots, 34 extra nodes, 0 pruned nodes, max_depth=5\u001b[0m\n",
      "\u001b[31m[6]#011train-error:0.259533#011validation-error:0.2624\u001b[0m\n",
      "\u001b[31m[13:07:40] src/tree/updater_prune.cc:74: tree pruning end, 1 roots, 34 extra nodes, 6 pruned nodes, max_depth=5\u001b[0m\n",
      "\u001b[31m[7]#011train-error:0.255#011validation-error:0.2594\u001b[0m\n",
      "\u001b[31m[13:07:41] src/tree/updater_prune.cc:74: tree pruning end, 1 roots, 46 extra nodes, 12 pruned nodes, max_depth=5\u001b[0m\n",
      "\u001b[31m[8]#011train-error:0.242133#011validation-error:0.2488\u001b[0m\n",
      "\u001b[31m[13:07:43] src/tree/updater_prune.cc:74: tree pruning end, 1 roots, 34 extra nodes, 2 pruned nodes, max_depth=5\u001b[0m\n",
      "\u001b[31m[9]#011train-error:0.2308#011validation-error:0.2391\u001b[0m\n",
      "\u001b[31m[13:07:44] src/tree/updater_prune.cc:74: tree pruning end, 1 roots, 32 extra nodes, 2 pruned nodes, max_depth=5\u001b[0m\n",
      "\u001b[31m[10]#011train-error:0.223533#011validation-error:0.2354\u001b[0m\n",
      "\u001b[31m[13:07:45] src/tree/updater_prune.cc:74: tree pruning end, 1 roots, 22 extra nodes, 8 pruned nodes, max_depth=5\u001b[0m\n",
      "\u001b[31m[11]#011train-error:0.219267#011validation-error:0.231\u001b[0m\n",
      "\u001b[31m[13:07:46] src/tree/updater_prune.cc:74: tree pruning end, 1 roots, 30 extra nodes, 4 pruned nodes, max_depth=5\u001b[0m\n",
      "\u001b[31m[12]#011train-error:0.216333#011validation-error:0.2263\u001b[0m\n",
      "\u001b[31m[13:07:48] src/tree/updater_prune.cc:74: tree pruning end, 1 roots, 26 extra nodes, 12 pruned nodes, max_depth=5\u001b[0m\n",
      "\u001b[31m[13]#011train-error:0.212267#011validation-error:0.223\u001b[0m\n",
      "\u001b[31m[13:07:49] src/tree/updater_prune.cc:74: tree pruning end, 1 roots, 20 extra nodes, 12 pruned nodes, max_depth=5\u001b[0m\n",
      "\u001b[31m[14]#011train-error:0.209333#011validation-error:0.221\u001b[0m\n",
      "\u001b[31m[13:07:50] src/tree/updater_prune.cc:74: tree pruning end, 1 roots, 16 extra nodes, 18 pruned nodes, max_depth=5\u001b[0m\n",
      "\u001b[31m[15]#011train-error:0.205333#011validation-error:0.219\u001b[0m\n",
      "\u001b[31m[13:07:52] src/tree/updater_prune.cc:74: tree pruning end, 1 roots, 28 extra nodes, 10 pruned nodes, max_depth=5\u001b[0m\n",
      "\u001b[31m[16]#011train-error:0.200467#011validation-error:0.2149\u001b[0m\n",
      "\u001b[31m[13:07:53] src/tree/updater_prune.cc:74: tree pruning end, 1 roots, 32 extra nodes, 4 pruned nodes, max_depth=5\u001b[0m\n",
      "\u001b[31m[17]#011train-error:0.1982#011validation-error:0.2108\u001b[0m\n",
      "\u001b[31m[13:07:54] src/tree/updater_prune.cc:74: tree pruning end, 1 roots, 42 extra nodes, 2 pruned nodes, max_depth=5\u001b[0m\n",
      "\u001b[31m[18]#011train-error:0.193467#011validation-error:0.2075\u001b[0m\n",
      "\u001b[31m[13:07:55] src/tree/updater_prune.cc:74: tree pruning end, 1 roots, 34 extra nodes, 2 pruned nodes, max_depth=5\u001b[0m\n",
      "\u001b[31m[19]#011train-error:0.190667#011validation-error:0.2053\u001b[0m\n",
      "\u001b[31m[13:07:57] src/tree/updater_prune.cc:74: tree pruning end, 1 roots, 24 extra nodes, 8 pruned nodes, max_depth=5\u001b[0m\n",
      "\u001b[31m[20]#011train-error:0.187933#011validation-error:0.2021\u001b[0m\n",
      "\u001b[31m[13:07:58] src/tree/updater_prune.cc:74: tree pruning end, 1 roots, 34 extra nodes, 2 pruned nodes, max_depth=5\u001b[0m\n",
      "\u001b[31m[21]#011train-error:0.1862#011validation-error:0.2022\u001b[0m\n",
      "\u001b[31m[13:07:59] src/tree/updater_prune.cc:74: tree pruning end, 1 roots, 32 extra nodes, 8 pruned nodes, max_depth=5\u001b[0m\n",
      "\u001b[31m[22]#011train-error:0.184067#011validation-error:0.2018\u001b[0m\n",
      "\u001b[31m[13:08:01] src/tree/updater_prune.cc:74: tree pruning end, 1 roots, 22 extra nodes, 12 pruned nodes, max_depth=5\u001b[0m\n",
      "\u001b[31m[23]#011train-error:0.181333#011validation-error:0.1986\u001b[0m\n",
      "\u001b[31m[13:08:02] src/tree/updater_prune.cc:74: tree pruning end, 1 roots, 28 extra nodes, 12 pruned nodes, max_depth=5\u001b[0m\n",
      "\u001b[31m[24]#011train-error:0.179133#011validation-error:0.1979\u001b[0m\n",
      "\u001b[31m[13:08:03] src/tree/updater_prune.cc:74: tree pruning end, 1 roots, 32 extra nodes, 8 pruned nodes, max_depth=5\u001b[0m\n",
      "\u001b[31m[25]#011train-error:0.177933#011validation-error:0.1971\u001b[0m\n",
      "\u001b[31m[13:08:04] src/tree/updater_prune.cc:74: tree pruning end, 1 roots, 18 extra nodes, 4 pruned nodes, max_depth=5\u001b[0m\n",
      "\u001b[31m[26]#011train-error:0.175#011validation-error:0.195\u001b[0m\n",
      "\u001b[31m[13:08:06] src/tree/updater_prune.cc:74: tree pruning end, 1 roots, 40 extra nodes, 6 pruned nodes, max_depth=5\u001b[0m\n",
      "\u001b[31m[27]#011train-error:0.171333#011validation-error:0.1916\u001b[0m\n",
      "\u001b[31m[13:08:07] src/tree/updater_prune.cc:74: tree pruning end, 1 roots, 24 extra nodes, 6 pruned nodes, max_depth=5\u001b[0m\n",
      "\u001b[31m[28]#011train-error:0.1694#011validation-error:0.1899\u001b[0m\n",
      "\u001b[31m[13:08:08] src/tree/updater_prune.cc:74: tree pruning end, 1 roots, 20 extra nodes, 10 pruned nodes, max_depth=5\u001b[0m\n",
      "\u001b[31m[29]#011train-error:0.169667#011validation-error:0.1887\u001b[0m\n",
      "\u001b[31m[13:08:09] src/tree/updater_prune.cc:74: tree pruning end, 1 roots, 26 extra nodes, 4 pruned nodes, max_depth=5\u001b[0m\n",
      "\u001b[31m[30]#011train-error:0.166867#011validation-error:0.1862\u001b[0m\n",
      "\u001b[31m[13:08:11] src/tree/updater_prune.cc:74: tree pruning end, 1 roots, 32 extra nodes, 6 pruned nodes, max_depth=5\u001b[0m\n",
      "\u001b[31m[31]#011train-error:0.166533#011validation-error:0.1847\u001b[0m\n",
      "\u001b[31m[13:08:12] src/tree/updater_prune.cc:74: tree pruning end, 1 roots, 14 extra nodes, 10 pruned nodes, max_depth=5\u001b[0m\n",
      "\u001b[31m[32]#011train-error:0.1646#011validation-error:0.1824\u001b[0m\n",
      "\u001b[31m[13:08:13] src/tree/updater_prune.cc:74: tree pruning end, 1 roots, 28 extra nodes, 6 pruned nodes, max_depth=5\u001b[0m\n",
      "\u001b[31m[33]#011train-error:0.161067#011validation-error:0.1814\u001b[0m\n",
      "\u001b[31m[13:08:14] src/tree/updater_prune.cc:74: tree pruning end, 1 roots, 24 extra nodes, 12 pruned nodes, max_depth=5\u001b[0m\n",
      "\u001b[31m[34]#011train-error:0.160533#011validation-error:0.1809\u001b[0m\n",
      "\u001b[31m[13:08:16] src/tree/updater_prune.cc:74: tree pruning end, 1 roots, 32 extra nodes, 6 pruned nodes, max_depth=5\u001b[0m\n",
      "\u001b[31m[35]#011train-error:0.159333#011validation-error:0.1804\u001b[0m\n",
      "\u001b[31m[13:08:17] src/tree/updater_prune.cc:74: tree pruning end, 1 roots, 12 extra nodes, 14 pruned nodes, max_depth=5\u001b[0m\n",
      "\u001b[31m[36]#011train-error:0.159133#011validation-error:0.1794\u001b[0m\n",
      "\u001b[31m[13:08:18] src/tree/updater_prune.cc:74: tree pruning end, 1 roots, 12 extra nodes, 8 pruned nodes, max_depth=5\u001b[0m\n",
      "\u001b[31m[37]#011train-error:0.158467#011validation-error:0.1786\u001b[0m\n",
      "\u001b[31m[13:08:20] src/tree/updater_prune.cc:74: tree pruning end, 1 roots, 28 extra nodes, 12 pruned nodes, max_depth=5\u001b[0m\n",
      "\u001b[31m[38]#011train-error:0.155333#011validation-error:0.1773\u001b[0m\n",
      "\u001b[31m[13:08:21] src/tree/updater_prune.cc:74: tree pruning end, 1 roots, 24 extra nodes, 6 pruned nodes, max_depth=5\u001b[0m\n",
      "\u001b[31m[39]#011train-error:0.154067#011validation-error:0.1766\u001b[0m\n"
     ]
    },
    {
     "name": "stdout",
     "output_type": "stream",
     "text": [
      "\u001b[31m[13:08:22] src/tree/updater_prune.cc:74: tree pruning end, 1 roots, 34 extra nodes, 6 pruned nodes, max_depth=5\u001b[0m\n",
      "\u001b[31m[40]#011train-error:0.152733#011validation-error:0.1761\u001b[0m\n",
      "\u001b[31m[13:08:23] src/tree/updater_prune.cc:74: tree pruning end, 1 roots, 28 extra nodes, 16 pruned nodes, max_depth=5\u001b[0m\n",
      "\u001b[31m[41]#011train-error:0.1508#011validation-error:0.1756\u001b[0m\n",
      "\u001b[31m[13:08:25] src/tree/updater_prune.cc:74: tree pruning end, 1 roots, 26 extra nodes, 10 pruned nodes, max_depth=5\u001b[0m\n",
      "\u001b[31m[42]#011train-error:0.1502#011validation-error:0.1755\u001b[0m\n",
      "\u001b[31m[13:08:26] src/tree/updater_prune.cc:74: tree pruning end, 1 roots, 22 extra nodes, 12 pruned nodes, max_depth=5\u001b[0m\n",
      "\u001b[31m[43]#011train-error:0.148867#011validation-error:0.1746\u001b[0m\n",
      "\u001b[31m[13:08:27] src/tree/updater_prune.cc:74: tree pruning end, 1 roots, 28 extra nodes, 10 pruned nodes, max_depth=5\u001b[0m\n",
      "\u001b[31m[44]#011train-error:0.148067#011validation-error:0.1733\u001b[0m\n",
      "\u001b[31m[13:08:28] src/tree/updater_prune.cc:74: tree pruning end, 1 roots, 22 extra nodes, 14 pruned nodes, max_depth=5\u001b[0m\n",
      "\u001b[31m[45]#011train-error:0.1486#011validation-error:0.1733\u001b[0m\n",
      "\u001b[31m[13:08:30] src/tree/updater_prune.cc:74: tree pruning end, 1 roots, 40 extra nodes, 4 pruned nodes, max_depth=5\u001b[0m\n",
      "\u001b[31m[46]#011train-error:0.146533#011validation-error:0.1748\u001b[0m\n",
      "\u001b[31m[13:08:31] src/tree/updater_prune.cc:74: tree pruning end, 1 roots, 14 extra nodes, 4 pruned nodes, max_depth=5\u001b[0m\n",
      "\u001b[31m[47]#011train-error:0.145667#011validation-error:0.1736\u001b[0m\n",
      "\u001b[31m[13:08:32] src/tree/updater_prune.cc:74: tree pruning end, 1 roots, 30 extra nodes, 10 pruned nodes, max_depth=5\u001b[0m\n",
      "\u001b[31m[48]#011train-error:0.143533#011validation-error:0.1737\u001b[0m\n",
      "\u001b[31m[13:08:33] src/tree/updater_prune.cc:74: tree pruning end, 1 roots, 36 extra nodes, 8 pruned nodes, max_depth=5\u001b[0m\n",
      "\u001b[31m[49]#011train-error:0.141467#011validation-error:0.1715\u001b[0m\n",
      "\u001b[31m[13:08:35] src/tree/updater_prune.cc:74: tree pruning end, 1 roots, 16 extra nodes, 8 pruned nodes, max_depth=5\u001b[0m\n",
      "\u001b[31m[50]#011train-error:0.140733#011validation-error:0.1709\u001b[0m\n",
      "\u001b[31m[13:08:36] src/tree/updater_prune.cc:74: tree pruning end, 1 roots, 24 extra nodes, 6 pruned nodes, max_depth=5\u001b[0m\n",
      "\u001b[31m[51]#011train-error:0.139467#011validation-error:0.1693\u001b[0m\n",
      "\u001b[31m[13:08:37] src/tree/updater_prune.cc:74: tree pruning end, 1 roots, 18 extra nodes, 12 pruned nodes, max_depth=5\u001b[0m\n",
      "\u001b[31m[52]#011train-error:0.1384#011validation-error:0.1689\u001b[0m\n",
      "\u001b[31m[13:08:39] src/tree/updater_prune.cc:74: tree pruning end, 1 roots, 22 extra nodes, 2 pruned nodes, max_depth=5\u001b[0m\n",
      "\u001b[31m[53]#011train-error:0.1372#011validation-error:0.1674\u001b[0m\n",
      "\u001b[31m[13:08:40] src/tree/updater_prune.cc:74: tree pruning end, 1 roots, 22 extra nodes, 12 pruned nodes, max_depth=5\u001b[0m\n",
      "\u001b[31m[54]#011train-error:0.136667#011validation-error:0.1669\u001b[0m\n",
      "\u001b[31m[13:08:41] src/tree/updater_prune.cc:74: tree pruning end, 1 roots, 22 extra nodes, 4 pruned nodes, max_depth=5\u001b[0m\n",
      "\u001b[31m[55]#011train-error:0.135933#011validation-error:0.1679\u001b[0m\n",
      "\u001b[31m[13:08:42] src/tree/updater_prune.cc:74: tree pruning end, 1 roots, 26 extra nodes, 6 pruned nodes, max_depth=5\u001b[0m\n",
      "\u001b[31m[56]#011train-error:0.1344#011validation-error:0.1649\u001b[0m\n",
      "\u001b[31m[13:08:44] src/tree/updater_prune.cc:74: tree pruning end, 1 roots, 16 extra nodes, 10 pruned nodes, max_depth=5\u001b[0m\n",
      "\u001b[31m[57]#011train-error:0.134267#011validation-error:0.1639\u001b[0m\n",
      "\u001b[31m[13:08:45] src/tree/updater_prune.cc:74: tree pruning end, 1 roots, 22 extra nodes, 16 pruned nodes, max_depth=5\u001b[0m\n",
      "\u001b[31m[58]#011train-error:0.1314#011validation-error:0.1643\u001b[0m\n",
      "\u001b[31m[13:08:46] src/tree/updater_prune.cc:74: tree pruning end, 1 roots, 42 extra nodes, 8 pruned nodes, max_depth=5\u001b[0m\n",
      "\u001b[31m[59]#011train-error:0.129933#011validation-error:0.1639\u001b[0m\n",
      "\u001b[31m[13:08:47] src/tree/updater_prune.cc:74: tree pruning end, 1 roots, 20 extra nodes, 14 pruned nodes, max_depth=5\u001b[0m\n",
      "\u001b[31m[60]#011train-error:0.1296#011validation-error:0.1634\u001b[0m\n",
      "\u001b[31m[13:08:49] src/tree/updater_prune.cc:74: tree pruning end, 1 roots, 26 extra nodes, 10 pruned nodes, max_depth=5\u001b[0m\n",
      "\u001b[31m[61]#011train-error:0.128533#011validation-error:0.1628\u001b[0m\n",
      "\u001b[31m[13:08:50] src/tree/updater_prune.cc:74: tree pruning end, 1 roots, 22 extra nodes, 6 pruned nodes, max_depth=5\u001b[0m\n",
      "\u001b[31m[62]#011train-error:0.127733#011validation-error:0.1616\u001b[0m\n",
      "\u001b[31m[13:08:51] src/tree/updater_prune.cc:74: tree pruning end, 1 roots, 18 extra nodes, 16 pruned nodes, max_depth=5\u001b[0m\n",
      "\u001b[31m[63]#011train-error:0.126533#011validation-error:0.1615\u001b[0m\n",
      "\u001b[31m[13:08:52] src/tree/updater_prune.cc:74: tree pruning end, 1 roots, 30 extra nodes, 6 pruned nodes, max_depth=5\u001b[0m\n",
      "\u001b[31m[64]#011train-error:0.1254#011validation-error:0.1603\u001b[0m\n",
      "\u001b[31m[13:08:54] src/tree/updater_prune.cc:74: tree pruning end, 1 roots, 38 extra nodes, 0 pruned nodes, max_depth=5\u001b[0m\n",
      "\u001b[31m[65]#011train-error:0.124667#011validation-error:0.1605\u001b[0m\n",
      "\u001b[31m[13:08:55] src/tree/updater_prune.cc:74: tree pruning end, 1 roots, 28 extra nodes, 6 pruned nodes, max_depth=5\u001b[0m\n",
      "\u001b[31m[66]#011train-error:0.1222#011validation-error:0.1595\u001b[0m\n",
      "\u001b[31m[13:08:56] src/tree/updater_prune.cc:74: tree pruning end, 1 roots, 30 extra nodes, 14 pruned nodes, max_depth=5\u001b[0m\n",
      "\u001b[31m[67]#011train-error:0.121667#011validation-error:0.1586\u001b[0m\n",
      "\u001b[31m[13:08:57] src/tree/updater_prune.cc:74: tree pruning end, 1 roots, 16 extra nodes, 8 pruned nodes, max_depth=5\u001b[0m\n",
      "\u001b[31m[68]#011train-error:0.121#011validation-error:0.1576\u001b[0m\n",
      "\u001b[31m[13:08:59] src/tree/updater_prune.cc:74: tree pruning end, 1 roots, 18 extra nodes, 8 pruned nodes, max_depth=5\u001b[0m\n",
      "\u001b[31m[69]#011train-error:0.120867#011validation-error:0.1574\u001b[0m\n",
      "\u001b[31m[13:09:00] src/tree/updater_prune.cc:74: tree pruning end, 1 roots, 16 extra nodes, 10 pruned nodes, max_depth=5\u001b[0m\n",
      "\u001b[31m[70]#011train-error:0.120133#011validation-error:0.1572\u001b[0m\n",
      "\u001b[31m[13:09:01] src/tree/updater_prune.cc:74: tree pruning end, 1 roots, 14 extra nodes, 8 pruned nodes, max_depth=5\u001b[0m\n",
      "\u001b[31m[71]#011train-error:0.119933#011validation-error:0.1559\u001b[0m\n",
      "\u001b[31m[13:09:02] src/tree/updater_prune.cc:74: tree pruning end, 1 roots, 14 extra nodes, 2 pruned nodes, max_depth=5\u001b[0m\n",
      "\u001b[31m[72]#011train-error:0.1194#011validation-error:0.1555\u001b[0m\n",
      "\u001b[31m[13:09:04] src/tree/updater_prune.cc:74: tree pruning end, 1 roots, 12 extra nodes, 6 pruned nodes, max_depth=5\u001b[0m\n",
      "\u001b[31m[73]#011train-error:0.1188#011validation-error:0.1544\u001b[0m\n",
      "\u001b[31m[13:09:05] src/tree/updater_prune.cc:74: tree pruning end, 1 roots, 32 extra nodes, 8 pruned nodes, max_depth=5\u001b[0m\n",
      "\u001b[31m[74]#011train-error:0.116333#011validation-error:0.1542\u001b[0m\n",
      "\u001b[31m[13:09:06] src/tree/updater_prune.cc:74: tree pruning end, 1 roots, 18 extra nodes, 14 pruned nodes, max_depth=5\u001b[0m\n",
      "\u001b[31m[75]#011train-error:0.116333#011validation-error:0.1544\u001b[0m\n",
      "\u001b[31m[13:09:07] src/tree/updater_prune.cc:74: tree pruning end, 1 roots, 12 extra nodes, 8 pruned nodes, max_depth=5\u001b[0m\n",
      "\u001b[31m[76]#011train-error:0.1158#011validation-error:0.1538\u001b[0m\n",
      "\u001b[31m[13:09:09] src/tree/updater_prune.cc:74: tree pruning end, 1 roots, 16 extra nodes, 4 pruned nodes, max_depth=5\u001b[0m\n",
      "\u001b[31m[77]#011train-error:0.116333#011validation-error:0.1548\u001b[0m\n",
      "\u001b[31m[13:09:10] src/tree/updater_prune.cc:74: tree pruning end, 1 roots, 28 extra nodes, 4 pruned nodes, max_depth=5\u001b[0m\n",
      "\u001b[31m[78]#011train-error:0.114133#011validation-error:0.1533\u001b[0m\n",
      "\u001b[31m[13:09:11] src/tree/updater_prune.cc:74: tree pruning end, 1 roots, 18 extra nodes, 8 pruned nodes, max_depth=5\u001b[0m\n",
      "\u001b[31m[79]#011train-error:0.113533#011validation-error:0.1533\u001b[0m\n",
      "\u001b[31m[13:09:13] src/tree/updater_prune.cc:74: tree pruning end, 1 roots, 30 extra nodes, 12 pruned nodes, max_depth=5\u001b[0m\n",
      "\u001b[31m[80]#011train-error:0.112467#011validation-error:0.1545\u001b[0m\n",
      "\u001b[31m[13:09:14] src/tree/updater_prune.cc:74: tree pruning end, 1 roots, 14 extra nodes, 12 pruned nodes, max_depth=5\u001b[0m\n",
      "\u001b[31m[81]#011train-error:0.112533#011validation-error:0.1548\u001b[0m\n",
      "\u001b[31m[13:09:15] src/tree/updater_prune.cc:74: tree pruning end, 1 roots, 16 extra nodes, 14 pruned nodes, max_depth=5\u001b[0m\n",
      "\u001b[31m[82]#011train-error:0.1118#011validation-error:0.1528\u001b[0m\n",
      "\u001b[31m[13:09:16] src/tree/updater_prune.cc:74: tree pruning end, 1 roots, 32 extra nodes, 8 pruned nodes, max_depth=5\u001b[0m\n",
      "\u001b[31m[83]#011train-error:0.1108#011validation-error:0.1519\u001b[0m\n",
      "\u001b[31m[13:09:18] src/tree/updater_prune.cc:74: tree pruning end, 1 roots, 34 extra nodes, 0 pruned nodes, max_depth=5\u001b[0m\n",
      "\u001b[31m[84]#011train-error:0.109933#011validation-error:0.1537\u001b[0m\n",
      "\u001b[31m[13:09:19] src/tree/updater_prune.cc:74: tree pruning end, 1 roots, 12 extra nodes, 10 pruned nodes, max_depth=5\u001b[0m\n",
      "\u001b[31m[85]#011train-error:0.109867#011validation-error:0.1532\u001b[0m\n",
      "\u001b[31m[13:09:20] src/tree/updater_prune.cc:74: tree pruning end, 1 roots, 22 extra nodes, 10 pruned nodes, max_depth=5\u001b[0m\n",
      "\u001b[31m[86]#011train-error:0.110333#011validation-error:0.1525\u001b[0m\n",
      "\u001b[31m[13:09:21] src/tree/updater_prune.cc:74: tree pruning end, 1 roots, 16 extra nodes, 8 pruned nodes, max_depth=5\u001b[0m\n",
      "\u001b[31m[87]#011train-error:0.109933#011validation-error:0.1524\u001b[0m\n"
     ]
    },
    {
     "name": "stdout",
     "output_type": "stream",
     "text": [
      "\u001b[31m[13:09:23] src/tree/updater_prune.cc:74: tree pruning end, 1 roots, 22 extra nodes, 12 pruned nodes, max_depth=5\u001b[0m\n",
      "\u001b[31m[88]#011train-error:0.1096#011validation-error:0.1515\u001b[0m\n",
      "\u001b[31m[13:09:24] src/tree/updater_prune.cc:74: tree pruning end, 1 roots, 22 extra nodes, 2 pruned nodes, max_depth=5\u001b[0m\n",
      "\u001b[31m[89]#011train-error:0.108533#011validation-error:0.1513\u001b[0m\n",
      "\u001b[31m[13:09:25] src/tree/updater_prune.cc:74: tree pruning end, 1 roots, 16 extra nodes, 12 pruned nodes, max_depth=5\u001b[0m\n",
      "\u001b[31m[90]#011train-error:0.1082#011validation-error:0.1505\u001b[0m\n",
      "\u001b[31m[13:09:26] src/tree/updater_prune.cc:74: tree pruning end, 1 roots, 36 extra nodes, 10 pruned nodes, max_depth=5\u001b[0m\n",
      "\u001b[31m[91]#011train-error:0.1072#011validation-error:0.1506\u001b[0m\n",
      "\u001b[31m[13:09:28] src/tree/updater_prune.cc:74: tree pruning end, 1 roots, 24 extra nodes, 6 pruned nodes, max_depth=5\u001b[0m\n",
      "\u001b[31m[92]#011train-error:0.106133#011validation-error:0.151\u001b[0m\n",
      "\u001b[31m[13:09:29] src/tree/updater_prune.cc:74: tree pruning end, 1 roots, 14 extra nodes, 8 pruned nodes, max_depth=5\u001b[0m\n",
      "\u001b[31m[93]#011train-error:0.1056#011validation-error:0.1503\u001b[0m\n",
      "\u001b[31m[13:09:30] src/tree/updater_prune.cc:74: tree pruning end, 1 roots, 16 extra nodes, 12 pruned nodes, max_depth=5\u001b[0m\n",
      "\u001b[31m[94]#011train-error:0.105267#011validation-error:0.1491\u001b[0m\n",
      "\u001b[31m[13:09:31] src/tree/updater_prune.cc:74: tree pruning end, 1 roots, 16 extra nodes, 2 pruned nodes, max_depth=5\u001b[0m\n",
      "\u001b[31m[95]#011train-error:0.1048#011validation-error:0.1489\u001b[0m\n",
      "\u001b[31m[13:09:33] src/tree/updater_prune.cc:74: tree pruning end, 1 roots, 16 extra nodes, 6 pruned nodes, max_depth=5\u001b[0m\n",
      "\u001b[31m[96]#011train-error:0.104467#011validation-error:0.1484\u001b[0m\n",
      "\u001b[31m[13:09:34] src/tree/updater_prune.cc:74: tree pruning end, 1 roots, 24 extra nodes, 8 pruned nodes, max_depth=5\u001b[0m\n",
      "\u001b[31m[97]#011train-error:0.103733#011validation-error:0.1468\u001b[0m\n",
      "\u001b[31m[13:09:35] src/tree/updater_prune.cc:74: tree pruning end, 1 roots, 12 extra nodes, 2 pruned nodes, max_depth=5\u001b[0m\n",
      "\u001b[31m[98]#011train-error:0.103333#011validation-error:0.1477\u001b[0m\n",
      "\u001b[31m[13:09:36] src/tree/updater_prune.cc:74: tree pruning end, 1 roots, 12 extra nodes, 8 pruned nodes, max_depth=5\u001b[0m\n",
      "\u001b[31m[99]#011train-error:0.1024#011validation-error:0.148\u001b[0m\n",
      "\u001b[31m[13:09:38] src/tree/updater_prune.cc:74: tree pruning end, 1 roots, 16 extra nodes, 8 pruned nodes, max_depth=5\u001b[0m\n",
      "\u001b[31m[100]#011train-error:0.102467#011validation-error:0.1477\u001b[0m\n",
      "\u001b[31m[13:09:39] src/tree/updater_prune.cc:74: tree pruning end, 1 roots, 20 extra nodes, 8 pruned nodes, max_depth=5\u001b[0m\n",
      "\u001b[31m[101]#011train-error:0.100933#011validation-error:0.1465\u001b[0m\n",
      "\u001b[31m[13:09:40] src/tree/updater_prune.cc:74: tree pruning end, 1 roots, 12 extra nodes, 2 pruned nodes, max_depth=5\u001b[0m\n",
      "\u001b[31m[102]#011train-error:0.101133#011validation-error:0.147\u001b[0m\n",
      "\u001b[31m[13:09:42] src/tree/updater_prune.cc:74: tree pruning end, 1 roots, 30 extra nodes, 10 pruned nodes, max_depth=5\u001b[0m\n",
      "\u001b[31m[103]#011train-error:0.101067#011validation-error:0.1485\u001b[0m\n",
      "\u001b[31m[13:09:43] src/tree/updater_prune.cc:74: tree pruning end, 1 roots, 26 extra nodes, 10 pruned nodes, max_depth=5\u001b[0m\n",
      "\u001b[31m[104]#011train-error:0.100933#011validation-error:0.1479\u001b[0m\n",
      "\u001b[31m[13:09:44] src/tree/updater_prune.cc:74: tree pruning end, 1 roots, 28 extra nodes, 12 pruned nodes, max_depth=5\u001b[0m\n",
      "\u001b[31m[105]#011train-error:0.0992#011validation-error:0.1474\u001b[0m\n",
      "\u001b[31m[13:09:45] src/tree/updater_prune.cc:74: tree pruning end, 1 roots, 20 extra nodes, 6 pruned nodes, max_depth=5\u001b[0m\n",
      "\u001b[31m[106]#011train-error:0.098533#011validation-error:0.1472\u001b[0m\n",
      "\u001b[31m[13:09:47] src/tree/updater_prune.cc:74: tree pruning end, 1 roots, 24 extra nodes, 10 pruned nodes, max_depth=5\u001b[0m\n",
      "\u001b[31m[107]#011train-error:0.099#011validation-error:0.1469\u001b[0m\n",
      "\u001b[31m[13:09:48] src/tree/updater_prune.cc:74: tree pruning end, 1 roots, 18 extra nodes, 6 pruned nodes, max_depth=5\u001b[0m\n",
      "\u001b[31m[108]#011train-error:0.0984#011validation-error:0.1448\u001b[0m\n",
      "\u001b[31m[13:09:49] src/tree/updater_prune.cc:74: tree pruning end, 1 roots, 10 extra nodes, 6 pruned nodes, max_depth=5\u001b[0m\n",
      "\u001b[31m[109]#011train-error:0.098267#011validation-error:0.145\u001b[0m\n",
      "\u001b[31m[13:09:50] src/tree/updater_prune.cc:74: tree pruning end, 1 roots, 14 extra nodes, 10 pruned nodes, max_depth=5\u001b[0m\n",
      "\u001b[31m[110]#011train-error:0.0982#011validation-error:0.1452\u001b[0m\n",
      "\u001b[31m[13:09:52] src/tree/updater_prune.cc:74: tree pruning end, 1 roots, 30 extra nodes, 12 pruned nodes, max_depth=5\u001b[0m\n",
      "\u001b[31m[111]#011train-error:0.097867#011validation-error:0.1448\u001b[0m\n",
      "\n",
      "2019-08-01 13:10:01 Uploading - Uploading generated training model\u001b[31m[13:09:53] src/tree/updater_prune.cc:74: tree pruning end, 1 roots, 18 extra nodes, 10 pruned nodes, max_depth=5\u001b[0m\n",
      "\u001b[31m[112]#011train-error:0.0976#011validation-error:0.1458\u001b[0m\n",
      "\u001b[31m[13:09:54] src/tree/updater_prune.cc:74: tree pruning end, 1 roots, 14 extra nodes, 4 pruned nodes, max_depth=5\u001b[0m\n",
      "\u001b[31m[113]#011train-error:0.097333#011validation-error:0.1458\u001b[0m\n",
      "\u001b[31m[13:09:55] src/tree/updater_prune.cc:74: tree pruning end, 1 roots, 12 extra nodes, 8 pruned nodes, max_depth=5\u001b[0m\n",
      "\u001b[31m[114]#011train-error:0.097133#011validation-error:0.1455\u001b[0m\n",
      "\u001b[31m[13:09:57] src/tree/updater_prune.cc:74: tree pruning end, 1 roots, 12 extra nodes, 6 pruned nodes, max_depth=5\u001b[0m\n",
      "\u001b[31m[115]#011train-error:0.095867#011validation-error:0.1462\u001b[0m\n",
      "\u001b[31m[13:09:58] src/tree/updater_prune.cc:74: tree pruning end, 1 roots, 16 extra nodes, 16 pruned nodes, max_depth=5\u001b[0m\n",
      "\u001b[31m[116]#011train-error:0.0956#011validation-error:0.1453\u001b[0m\n",
      "\u001b[31m[13:09:59] src/tree/updater_prune.cc:74: tree pruning end, 1 roots, 24 extra nodes, 12 pruned nodes, max_depth=5\u001b[0m\n",
      "\u001b[31m[117]#011train-error:0.095467#011validation-error:0.1453\u001b[0m\n",
      "\u001b[31m[13:10:01] src/tree/updater_prune.cc:74: tree pruning end, 1 roots, 24 extra nodes, 12 pruned nodes, max_depth=5\u001b[0m\n",
      "\u001b[31m[118]#011train-error:0.0942#011validation-error:0.1456\u001b[0m\n",
      "\u001b[31mStopping. Best iteration:\u001b[0m\n",
      "\u001b[31m[108]#011train-error:0.0984#011validation-error:0.1448\n",
      "\u001b[0m\n",
      "\n",
      "2019-08-01 13:10:08 Completed - Training job completed\n",
      "Billable seconds: 213\n"
     ]
    }
   ],
   "source": [
    "xgb.fit({'train': s3_input_train, 'validation': s3_input_validation})"
   ]
  },
  {
   "cell_type": "markdown",
   "metadata": {},
   "source": [
    "## Step 5: Testing the model\n",
    "\n",
    "Now that we've fit our XGBoost model, it's time to see how well it performs. To do this we will use SageMakers Batch Transform functionality. Batch Transform is a convenient way to perform inference on a large dataset in a way that is not realtime. That is, we don't necessarily need to use our model's results immediately and instead we can perform inference on a large number of samples. An example of this in industry might be performing an end of month report. This method of inference can also be useful to us as it means that we can perform inference on our entire test set. \n",
    "\n",
    "To perform a Batch Transformation we need to first create a transformer objects from our trained estimator object."
   ]
  },
  {
   "cell_type": "code",
   "execution_count": 28,
   "metadata": {},
   "outputs": [
    {
     "data": {
      "text/plain": [
       "<sagemaker.transformer.Transformer at 0x7f5c9416f550>"
      ]
     },
     "execution_count": 28,
     "metadata": {},
     "output_type": "execute_result"
    }
   ],
   "source": [
    "xgb_transformer = xgb.transformer(instance_count = 1, instance_type = 'ml.m4.xlarge')\n",
    "xgb_transformer"
   ]
  },
  {
   "cell_type": "markdown",
   "metadata": {},
   "source": [
    "Next we actually perform the transform job. When doing so we need to make sure to specify the type of data we are sending so that it is serialized correctly in the background. In our case we are providing our model with csv data so we specify `text/csv`. Also, if the test data that we have provided is too large to process all at once then we need to specify how the data file should be split up. Since each line is a single entry in our data set we tell SageMaker that it can split the input on each line."
   ]
  },
  {
   "cell_type": "code",
   "execution_count": 29,
   "metadata": {},
   "outputs": [],
   "source": [
    "xgb_transformer.transform(test_location, content_type='text/csv', split_type='Line')"
   ]
  },
  {
   "cell_type": "markdown",
   "metadata": {},
   "source": [
    "Currently the transform job is running but it is doing so in the background. Since we wish to wait until the transform job is done and we would like a bit of feedback we can run the `wait()` method."
   ]
  },
  {
   "cell_type": "code",
   "execution_count": 30,
   "metadata": {},
   "outputs": [
    {
     "name": "stdout",
     "output_type": "stream",
     "text": [
      "................................................!\n"
     ]
    }
   ],
   "source": [
    "xgb_transformer.wait()"
   ]
  },
  {
   "cell_type": "markdown",
   "metadata": {},
   "source": [
    "Now the transform job has executed and the result, the estimated sentiment of each review, has been saved on S3. Since we would rather work on this file locally we can perform a bit of notebook magic to copy the file to the `data_dir`."
   ]
  },
  {
   "cell_type": "code",
   "execution_count": 31,
   "metadata": {},
   "outputs": [
    {
     "name": "stdout",
     "output_type": "stream",
     "text": [
      "Completed 256.0 KiB/368.4 KiB (451.3 KiB/s) with 1 file(s) remaining\r",
      "Completed 368.4 KiB/368.4 KiB (646.7 KiB/s) with 1 file(s) remaining\r",
      "download: s3://sagemaker-us-west-2-394610559328/xgboost-2019-08-01-13-10-49-143/test.csv.out to ../data/sentiment_web_app/test.csv.out\r\n"
     ]
    }
   ],
   "source": [
    "!aws s3 cp --recursive $xgb_transformer.output_path $data_dir"
   ]
  },
  {
   "cell_type": "markdown",
   "metadata": {},
   "source": [
    "The last step is now to read in the output from our model, convert the output to something a little more usable, in this case we want the sentiment to be either `1` (positive) or `0` (negative), and then compare to the ground truth labels."
   ]
  },
  {
   "cell_type": "code",
   "execution_count": 47,
   "metadata": {},
   "outputs": [],
   "source": [
    "predictions = pd.read_csv(os.path.join(data_dir, 'test.csv.out'), header=None)"
   ]
  },
  {
   "cell_type": "code",
   "execution_count": 48,
   "metadata": {},
   "outputs": [
    {
     "data": {
      "text/html": [
       "<div>\n",
       "<style scoped>\n",
       "    .dataframe tbody tr th:only-of-type {\n",
       "        vertical-align: middle;\n",
       "    }\n",
       "\n",
       "    .dataframe tbody tr th {\n",
       "        vertical-align: top;\n",
       "    }\n",
       "\n",
       "    .dataframe thead th {\n",
       "        text-align: right;\n",
       "    }\n",
       "</style>\n",
       "<table border=\"1\" class=\"dataframe\">\n",
       "  <thead>\n",
       "    <tr style=\"text-align: right;\">\n",
       "      <th></th>\n",
       "      <th>0</th>\n",
       "    </tr>\n",
       "  </thead>\n",
       "  <tbody>\n",
       "    <tr>\n",
       "      <th>0</th>\n",
       "      <td>0.824120</td>\n",
       "    </tr>\n",
       "    <tr>\n",
       "      <th>1</th>\n",
       "      <td>0.635651</td>\n",
       "    </tr>\n",
       "    <tr>\n",
       "      <th>2</th>\n",
       "      <td>0.736322</td>\n",
       "    </tr>\n",
       "    <tr>\n",
       "      <th>3</th>\n",
       "      <td>0.884174</td>\n",
       "    </tr>\n",
       "    <tr>\n",
       "      <th>4</th>\n",
       "      <td>0.996116</td>\n",
       "    </tr>\n",
       "    <tr>\n",
       "      <th>5</th>\n",
       "      <td>0.967303</td>\n",
       "    </tr>\n",
       "    <tr>\n",
       "      <th>6</th>\n",
       "      <td>0.014209</td>\n",
       "    </tr>\n",
       "    <tr>\n",
       "      <th>7</th>\n",
       "      <td>0.246748</td>\n",
       "    </tr>\n",
       "    <tr>\n",
       "      <th>8</th>\n",
       "      <td>0.035842</td>\n",
       "    </tr>\n",
       "    <tr>\n",
       "      <th>9</th>\n",
       "      <td>0.506582</td>\n",
       "    </tr>\n",
       "  </tbody>\n",
       "</table>\n",
       "</div>"
      ],
      "text/plain": [
       "          0\n",
       "0  0.824120\n",
       "1  0.635651\n",
       "2  0.736322\n",
       "3  0.884174\n",
       "4  0.996116\n",
       "5  0.967303\n",
       "6  0.014209\n",
       "7  0.246748\n",
       "8  0.035842\n",
       "9  0.506582"
      ]
     },
     "execution_count": 48,
     "metadata": {},
     "output_type": "execute_result"
    }
   ],
   "source": [
    "predictions[:10]"
   ]
  },
  {
   "cell_type": "code",
   "execution_count": 49,
   "metadata": {},
   "outputs": [
    {
     "data": {
      "text/plain": [
       "[1.0, 1.0, 1.0, 1.0, 1.0, 1.0, 0.0, 0.0, 0.0, 1.0]"
      ]
     },
     "execution_count": 49,
     "metadata": {},
     "output_type": "execute_result"
    }
   ],
   "source": [
    "predictions = [round(num) for num in predictions.squeeze().values]\n",
    "predictions[:10]"
   ]
  },
  {
   "cell_type": "code",
   "execution_count": 50,
   "metadata": {},
   "outputs": [
    {
     "data": {
      "text/plain": [
       "0.84856"
      ]
     },
     "execution_count": 50,
     "metadata": {},
     "output_type": "execute_result"
    }
   ],
   "source": [
    "from sklearn.metrics import accuracy_score\n",
    "accuracy_score(test_y, predictions)"
   ]
  },
  {
   "cell_type": "markdown",
   "metadata": {},
   "source": [
    "## Step 6: Deploying the model\n",
    "\n",
    "Once we construct and fit our model, SageMaker stores the resulting model artifacts and we can use those to deploy an endpoint (inference code). To see this, look in the SageMaker console and you should see that a model has been created along with a link to the S3 location where the model artifacts have been stored.\n",
    "\n",
    "Deploying an endpoint is a lot like training the model with a few important differences. The first is that a deployed model doesn't change the model artifacts, so as you send it various testing instances the model won't change. Another difference is that since we aren't performing a fixed computation, as we were in the training step or while performing a batch transform, the compute instance that gets started stays running until we tell it to stop. This is important to note as if we forget and leave it running we will be charged the entire time.\n",
    "\n",
    "In other words **If you are no longer using a deployed endpoint, shut it down!**"
   ]
  },
  {
   "cell_type": "code",
   "execution_count": 51,
   "metadata": {},
   "outputs": [
    {
     "name": "stderr",
     "output_type": "stream",
     "text": [
      "Using already existing model: xgboost-2019-08-01-13-04-05-107\n"
     ]
    },
    {
     "name": "stdout",
     "output_type": "stream",
     "text": [
      "---------------------------------------------------------------------------------------!"
     ]
    }
   ],
   "source": [
    "xgb_predictor = xgb.deploy(initial_instance_count = 1, instance_type = 'ml.m4.xlarge')"
   ]
  },
  {
   "cell_type": "markdown",
   "metadata": {},
   "source": [
    "### Testing the model (again)\n",
    "\n",
    "Now that we have deployed our endpoint, we can send the testing data to it and get back the inference results. We already did this earlier using the batch transform functionality of SageMaker, however, we will test our model again using the newly deployed endpoint so that we can make sure that it works properly and to get a bit of a feel for how the endpoint works.\n",
    "\n",
    "When using the created endpoint it is important to know that we are limited in the amount of information we can send in each call so we need to break the testing data up into chunks and then send each chunk. Also, we need to serialize our data before we send it to the endpoint to ensure that our data is transmitted properly. Fortunately, SageMaker can do the serialization part for us provided we tell it the format of our data."
   ]
  },
  {
   "cell_type": "code",
   "execution_count": 52,
   "metadata": {},
   "outputs": [],
   "source": [
    "from sagemaker.predictor import csv_serializer\n",
    "\n",
    "# We need to tell the endpoint what format the data we are sending is in so that SageMaker can perform the serialization.\n",
    "xgb_predictor.content_type = 'text/csv'\n",
    "xgb_predictor.serializer = csv_serializer"
   ]
  },
  {
   "cell_type": "code",
   "execution_count": 53,
   "metadata": {},
   "outputs": [],
   "source": [
    "# We split the data into chunks and send each chunk seperately, accumulating the results.\n",
    "\n",
    "def predict(data, rows=512):\n",
    "    split_array = np.array_split(data, int(data.shape[0] / float(rows) + 1))\n",
    "    predictions = ''\n",
    "    for array in split_array:\n",
    "        predictions = ','.join([predictions, xgb_predictor.predict(array).decode('utf-8')])\n",
    "    \n",
    "    return np.fromstring(predictions[1:], sep=',')"
   ]
  },
  {
   "cell_type": "code",
   "execution_count": 60,
   "metadata": {},
   "outputs": [],
   "source": [
    "test_X = pd.read_csv(os.path.join(data_dir, 'test.csv'), header=None).values\n",
    "\n",
    "predictions = predict(test_X)\n",
    "predictions = [round(num) for num in predictions]"
   ]
  },
  {
   "cell_type": "code",
   "execution_count": 61,
   "metadata": {},
   "outputs": [
    {
     "data": {
      "text/plain": [
       "[1.0, 1.0, 1.0, 1.0, 1.0, 1.0, 0.0, 0.0, 0.0, 1.0]"
      ]
     },
     "execution_count": 61,
     "metadata": {},
     "output_type": "execute_result"
    }
   ],
   "source": [
    "predictions[:10]"
   ]
  },
  {
   "cell_type": "markdown",
   "metadata": {},
   "source": [
    "Lastly, we check to see what the **test accuracy** of our model is."
   ]
  },
  {
   "cell_type": "code",
   "execution_count": 62,
   "metadata": {},
   "outputs": [
    {
     "data": {
      "text/plain": [
       "0.84856"
      ]
     },
     "execution_count": 62,
     "metadata": {},
     "output_type": "execute_result"
    }
   ],
   "source": [
    "from sklearn.metrics import accuracy_score\n",
    "accuracy_score(test_y, predictions)"
   ]
  },
  {
   "cell_type": "markdown",
   "metadata": {},
   "source": [
    "And the results here should agree with the model testing that we did earlier using the batch transform job.\n",
    "\n",
    "### Cleaning up\n",
    "\n",
    "Now that we've determined that deploying our model works as expected, we are going to shut it down. Remember that the longer the endpoint is left running, the greater the cost and since we have a bit more work to do before we are able to use our endpoint with our simple web app, we should shut everything down."
   ]
  },
  {
   "cell_type": "code",
   "execution_count": 63,
   "metadata": {},
   "outputs": [],
   "source": [
    "xgb_predictor.delete_endpoint()"
   ]
  },
  {
   "cell_type": "markdown",
   "metadata": {},
   "source": [
    "## Step 7: Putting our model to work\n",
    "\n",
    "- Goal: Deploy model and access it using a very simple web app\n",
    "- Input: User submitted data (review)\n",
    "- Output: Sentiment\n",
    "\n",
    "As we've mentioned a few times now, our goal is to have our model deployed and then access it using a very simple web app. The intent is for this web app to take some user submitted data (a review), send it off to our endpoint (the model) and then display the result.\n",
    "\n",
    "However, there is a small catch. Currently the only way we can access the endpoint to send it data is using the SageMaker API. We can, if we wish, expose the actual URL that our model's endpoint is receiving data from, however, if we just send it data ourselves we will not get anything in return. This is because the endpoint created by SageMaker requires the entity accessing it have the correct permissions. So, we would need to somehow authenticate our web app with AWS.\n",
    "\n",
    "- Create endpoint which does not require authentication. Proxy for SageMaker endpoint\n",
    "\n",
    "Having a website that authenticates to AWS seems a bit beyond the scope of this lesson so we will opt for an alternative approach. Namely, we will create a new endpoint which does not require authentication and which acts as a proxy for the SageMaker endpoint.\n",
    "\n",
    "As an additional constraint, we will try to avoid doing any data processing in the web app itself. Remember that when we constructed and tested our model we started with a movie review, then we simplified it by removing any html formatting and punctuation, then we constructed a bag of words embedding and the resulting vector is what we sent to our model. All of this needs to be done to our user input as well.\n",
    "\n",
    "Fortunately we can do all of this data processing in the backend, using __Amazon's Lambda service__.\n",
    "\n",
    "<img src=\"Web App Diagram.svg\">\n",
    "\n",
    "The diagram above gives an overview of how the various services will work together. On the far right is the model which we trained above and which will be deployed using SageMaker. On the far left is our web app that collects a user's movie review, sends it off and expects a positive or negative sentiment in return.\n",
    "\n",
    "In the middle is where some of the magic happens. We will construct a Lambda function, which you can think of as a straightforward Python function that can be executed whenever a specified event occurs. This Python function will do the data processing we need to perform on a user submitted review. In addition, we will give this function permission to send and recieve data from a SageMaker endpoint.\n",
    "\n",
    "Lastly, the method we will use to execute the Lambda function is a new endpoint that we will create using API Gateway. This endpoint will be a url that listens for data to be sent to it. Once it gets some data it will pass that data on to the Lambda function and then return whatever the Lambda function returns. Essentially it will act as an interface that lets our web app communicate with the Lambda function.\n",
    "\n",
    "### Processing a single review\n",
    "\n",
    "For now, suppose we are given a movie review by our user in the form of a string, like so:"
   ]
  },
  {
   "cell_type": "code",
   "execution_count": 64,
   "metadata": {},
   "outputs": [],
   "source": [
    "test_review = \"Nothing but a disgusting materialistic pageant of glistening abed remote control greed zombies, totally devoid of any heart or heat. A romantic comedy that has zero romantic chemestry and zero laughs!\""
   ]
  },
  {
   "cell_type": "markdown",
   "metadata": {},
   "source": [
    "How do we go from this string to the bag of words feature vector that is expected by our model?\n",
    "\n",
    "If we recall at the beginning of this notebook, the first step is to remove any unnecessary characters using the `review_to_words` method. Remember that we intentionally did this in a very simplistic way. This is because we are going to have to copy this method to our (eventual) Lambda function (we will go into more detail later) and this means it needs to be rather simplistic."
   ]
  },
  {
   "cell_type": "code",
   "execution_count": 65,
   "metadata": {},
   "outputs": [
    {
     "name": "stdout",
     "output_type": "stream",
     "text": [
      "nothing but a disgusting materialistic pageant of glistening abed remote control greed zombies totally devoid of any heart or heat a romantic comedy that has zero romantic chemestry and zero laughs\n"
     ]
    }
   ],
   "source": [
    "test_words = review_to_words(test_review)\n",
    "print(test_words)"
   ]
  },
  {
   "cell_type": "markdown",
   "metadata": {},
   "source": [
    "Next, we need to construct a bag of words embedding of the `test_words` string. To do this, remember that a bag of words embedding uses a `vocabulary` consisting of the most frequently appearing words in a set of documents. Then, for each word in the vocabulary we record the number of times that word appears in `test_words`. We constructed the `vocabulary` earlier using the training set for our problem so encoding `test_words` is relatively straightforward."
   ]
  },
  {
   "cell_type": "code",
   "execution_count": 66,
   "metadata": {},
   "outputs": [],
   "source": [
    "def bow_encoding(words, vocabulary):\n",
    "    bow = [0] * len(vocabulary) # Start by setting the count for each word in the vocabulary to zero.\n",
    "    for word in words.split():  # For each word in the string\n",
    "        if word in vocabulary:  # If the word is one that occurs in the vocabulary, increase its count.\n",
    "            bow[vocabulary[word]] += 1\n",
    "    return bow"
   ]
  },
  {
   "cell_type": "code",
   "execution_count": 70,
   "metadata": {},
   "outputs": [
    {
     "name": "stdout",
     "output_type": "stream",
     "text": [
      "[0, 0, 0, 0, 0, 0, 0, 0, 0, 0, 0, 0, 0, 0, 0, 0, 0, 0, 0, 0, 0, 0, 0, 0, 0, 0, 0, 0, 0, 0, 0, 0, 0, 0, 0, 0, 0, 0, 0, 0, 0, 0, 0, 0, 0, 0, 0, 0, 0, 0, 0, 0, 0, 0, 0, 0, 0, 0, 0, 0, 0, 0, 0, 0, 0, 0, 0, 0, 0, 0, 0, 0, 0, 0, 0, 0, 0, 0, 0, 0, 0, 0, 0, 0, 0, 0, 0, 0, 0, 0, 0, 0, 0, 0, 0, 0, 0, 0, 0, 0, 0, 0, 0, 0, 0, 0, 0, 0, 0, 0, 0, 0, 0, 0, 0, 0, 0, 0, 0, 0, 0, 0, 0, 0, 0, 0, 0, 0, 0, 0, 0, 0, 0, 0, 0, 0, 0, 0, 0, 0, 0, 0, 0, 0, 0, 0, 0, 0, 0, 0, 0, 0, 0, 0, 0, 0, 0, 0, 0, 0, 0, 0, 0, 0, 0, 0, 0, 0, 0, 0, 0, 0, 0, 0, 0, 0, 0, 0, 0, 0, 0, 0, 0, 0, 0, 0, 0, 0, 0, 0, 0, 0, 0, 0, 0, 0, 0, 0, 0, 0, 0, 0, 0, 0, 0, 0, 0, 0, 0, 0, 0, 0, 0, 0, 0, 0, 0, 0, 0, 0, 0, 0, 0, 0, 0, 0, 1, 0, 0, 0, 0, 0, 0, 0, 0, 0, 0, 0, 0, 0, 0, 0, 0, 0, 0, 0, 0, 0, 0, 0, 0, 0, 0, 0, 0, 0, 1, 0, 0, 0, 0, 0, 0, 0, 0, 0, 0, 0, 0, 0, 0, 0, 0, 0, 0, 0, 0, 0, 0, 0, 0, 0, 0, 0, 0, 0, 0, 0, 0, 0, 0, 0, 0, 0, 0, 0, 0, 0, 0, 0, 0, 0, 0, 0, 0, 0, 0, 0, 0, 0, 0, 0, 0, 0, 0, 0, 0, 0, 0, 0, 0, 0, 0, 0, 0, 0, 0, 0, 0, 0, 0, 0, 0, 0, 0, 0, 0, 0, 0, 0, 0, 0, 0, 0, 0, 0, 0, 0, 0, 0, 0, 0, 0, 0, 0, 0, 0, 0, 0, 0, 0, 0, 0, 0, 0, 0, 0, 0, 0, 0, 0, 0, 0, 0, 0, 0, 0, 0, 0, 0, 0, 0, 0, 0, 0, 0, 0, 0, 0, 0, 0, 0, 0, 0, 0, 0, 0, 0, 0, 0, 0, 0, 0, 0, 0, 0, 0, 0, 0, 0, 0, 0, 0, 0, 0, 0, 0, 0, 0, 0, 0, 0, 0, 0, 0, 0, 0, 0, 0, 0, 0, 0, 0, 0, 0, 0, 0, 0, 0, 0, 0, 0, 0, 0, 0, 0, 0, 0, 0, 0, 0, 0, 0, 0, 0, 0, 0, 0, 0, 0, 0, 0, 0, 0, 0, 0, 0, 0, 0, 0, 0, 0, 0, 0, 0, 0, 0, 0, 0, 0, 0, 0, 0, 0, 0, 0, 0, 0, 0, 0, 0, 0, 0, 0, 0, 0, 0, 0, 0, 0, 0, 0, 0, 0, 0, 0, 0, 0, 0, 0, 0, 0, 0, 0, 0, 0, 0, 0, 0, 0, 0, 0, 0, 0, 0, 0, 0, 0, 0, 0, 0, 0, 0, 0, 0, 0, 0, 0, 0, 0, 0, 0, 0, 0, 0, 0, 0, 0, 0, 0, 0, 0, 0, 0, 0, 0, 0, 0, 0, 0, 0, 0, 0, 0, 0, 0, 0, 0, 0, 0, 0, 0, 0, 0, 0, 0, 0, 0, 0, 0, 0, 0, 0, 0, 0, 0, 0, 0, 0, 0, 0, 0, 0, 0, 0, 0, 0, 0, 0, 0, 0, 0, 0, 0, 0, 0, 0, 0, 0, 0, 0, 0, 0, 0, 0, 0, 0, 0, 0, 0, 0, 0, 0, 0, 0, 0, 0, 0, 0, 0, 0, 0, 0, 0, 0, 0, 1, 0, 0, 0, 0, 0, 0, 0, 0, 0, 0, 0, 0, 0, 0, 0, 0, 0, 0, 0, 0, 0, 0, 0, 0, 0, 0, 0, 0, 0, 0, 0, 0, 0, 0, 0, 0, 0, 0, 0, 0, 0, 0, 0, 0, 0, 0, 0, 0, 0, 0, 0, 0, 0, 0, 0, 0, 0, 0, 0, 0, 0, 0, 0, 0, 0, 0, 0, 0, 0, 0, 0, 0, 0, 0, 0, 0, 0, 0, 0, 0, 0, 0, 0, 0, 0, 0, 0, 0, 0, 0, 0, 0, 0, 0, 0, 0, 0, 0, 0, 0, 0, 0, 0, 0, 0, 0, 0, 0, 0, 0, 0, 0, 0, 0, 0, 0, 0, 0, 0, 0, 0, 0, 0, 0, 0, 0, 0, 0, 0, 0, 0, 0, 0, 0, 0, 0, 0, 0, 0, 0, 0, 0, 0, 0, 0, 0, 0, 0, 0, 0, 0, 0, 0, 0, 0, 0, 0, 0, 0, 0, 0, 0, 0, 0, 0, 0, 0, 0, 0, 0, 0, 0, 0, 0, 0, 0, 0, 0, 0, 0, 0, 0, 0, 0, 0, 0, 0, 0, 0, 0, 0, 0, 0, 0, 0, 0, 0, 0, 0, 0, 0, 0, 0, 0, 0, 0, 0, 0, 0, 0, 0, 0, 0, 0, 0, 0, 0, 0, 0, 0, 0, 0, 0, 0, 0, 0, 0, 0, 0, 0, 0, 0, 0, 0, 0, 0, 0, 0, 0, 0, 0, 0, 0, 0, 0, 0, 0, 0, 0, 0, 0, 0, 0, 1, 0, 0, 0, 0, 0, 0, 0, 0, 0, 0, 0, 0, 0, 0, 0, 0, 0, 0, 0, 0, 0, 0, 0, 0, 0, 0, 0, 0, 0, 0, 0, 0, 0, 0, 0, 0, 0, 0, 0, 0, 0, 0, 0, 0, 0, 0, 0, 0, 0, 0, 0, 0, 0, 0, 0, 0, 0, 0, 0, 0, 0, 0, 0, 0, 0, 0, 0, 0, 0, 0, 0, 0, 0, 0, 0, 0, 0, 0, 0, 0, 0, 0, 0, 0, 0, 0, 1, 0, 0, 0, 0, 0, 0, 0, 0, 0, 0, 0, 0, 0, 0, 0, 0, 0, 0, 0, 0, 0, 0, 0, 0, 0, 0, 0, 0, 0, 0, 0, 0, 0, 0, 0, 0, 0, 0, 0, 0, 0, 0, 0, 0, 0, 0, 0, 0, 0, 0, 0, 0, 0, 0, 0, 0, 0, 0, 0, 0, 0, 0, 0, 0, 0, 0, 0, 0, 0, 0, 0, 0, 0, 0, 0, 0, 0, 0, 0, 0, 0, 0, 0, 0, 0, 0, 0, 0, 0, 0, 0, 0, 0, 0, 0, 0, 0, 0, 0, 0, 0, 0, 0, 0, 0, 0, 0, 0, 0, 0, 0, 0, 0, 0, 0, 0, 0, 0, 0, 0, 0, 0, 0, 0, 0, 0, 0, 0, 0, 0, 0, 0, 0, 0, 0, 0, 0, 0, 0, 0, 0, 0, 0, 0, 0, 0, 0, 0, 0, 0, 0, 0, 0, 0, 0, 0, 0, 0, 0, 0, 0, 0, 0, 0, 0, 0, 0, 0, 0, 0, 0, 0, 0, 0, 0, 0, 0, 0, 0, 0, 0, 0, 0, 0, 0, 0, 0, 0, 0, 0, 0, 0, 0, 0, 0, 0, 0, 0, 0, 0, 0, 0, 0, 0, 0, 0, 0, 0, 0, 0, 0, 0, 0, 0, 0, 0, 0, 0, 0, 0, 0, 0, 0, 0, 0, 0, 0, 0, 0, 0, 0, 0, 0, 0, 0, 0, 0, 0, 0, 0, 0, 0, 0, 0, 0, 0, 0, 0, 0, 0, 0, 0, 1, 0, 0, 0, 0, 0, 0, 0, 0, 0, 0, 0, 0, 0, 0, 0, 0, 0, 0, 0, 0, 0, 0, 0, 0, 0, 0, 0, 0, 0, 0, 0, 0, 0, 0, 0, 0, 0, 0, 0, 0, 0, 0, 0, 0, 0, 0, 0, 0, 0, 0, 0, 0, 0, 0, 0, 1, 0, 0, 0, 0, 0, 0, 0, 0, 0, 0, 0, 0, 0, 0, 0, 0, 0, 0, 0, 0, 0, 0, 0, 0, 0, 0, 0, 0, 0, 0, 0, 0, 0, 0, 0, 0, 0, 0, 0, 0, 0, 0, 0, 0, 0, 0, 0, 0, 0, 0, 0, 0, 0, 0, 0, 0, 0, 0, 0, 0, 0, 0, 0, 0, 0, 0, 0, 0, 0, 0, 0, 0, 0, 0, 0, 0, 0, 0, 0, 0, 0, 0, 0, 0, 0, 0, 0, 0, 0, 0, 0, 0, 0, 0, 0, 0, 0, 0, 0, 0, 0, 0, 0, 0, 0, 0, 0, 0, 0, 0, 0, 0, 0, 0, 0, 0, 0, 0, 0, 0, 0, 0, 0, 0, 0, 0, 0, 0, 0, 0, 0, 0, 0, 0, 0, 0, 0, 0, 0, 0, 0, 0, 0, 0, 0, 0, 0, 0, 0, 0, 0, 0, 0, 0, 0, 0, 0, 0, 0, 0, 0, 0, 0, 0, 0, 0, 0, 0, 0, 0, 0, 0, 0, 0, 0, 0, 0, 0, 0, 0, 0, 0, 0, 0, 0, 0, 0, 0, 0, 0, 0, 0, 0, 0, 0, 0, 0, 0, 0, 0, 0, 0, 0, 0, 0, 0, 0, 0, 0, 0, 0, 0, 0, 0, 0, 0, 0, 0, 0, 0, 0, 0, 0, 0, 0, 0, 0, 0, 0, 0, 0, 0, 0, 0, 0, 0, 0, 0, 0, 0, 0, 0, 0, 0, 0, 0, 0, 0, 0, 0, 0, 0, 0, 0, 0, 0, 0, 0, 0, 0, 0, 0, 0, 0, 0, 0, 0, 0, 0, 0, 0, 0, 0, 0, 0, 0, 0, 0, 0, 0, 0, 0, 0, 0, 0, 0, 0, 0, 0, 0, 0, 0, 0, 0, 0, 0, 0, 0, 0, 0, 0, 0, 0, 0, 0, 0, 0, 0, 0, 0, 0, 0, 0, 0, 0, 0, 0, 0, 0, 0, 0, 0, 0, 0, 0, 0, 0, 0, 0, 0, 0, 0, 0, 0, 0, 0, 0, 0, 0, 0, 0, 0, 0, 0, 0, 0, 0, 0, 0, 0, 0, 0, 0, 0, 0, 0, 0, 0, 0, 0, 0, 0, 0, 0, 0, 0, 0, 0, 0, 0, 0, 0, 0, 0, 0, 0, 0, 0, 0, 0, 0, 0, 0, 0, 0, 0, 0, 0, 0, 0, 0, 0, 0, 0, 0, 0, 0, 0, 0, 0, 0, 0, 0, 0, 0, 0, 0, 0, 0, 0, 0, 0, 0, 0, 0, 0, 0, 0, 0, 0, 0, 0, 0, 0, 0, 0, 0, 0, 0, 0, 0, 0, 0, 0, 0, 0, 0, 0, 0, 0, 0, 0, 0, 0, 0, 0, 0, 0, 0, 0, 0, 0, 0, 0, 0, 0, 0, 0, 0, 0, 0, 0, 0, 0, 0, 0, 0, 0, 0, 0, 0, 0, 0, 0, 0, 0, 0, 0, 0, 0, 0, 0, 0, 0, 0, 0, 0, 0, 0, 0, 0, 0, 0, 0, 0, 0, 0, 0, 0, 0, 0, 0, 0, 0, 0, 0, 0, 0, 0, 0, 0, 0, 0, 0, 0, 0, 0, 0, 0, 0, 0, 0, 0, 0, 0, 0, 0, 0, 0, 0, 0, 0, 0, 0, 0, 0, 0, 0, 0, 0, 0, 0, 0, 0, 0, 0, 0, 0, 0, 0, 0, 0, 0, 0, 0, 0, 0, 0, 0, 0, 0, 0, 0, 0, 0, 0, 0, 0, 0, 0, 0, 0, 0, 0, 0, 0, 0, 0, 0, 0, 0, 0, 0, 0, 0, 0, 0, 0, 0, 0, 0, 0, 0, 0, 0, 0, 0, 0, 0, 0, 0, 0, 0, 0, 0, 0, 0, 0, 0, 0, 0, 0, 0, 0, 0, 0, 0, 0, 0, 0, 0, 0, 0, 0, 0, 0, 0, 0, 0, 0, 0, 0, 0, 0, 0, 0, 0, 0, 0, 0, 0, 0, 0, 0, 0, 0, 0, 0, 0, 0, 0, 0, 0, 0, 0, 0, 0, 0, 0, 0, 0, 0, 0, 0, 0, 0, 0, 0, 0, 0, 0, 0, 0, 0, 0, 0, 0, 0, 0, 0, 0, 1, 0, 0, 0, 0, 0, 0, 0, 0, 0, 0, 0, 0, 0, 0, 0, 0, 0, 0, 0, 0, 0, 0, 0, 0, 0, 0, 0, 0, 0, 0, 0, 0, 0, 0, 0, 0, 0, 0, 0, 0, 0, 0, 0, 0, 0, 0, 0, 0, 0, 0, 0, 0, 0, 0, 0, 0, 0, 0, 0, 0, 0, 0, 0, 0, 0, 0, 0, 0, 0, 0, 0, 0, 0, 0, 1, 0, 0, 0, 0, 0, 0, 0, 0, 0, 0, 0, 0, 0, 0, 0, 0, 0, 0, 0, 0, 1, 0, 0, 1, 0, 0, 0, 0, 0, 0, 0, 0, 0, 0, 0, 0, 0, 0, 0, 0, 0, 0, 0, 0, 0, 0, 0, 0, 0, 0, 0, 0, 0, 0, 0, 0, 0, 0, 0, 0, 0, 0, 0, 0, 0, 0, 0, 0, 0, 0, 0, 0, 0, 0, 0, 0, 0, 0, 0, 0, 0, 0, 0, 0, 0, 0, 0, 0, 0, 0, 0, 0, 0, 0, 0, 0, 0, 0, 0, 0, 0, 0, 0, 0, 0, 0, 0, 0, 0, 0, 0, 0, 0, 0, 0, 0, 0, 0, 0, 0, 0, 0, 0, 0, 0, 0, 0, 0, 0, 0, 0, 0, 0, 0, 0, 0, 0, 0, 0, 0, 0, 0, 0, 0, 0, 0, 0, 0, 0, 0, 0, 0, 0, 0, 0, 0, 0, 0, 0, 0, 0, 0, 0, 0, 0, 0, 0, 0, 0, 0, 0, 0, 0, 0, 0, 0, 0, 0, 0, 0, 0, 0, 0, 0, 0, 0, 0, 0, 0, 0, 0, 0, 0, 0, 0, 0, 0, 0, 0, 0, 0, 0, 0, 0, 0, 0, 0, 0, 0, 0, 0, 0, 0, 0, 0, 0, 0, 0, 0, 0, 0, 0, 0, 0, 0, 0, 0, 0, 0, 0, 0, 0, 0, 0, 0, 0, 0, 0, 0, 0, 0, 0, 0, 0, 0, 0, 0, 0, 0, 0, 0, 0, 0, 0, 0, 0, 0, 0, 0, 0, 0, 0, 0, 0, 0, 0, 0, 0, 0, 0, 0, 0, 0, 0, 0, 0, 0, 0, 0, 0, 0, 0, 0, 0, 0, 0, 0, 0, 0, 0, 0, 0, 0, 0, 0, 0, 0, 0, 0, 0, 0, 0, 0, 0, 0, 0, 0, 0, 0, 0, 0, 0, 0, 0, 0, 0, 0, 0, 0, 0, 0, 0, 0, 0, 0, 0, 0, 0, 0, 0, 0, 0, 0, 0, 0, 0, 0, 0, 0, 0, 0, 0, 0, 0, 0, 0, 0, 0, 0, 0, 0, 0, 0, 0, 0, 0, 0, 0, 0, 0, 0, 0, 0, 0, 0, 0, 0, 0, 0, 0, 0, 0, 0, 0, 0, 0, 0, 0, 0, 0, 0, 0, 0, 0, 0, 0, 0, 0, 0, 0, 0, 0, 0, 0, 0, 0, 0, 0, 0, 0, 0, 0, 0, 0, 0, 0, 0, 0, 0, 0, 0, 0, 0, 0, 0, 0, 0, 0, 0, 0, 0, 0, 0, 0, 0, 0, 0, 0, 0, 0, 0, 0, 0, 0, 0, 0, 0, 0, 0, 0, 0, 0, 0, 0, 0, 0, 0, 0, 0, 0, 0, 0, 0, 0, 0, 0, 0, 0, 0, 0, 0, 0, 0, 0, 0, 0, 0, 0, 0, 0, 0, 0, 0, 0, 0, 0, 0, 0, 0, 0, 0, 0, 0, 0, 0, 0, 0, 0, 0, 0, 1, 0, 0, 0, 0, 0, 0, 0, 0, 0, 0, 0, 0, 0, 0, 0, 0, 0, 0, 0, 0, 0, 0, 0, 0, 0, 0, 0, 0, 0, 0, 0, 0, 0, 0, 0, 0, 0, 0, 0, 0, 0, 0, 0, 0, 0, 0, 0, 0, 0, 0, 0, 0, 0, 0, 0, 0, 0, 0, 0, 0, 0, 0, 0, 0, 0, 0, 0, 0, 0, 0, 0, 0, 0, 0, 0, 0, 0, 0, 0, 0, 0, 0, 0, 0, 0, 0, 0, 0, 0, 0, 0, 0, 0, 0, 0, 0, 0, 0, 0, 0, 0, 0, 0, 0, 0, 0, 0, 0, 0, 0, 0, 0, 0, 0, 0, 0, 0, 0, 0, 0, 0, 0, 0, 0, 0, 0, 0, 0, 0, 0, 0, 0, 0, 0, 0, 0, 0, 0, 0, 0, 0, 0, 0, 0, 0, 0, 0, 0, 0, 0, 0, 0, 0, 0, 0, 0, 0, 0, 0, 0, 0, 0, 0, 0, 0, 0, 0, 0, 0, 0, 0, 0, 0, 0, 0, 0, 0, 0, 0, 0, 0, 0, 0, 0, 0, 0, 0, 0, 0, 0, 0, 0, 0, 0, 0, 0, 0, 0, 0, 0, 0, 0, 0, 0, 0, 0, 0, 0, 0, 0, 0, 0, 0, 0, 0, 0, 0, 0, 0, 0, 0, 0, 0, 0, 0, 0, 0, 0, 0, 0, 0, 0, 0, 0, 0, 0, 0, 0, 0, 0, 0, 0, 0, 0, 0, 0, 0, 0, 0, 0, 0, 0, 0, 0, 0, 0, 0, 0, 0, 0, 0, 0, 0, 0, 0, 0, 0, 0, 0, 0, 0, 0, 0, 0, 0, 0, 0, 0, 0, 0, 0, 0, 0, 0, 0, 0, 0, 0, 0, 0, 0, 0, 0, 0, 0, 0, 0, 0, 0, 0, 0, 0, 0, 0, 0, 0, 0, 0, 0, 0, 0, 0, 0, 0, 0, 0, 0, 0, 0, 0, 0, 0, 0, 0, 0, 0, 0, 0, 0, 0, 0, 0, 0, 0, 0, 0, 0, 0, 0, 0, 0, 0, 0, 0, 0, 0, 0, 0, 0, 0, 0, 0, 0, 0, 0, 0, 0, 0, 0, 0, 0, 0, 0, 0, 0, 0, 0, 0, 0, 0, 0, 0, 0, 0, 0, 0, 0, 0, 0, 0, 0, 0, 0, 0, 0, 0, 0, 0, 0, 0, 0, 0, 0, 0, 0, 0, 0, 0, 0, 0, 0, 0, 0, 0, 0, 0, 0, 0, 0, 0, 0, 0, 0, 0, 0, 0, 0, 0, 0, 0, 0, 0, 0, 0, 0, 0, 0, 0, 0, 0, 0, 0, 0, 0, 0, 0, 0, 0, 0, 0, 0, 0, 0, 0, 0, 0, 0, 0, 0, 0, 0, 0, 0, 0, 0, 0, 0, 0, 0, 0, 0, 0, 0, 0, 0, 0, 0, 0, 0, 0, 0, 0, 0, 0, 0, 0, 0, 0, 0, 0, 0, 0, 0, 0, 0, 0, 0, 0, 0, 0, 0, 0, 0, 0, 0, 0, 0, 0, 0, 0, 0, 0, 0, 0, 0, 0, 0, 0, 0, 0, 0, 0, 1, 0, 0, 0, 0, 0, 0, 0, 0, 0, 0, 0, 0, 0, 0, 0, 0, 0, 0, 0, 0, 0, 0, 0, 0, 0, 0, 0, 0, 0, 0, 0, 0, 0, 0, 0, 2, 0, 0, 0, 0, 0, 0, 0, 0, 0, 0, 0, 0, 0, 0, 0, 0, 0, 0, 0, 0, 0, 0, 0, 0, 0, 0, 0, 0, 0, 0, 0, 0, 0, 0, 0, 0, 0, 0, 0, 0, 1, 0, 0, 0, 0, 0, 0, 0, 0, 0, 0, 0, 0, 0, 0, 0, 0, 0, 0, 0, 0, 0, 0, 0, 0, 0, 0, 0, 0, 0, 0, 0, 0, 0, 0, 0, 0, 0, 0, 0, 0, 0, 0, 0, 0, 0, 0, 0, 0, 0, 0, 0, 0, 0, 0, 0, 0, 0, 0, 0, 0, 0, 0, 0, 0, 0, 0, 0, 0, 0, 0, 0, 0, 0, 0, 0, 0, 0, 0, 0, 0, 0, 0, 0, 0, 0, 0, 0, 0, 0, 0, 0, 0, 0, 0, 0, 0, 0, 0, 0, 0, 0, 0, 0, 0, 0, 0, 0, 0, 0, 0, 0, 0, 0, 0, 0, 0, 0, 0, 0, 0, 0, 0, 0, 0, 0, 0, 0, 0, 0, 0, 0, 0, 0, 0, 0, 0, 0, 0, 0, 0, 0, 0, 0, 0, 0, 0, 0, 0, 0, 0, 0, 0, 0, 0, 0, 0, 0, 0, 0, 0, 0, 0, 0, 0, 0, 0, 0, 0, 0, 0, 0, 0, 0, 0, 0, 0, 0, 0, 0, 0, 0, 0, 0, 0, 0, 0, 0, 0, 0, 0, 0, 0, 0, 0, 0, 0, 0, 0, 0, 0, 0, 0, 0, 0, 0, 0, 0, 0, 0, 0, 0, 0, 0, 0, 0, 0, 0, 0, 0, 0, 0, 0, 0, 0, 0, 0, 0, 0, 0, 0, 0, 0, 0, 0, 0, 0, 0, 0, 0, 0, 0, 0, 0, 0, 0, 0, 0, 0, 0, 0, 0, 0, 0, 0, 0, 0, 0, 0, 0, 0, 0, 0, 0, 0, 0, 0, 0, 0, 0, 0, 0, 0, 0, 0, 0, 0, 0, 0, 0, 0, 0, 0, 0, 0, 0, 0, 0, 0, 0, 0, 0, 0, 0, 0, 0, 0, 0, 0, 0, 0, 0, 0, 0, 0, 0, 0, 0, 0, 0, 0, 0, 0, 0, 0, 0, 0, 0, 0, 0, 0, 0, 0, 0, 0, 0, 0, 0, 0, 0, 0, 0, 0, 0, 0, 0, 0, 0, 0, 0, 0, 0, 0, 0, 0, 0, 0, 0, 0, 0, 0, 0, 0, 0, 0, 0, 0, 0, 0, 0, 0, 0, 0, 0, 0, 0, 0, 0, 0, 0, 0, 0, 0, 0, 0, 0, 0, 0, 0, 0, 0, 0, 0, 0, 0, 0, 0, 0, 0, 0, 0, 0, 0, 0, 0, 0, 0, 0, 0, 0, 0, 0, 0, 0, 0, 0, 0, 0, 0, 0, 0, 0, 0, 0, 0, 0, 0, 0, 0, 0, 0, 0, 0, 0, 0, 0, 0, 0, 0, 0, 0, 0, 0, 0, 0, 0, 0, 0, 0, 0, 0, 0, 0, 0, 0, 0, 0, 0, 0, 0, 0, 0, 0, 0, 0, 0, 0, 0, 0, 0, 0, 0, 0, 0, 0, 0, 0, 0, 0, 0, 0, 0, 0, 0, 0, 0, 0, 0, 0, 0, 0, 0, 0, 0, 0, 0, 0, 0, 0, 0, 0, 0, 0, 0, 0, 0, 0, 0, 1, 0, 0, 0, 0, 0, 0, 0, 0, 0, 0, 0, 0, 0, 0, 0, 0, 0, 0, 0, 0, 0, 0, 0, 0, 0, 0, 0, 0, 0, 0, 0, 0, 0, 0, 0, 0, 0, 0, 0, 0, 0, 0, 0, 0, 0, 0, 0, 0, 0, 0, 0, 0, 0, 0, 0, 0, 0, 0, 0, 0, 0, 0, 0, 0, 0, 0, 0, 0, 0, 0, 0, 0, 0, 0, 0, 0, 0, 0, 0, 0, 0, 0, 0, 0, 0, 0, 0, 0, 0, 0, 0, 0, 0, 0, 0, 0, 0, 0, 0, 0, 0, 0, 0, 0, 0, 0, 0, 0, 0, 0, 2, 0, 0, 0, 0, 0, 0, 0, 0, 0, 0, 0, 0, 0, 0, 0, 0, 0, 0, 0, 0, 0, 0, 0, 0, 0, 0, 0, 0, 0, 0, 0, 0, 0, 0, 0, 0, 0, 0, 0, 0, 0, 0, 0, 0, 0, 0, 0, 0, 0, 0, 0, 0, 0, 0, 0, 0, 0, 0, 0, 0, 0, 0, 0, 0, 0, 0, 0, 0, 0, 0, 0, 0, 0, 0, 0, 0, 0, 0, 0, 0, 0, 0, 0, 0, 0, 0, 0, 0, 0, 0, 0, 0, 0, 0, 0, 0, 0, 0, 0, 0, 0, 0, 0, 0, 0, 0, 0, 0, 0, 0, 0, 0, 0, 0, 0, 0, 0, 0, 0, 0, 0, 0, 0, 0, 0, 0, 0, 0, 0, 0, 0, 0, 0, 0, 0, 0, 0, 0, 0, 0, 0, 0, 0, 0, 0, 0, 0, 0, 0, 0, 0, 0, 0, 0, 0, 0, 0, 0, 0, 0, 0, 0, 0, 0, 0, 0, 0, 0, 0, 0, 0, 0, 0, 0, 0, 0, 0, 0, 0, 0, 0, 0, 0, 0, 0, 0, 0, 0, 0, 0, 0, 0, 0, 0, 0, 0, 0, 0, 0, 0, 0, 0, 0, 0, 0, 0, 0, 0, 0, 0, 0, 0, 0, 0, 0, 0, 0, 0, 0, 0, 0, 0, 0, 0, 0, 0, 0, 0, 0, 0, 0, 0, 0, 0, 0, 0, 0, 0, 0, 0, 0, 0, 0, 0, 0, 0, 0, 0, 0, 0, 0, 0, 0, 0, 0, 0, 0, 0, 0, 0, 0, 0, 0, 0, 0, 0, 0, 0, 0, 0, 0, 0, 0, 0, 0, 0, 0, 0, 0, 0, 0, 0, 0, 0, 0, 0, 0, 0, 0, 0, 0, 0, 0, 0, 0, 0, 0, 0, 0, 0, 0, 0, 0, 0, 0, 0, 0, 0, 0, 0, 0, 0, 0, 0, 0, 0, 0, 0, 0, 0, 0, 0, 0, 0, 0, 0, 0, 0, 0, 0, 0, 0, 0, 0, 0, 0, 0, 0, 0, 0, 0, 0, 0, 0, 0, 0, 0, 0, 0, 0, 0, 0, 0, 0, 0, 0, 0, 0, 0, 0, 0, 0, 0, 0, 0, 0, 0, 0, 0, 0, 0, 0, 0, 0, 0, 0, 0, 0, 0, 0, 0, 0, 0, 0, 0, 0, 0, 0, 0, 0, 0, 0, 0, 0, 0, 0, 0, 0, 0, 0, 0, 0, 0, 0, 0, 0, 0, 0, 0, 0, 0, 0, 0, 0, 0, 0, 0, 0, 0, 0, 0, 0, 0, 0, 0, 0, 0, 0, 0, 0, 0, 0, 0, 0, 0, 0, 0, 0, 0, 0, 0, 0, 0, 0, 0, 0, 0, 0, 0, 0, 0, 0, 0, 0, 0, 0, 0, 0, 0, 0, 0, 0, 0, 0, 0, 0, 0, 0, 0, 0, 0, 0, 0, 0, 0, 0, 0, 0, 0, 0, 0, 0, 0, 0, 0, 0, 0, 0, 0, 0, 0, 0, 0, 0, 0, 0, 0, 0, 0, 0, 0, 0, 0, 0, 0, 0, 0, 0, 0, 0, 0, 0, 0, 0, 0, 0, 0, 0, 0, 0, 0, 0, 0, 0, 0, 0, 0, 0, 0, 0, 0, 0, 0, 0, 0, 0, 0, 0, 0, 0, 0, 0, 0, 0, 0, 0, 0, 0, 0, 0, 0, 0, 0, 0, 0, 0, 0, 0, 0, 0, 0, 0, 0, 0, 0, 0, 0, 0, 0, 0, 0, 0, 0, 0, 0, 0, 0, 0, 0, 0, 0, 0, 0, 0, 0, 0, 0, 0, 0, 0, 0, 0, 0, 0, 0, 0, 0, 0, 0, 0, 0, 0, 0, 0, 0, 0, 0, 0, 0, 0, 0, 0, 0, 0, 0, 0, 0, 0, 0, 0, 0, 0, 0, 0, 0, 0, 0, 0, 0, 0, 0, 0, 0, 0, 0, 0, 0, 0, 0, 0, 0, 0, 0, 0, 0, 0, 0, 0, 0, 0, 0, 0, 0, 0, 0, 0, 0, 0, 0, 0, 0, 0, 0, 0, 0, 0, 0, 0, 0, 0, 0, 0, 0, 0, 0, 0, 0, 0, 0, 0, 0, 0, 0, 0, 0, 0, 0, 0, 0, 0, 1, 0, 0, 0, 0, 0, 0, 0, 0, 0, 0, 0, 0, 0, 0, 0, 0, 0, 0, 0, 0, 0, 0, 0, 0, 0, 0, 0, 0, 0, 0, 0, 0, 0, 0, 0, 0, 0, 0, 0, 0, 0, 0, 0, 0, 0, 0, 0, 0, 0, 0, 0, 0, 0, 0, 0, 0, 0, 0, 0, 0, 0, 0, 0, 0, 0, 0, 0, 0, 0, 0, 0, 0, 0, 0, 0, 0, 0, 0, 0, 0, 0, 0, 0, 0, 0, 0, 0, 0, 0, 0, 0, 0, 0, 0, 0, 0, 0, 0, 0, 0, 0, 0, 0, 0, 0, 0, 0, 1, 0, 0, 0, 0, 0, 0, 0, 0, 0, 0, 0, 0, 0, 0, 0, 0, 0, 0, 0, 0, 0, 0, 0, 0, 0, 0, 0, 0, 0, 0, 0, 0, 0, 0, 0, 0, 0, 0, 0, 0, 0, 0, 0, 0, 0, 0, 0, 0, 0, 0, 0, 0, 0, 0, 0, 0, 0, 0, 0, 0, 0, 0, 0, 0, 0, 0, 0, 0, 0, 0, 0, 0, 0, 0, 0, 0, 0, 0, 0, 0, 0, 0, 0, 0, 0, 0, 0, 0, 0, 0, 0, 0, 0, 0, 0, 0, 0, 0, 0, 0, 0, 0, 0, 0, 0, 0, 0, 0, 0, 0, 0, 0, 0, 0, 0, 0, 0, 0, 0, 0, 0, 0, 0, 0, 0, 0, 0, 0, 0, 0, 0, 0, 0, 0, 0, 0, 0, 0, 0, 0, 0, 0, 0, 0, 0, 0, 0, 0, 0, 0, 0, 0, 0, 0, 0, 0, 0, 0, 0, 0, 0, 0, 0, 0, 0, 0, 0, 0, 0, 0, 0, 0, 0, 0, 0, 0, 0, 0, 0, 0, 0, 0, 0, 0, 0, 0, 0, 0, 0, 0, 0, 0, 0, 0, 0, 0, 0, 0, 0, 0, 0, 0, 0, 0, 0, 0, 0, 0, 0, 0, 0, 0, 0, 0, 0, 0, 0, 0, 0, 0, 0, 0, 0, 0, 0, 0, 0, 0, 0, 0, 0, 0, 0, 0, 0, 0, 0, 0, 0, 0, 0, 0, 0, 0, 0, 0, 0, 0, 0, 0, 0, 0, 0, 0, 0, 0, 0, 0, 0, 0, 0, 0, 0, 0, 0, 0, 0, 0, 0, 0, 0, 0, 0, 0, 0, 0, 0, 0, 0, 0, 0, 0, 0, 0, 0, 0, 0, 0, 0, 0, 0, 0, 0, 0, 0, 0, 0, 0, 0, 0, 0, 0, 0, 0, 0, 0, 0, 0, 0, 0, 0, 0, 0, 0, 0, 0, 0, 0, 0, 0, 0, 0, 0, 0, 0, 0, 0, 0, 0, 0, 0, 0, 0, 0, 0, 0, 0, 0, 0, 0, 0, 0, 0, 0, 0, 0, 0, 0, 0, 0, 0, 0, 0, 0, 0, 0, 0, 0, 0, 0, 0, 0, 0, 0, 0, 0, 0, 0, 0, 0, 0, 0, 0, 0, 0, 0, 0, 0, 0, 0, 0, 0, 0, 0, 0, 0, 0, 0, 0, 0, 0, 0, 0, 0, 0, 0, 0, 0, 0, 0, 0, 0, 0, 0, 0, 0, 0, 0, 0, 0, 0, 0, 0, 0, 0, 0, 0, 0, 0, 0, 0, 0, 0, 0, 0, 0, 0, 0, 0, 0, 0, 0, 0, 0, 0, 0, 0, 0, 0, 0, 0, 0, 0, 0, 0, 0, 0, 0, 0, 0, 0, 0, 0, 0, 0, 0, 0, 0, 0, 0, 0, 0, 0, 2, 0, 1, 0]\n"
     ]
    }
   ],
   "source": [
    "test_bow = bow_encoding(test_words, vocabulary)\n",
    "print(test_bow)"
   ]
  },
  {
   "cell_type": "code",
   "execution_count": 71,
   "metadata": {},
   "outputs": [
    {
     "data": {
      "text/plain": [
       "5000"
      ]
     },
     "execution_count": 71,
     "metadata": {},
     "output_type": "execute_result"
    }
   ],
   "source": [
    "len(test_bow)"
   ]
  },
  {
   "cell_type": "markdown",
   "metadata": {},
   "source": [
    "So now we know how to construct a bag of words encoding of a user provided review, how do we send it to our endpoint? First, we need to start the endpoint back up."
   ]
  },
  {
   "cell_type": "code",
   "execution_count": 72,
   "metadata": {},
   "outputs": [
    {
     "name": "stderr",
     "output_type": "stream",
     "text": [
      "Using already existing model: xgboost-2019-08-01-13-04-05-107\n"
     ]
    },
    {
     "name": "stdout",
     "output_type": "stream",
     "text": [
      "---------------------------------------------------------------------------------------!"
     ]
    }
   ],
   "source": [
    "xgb_predictor = xgb.deploy(initial_instance_count = 1, instance_type = 'ml.m4.xlarge')"
   ]
  },
  {
   "cell_type": "code",
   "execution_count": 73,
   "metadata": {},
   "outputs": [
    {
     "name": "stdout",
     "output_type": "stream",
     "text": [
      "<sagemaker.estimator.Estimator object at 0x7f5cacde5ba8>\n",
      "<sagemaker.predictor.RealTimePredictor object at 0x7f5c19e57e48>\n"
     ]
    }
   ],
   "source": [
    "print(xgb)\n",
    "print(xgb_predictor)"
   ]
  },
  {
   "cell_type": "markdown",
   "metadata": {},
   "source": [
    "At this point we could just do the same thing that we did earlier when we tested our deployed model and send `test_bow` to our endpoint using the `xgb_predictor` object. However, when we eventually construct our Lambda function we won't have access to this object, so how do we call a SageMaker endpoint?\n",
    "\n",
    "It turns out that Python functions that are used in Lambda have access to another Amazon library called `boto3`. This library provides an API for working with Amazon services, including SageMaker. To start with, we need to get a handle to the SageMaker runtime."
   ]
  },
  {
   "cell_type": "code",
   "execution_count": 74,
   "metadata": {},
   "outputs": [
    {
     "name": "stdout",
     "output_type": "stream",
     "text": [
      "<botocore.client.SageMakerRuntime object at 0x7f5cacfc9e80>\n"
     ]
    }
   ],
   "source": [
    "import boto3\n",
    "\n",
    "runtime = boto3.Session().client('sagemaker-runtime')\n",
    "print(runtime)"
   ]
  },
  {
   "cell_type": "markdown",
   "metadata": {},
   "source": [
    "And now that we have access to the SageMaker runtime, we can ask it to make use of (invoke) an endpoint that has already been created. However, we need to provide SageMaker with the name of the deployed endpoint. To find this out we can print it out using the `xgb_predictor` object."
   ]
  },
  {
   "cell_type": "code",
   "execution_count": 75,
   "metadata": {},
   "outputs": [
    {
     "data": {
      "text/plain": [
       "'xgboost-2019-08-01-13-04-05-107'"
      ]
     },
     "execution_count": 75,
     "metadata": {},
     "output_type": "execute_result"
    }
   ],
   "source": [
    "xgb_predictor.endpoint"
   ]
  },
  {
   "cell_type": "markdown",
   "metadata": {},
   "source": [
    "Using the SageMaker runtime and the name of our endpoint, we can invoke the endpoint and send it the `test_bow` data."
   ]
  },
  {
   "cell_type": "code",
   "execution_count": 76,
   "metadata": {},
   "outputs": [
    {
     "ename": "ParamValidationError",
     "evalue": "Parameter validation failed:\nInvalid type for parameter Body, value: [0, 0, 0, 0, 0, 0, 0, 0, 0, 0, 0, 0, 0, 0, 0, 0, 0, 0, 0, 0, 0, 0, 0, 0, 0, 0, 0, 0, 0, 0, 0, 0, 0, 0, 0, 0, 0, 0, 0, 0, 0, 0, 0, 0, 0, 0, 0, 0, 0, 0, 0, 0, 0, 0, 0, 0, 0, 0, 0, 0, 0, 0, 0, 0, 0, 0, 0, 0, 0, 0, 0, 0, 0, 0, 0, 0, 0, 0, 0, 0, 0, 0, 0, 0, 0, 0, 0, 0, 0, 0, 0, 0, 0, 0, 0, 0, 0, 0, 0, 0, 0, 0, 0, 0, 0, 0, 0, 0, 0, 0, 0, 0, 0, 0, 0, 0, 0, 0, 0, 0, 0, 0, 0, 0, 0, 0, 0, 0, 0, 0, 0, 0, 0, 0, 0, 0, 0, 0, 0, 0, 0, 0, 0, 0, 0, 0, 0, 0, 0, 0, 0, 0, 0, 0, 0, 0, 0, 0, 0, 0, 0, 0, 0, 0, 0, 0, 0, 0, 0, 0, 0, 0, 0, 0, 0, 0, 0, 0, 0, 0, 0, 0, 0, 0, 0, 0, 0, 0, 0, 0, 0, 0, 0, 0, 0, 0, 0, 0, 0, 0, 0, 0, 0, 0, 0, 0, 0, 0, 0, 0, 0, 0, 0, 0, 0, 0, 0, 0, 0, 0, 0, 0, 0, 0, 0, 0, 1, 0, 0, 0, 0, 0, 0, 0, 0, 0, 0, 0, 0, 0, 0, 0, 0, 0, 0, 0, 0, 0, 0, 0, 0, 0, 0, 0, 0, 0, 1, 0, 0, 0, 0, 0, 0, 0, 0, 0, 0, 0, 0, 0, 0, 0, 0, 0, 0, 0, 0, 0, 0, 0, 0, 0, 0, 0, 0, 0, 0, 0, 0, 0, 0, 0, 0, 0, 0, 0, 0, 0, 0, 0, 0, 0, 0, 0, 0, 0, 0, 0, 0, 0, 0, 0, 0, 0, 0, 0, 0, 0, 0, 0, 0, 0, 0, 0, 0, 0, 0, 0, 0, 0, 0, 0, 0, 0, 0, 0, 0, 0, 0, 0, 0, 0, 0, 0, 0, 0, 0, 0, 0, 0, 0, 0, 0, 0, 0, 0, 0, 0, 0, 0, 0, 0, 0, 0, 0, 0, 0, 0, 0, 0, 0, 0, 0, 0, 0, 0, 0, 0, 0, 0, 0, 0, 0, 0, 0, 0, 0, 0, 0, 0, 0, 0, 0, 0, 0, 0, 0, 0, 0, 0, 0, 0, 0, 0, 0, 0, 0, 0, 0, 0, 0, 0, 0, 0, 0, 0, 0, 0, 0, 0, 0, 0, 0, 0, 0, 0, 0, 0, 0, 0, 0, 0, 0, 0, 0, 0, 0, 0, 0, 0, 0, 0, 0, 0, 0, 0, 0, 0, 0, 0, 0, 0, 0, 0, 0, 0, 0, 0, 0, 0, 0, 0, 0, 0, 0, 0, 0, 0, 0, 0, 0, 0, 0, 0, 0, 0, 0, 0, 0, 0, 0, 0, 0, 0, 0, 0, 0, 0, 0, 0, 0, 0, 0, 0, 0, 0, 0, 0, 0, 0, 0, 0, 0, 0, 0, 0, 0, 0, 0, 0, 0, 0, 0, 0, 0, 0, 0, 0, 0, 0, 0, 0, 0, 0, 0, 0, 0, 0, 0, 0, 0, 0, 0, 0, 0, 0, 0, 0, 0, 0, 0, 0, 0, 0, 0, 0, 0, 0, 0, 0, 0, 0, 0, 0, 0, 0, 0, 0, 0, 0, 0, 0, 0, 0, 0, 0, 0, 0, 0, 0, 0, 0, 0, 0, 0, 0, 0, 0, 0, 0, 0, 0, 0, 0, 0, 0, 0, 0, 0, 0, 0, 0, 0, 0, 0, 0, 0, 0, 0, 0, 0, 0, 0, 0, 0, 0, 0, 0, 0, 0, 0, 0, 0, 0, 0, 0, 0, 0, 0, 0, 0, 0, 0, 0, 0, 0, 0, 0, 0, 0, 0, 0, 0, 0, 0, 0, 1, 0, 0, 0, 0, 0, 0, 0, 0, 0, 0, 0, 0, 0, 0, 0, 0, 0, 0, 0, 0, 0, 0, 0, 0, 0, 0, 0, 0, 0, 0, 0, 0, 0, 0, 0, 0, 0, 0, 0, 0, 0, 0, 0, 0, 0, 0, 0, 0, 0, 0, 0, 0, 0, 0, 0, 0, 0, 0, 0, 0, 0, 0, 0, 0, 0, 0, 0, 0, 0, 0, 0, 0, 0, 0, 0, 0, 0, 0, 0, 0, 0, 0, 0, 0, 0, 0, 0, 0, 0, 0, 0, 0, 0, 0, 0, 0, 0, 0, 0, 0, 0, 0, 0, 0, 0, 0, 0, 0, 0, 0, 0, 0, 0, 0, 0, 0, 0, 0, 0, 0, 0, 0, 0, 0, 0, 0, 0, 0, 0, 0, 0, 0, 0, 0, 0, 0, 0, 0, 0, 0, 0, 0, 0, 0, 0, 0, 0, 0, 0, 0, 0, 0, 0, 0, 0, 0, 0, 0, 0, 0, 0, 0, 0, 0, 0, 0, 0, 0, 0, 0, 0, 0, 0, 0, 0, 0, 0, 0, 0, 0, 0, 0, 0, 0, 0, 0, 0, 0, 0, 0, 0, 0, 0, 0, 0, 0, 0, 0, 0, 0, 0, 0, 0, 0, 0, 0, 0, 0, 0, 0, 0, 0, 0, 0, 0, 0, 0, 0, 0, 0, 0, 0, 0, 0, 0, 0, 0, 0, 0, 0, 0, 0, 0, 0, 0, 0, 0, 0, 0, 0, 0, 0, 0, 0, 0, 0, 0, 0, 0, 0, 0, 0, 0, 1, 0, 0, 0, 0, 0, 0, 0, 0, 0, 0, 0, 0, 0, 0, 0, 0, 0, 0, 0, 0, 0, 0, 0, 0, 0, 0, 0, 0, 0, 0, 0, 0, 0, 0, 0, 0, 0, 0, 0, 0, 0, 0, 0, 0, 0, 0, 0, 0, 0, 0, 0, 0, 0, 0, 0, 0, 0, 0, 0, 0, 0, 0, 0, 0, 0, 0, 0, 0, 0, 0, 0, 0, 0, 0, 0, 0, 0, 0, 0, 0, 0, 0, 0, 0, 0, 0, 1, 0, 0, 0, 0, 0, 0, 0, 0, 0, 0, 0, 0, 0, 0, 0, 0, 0, 0, 0, 0, 0, 0, 0, 0, 0, 0, 0, 0, 0, 0, 0, 0, 0, 0, 0, 0, 0, 0, 0, 0, 0, 0, 0, 0, 0, 0, 0, 0, 0, 0, 0, 0, 0, 0, 0, 0, 0, 0, 0, 0, 0, 0, 0, 0, 0, 0, 0, 0, 0, 0, 0, 0, 0, 0, 0, 0, 0, 0, 0, 0, 0, 0, 0, 0, 0, 0, 0, 0, 0, 0, 0, 0, 0, 0, 0, 0, 0, 0, 0, 0, 0, 0, 0, 0, 0, 0, 0, 0, 0, 0, 0, 0, 0, 0, 0, 0, 0, 0, 0, 0, 0, 0, 0, 0, 0, 0, 0, 0, 0, 0, 0, 0, 0, 0, 0, 0, 0, 0, 0, 0, 0, 0, 0, 0, 0, 0, 0, 0, 0, 0, 0, 0, 0, 0, 0, 0, 0, 0, 0, 0, 0, 0, 0, 0, 0, 0, 0, 0, 0, 0, 0, 0, 0, 0, 0, 0, 0, 0, 0, 0, 0, 0, 0, 0, 0, 0, 0, 0, 0, 0, 0, 0, 0, 0, 0, 0, 0, 0, 0, 0, 0, 0, 0, 0, 0, 0, 0, 0, 0, 0, 0, 0, 0, 0, 0, 0, 0, 0, 0, 0, 0, 0, 0, 0, 0, 0, 0, 0, 0, 0, 0, 0, 0, 0, 0, 0, 0, 0, 0, 0, 0, 0, 0, 0, 0, 0, 0, 0, 0, 0, 0, 0, 1, 0, 0, 0, 0, 0, 0, 0, 0, 0, 0, 0, 0, 0, 0, 0, 0, 0, 0, 0, 0, 0, 0, 0, 0, 0, 0, 0, 0, 0, 0, 0, 0, 0, 0, 0, 0, 0, 0, 0, 0, 0, 0, 0, 0, 0, 0, 0, 0, 0, 0, 0, 0, 0, 0, 0, 1, 0, 0, 0, 0, 0, 0, 0, 0, 0, 0, 0, 0, 0, 0, 0, 0, 0, 0, 0, 0, 0, 0, 0, 0, 0, 0, 0, 0, 0, 0, 0, 0, 0, 0, 0, 0, 0, 0, 0, 0, 0, 0, 0, 0, 0, 0, 0, 0, 0, 0, 0, 0, 0, 0, 0, 0, 0, 0, 0, 0, 0, 0, 0, 0, 0, 0, 0, 0, 0, 0, 0, 0, 0, 0, 0, 0, 0, 0, 0, 0, 0, 0, 0, 0, 0, 0, 0, 0, 0, 0, 0, 0, 0, 0, 0, 0, 0, 0, 0, 0, 0, 0, 0, 0, 0, 0, 0, 0, 0, 0, 0, 0, 0, 0, 0, 0, 0, 0, 0, 0, 0, 0, 0, 0, 0, 0, 0, 0, 0, 0, 0, 0, 0, 0, 0, 0, 0, 0, 0, 0, 0, 0, 0, 0, 0, 0, 0, 0, 0, 0, 0, 0, 0, 0, 0, 0, 0, 0, 0, 0, 0, 0, 0, 0, 0, 0, 0, 0, 0, 0, 0, 0, 0, 0, 0, 0, 0, 0, 0, 0, 0, 0, 0, 0, 0, 0, 0, 0, 0, 0, 0, 0, 0, 0, 0, 0, 0, 0, 0, 0, 0, 0, 0, 0, 0, 0, 0, 0, 0, 0, 0, 0, 0, 0, 0, 0, 0, 0, 0, 0, 0, 0, 0, 0, 0, 0, 0, 0, 0, 0, 0, 0, 0, 0, 0, 0, 0, 0, 0, 0, 0, 0, 0, 0, 0, 0, 0, 0, 0, 0, 0, 0, 0, 0, 0, 0, 0, 0, 0, 0, 0, 0, 0, 0, 0, 0, 0, 0, 0, 0, 0, 0, 0, 0, 0, 0, 0, 0, 0, 0, 0, 0, 0, 0, 0, 0, 0, 0, 0, 0, 0, 0, 0, 0, 0, 0, 0, 0, 0, 0, 0, 0, 0, 0, 0, 0, 0, 0, 0, 0, 0, 0, 0, 0, 0, 0, 0, 0, 0, 0, 0, 0, 0, 0, 0, 0, 0, 0, 0, 0, 0, 0, 0, 0, 0, 0, 0, 0, 0, 0, 0, 0, 0, 0, 0, 0, 0, 0, 0, 0, 0, 0, 0, 0, 0, 0, 0, 0, 0, 0, 0, 0, 0, 0, 0, 0, 0, 0, 0, 0, 0, 0, 0, 0, 0, 0, 0, 0, 0, 0, 0, 0, 0, 0, 0, 0, 0, 0, 0, 0, 0, 0, 0, 0, 0, 0, 0, 0, 0, 0, 0, 0, 0, 0, 0, 0, 0, 0, 0, 0, 0, 0, 0, 0, 0, 0, 0, 0, 0, 0, 0, 0, 0, 0, 0, 0, 0, 0, 0, 0, 0, 0, 0, 0, 0, 0, 0, 0, 0, 0, 0, 0, 0, 0, 0, 0, 0, 0, 0, 0, 0, 0, 0, 0, 0, 0, 0, 0, 0, 0, 0, 0, 0, 0, 0, 0, 0, 0, 0, 0, 0, 0, 0, 0, 0, 0, 0, 0, 0, 0, 0, 0, 0, 0, 0, 0, 0, 0, 0, 0, 0, 0, 0, 0, 0, 0, 0, 0, 0, 0, 0, 0, 0, 0, 0, 0, 0, 0, 0, 0, 0, 0, 0, 0, 0, 0, 0, 0, 0, 0, 0, 0, 0, 0, 0, 0, 0, 0, 0, 0, 0, 0, 0, 0, 0, 0, 0, 0, 0, 0, 0, 0, 0, 0, 0, 0, 0, 0, 0, 0, 0, 0, 0, 0, 0, 0, 0, 0, 0, 0, 0, 0, 0, 0, 0, 0, 0, 0, 0, 0, 0, 0, 0, 0, 0, 0, 0, 0, 0, 0, 0, 0, 0, 0, 0, 0, 0, 0, 0, 0, 0, 0, 0, 0, 0, 0, 0, 0, 0, 0, 0, 0, 0, 0, 0, 0, 0, 0, 0, 0, 0, 0, 0, 0, 0, 0, 0, 0, 0, 0, 0, 0, 0, 0, 0, 0, 0, 0, 0, 0, 0, 0, 0, 0, 0, 0, 0, 0, 0, 0, 0, 0, 0, 0, 0, 0, 0, 0, 0, 0, 0, 0, 0, 0, 0, 0, 0, 0, 0, 0, 0, 0, 0, 0, 0, 0, 0, 0, 0, 0, 0, 0, 0, 0, 0, 0, 0, 0, 0, 0, 0, 1, 0, 0, 0, 0, 0, 0, 0, 0, 0, 0, 0, 0, 0, 0, 0, 0, 0, 0, 0, 0, 0, 0, 0, 0, 0, 0, 0, 0, 0, 0, 0, 0, 0, 0, 0, 0, 0, 0, 0, 0, 0, 0, 0, 0, 0, 0, 0, 0, 0, 0, 0, 0, 0, 0, 0, 0, 0, 0, 0, 0, 0, 0, 0, 0, 0, 0, 0, 0, 0, 0, 0, 0, 0, 0, 1, 0, 0, 0, 0, 0, 0, 0, 0, 0, 0, 0, 0, 0, 0, 0, 0, 0, 0, 0, 0, 1, 0, 0, 1, 0, 0, 0, 0, 0, 0, 0, 0, 0, 0, 0, 0, 0, 0, 0, 0, 0, 0, 0, 0, 0, 0, 0, 0, 0, 0, 0, 0, 0, 0, 0, 0, 0, 0, 0, 0, 0, 0, 0, 0, 0, 0, 0, 0, 0, 0, 0, 0, 0, 0, 0, 0, 0, 0, 0, 0, 0, 0, 0, 0, 0, 0, 0, 0, 0, 0, 0, 0, 0, 0, 0, 0, 0, 0, 0, 0, 0, 0, 0, 0, 0, 0, 0, 0, 0, 0, 0, 0, 0, 0, 0, 0, 0, 0, 0, 0, 0, 0, 0, 0, 0, 0, 0, 0, 0, 0, 0, 0, 0, 0, 0, 0, 0, 0, 0, 0, 0, 0, 0, 0, 0, 0, 0, 0, 0, 0, 0, 0, 0, 0, 0, 0, 0, 0, 0, 0, 0, 0, 0, 0, 0, 0, 0, 0, 0, 0, 0, 0, 0, 0, 0, 0, 0, 0, 0, 0, 0, 0, 0, 0, 0, 0, 0, 0, 0, 0, 0, 0, 0, 0, 0, 0, 0, 0, 0, 0, 0, 0, 0, 0, 0, 0, 0, 0, 0, 0, 0, 0, 0, 0, 0, 0, 0, 0, 0, 0, 0, 0, 0, 0, 0, 0, 0, 0, 0, 0, 0, 0, 0, 0, 0, 0, 0, 0, 0, 0, 0, 0, 0, 0, 0, 0, 0, 0, 0, 0, 0, 0, 0, 0, 0, 0, 0, 0, 0, 0, 0, 0, 0, 0, 0, 0, 0, 0, 0, 0, 0, 0, 0, 0, 0, 0, 0, 0, 0, 0, 0, 0, 0, 0, 0, 0, 0, 0, 0, 0, 0, 0, 0, 0, 0, 0, 0, 0, 0, 0, 0, 0, 0, 0, 0, 0, 0, 0, 0, 0, 0, 0, 0, 0, 0, 0, 0, 0, 0, 0, 0, 0, 0, 0, 0, 0, 0, 0, 0, 0, 0, 0, 0, 0, 0, 0, 0, 0, 0, 0, 0, 0, 0, 0, 0, 0, 0, 0, 0, 0, 0, 0, 0, 0, 0, 0, 0, 0, 0, 0, 0, 0, 0, 0, 0, 0, 0, 0, 0, 0, 0, 0, 0, 0, 0, 0, 0, 0, 0, 0, 0, 0, 0, 0, 0, 0, 0, 0, 0, 0, 0, 0, 0, 0, 0, 0, 0, 0, 0, 0, 0, 0, 0, 0, 0, 0, 0, 0, 0, 0, 0, 0, 0, 0, 0, 0, 0, 0, 0, 0, 0, 0, 0, 0, 0, 0, 0, 0, 0, 0, 0, 0, 0, 0, 0, 0, 0, 0, 0, 0, 0, 0, 0, 0, 0, 0, 0, 0, 0, 0, 0, 0, 0, 0, 0, 0, 0, 0, 0, 0, 0, 0, 0, 0, 0, 0, 0, 0, 0, 0, 0, 0, 0, 0, 0, 0, 0, 0, 0, 0, 0, 0, 0, 0, 0, 0, 0, 0, 0, 0, 1, 0, 0, 0, 0, 0, 0, 0, 0, 0, 0, 0, 0, 0, 0, 0, 0, 0, 0, 0, 0, 0, 0, 0, 0, 0, 0, 0, 0, 0, 0, 0, 0, 0, 0, 0, 0, 0, 0, 0, 0, 0, 0, 0, 0, 0, 0, 0, 0, 0, 0, 0, 0, 0, 0, 0, 0, 0, 0, 0, 0, 0, 0, 0, 0, 0, 0, 0, 0, 0, 0, 0, 0, 0, 0, 0, 0, 0, 0, 0, 0, 0, 0, 0, 0, 0, 0, 0, 0, 0, 0, 0, 0, 0, 0, 0, 0, 0, 0, 0, 0, 0, 0, 0, 0, 0, 0, 0, 0, 0, 0, 0, 0, 0, 0, 0, 0, 0, 0, 0, 0, 0, 0, 0, 0, 0, 0, 0, 0, 0, 0, 0, 0, 0, 0, 0, 0, 0, 0, 0, 0, 0, 0, 0, 0, 0, 0, 0, 0, 0, 0, 0, 0, 0, 0, 0, 0, 0, 0, 0, 0, 0, 0, 0, 0, 0, 0, 0, 0, 0, 0, 0, 0, 0, 0, 0, 0, 0, 0, 0, 0, 0, 0, 0, 0, 0, 0, 0, 0, 0, 0, 0, 0, 0, 0, 0, 0, 0, 0, 0, 0, 0, 0, 0, 0, 0, 0, 0, 0, 0, 0, 0, 0, 0, 0, 0, 0, 0, 0, 0, 0, 0, 0, 0, 0, 0, 0, 0, 0, 0, 0, 0, 0, 0, 0, 0, 0, 0, 0, 0, 0, 0, 0, 0, 0, 0, 0, 0, 0, 0, 0, 0, 0, 0, 0, 0, 0, 0, 0, 0, 0, 0, 0, 0, 0, 0, 0, 0, 0, 0, 0, 0, 0, 0, 0, 0, 0, 0, 0, 0, 0, 0, 0, 0, 0, 0, 0, 0, 0, 0, 0, 0, 0, 0, 0, 0, 0, 0, 0, 0, 0, 0, 0, 0, 0, 0, 0, 0, 0, 0, 0, 0, 0, 0, 0, 0, 0, 0, 0, 0, 0, 0, 0, 0, 0, 0, 0, 0, 0, 0, 0, 0, 0, 0, 0, 0, 0, 0, 0, 0, 0, 0, 0, 0, 0, 0, 0, 0, 0, 0, 0, 0, 0, 0, 0, 0, 0, 0, 0, 0, 0, 0, 0, 0, 0, 0, 0, 0, 0, 0, 0, 0, 0, 0, 0, 0, 0, 0, 0, 0, 0, 0, 0, 0, 0, 0, 0, 0, 0, 0, 0, 0, 0, 0, 0, 0, 0, 0, 0, 0, 0, 0, 0, 0, 0, 0, 0, 0, 0, 0, 0, 0, 0, 0, 0, 0, 0, 0, 0, 0, 0, 0, 0, 0, 0, 0, 0, 0, 0, 0, 0, 0, 0, 0, 0, 0, 0, 0, 0, 0, 0, 0, 0, 0, 0, 0, 0, 0, 0, 0, 0, 0, 0, 0, 0, 0, 0, 0, 0, 0, 0, 0, 0, 0, 0, 0, 0, 0, 0, 0, 0, 0, 0, 0, 0, 0, 0, 0, 0, 0, 0, 0, 0, 0, 0, 0, 0, 0, 0, 0, 0, 0, 0, 0, 0, 0, 0, 0, 0, 0, 0, 0, 0, 0, 0, 0, 0, 0, 0, 0, 0, 0, 0, 1, 0, 0, 0, 0, 0, 0, 0, 0, 0, 0, 0, 0, 0, 0, 0, 0, 0, 0, 0, 0, 0, 0, 0, 0, 0, 0, 0, 0, 0, 0, 0, 0, 0, 0, 0, 2, 0, 0, 0, 0, 0, 0, 0, 0, 0, 0, 0, 0, 0, 0, 0, 0, 0, 0, 0, 0, 0, 0, 0, 0, 0, 0, 0, 0, 0, 0, 0, 0, 0, 0, 0, 0, 0, 0, 0, 0, 1, 0, 0, 0, 0, 0, 0, 0, 0, 0, 0, 0, 0, 0, 0, 0, 0, 0, 0, 0, 0, 0, 0, 0, 0, 0, 0, 0, 0, 0, 0, 0, 0, 0, 0, 0, 0, 0, 0, 0, 0, 0, 0, 0, 0, 0, 0, 0, 0, 0, 0, 0, 0, 0, 0, 0, 0, 0, 0, 0, 0, 0, 0, 0, 0, 0, 0, 0, 0, 0, 0, 0, 0, 0, 0, 0, 0, 0, 0, 0, 0, 0, 0, 0, 0, 0, 0, 0, 0, 0, 0, 0, 0, 0, 0, 0, 0, 0, 0, 0, 0, 0, 0, 0, 0, 0, 0, 0, 0, 0, 0, 0, 0, 0, 0, 0, 0, 0, 0, 0, 0, 0, 0, 0, 0, 0, 0, 0, 0, 0, 0, 0, 0, 0, 0, 0, 0, 0, 0, 0, 0, 0, 0, 0, 0, 0, 0, 0, 0, 0, 0, 0, 0, 0, 0, 0, 0, 0, 0, 0, 0, 0, 0, 0, 0, 0, 0, 0, 0, 0, 0, 0, 0, 0, 0, 0, 0, 0, 0, 0, 0, 0, 0, 0, 0, 0, 0, 0, 0, 0, 0, 0, 0, 0, 0, 0, 0, 0, 0, 0, 0, 0, 0, 0, 0, 0, 0, 0, 0, 0, 0, 0, 0, 0, 0, 0, 0, 0, 0, 0, 0, 0, 0, 0, 0, 0, 0, 0, 0, 0, 0, 0, 0, 0, 0, 0, 0, 0, 0, 0, 0, 0, 0, 0, 0, 0, 0, 0, 0, 0, 0, 0, 0, 0, 0, 0, 0, 0, 0, 0, 0, 0, 0, 0, 0, 0, 0, 0, 0, 0, 0, 0, 0, 0, 0, 0, 0, 0, 0, 0, 0, 0, 0, 0, 0, 0, 0, 0, 0, 0, 0, 0, 0, 0, 0, 0, 0, 0, 0, 0, 0, 0, 0, 0, 0, 0, 0, 0, 0, 0, 0, 0, 0, 0, 0, 0, 0, 0, 0, 0, 0, 0, 0, 0, 0, 0, 0, 0, 0, 0, 0, 0, 0, 0, 0, 0, 0, 0, 0, 0, 0, 0, 0, 0, 0, 0, 0, 0, 0, 0, 0, 0, 0, 0, 0, 0, 0, 0, 0, 0, 0, 0, 0, 0, 0, 0, 0, 0, 0, 0, 0, 0, 0, 0, 0, 0, 0, 0, 0, 0, 0, 0, 0, 0, 0, 0, 0, 0, 0, 0, 0, 0, 0, 0, 0, 0, 0, 0, 0, 0, 0, 0, 0, 0, 0, 0, 0, 0, 0, 0, 0, 0, 0, 0, 0, 0, 0, 0, 0, 0, 0, 0, 0, 0, 0, 0, 0, 0, 0, 0, 0, 0, 0, 0, 0, 0, 0, 0, 0, 0, 0, 0, 0, 0, 0, 0, 0, 0, 0, 0, 0, 0, 0, 0, 0, 0, 0, 0, 0, 0, 0, 0, 0, 0, 0, 0, 0, 0, 0, 0, 0, 0, 0, 0, 0, 0, 0, 0, 0, 0, 0, 0, 0, 0, 0, 0, 0, 0, 0, 0, 0, 0, 0, 0, 0, 0, 0, 0, 1, 0, 0, 0, 0, 0, 0, 0, 0, 0, 0, 0, 0, 0, 0, 0, 0, 0, 0, 0, 0, 0, 0, 0, 0, 0, 0, 0, 0, 0, 0, 0, 0, 0, 0, 0, 0, 0, 0, 0, 0, 0, 0, 0, 0, 0, 0, 0, 0, 0, 0, 0, 0, 0, 0, 0, 0, 0, 0, 0, 0, 0, 0, 0, 0, 0, 0, 0, 0, 0, 0, 0, 0, 0, 0, 0, 0, 0, 0, 0, 0, 0, 0, 0, 0, 0, 0, 0, 0, 0, 0, 0, 0, 0, 0, 0, 0, 0, 0, 0, 0, 0, 0, 0, 0, 0, 0, 0, 0, 0, 0, 2, 0, 0, 0, 0, 0, 0, 0, 0, 0, 0, 0, 0, 0, 0, 0, 0, 0, 0, 0, 0, 0, 0, 0, 0, 0, 0, 0, 0, 0, 0, 0, 0, 0, 0, 0, 0, 0, 0, 0, 0, 0, 0, 0, 0, 0, 0, 0, 0, 0, 0, 0, 0, 0, 0, 0, 0, 0, 0, 0, 0, 0, 0, 0, 0, 0, 0, 0, 0, 0, 0, 0, 0, 0, 0, 0, 0, 0, 0, 0, 0, 0, 0, 0, 0, 0, 0, 0, 0, 0, 0, 0, 0, 0, 0, 0, 0, 0, 0, 0, 0, 0, 0, 0, 0, 0, 0, 0, 0, 0, 0, 0, 0, 0, 0, 0, 0, 0, 0, 0, 0, 0, 0, 0, 0, 0, 0, 0, 0, 0, 0, 0, 0, 0, 0, 0, 0, 0, 0, 0, 0, 0, 0, 0, 0, 0, 0, 0, 0, 0, 0, 0, 0, 0, 0, 0, 0, 0, 0, 0, 0, 0, 0, 0, 0, 0, 0, 0, 0, 0, 0, 0, 0, 0, 0, 0, 0, 0, 0, 0, 0, 0, 0, 0, 0, 0, 0, 0, 0, 0, 0, 0, 0, 0, 0, 0, 0, 0, 0, 0, 0, 0, 0, 0, 0, 0, 0, 0, 0, 0, 0, 0, 0, 0, 0, 0, 0, 0, 0, 0, 0, 0, 0, 0, 0, 0, 0, 0, 0, 0, 0, 0, 0, 0, 0, 0, 0, 0, 0, 0, 0, 0, 0, 0, 0, 0, 0, 0, 0, 0, 0, 0, 0, 0, 0, 0, 0, 0, 0, 0, 0, 0, 0, 0, 0, 0, 0, 0, 0, 0, 0, 0, 0, 0, 0, 0, 0, 0, 0, 0, 0, 0, 0, 0, 0, 0, 0, 0, 0, 0, 0, 0, 0, 0, 0, 0, 0, 0, 0, 0, 0, 0, 0, 0, 0, 0, 0, 0, 0, 0, 0, 0, 0, 0, 0, 0, 0, 0, 0, 0, 0, 0, 0, 0, 0, 0, 0, 0, 0, 0, 0, 0, 0, 0, 0, 0, 0, 0, 0, 0, 0, 0, 0, 0, 0, 0, 0, 0, 0, 0, 0, 0, 0, 0, 0, 0, 0, 0, 0, 0, 0, 0, 0, 0, 0, 0, 0, 0, 0, 0, 0, 0, 0, 0, 0, 0, 0, 0, 0, 0, 0, 0, 0, 0, 0, 0, 0, 0, 0, 0, 0, 0, 0, 0, 0, 0, 0, 0, 0, 0, 0, 0, 0, 0, 0, 0, 0, 0, 0, 0, 0, 0, 0, 0, 0, 0, 0, 0, 0, 0, 0, 0, 0, 0, 0, 0, 0, 0, 0, 0, 0, 0, 0, 0, 0, 0, 0, 0, 0, 0, 0, 0, 0, 0, 0, 0, 0, 0, 0, 0, 0, 0, 0, 0, 0, 0, 0, 0, 0, 0, 0, 0, 0, 0, 0, 0, 0, 0, 0, 0, 0, 0, 0, 0, 0, 0, 0, 0, 0, 0, 0, 0, 0, 0, 0, 0, 0, 0, 0, 0, 0, 0, 0, 0, 0, 0, 0, 0, 0, 0, 0, 0, 0, 0, 0, 0, 0, 0, 0, 0, 0, 0, 0, 0, 0, 0, 0, 0, 0, 0, 0, 0, 0, 0, 0, 0, 0, 0, 0, 0, 0, 0, 0, 0, 0, 0, 0, 0, 0, 0, 0, 0, 0, 0, 0, 0, 0, 0, 0, 0, 0, 0, 0, 0, 0, 0, 0, 0, 0, 0, 0, 0, 0, 0, 0, 0, 0, 0, 0, 0, 0, 0, 0, 0, 0, 0, 0, 0, 0, 0, 0, 0, 0, 0, 0, 0, 0, 0, 0, 0, 0, 0, 0, 0, 0, 0, 0, 0, 0, 0, 0, 0, 0, 0, 0, 0, 0, 0, 0, 0, 0, 0, 0, 0, 0, 0, 0, 0, 0, 0, 0, 0, 0, 0, 0, 0, 0, 0, 0, 0, 0, 0, 0, 0, 0, 0, 0, 0, 0, 0, 0, 0, 0, 0, 0, 0, 0, 0, 0, 0, 0, 0, 0, 0, 0, 0, 0, 0, 0, 0, 0, 0, 0, 0, 0, 0, 0, 0, 0, 0, 0, 0, 0, 0, 0, 0, 0, 0, 0, 0, 0, 0, 0, 0, 0, 0, 0, 0, 0, 0, 0, 1, 0, 0, 0, 0, 0, 0, 0, 0, 0, 0, 0, 0, 0, 0, 0, 0, 0, 0, 0, 0, 0, 0, 0, 0, 0, 0, 0, 0, 0, 0, 0, 0, 0, 0, 0, 0, 0, 0, 0, 0, 0, 0, 0, 0, 0, 0, 0, 0, 0, 0, 0, 0, 0, 0, 0, 0, 0, 0, 0, 0, 0, 0, 0, 0, 0, 0, 0, 0, 0, 0, 0, 0, 0, 0, 0, 0, 0, 0, 0, 0, 0, 0, 0, 0, 0, 0, 0, 0, 0, 0, 0, 0, 0, 0, 0, 0, 0, 0, 0, 0, 0, 0, 0, 0, 0, 0, 0, 1, 0, 0, 0, 0, 0, 0, 0, 0, 0, 0, 0, 0, 0, 0, 0, 0, 0, 0, 0, 0, 0, 0, 0, 0, 0, 0, 0, 0, 0, 0, 0, 0, 0, 0, 0, 0, 0, 0, 0, 0, 0, 0, 0, 0, 0, 0, 0, 0, 0, 0, 0, 0, 0, 0, 0, 0, 0, 0, 0, 0, 0, 0, 0, 0, 0, 0, 0, 0, 0, 0, 0, 0, 0, 0, 0, 0, 0, 0, 0, 0, 0, 0, 0, 0, 0, 0, 0, 0, 0, 0, 0, 0, 0, 0, 0, 0, 0, 0, 0, 0, 0, 0, 0, 0, 0, 0, 0, 0, 0, 0, 0, 0, 0, 0, 0, 0, 0, 0, 0, 0, 0, 0, 0, 0, 0, 0, 0, 0, 0, 0, 0, 0, 0, 0, 0, 0, 0, 0, 0, 0, 0, 0, 0, 0, 0, 0, 0, 0, 0, 0, 0, 0, 0, 0, 0, 0, 0, 0, 0, 0, 0, 0, 0, 0, 0, 0, 0, 0, 0, 0, 0, 0, 0, 0, 0, 0, 0, 0, 0, 0, 0, 0, 0, 0, 0, 0, 0, 0, 0, 0, 0, 0, 0, 0, 0, 0, 0, 0, 0, 0, 0, 0, 0, 0, 0, 0, 0, 0, 0, 0, 0, 0, 0, 0, 0, 0, 0, 0, 0, 0, 0, 0, 0, 0, 0, 0, 0, 0, 0, 0, 0, 0, 0, 0, 0, 0, 0, 0, 0, 0, 0, 0, 0, 0, 0, 0, 0, 0, 0, 0, 0, 0, 0, 0, 0, 0, 0, 0, 0, 0, 0, 0, 0, 0, 0, 0, 0, 0, 0, 0, 0, 0, 0, 0, 0, 0, 0, 0, 0, 0, 0, 0, 0, 0, 0, 0, 0, 0, 0, 0, 0, 0, 0, 0, 0, 0, 0, 0, 0, 0, 0, 0, 0, 0, 0, 0, 0, 0, 0, 0, 0, 0, 0, 0, 0, 0, 0, 0, 0, 0, 0, 0, 0, 0, 0, 0, 0, 0, 0, 0, 0, 0, 0, 0, 0, 0, 0, 0, 0, 0, 0, 0, 0, 0, 0, 0, 0, 0, 0, 0, 0, 0, 0, 0, 0, 0, 0, 0, 0, 0, 0, 0, 0, 0, 0, 0, 0, 0, 0, 0, 0, 0, 0, 0, 0, 0, 0, 0, 0, 0, 0, 0, 0, 0, 0, 0, 0, 0, 0, 0, 0, 0, 0, 0, 0, 0, 0, 0, 0, 0, 0, 0, 0, 0, 0, 0, 0, 0, 0, 0, 0, 0, 0, 0, 0, 0, 0, 0, 0, 0, 0, 0, 0, 0, 0, 0, 0, 0, 0, 0, 0, 0, 0, 0, 0, 0, 0, 0, 0, 0, 0, 0, 0, 0, 0, 0, 0, 0, 0, 0, 0, 0, 0, 0, 0, 0, 0, 0, 0, 0, 0, 0, 0, 2, 0, 1, 0], type: <class 'list'>, valid types: <class 'bytes'>, <class 'bytearray'>, file-like object",
     "output_type": "error",
     "traceback": [
      "\u001b[0;31m---------------------------------------------------------------------------\u001b[0m",
      "\u001b[0;31mParamValidationError\u001b[0m                      Traceback (most recent call last)",
      "\u001b[0;32m<ipython-input-76-c9ab54ae3a48>\u001b[0m in \u001b[0;36m<module>\u001b[0;34m()\u001b[0m\n\u001b[1;32m      1\u001b[0m response = runtime.invoke_endpoint(EndpointName = xgb_predictor.endpoint, # The name of the endpoint we created\n\u001b[1;32m      2\u001b[0m                                        \u001b[0mContentType\u001b[0m \u001b[0;34m=\u001b[0m \u001b[0;34m'text/csv'\u001b[0m\u001b[0;34m,\u001b[0m                     \u001b[0;31m# The data format that is expected\u001b[0m\u001b[0;34m\u001b[0m\u001b[0m\n\u001b[0;32m----> 3\u001b[0;31m                                        Body = test_bow)\n\u001b[0m",
      "\u001b[0;32m~/anaconda3/envs/python3/lib/python3.6/site-packages/botocore/client.py\u001b[0m in \u001b[0;36m_api_call\u001b[0;34m(self, *args, **kwargs)\u001b[0m\n\u001b[1;32m    355\u001b[0m                     \"%s() only accepts keyword arguments.\" % py_operation_name)\n\u001b[1;32m    356\u001b[0m             \u001b[0;31m# The \"self\" in this scope is referring to the BaseClient.\u001b[0m\u001b[0;34m\u001b[0m\u001b[0;34m\u001b[0m\u001b[0m\n\u001b[0;32m--> 357\u001b[0;31m             \u001b[0;32mreturn\u001b[0m \u001b[0mself\u001b[0m\u001b[0;34m.\u001b[0m\u001b[0m_make_api_call\u001b[0m\u001b[0;34m(\u001b[0m\u001b[0moperation_name\u001b[0m\u001b[0;34m,\u001b[0m \u001b[0mkwargs\u001b[0m\u001b[0;34m)\u001b[0m\u001b[0;34m\u001b[0m\u001b[0m\n\u001b[0m\u001b[1;32m    358\u001b[0m \u001b[0;34m\u001b[0m\u001b[0m\n\u001b[1;32m    359\u001b[0m         \u001b[0m_api_call\u001b[0m\u001b[0;34m.\u001b[0m\u001b[0m__name__\u001b[0m \u001b[0;34m=\u001b[0m \u001b[0mstr\u001b[0m\u001b[0;34m(\u001b[0m\u001b[0mpy_operation_name\u001b[0m\u001b[0;34m)\u001b[0m\u001b[0;34m\u001b[0m\u001b[0m\n",
      "\u001b[0;32m~/anaconda3/envs/python3/lib/python3.6/site-packages/botocore/client.py\u001b[0m in \u001b[0;36m_make_api_call\u001b[0;34m(self, operation_name, api_params)\u001b[0m\n\u001b[1;32m    632\u001b[0m         }\n\u001b[1;32m    633\u001b[0m         request_dict = self._convert_to_request_dict(\n\u001b[0;32m--> 634\u001b[0;31m             api_params, operation_model, context=request_context)\n\u001b[0m\u001b[1;32m    635\u001b[0m \u001b[0;34m\u001b[0m\u001b[0m\n\u001b[1;32m    636\u001b[0m         \u001b[0mservice_id\u001b[0m \u001b[0;34m=\u001b[0m \u001b[0mself\u001b[0m\u001b[0;34m.\u001b[0m\u001b[0m_service_model\u001b[0m\u001b[0;34m.\u001b[0m\u001b[0mservice_id\u001b[0m\u001b[0;34m.\u001b[0m\u001b[0mhyphenize\u001b[0m\u001b[0;34m(\u001b[0m\u001b[0;34m)\u001b[0m\u001b[0;34m\u001b[0m\u001b[0m\n",
      "\u001b[0;32m~/anaconda3/envs/python3/lib/python3.6/site-packages/botocore/client.py\u001b[0m in \u001b[0;36m_convert_to_request_dict\u001b[0;34m(self, api_params, operation_model, context)\u001b[0m\n\u001b[1;32m    680\u001b[0m             api_params, operation_model, context)\n\u001b[1;32m    681\u001b[0m         request_dict = self._serializer.serialize_to_request(\n\u001b[0;32m--> 682\u001b[0;31m             api_params, operation_model)\n\u001b[0m\u001b[1;32m    683\u001b[0m         \u001b[0;32mif\u001b[0m \u001b[0;32mnot\u001b[0m \u001b[0mself\u001b[0m\u001b[0;34m.\u001b[0m\u001b[0m_client_config\u001b[0m\u001b[0;34m.\u001b[0m\u001b[0minject_host_prefix\u001b[0m\u001b[0;34m:\u001b[0m\u001b[0;34m\u001b[0m\u001b[0m\n\u001b[1;32m    684\u001b[0m             \u001b[0mrequest_dict\u001b[0m\u001b[0;34m.\u001b[0m\u001b[0mpop\u001b[0m\u001b[0;34m(\u001b[0m\u001b[0;34m'host_prefix'\u001b[0m\u001b[0;34m,\u001b[0m \u001b[0;32mNone\u001b[0m\u001b[0;34m)\u001b[0m\u001b[0;34m\u001b[0m\u001b[0m\n",
      "\u001b[0;32m~/anaconda3/envs/python3/lib/python3.6/site-packages/botocore/validate.py\u001b[0m in \u001b[0;36mserialize_to_request\u001b[0;34m(self, parameters, operation_model)\u001b[0m\n\u001b[1;32m    295\u001b[0m                                                     operation_model.input_shape)\n\u001b[1;32m    296\u001b[0m             \u001b[0;32mif\u001b[0m \u001b[0mreport\u001b[0m\u001b[0;34m.\u001b[0m\u001b[0mhas_errors\u001b[0m\u001b[0;34m(\u001b[0m\u001b[0;34m)\u001b[0m\u001b[0;34m:\u001b[0m\u001b[0;34m\u001b[0m\u001b[0m\n\u001b[0;32m--> 297\u001b[0;31m                 \u001b[0;32mraise\u001b[0m \u001b[0mParamValidationError\u001b[0m\u001b[0;34m(\u001b[0m\u001b[0mreport\u001b[0m\u001b[0;34m=\u001b[0m\u001b[0mreport\u001b[0m\u001b[0;34m.\u001b[0m\u001b[0mgenerate_report\u001b[0m\u001b[0;34m(\u001b[0m\u001b[0;34m)\u001b[0m\u001b[0;34m)\u001b[0m\u001b[0;34m\u001b[0m\u001b[0m\n\u001b[0m\u001b[1;32m    298\u001b[0m         return self._serializer.serialize_to_request(parameters,\n\u001b[1;32m    299\u001b[0m                                                      operation_model)\n",
      "\u001b[0;31mParamValidationError\u001b[0m: Parameter validation failed:\nInvalid type for parameter Body, value: [0, 0, 0, 0, 0, 0, 0, 0, 0, 0, 0, 0, 0, 0, 0, 0, 0, 0, 0, 0, 0, 0, 0, 0, 0, 0, 0, 0, 0, 0, 0, 0, 0, 0, 0, 0, 0, 0, 0, 0, 0, 0, 0, 0, 0, 0, 0, 0, 0, 0, 0, 0, 0, 0, 0, 0, 0, 0, 0, 0, 0, 0, 0, 0, 0, 0, 0, 0, 0, 0, 0, 0, 0, 0, 0, 0, 0, 0, 0, 0, 0, 0, 0, 0, 0, 0, 0, 0, 0, 0, 0, 0, 0, 0, 0, 0, 0, 0, 0, 0, 0, 0, 0, 0, 0, 0, 0, 0, 0, 0, 0, 0, 0, 0, 0, 0, 0, 0, 0, 0, 0, 0, 0, 0, 0, 0, 0, 0, 0, 0, 0, 0, 0, 0, 0, 0, 0, 0, 0, 0, 0, 0, 0, 0, 0, 0, 0, 0, 0, 0, 0, 0, 0, 0, 0, 0, 0, 0, 0, 0, 0, 0, 0, 0, 0, 0, 0, 0, 0, 0, 0, 0, 0, 0, 0, 0, 0, 0, 0, 0, 0, 0, 0, 0, 0, 0, 0, 0, 0, 0, 0, 0, 0, 0, 0, 0, 0, 0, 0, 0, 0, 0, 0, 0, 0, 0, 0, 0, 0, 0, 0, 0, 0, 0, 0, 0, 0, 0, 0, 0, 0, 0, 0, 0, 0, 0, 1, 0, 0, 0, 0, 0, 0, 0, 0, 0, 0, 0, 0, 0, 0, 0, 0, 0, 0, 0, 0, 0, 0, 0, 0, 0, 0, 0, 0, 0, 1, 0, 0, 0, 0, 0, 0, 0, 0, 0, 0, 0, 0, 0, 0, 0, 0, 0, 0, 0, 0, 0, 0, 0, 0, 0, 0, 0, 0, 0, 0, 0, 0, 0, 0, 0, 0, 0, 0, 0, 0, 0, 0, 0, 0, 0, 0, 0, 0, 0, 0, 0, 0, 0, 0, 0, 0, 0, 0, 0, 0, 0, 0, 0, 0, 0, 0, 0, 0, 0, 0, 0, 0, 0, 0, 0, 0, 0, 0, 0, 0, 0, 0, 0, 0, 0, 0, 0, 0, 0, 0, 0, 0, 0, 0, 0, 0, 0, 0, 0, 0, 0, 0, 0, 0, 0, 0, 0, 0, 0, 0, 0, 0, 0, 0, 0, 0, 0, 0, 0, 0, 0, 0, 0, 0, 0, 0, 0, 0, 0, 0, 0, 0, 0, 0, 0, 0, 0, 0, 0, 0, 0, 0, 0, 0, 0, 0, 0, 0, 0, 0, 0, 0, 0, 0, 0, 0, 0, 0, 0, 0, 0, 0, 0, 0, 0, 0, 0, 0, 0, 0, 0, 0, 0, 0, 0, 0, 0, 0, 0, 0, 0, 0, 0, 0, 0, 0, 0, 0, 0, 0, 0, 0, 0, 0, 0, 0, 0, 0, 0, 0, 0, 0, 0, 0, 0, 0, 0, 0, 0, 0, 0, 0, 0, 0, 0, 0, 0, 0, 0, 0, 0, 0, 0, 0, 0, 0, 0, 0, 0, 0, 0, 0, 0, 0, 0, 0, 0, 0, 0, 0, 0, 0, 0, 0, 0, 0, 0, 0, 0, 0, 0, 0, 0, 0, 0, 0, 0, 0, 0, 0, 0, 0, 0, 0, 0, 0, 0, 0, 0, 0, 0, 0, 0, 0, 0, 0, 0, 0, 0, 0, 0, 0, 0, 0, 0, 0, 0, 0, 0, 0, 0, 0, 0, 0, 0, 0, 0, 0, 0, 0, 0, 0, 0, 0, 0, 0, 0, 0, 0, 0, 0, 0, 0, 0, 0, 0, 0, 0, 0, 0, 0, 0, 0, 0, 0, 0, 0, 0, 0, 0, 0, 0, 0, 0, 0, 0, 0, 0, 0, 0, 0, 0, 0, 0, 0, 0, 0, 0, 0, 0, 0, 0, 0, 0, 0, 0, 0, 0, 0, 0, 0, 0, 0, 0, 0, 0, 0, 0, 0, 0, 0, 0, 0, 0, 0, 0, 0, 0, 0, 1, 0, 0, 0, 0, 0, 0, 0, 0, 0, 0, 0, 0, 0, 0, 0, 0, 0, 0, 0, 0, 0, 0, 0, 0, 0, 0, 0, 0, 0, 0, 0, 0, 0, 0, 0, 0, 0, 0, 0, 0, 0, 0, 0, 0, 0, 0, 0, 0, 0, 0, 0, 0, 0, 0, 0, 0, 0, 0, 0, 0, 0, 0, 0, 0, 0, 0, 0, 0, 0, 0, 0, 0, 0, 0, 0, 0, 0, 0, 0, 0, 0, 0, 0, 0, 0, 0, 0, 0, 0, 0, 0, 0, 0, 0, 0, 0, 0, 0, 0, 0, 0, 0, 0, 0, 0, 0, 0, 0, 0, 0, 0, 0, 0, 0, 0, 0, 0, 0, 0, 0, 0, 0, 0, 0, 0, 0, 0, 0, 0, 0, 0, 0, 0, 0, 0, 0, 0, 0, 0, 0, 0, 0, 0, 0, 0, 0, 0, 0, 0, 0, 0, 0, 0, 0, 0, 0, 0, 0, 0, 0, 0, 0, 0, 0, 0, 0, 0, 0, 0, 0, 0, 0, 0, 0, 0, 0, 0, 0, 0, 0, 0, 0, 0, 0, 0, 0, 0, 0, 0, 0, 0, 0, 0, 0, 0, 0, 0, 0, 0, 0, 0, 0, 0, 0, 0, 0, 0, 0, 0, 0, 0, 0, 0, 0, 0, 0, 0, 0, 0, 0, 0, 0, 0, 0, 0, 0, 0, 0, 0, 0, 0, 0, 0, 0, 0, 0, 0, 0, 0, 0, 0, 0, 0, 0, 0, 0, 0, 0, 0, 0, 0, 0, 0, 1, 0, 0, 0, 0, 0, 0, 0, 0, 0, 0, 0, 0, 0, 0, 0, 0, 0, 0, 0, 0, 0, 0, 0, 0, 0, 0, 0, 0, 0, 0, 0, 0, 0, 0, 0, 0, 0, 0, 0, 0, 0, 0, 0, 0, 0, 0, 0, 0, 0, 0, 0, 0, 0, 0, 0, 0, 0, 0, 0, 0, 0, 0, 0, 0, 0, 0, 0, 0, 0, 0, 0, 0, 0, 0, 0, 0, 0, 0, 0, 0, 0, 0, 0, 0, 0, 0, 1, 0, 0, 0, 0, 0, 0, 0, 0, 0, 0, 0, 0, 0, 0, 0, 0, 0, 0, 0, 0, 0, 0, 0, 0, 0, 0, 0, 0, 0, 0, 0, 0, 0, 0, 0, 0, 0, 0, 0, 0, 0, 0, 0, 0, 0, 0, 0, 0, 0, 0, 0, 0, 0, 0, 0, 0, 0, 0, 0, 0, 0, 0, 0, 0, 0, 0, 0, 0, 0, 0, 0, 0, 0, 0, 0, 0, 0, 0, 0, 0, 0, 0, 0, 0, 0, 0, 0, 0, 0, 0, 0, 0, 0, 0, 0, 0, 0, 0, 0, 0, 0, 0, 0, 0, 0, 0, 0, 0, 0, 0, 0, 0, 0, 0, 0, 0, 0, 0, 0, 0, 0, 0, 0, 0, 0, 0, 0, 0, 0, 0, 0, 0, 0, 0, 0, 0, 0, 0, 0, 0, 0, 0, 0, 0, 0, 0, 0, 0, 0, 0, 0, 0, 0, 0, 0, 0, 0, 0, 0, 0, 0, 0, 0, 0, 0, 0, 0, 0, 0, 0, 0, 0, 0, 0, 0, 0, 0, 0, 0, 0, 0, 0, 0, 0, 0, 0, 0, 0, 0, 0, 0, 0, 0, 0, 0, 0, 0, 0, 0, 0, 0, 0, 0, 0, 0, 0, 0, 0, 0, 0, 0, 0, 0, 0, 0, 0, 0, 0, 0, 0, 0, 0, 0, 0, 0, 0, 0, 0, 0, 0, 0, 0, 0, 0, 0, 0, 0, 0, 0, 0, 0, 0, 0, 0, 0, 0, 0, 0, 0, 0, 0, 0, 1, 0, 0, 0, 0, 0, 0, 0, 0, 0, 0, 0, 0, 0, 0, 0, 0, 0, 0, 0, 0, 0, 0, 0, 0, 0, 0, 0, 0, 0, 0, 0, 0, 0, 0, 0, 0, 0, 0, 0, 0, 0, 0, 0, 0, 0, 0, 0, 0, 0, 0, 0, 0, 0, 0, 0, 1, 0, 0, 0, 0, 0, 0, 0, 0, 0, 0, 0, 0, 0, 0, 0, 0, 0, 0, 0, 0, 0, 0, 0, 0, 0, 0, 0, 0, 0, 0, 0, 0, 0, 0, 0, 0, 0, 0, 0, 0, 0, 0, 0, 0, 0, 0, 0, 0, 0, 0, 0, 0, 0, 0, 0, 0, 0, 0, 0, 0, 0, 0, 0, 0, 0, 0, 0, 0, 0, 0, 0, 0, 0, 0, 0, 0, 0, 0, 0, 0, 0, 0, 0, 0, 0, 0, 0, 0, 0, 0, 0, 0, 0, 0, 0, 0, 0, 0, 0, 0, 0, 0, 0, 0, 0, 0, 0, 0, 0, 0, 0, 0, 0, 0, 0, 0, 0, 0, 0, 0, 0, 0, 0, 0, 0, 0, 0, 0, 0, 0, 0, 0, 0, 0, 0, 0, 0, 0, 0, 0, 0, 0, 0, 0, 0, 0, 0, 0, 0, 0, 0, 0, 0, 0, 0, 0, 0, 0, 0, 0, 0, 0, 0, 0, 0, 0, 0, 0, 0, 0, 0, 0, 0, 0, 0, 0, 0, 0, 0, 0, 0, 0, 0, 0, 0, 0, 0, 0, 0, 0, 0, 0, 0, 0, 0, 0, 0, 0, 0, 0, 0, 0, 0, 0, 0, 0, 0, 0, 0, 0, 0, 0, 0, 0, 0, 0, 0, 0, 0, 0, 0, 0, 0, 0, 0, 0, 0, 0, 0, 0, 0, 0, 0, 0, 0, 0, 0, 0, 0, 0, 0, 0, 0, 0, 0, 0, 0, 0, 0, 0, 0, 0, 0, 0, 0, 0, 0, 0, 0, 0, 0, 0, 0, 0, 0, 0, 0, 0, 0, 0, 0, 0, 0, 0, 0, 0, 0, 0, 0, 0, 0, 0, 0, 0, 0, 0, 0, 0, 0, 0, 0, 0, 0, 0, 0, 0, 0, 0, 0, 0, 0, 0, 0, 0, 0, 0, 0, 0, 0, 0, 0, 0, 0, 0, 0, 0, 0, 0, 0, 0, 0, 0, 0, 0, 0, 0, 0, 0, 0, 0, 0, 0, 0, 0, 0, 0, 0, 0, 0, 0, 0, 0, 0, 0, 0, 0, 0, 0, 0, 0, 0, 0, 0, 0, 0, 0, 0, 0, 0, 0, 0, 0, 0, 0, 0, 0, 0, 0, 0, 0, 0, 0, 0, 0, 0, 0, 0, 0, 0, 0, 0, 0, 0, 0, 0, 0, 0, 0, 0, 0, 0, 0, 0, 0, 0, 0, 0, 0, 0, 0, 0, 0, 0, 0, 0, 0, 0, 0, 0, 0, 0, 0, 0, 0, 0, 0, 0, 0, 0, 0, 0, 0, 0, 0, 0, 0, 0, 0, 0, 0, 0, 0, 0, 0, 0, 0, 0, 0, 0, 0, 0, 0, 0, 0, 0, 0, 0, 0, 0, 0, 0, 0, 0, 0, 0, 0, 0, 0, 0, 0, 0, 0, 0, 0, 0, 0, 0, 0, 0, 0, 0, 0, 0, 0, 0, 0, 0, 0, 0, 0, 0, 0, 0, 0, 0, 0, 0, 0, 0, 0, 0, 0, 0, 0, 0, 0, 0, 0, 0, 0, 0, 0, 0, 0, 0, 0, 0, 0, 0, 0, 0, 0, 0, 0, 0, 0, 0, 0, 0, 0, 0, 0, 0, 0, 0, 0, 0, 0, 0, 0, 0, 0, 0, 0, 0, 0, 0, 0, 0, 0, 0, 0, 0, 0, 0, 0, 0, 0, 0, 0, 0, 0, 0, 0, 0, 0, 0, 0, 0, 0, 0, 0, 0, 0, 0, 0, 0, 0, 0, 0, 0, 0, 0, 0, 0, 0, 0, 0, 0, 0, 0, 0, 0, 0, 0, 0, 0, 0, 0, 0, 0, 0, 0, 0, 0, 0, 0, 0, 0, 0, 0, 0, 0, 0, 0, 0, 0, 0, 0, 0, 0, 0, 0, 0, 0, 0, 0, 0, 0, 0, 0, 0, 0, 0, 0, 0, 0, 0, 0, 0, 0, 0, 0, 0, 0, 0, 0, 0, 0, 0, 0, 0, 0, 0, 0, 0, 0, 0, 0, 0, 0, 0, 0, 0, 0, 0, 0, 0, 0, 0, 0, 0, 0, 0, 0, 0, 0, 0, 0, 0, 0, 0, 0, 0, 0, 0, 0, 0, 0, 0, 0, 1, 0, 0, 0, 0, 0, 0, 0, 0, 0, 0, 0, 0, 0, 0, 0, 0, 0, 0, 0, 0, 0, 0, 0, 0, 0, 0, 0, 0, 0, 0, 0, 0, 0, 0, 0, 0, 0, 0, 0, 0, 0, 0, 0, 0, 0, 0, 0, 0, 0, 0, 0, 0, 0, 0, 0, 0, 0, 0, 0, 0, 0, 0, 0, 0, 0, 0, 0, 0, 0, 0, 0, 0, 0, 0, 1, 0, 0, 0, 0, 0, 0, 0, 0, 0, 0, 0, 0, 0, 0, 0, 0, 0, 0, 0, 0, 1, 0, 0, 1, 0, 0, 0, 0, 0, 0, 0, 0, 0, 0, 0, 0, 0, 0, 0, 0, 0, 0, 0, 0, 0, 0, 0, 0, 0, 0, 0, 0, 0, 0, 0, 0, 0, 0, 0, 0, 0, 0, 0, 0, 0, 0, 0, 0, 0, 0, 0, 0, 0, 0, 0, 0, 0, 0, 0, 0, 0, 0, 0, 0, 0, 0, 0, 0, 0, 0, 0, 0, 0, 0, 0, 0, 0, 0, 0, 0, 0, 0, 0, 0, 0, 0, 0, 0, 0, 0, 0, 0, 0, 0, 0, 0, 0, 0, 0, 0, 0, 0, 0, 0, 0, 0, 0, 0, 0, 0, 0, 0, 0, 0, 0, 0, 0, 0, 0, 0, 0, 0, 0, 0, 0, 0, 0, 0, 0, 0, 0, 0, 0, 0, 0, 0, 0, 0, 0, 0, 0, 0, 0, 0, 0, 0, 0, 0, 0, 0, 0, 0, 0, 0, 0, 0, 0, 0, 0, 0, 0, 0, 0, 0, 0, 0, 0, 0, 0, 0, 0, 0, 0, 0, 0, 0, 0, 0, 0, 0, 0, 0, 0, 0, 0, 0, 0, 0, 0, 0, 0, 0, 0, 0, 0, 0, 0, 0, 0, 0, 0, 0, 0, 0, 0, 0, 0, 0, 0, 0, 0, 0, 0, 0, 0, 0, 0, 0, 0, 0, 0, 0, 0, 0, 0, 0, 0, 0, 0, 0, 0, 0, 0, 0, 0, 0, 0, 0, 0, 0, 0, 0, 0, 0, 0, 0, 0, 0, 0, 0, 0, 0, 0, 0, 0, 0, 0, 0, 0, 0, 0, 0, 0, 0, 0, 0, 0, 0, 0, 0, 0, 0, 0, 0, 0, 0, 0, 0, 0, 0, 0, 0, 0, 0, 0, 0, 0, 0, 0, 0, 0, 0, 0, 0, 0, 0, 0, 0, 0, 0, 0, 0, 0, 0, 0, 0, 0, 0, 0, 0, 0, 0, 0, 0, 0, 0, 0, 0, 0, 0, 0, 0, 0, 0, 0, 0, 0, 0, 0, 0, 0, 0, 0, 0, 0, 0, 0, 0, 0, 0, 0, 0, 0, 0, 0, 0, 0, 0, 0, 0, 0, 0, 0, 0, 0, 0, 0, 0, 0, 0, 0, 0, 0, 0, 0, 0, 0, 0, 0, 0, 0, 0, 0, 0, 0, 0, 0, 0, 0, 0, 0, 0, 0, 0, 0, 0, 0, 0, 0, 0, 0, 0, 0, 0, 0, 0, 0, 0, 0, 0, 0, 0, 0, 0, 0, 0, 0, 0, 0, 0, 0, 0, 0, 0, 0, 0, 0, 0, 0, 0, 0, 0, 0, 0, 0, 0, 0, 0, 0, 0, 0, 0, 0, 0, 0, 0, 0, 0, 0, 0, 0, 0, 0, 0, 0, 0, 0, 0, 0, 0, 0, 0, 0, 0, 0, 0, 0, 0, 0, 0, 0, 0, 0, 0, 0, 0, 0, 0, 0, 0, 1, 0, 0, 0, 0, 0, 0, 0, 0, 0, 0, 0, 0, 0, 0, 0, 0, 0, 0, 0, 0, 0, 0, 0, 0, 0, 0, 0, 0, 0, 0, 0, 0, 0, 0, 0, 0, 0, 0, 0, 0, 0, 0, 0, 0, 0, 0, 0, 0, 0, 0, 0, 0, 0, 0, 0, 0, 0, 0, 0, 0, 0, 0, 0, 0, 0, 0, 0, 0, 0, 0, 0, 0, 0, 0, 0, 0, 0, 0, 0, 0, 0, 0, 0, 0, 0, 0, 0, 0, 0, 0, 0, 0, 0, 0, 0, 0, 0, 0, 0, 0, 0, 0, 0, 0, 0, 0, 0, 0, 0, 0, 0, 0, 0, 0, 0, 0, 0, 0, 0, 0, 0, 0, 0, 0, 0, 0, 0, 0, 0, 0, 0, 0, 0, 0, 0, 0, 0, 0, 0, 0, 0, 0, 0, 0, 0, 0, 0, 0, 0, 0, 0, 0, 0, 0, 0, 0, 0, 0, 0, 0, 0, 0, 0, 0, 0, 0, 0, 0, 0, 0, 0, 0, 0, 0, 0, 0, 0, 0, 0, 0, 0, 0, 0, 0, 0, 0, 0, 0, 0, 0, 0, 0, 0, 0, 0, 0, 0, 0, 0, 0, 0, 0, 0, 0, 0, 0, 0, 0, 0, 0, 0, 0, 0, 0, 0, 0, 0, 0, 0, 0, 0, 0, 0, 0, 0, 0, 0, 0, 0, 0, 0, 0, 0, 0, 0, 0, 0, 0, 0, 0, 0, 0, 0, 0, 0, 0, 0, 0, 0, 0, 0, 0, 0, 0, 0, 0, 0, 0, 0, 0, 0, 0, 0, 0, 0, 0, 0, 0, 0, 0, 0, 0, 0, 0, 0, 0, 0, 0, 0, 0, 0, 0, 0, 0, 0, 0, 0, 0, 0, 0, 0, 0, 0, 0, 0, 0, 0, 0, 0, 0, 0, 0, 0, 0, 0, 0, 0, 0, 0, 0, 0, 0, 0, 0, 0, 0, 0, 0, 0, 0, 0, 0, 0, 0, 0, 0, 0, 0, 0, 0, 0, 0, 0, 0, 0, 0, 0, 0, 0, 0, 0, 0, 0, 0, 0, 0, 0, 0, 0, 0, 0, 0, 0, 0, 0, 0, 0, 0, 0, 0, 0, 0, 0, 0, 0, 0, 0, 0, 0, 0, 0, 0, 0, 0, 0, 0, 0, 0, 0, 0, 0, 0, 0, 0, 0, 0, 0, 0, 0, 0, 0, 0, 0, 0, 0, 0, 0, 0, 0, 0, 0, 0, 0, 0, 0, 0, 0, 0, 0, 0, 0, 0, 0, 0, 0, 0, 0, 0, 0, 0, 0, 0, 0, 0, 0, 0, 0, 0, 0, 0, 0, 0, 0, 0, 0, 0, 0, 0, 0, 0, 0, 0, 0, 0, 0, 0, 0, 0, 0, 0, 0, 0, 0, 0, 0, 0, 0, 0, 0, 0, 0, 0, 0, 0, 0, 0, 0, 0, 0, 0, 0, 0, 0, 0, 0, 0, 0, 0, 0, 0, 0, 0, 0, 0, 0, 0, 0, 0, 0, 0, 0, 0, 0, 0, 0, 0, 0, 0, 0, 0, 0, 0, 0, 0, 0, 0, 0, 0, 0, 0, 0, 0, 1, 0, 0, 0, 0, 0, 0, 0, 0, 0, 0, 0, 0, 0, 0, 0, 0, 0, 0, 0, 0, 0, 0, 0, 0, 0, 0, 0, 0, 0, 0, 0, 0, 0, 0, 0, 2, 0, 0, 0, 0, 0, 0, 0, 0, 0, 0, 0, 0, 0, 0, 0, 0, 0, 0, 0, 0, 0, 0, 0, 0, 0, 0, 0, 0, 0, 0, 0, 0, 0, 0, 0, 0, 0, 0, 0, 0, 1, 0, 0, 0, 0, 0, 0, 0, 0, 0, 0, 0, 0, 0, 0, 0, 0, 0, 0, 0, 0, 0, 0, 0, 0, 0, 0, 0, 0, 0, 0, 0, 0, 0, 0, 0, 0, 0, 0, 0, 0, 0, 0, 0, 0, 0, 0, 0, 0, 0, 0, 0, 0, 0, 0, 0, 0, 0, 0, 0, 0, 0, 0, 0, 0, 0, 0, 0, 0, 0, 0, 0, 0, 0, 0, 0, 0, 0, 0, 0, 0, 0, 0, 0, 0, 0, 0, 0, 0, 0, 0, 0, 0, 0, 0, 0, 0, 0, 0, 0, 0, 0, 0, 0, 0, 0, 0, 0, 0, 0, 0, 0, 0, 0, 0, 0, 0, 0, 0, 0, 0, 0, 0, 0, 0, 0, 0, 0, 0, 0, 0, 0, 0, 0, 0, 0, 0, 0, 0, 0, 0, 0, 0, 0, 0, 0, 0, 0, 0, 0, 0, 0, 0, 0, 0, 0, 0, 0, 0, 0, 0, 0, 0, 0, 0, 0, 0, 0, 0, 0, 0, 0, 0, 0, 0, 0, 0, 0, 0, 0, 0, 0, 0, 0, 0, 0, 0, 0, 0, 0, 0, 0, 0, 0, 0, 0, 0, 0, 0, 0, 0, 0, 0, 0, 0, 0, 0, 0, 0, 0, 0, 0, 0, 0, 0, 0, 0, 0, 0, 0, 0, 0, 0, 0, 0, 0, 0, 0, 0, 0, 0, 0, 0, 0, 0, 0, 0, 0, 0, 0, 0, 0, 0, 0, 0, 0, 0, 0, 0, 0, 0, 0, 0, 0, 0, 0, 0, 0, 0, 0, 0, 0, 0, 0, 0, 0, 0, 0, 0, 0, 0, 0, 0, 0, 0, 0, 0, 0, 0, 0, 0, 0, 0, 0, 0, 0, 0, 0, 0, 0, 0, 0, 0, 0, 0, 0, 0, 0, 0, 0, 0, 0, 0, 0, 0, 0, 0, 0, 0, 0, 0, 0, 0, 0, 0, 0, 0, 0, 0, 0, 0, 0, 0, 0, 0, 0, 0, 0, 0, 0, 0, 0, 0, 0, 0, 0, 0, 0, 0, 0, 0, 0, 0, 0, 0, 0, 0, 0, 0, 0, 0, 0, 0, 0, 0, 0, 0, 0, 0, 0, 0, 0, 0, 0, 0, 0, 0, 0, 0, 0, 0, 0, 0, 0, 0, 0, 0, 0, 0, 0, 0, 0, 0, 0, 0, 0, 0, 0, 0, 0, 0, 0, 0, 0, 0, 0, 0, 0, 0, 0, 0, 0, 0, 0, 0, 0, 0, 0, 0, 0, 0, 0, 0, 0, 0, 0, 0, 0, 0, 0, 0, 0, 0, 0, 0, 0, 0, 0, 0, 0, 0, 0, 0, 0, 0, 0, 0, 0, 0, 0, 0, 0, 0, 0, 0, 0, 0, 0, 0, 0, 0, 0, 0, 0, 0, 0, 0, 0, 0, 0, 0, 0, 0, 0, 0, 0, 0, 0, 0, 0, 0, 0, 0, 0, 0, 0, 0, 0, 0, 0, 0, 0, 0, 0, 0, 0, 0, 0, 0, 0, 0, 0, 0, 0, 0, 0, 0, 0, 1, 0, 0, 0, 0, 0, 0, 0, 0, 0, 0, 0, 0, 0, 0, 0, 0, 0, 0, 0, 0, 0, 0, 0, 0, 0, 0, 0, 0, 0, 0, 0, 0, 0, 0, 0, 0, 0, 0, 0, 0, 0, 0, 0, 0, 0, 0, 0, 0, 0, 0, 0, 0, 0, 0, 0, 0, 0, 0, 0, 0, 0, 0, 0, 0, 0, 0, 0, 0, 0, 0, 0, 0, 0, 0, 0, 0, 0, 0, 0, 0, 0, 0, 0, 0, 0, 0, 0, 0, 0, 0, 0, 0, 0, 0, 0, 0, 0, 0, 0, 0, 0, 0, 0, 0, 0, 0, 0, 0, 0, 0, 2, 0, 0, 0, 0, 0, 0, 0, 0, 0, 0, 0, 0, 0, 0, 0, 0, 0, 0, 0, 0, 0, 0, 0, 0, 0, 0, 0, 0, 0, 0, 0, 0, 0, 0, 0, 0, 0, 0, 0, 0, 0, 0, 0, 0, 0, 0, 0, 0, 0, 0, 0, 0, 0, 0, 0, 0, 0, 0, 0, 0, 0, 0, 0, 0, 0, 0, 0, 0, 0, 0, 0, 0, 0, 0, 0, 0, 0, 0, 0, 0, 0, 0, 0, 0, 0, 0, 0, 0, 0, 0, 0, 0, 0, 0, 0, 0, 0, 0, 0, 0, 0, 0, 0, 0, 0, 0, 0, 0, 0, 0, 0, 0, 0, 0, 0, 0, 0, 0, 0, 0, 0, 0, 0, 0, 0, 0, 0, 0, 0, 0, 0, 0, 0, 0, 0, 0, 0, 0, 0, 0, 0, 0, 0, 0, 0, 0, 0, 0, 0, 0, 0, 0, 0, 0, 0, 0, 0, 0, 0, 0, 0, 0, 0, 0, 0, 0, 0, 0, 0, 0, 0, 0, 0, 0, 0, 0, 0, 0, 0, 0, 0, 0, 0, 0, 0, 0, 0, 0, 0, 0, 0, 0, 0, 0, 0, 0, 0, 0, 0, 0, 0, 0, 0, 0, 0, 0, 0, 0, 0, 0, 0, 0, 0, 0, 0, 0, 0, 0, 0, 0, 0, 0, 0, 0, 0, 0, 0, 0, 0, 0, 0, 0, 0, 0, 0, 0, 0, 0, 0, 0, 0, 0, 0, 0, 0, 0, 0, 0, 0, 0, 0, 0, 0, 0, 0, 0, 0, 0, 0, 0, 0, 0, 0, 0, 0, 0, 0, 0, 0, 0, 0, 0, 0, 0, 0, 0, 0, 0, 0, 0, 0, 0, 0, 0, 0, 0, 0, 0, 0, 0, 0, 0, 0, 0, 0, 0, 0, 0, 0, 0, 0, 0, 0, 0, 0, 0, 0, 0, 0, 0, 0, 0, 0, 0, 0, 0, 0, 0, 0, 0, 0, 0, 0, 0, 0, 0, 0, 0, 0, 0, 0, 0, 0, 0, 0, 0, 0, 0, 0, 0, 0, 0, 0, 0, 0, 0, 0, 0, 0, 0, 0, 0, 0, 0, 0, 0, 0, 0, 0, 0, 0, 0, 0, 0, 0, 0, 0, 0, 0, 0, 0, 0, 0, 0, 0, 0, 0, 0, 0, 0, 0, 0, 0, 0, 0, 0, 0, 0, 0, 0, 0, 0, 0, 0, 0, 0, 0, 0, 0, 0, 0, 0, 0, 0, 0, 0, 0, 0, 0, 0, 0, 0, 0, 0, 0, 0, 0, 0, 0, 0, 0, 0, 0, 0, 0, 0, 0, 0, 0, 0, 0, 0, 0, 0, 0, 0, 0, 0, 0, 0, 0, 0, 0, 0, 0, 0, 0, 0, 0, 0, 0, 0, 0, 0, 0, 0, 0, 0, 0, 0, 0, 0, 0, 0, 0, 0, 0, 0, 0, 0, 0, 0, 0, 0, 0, 0, 0, 0, 0, 0, 0, 0, 0, 0, 0, 0, 0, 0, 0, 0, 0, 0, 0, 0, 0, 0, 0, 0, 0, 0, 0, 0, 0, 0, 0, 0, 0, 0, 0, 0, 0, 0, 0, 0, 0, 0, 0, 0, 0, 0, 0, 0, 0, 0, 0, 0, 0, 0, 0, 0, 0, 0, 0, 0, 0, 0, 0, 0, 0, 0, 0, 0, 0, 0, 0, 0, 0, 0, 0, 0, 0, 0, 0, 0, 0, 0, 0, 0, 0, 0, 0, 0, 0, 0, 0, 0, 0, 0, 0, 0, 0, 0, 0, 0, 0, 0, 0, 0, 0, 0, 0, 0, 0, 0, 0, 0, 0, 0, 0, 0, 0, 0, 0, 0, 0, 0, 0, 0, 0, 0, 0, 0, 0, 0, 0, 0, 0, 0, 0, 0, 0, 0, 0, 0, 0, 0, 0, 0, 0, 0, 0, 0, 0, 0, 0, 0, 0, 0, 0, 0, 0, 0, 0, 0, 0, 0, 0, 0, 0, 0, 0, 0, 0, 0, 0, 0, 0, 0, 0, 0, 0, 0, 0, 0, 0, 0, 0, 0, 0, 0, 0, 0, 0, 0, 0, 0, 0, 0, 0, 0, 0, 0, 0, 0, 0, 0, 0, 0, 0, 0, 0, 0, 0, 0, 0, 0, 0, 0, 0, 0, 1, 0, 0, 0, 0, 0, 0, 0, 0, 0, 0, 0, 0, 0, 0, 0, 0, 0, 0, 0, 0, 0, 0, 0, 0, 0, 0, 0, 0, 0, 0, 0, 0, 0, 0, 0, 0, 0, 0, 0, 0, 0, 0, 0, 0, 0, 0, 0, 0, 0, 0, 0, 0, 0, 0, 0, 0, 0, 0, 0, 0, 0, 0, 0, 0, 0, 0, 0, 0, 0, 0, 0, 0, 0, 0, 0, 0, 0, 0, 0, 0, 0, 0, 0, 0, 0, 0, 0, 0, 0, 0, 0, 0, 0, 0, 0, 0, 0, 0, 0, 0, 0, 0, 0, 0, 0, 0, 0, 1, 0, 0, 0, 0, 0, 0, 0, 0, 0, 0, 0, 0, 0, 0, 0, 0, 0, 0, 0, 0, 0, 0, 0, 0, 0, 0, 0, 0, 0, 0, 0, 0, 0, 0, 0, 0, 0, 0, 0, 0, 0, 0, 0, 0, 0, 0, 0, 0, 0, 0, 0, 0, 0, 0, 0, 0, 0, 0, 0, 0, 0, 0, 0, 0, 0, 0, 0, 0, 0, 0, 0, 0, 0, 0, 0, 0, 0, 0, 0, 0, 0, 0, 0, 0, 0, 0, 0, 0, 0, 0, 0, 0, 0, 0, 0, 0, 0, 0, 0, 0, 0, 0, 0, 0, 0, 0, 0, 0, 0, 0, 0, 0, 0, 0, 0, 0, 0, 0, 0, 0, 0, 0, 0, 0, 0, 0, 0, 0, 0, 0, 0, 0, 0, 0, 0, 0, 0, 0, 0, 0, 0, 0, 0, 0, 0, 0, 0, 0, 0, 0, 0, 0, 0, 0, 0, 0, 0, 0, 0, 0, 0, 0, 0, 0, 0, 0, 0, 0, 0, 0, 0, 0, 0, 0, 0, 0, 0, 0, 0, 0, 0, 0, 0, 0, 0, 0, 0, 0, 0, 0, 0, 0, 0, 0, 0, 0, 0, 0, 0, 0, 0, 0, 0, 0, 0, 0, 0, 0, 0, 0, 0, 0, 0, 0, 0, 0, 0, 0, 0, 0, 0, 0, 0, 0, 0, 0, 0, 0, 0, 0, 0, 0, 0, 0, 0, 0, 0, 0, 0, 0, 0, 0, 0, 0, 0, 0, 0, 0, 0, 0, 0, 0, 0, 0, 0, 0, 0, 0, 0, 0, 0, 0, 0, 0, 0, 0, 0, 0, 0, 0, 0, 0, 0, 0, 0, 0, 0, 0, 0, 0, 0, 0, 0, 0, 0, 0, 0, 0, 0, 0, 0, 0, 0, 0, 0, 0, 0, 0, 0, 0, 0, 0, 0, 0, 0, 0, 0, 0, 0, 0, 0, 0, 0, 0, 0, 0, 0, 0, 0, 0, 0, 0, 0, 0, 0, 0, 0, 0, 0, 0, 0, 0, 0, 0, 0, 0, 0, 0, 0, 0, 0, 0, 0, 0, 0, 0, 0, 0, 0, 0, 0, 0, 0, 0, 0, 0, 0, 0, 0, 0, 0, 0, 0, 0, 0, 0, 0, 0, 0, 0, 0, 0, 0, 0, 0, 0, 0, 0, 0, 0, 0, 0, 0, 0, 0, 0, 0, 0, 0, 0, 0, 0, 0, 0, 0, 0, 0, 0, 0, 0, 0, 0, 0, 0, 0, 0, 0, 0, 0, 0, 0, 0, 0, 0, 0, 0, 0, 0, 0, 0, 0, 0, 0, 0, 0, 0, 0, 0, 0, 0, 0, 0, 0, 0, 0, 0, 0, 0, 0, 0, 0, 0, 0, 0, 0, 0, 0, 0, 0, 0, 0, 0, 0, 0, 0, 0, 0, 0, 0, 0, 0, 0, 0, 2, 0, 1, 0], type: <class 'list'>, valid types: <class 'bytes'>, <class 'bytearray'>, file-like object"
     ]
    }
   ],
   "source": [
    "response = runtime.invoke_endpoint(EndpointName = xgb_predictor.endpoint, # The name of the endpoint we created\n",
    "                                       ContentType = 'text/csv',                     # The data format that is expected\n",
    "                                       Body = test_bow)"
   ]
  },
  {
   "cell_type": "markdown",
   "metadata": {},
   "source": [
    "So why did we get an error?\n",
    "\n",
    "Because we tried to send the endpoint a list of integers but it expected us to send data of type `text/csv`. So, we need to convert it."
   ]
  },
  {
   "cell_type": "code",
   "execution_count": 77,
   "metadata": {},
   "outputs": [],
   "source": [
    "response = runtime.invoke_endpoint(EndpointName = xgb_predictor.endpoint, # The name of the endpoint we created\n",
    "                                       ContentType = 'text/csv',                     # The data format that is expected\n",
    "                                       Body = ','.join([str(val) for val in test_bow]).encode('utf-8'))"
   ]
  },
  {
   "cell_type": "code",
   "execution_count": 78,
   "metadata": {},
   "outputs": [
    {
     "name": "stdout",
     "output_type": "stream",
     "text": [
      "{'ResponseMetadata': {'RequestId': '7e30f020-3b5e-4aac-ba78-751ad197b3b4', 'HTTPStatusCode': 200, 'HTTPHeaders': {'x-amzn-requestid': '7e30f020-3b5e-4aac-ba78-751ad197b3b4', 'x-amzn-invoked-production-variant': 'AllTraffic', 'date': 'Thu, 1 Aug 2019 14:11:28 GMT', 'content-type': 'text/csv; charset=utf-8', 'content-length': '13'}, 'RetryAttempts': 0}, 'ContentType': 'text/csv; charset=utf-8', 'InvokedProductionVariant': 'AllTraffic', 'Body': <botocore.response.StreamingBody object at 0x7f5cacfc3668>}\n"
     ]
    }
   ],
   "source": [
    "print(response)"
   ]
  },
  {
   "cell_type": "markdown",
   "metadata": {},
   "source": [
    "As we can see, the response from our model is a somewhat complicated looking dict that contains a bunch of information. The bit that we are most interested in is `'Body'` object which is a streaming object that we need to `read` in order to make use of."
   ]
  },
  {
   "cell_type": "code",
   "execution_count": 79,
   "metadata": {},
   "outputs": [
    {
     "name": "stdout",
     "output_type": "stream",
     "text": [
      "0.44395801425\n"
     ]
    }
   ],
   "source": [
    "response = response['Body'].read().decode('utf-8')\n",
    "print(response)"
   ]
  },
  {
   "cell_type": "markdown",
   "metadata": {},
   "source": [
    "Now that we know how to process the incoming user data we can start setting up the infrastructure to make our simple web app work. To do this we will make use of two different services. Amazon's Lambda and API Gateway services.\n",
    "\n",
    "Lambda is a service which allows someone to write some relatively simple code and have it executed whenever a chosen trigger occurs. For example, you may want to update a database whenever new data is uploaded to a folder stored on S3.\n",
    "\n",
    "API Gateway is a service that allows you to create HTTP endpoints (url addresses) which are connected to other AWS services. One of the benefits to this is that you get to decide what credentials, if any, are required to access these endpoints.\n",
    "\n",
    "In our case we are going to set up an HTTP endpoint through API Gateway which is open to the public. Then, whenever anyone sends data to our public endpoint we will trigger a Lambda function which will send the input (in our case a review) to our model's endpoint and then return the result."
   ]
  },
  {
   "cell_type": "markdown",
   "metadata": {},
   "source": [
    "### Setting up a Lambda function\n",
    "\n",
    "The first thing we are going to do is set up a Lambda function. This Lambda function will be executed whenever our public API has data sent to it. When it is executed it will receive the data, perform any sort of processing that is required, send the data (the review) to the SageMaker endpoint we've created and then return the result.\n",
    "\n",
    "#### Part A: Create an IAM Role for the Lambda function\n",
    "\n",
    "Since we want the Lambda function to call a SageMaker endpoint, we need to make sure that it has permission to do so. To do this, we will construct a role that we can later give the Lambda function.\n",
    "\n",
    "Using the AWS Console, navigate to the **IAM** page and click on **Roles**. Then, click on **Create role**. Make sure that the **AWS service** is the type of trusted entity selected and choose **Lambda** as the service that will use this role, then click **Next: Permissions**.\n",
    "\n",
    "In the search box type `sagemaker` and select the check box next to the **AmazonSageMakerFullAccess** policy. Then, click on **Next: Review**.\n",
    "\n",
    "Lastly, give this role a name. Make sure you use a name that you will remember later on, for example `LambdaSageMakerRole`. Then, click on **Create role**."
   ]
  },
  {
   "cell_type": "markdown",
   "metadata": {},
   "source": [
    "#### Part B: Create a Lambda function\n",
    "\n",
    "Now it is time to actually create the Lambda function. Remember from earlier that in order to process the user provided input and send it to our endpoint we need to gather two pieces of information:\n",
    "\n",
    " - The name of the endpoint, and\n",
    " - the vocabulary object.\n",
    "\n",
    "We will copy these pieces of information to our Lambda function after we create it.\n",
    "\n",
    "To start, using the AWS Console, navigate to the AWS Lambda page and click on **Create a function**. When you get to the next page, make sure that **Author from scratch** is selected. Now, name your Lambda function, using a name that you will remember later on, for example `sentiment_analysis_xgboost_func`. Make sure that the **Python 3.6** runtime is selected and then choose the role that you created in the previous part. Then, click on **Create Function**.\n",
    "\n",
    "On the next page you will see some information about the Lambda function you've just created. If you scroll down you should see an editor in which you can write the code that will be executed when your Lambda function is triggered. Collecting the code we wrote above to process a single review and adding it to the provided example `lambda_handler` we arrive at the following.\n",
    "\n",
    "Copy/paste this code into the editor of the lambda function:\n",
    "\n",
    "```python\n",
    "# We need to use the low-level library to interact with SageMaker since the SageMaker API\n",
    "# is not available natively through Lambda.\n",
    "import boto3\n",
    "\n",
    "# And we need the regular expression library to do some of the data processing\n",
    "import re\n",
    "\n",
    "REPLACE_NO_SPACE = re.compile(\"(\\.)|(\\;)|(\\:)|(\\!)|(\\')|(\\?)|(\\,)|(\\\")|(\\()|(\\))|(\\[)|(\\])\")\n",
    "REPLACE_WITH_SPACE = re.compile(\"(<br\\s*/><br\\s*/>)|(\\-)|(\\/)\")\n",
    "\n",
    "def review_to_words(review):\n",
    "    words = REPLACE_NO_SPACE.sub(\"\", review.lower())\n",
    "    words = REPLACE_WITH_SPACE.sub(\" \", words)\n",
    "    return words\n",
    "    \n",
    "def bow_encoding(words, vocabulary):\n",
    "    bow = [0] * len(vocabulary) # Start by setting the count for each word in the vocabulary to zero.\n",
    "    for word in words.split():  # For each word in the string\n",
    "        if word in vocabulary:  # If the word is one that occurs in the vocabulary, increase its count.\n",
    "            bow[vocabulary[word]] += 1\n",
    "    return bow\n",
    "\n",
    "\n",
    "def lambda_handler(event, context):\n",
    "    \n",
    "    vocab = \"*** ACTUAL VOCABULARY GOES HERE ***\"\n",
    "    \n",
    "    words = review_to_words(event['body'])\n",
    "    bow = bow_encoding(words, vocab)\n",
    "\n",
    "    # The SageMaker runtime is what allows us to invoke the endpoint that we've created.\n",
    "    runtime = boto3.Session().client('sagemaker-runtime')\n",
    "\n",
    "    # Now we use the SageMaker runtime to invoke our endpoint, sending the review we were given\n",
    "    response = runtime.invoke_endpoint(EndpointName = '***ENDPOINT NAME HERE***',# The name of the endpoint we created\n",
    "                                       ContentType = 'text/csv',                 # The data format that is expected\n",
    "                                       Body = ','.join([str(val) for val in bow]).encode('utf-8')) # The actual review\n",
    "\n",
    "    # The response is an HTTP response whose body contains the result of our inference\n",
    "    result = response['Body'].read().decode('utf-8')\n",
    "    \n",
    "    # Round the result so that our web app only gets '1' or '0' as a response.\n",
    "    result = round(float(result))\n",
    "\n",
    "    return {\n",
    "        'statusCode' : 200,\n",
    "        'headers' : { 'Content-Type' : 'text/plain', 'Access-Control-Allow-Origin' : '*' },\n",
    "        'body' : str(result)\n",
    "    }\n",
    "```"
   ]
  },
  {
   "cell_type": "markdown",
   "metadata": {},
   "source": [
    "Once you have copy and pasted the code above into the Lambda code editor, replace the `**ENDPOINT NAME HERE**` portion with the name of the endpoint that we deployed earlier. You can determine the name of the endpoint using the code cell below."
   ]
  },
  {
   "cell_type": "code",
   "execution_count": 80,
   "metadata": {},
   "outputs": [
    {
     "data": {
      "text/plain": [
       "'xgboost-2019-08-01-13-04-05-107'"
      ]
     },
     "execution_count": 80,
     "metadata": {},
     "output_type": "execute_result"
    }
   ],
   "source": [
    "xgb_predictor.endpoint"
   ]
  },
  {
   "cell_type": "markdown",
   "metadata": {},
   "source": [
    "In addition, you will need to copy the vocabulary dict to the appropriate place in the code at the beginning of the `lambda_handler` method. The cell below prints out the vocabulary dict in a way that is easy to copy and paste."
   ]
  },
  {
   "cell_type": "code",
   "execution_count": 81,
   "metadata": {},
   "outputs": [
    {
     "name": "stdout",
     "output_type": "stream",
     "text": [
      "{'lot': 2661, 'of': 3083, 'people': 3221, 'dont': 1324, 'think': 4452, 'hamlet': 2013, 'film': 1716, 'is': 2360, 'all': 187, 'that': 4424, 'good': 1937, 'but': 636, 'must': 2950, 'admit': 122, 'it': 2366, 'splendid': 4119, 'like': 2599, 'virtually': 4751, 'every': 1539, 'production': 3419, 'shakespeare': 3915, 'has': 2043, 'problems': 3409, 'and': 226, 'had': 2003, 'to': 4507, 'make': 2713, 'hard': 2033, 'choices': 798, 'not': 3040, 'which': 4867, 'work': 4940, 'out': 3141, 'the': 4426, 'thing': 4450, 'about': 67, 'secret': 3849, 'doors': 1329, 'everywhere': 1545, 'for': 1784, 'instance': 2304, 'simply': 3986, 'doesnt': 1309, 'element': 1442, 'never': 3001, 'feeling': 1685, 'or': 3124, 'attempts': 343, 'results': 3662, 'in': 2257, 'play': 3296, 'being': 448, 'too': 4522, 'losing': 2658, 'its': 2370, 'trademark': 4548, 'sense': 3877, 'thousand': 4465, 'mysteries': 2954, 'this': 4457, 'biggest': 480, 'problem': 3408, 'with': 4911, 'while': 4868, 'im': 2232, 'also': 199, 'say': 3799, 'only': 3110, 'almost': 193, 'everything': 1544, 'else': 1448, 'works': 4945, 'absolutely': 72, 'beautifully': 429, 'right': 3696, 'so': 4046, 'branagh': 564, 'old': 3100, 'title': 4504, 'role': 3726, 'relationship': 3597, 'seems': 3864, 'little': 2624, 'forced': 1787, 'he': 2056, 'gets': 1900, 'hysterical': 2208, 'at': 331, 'times': 4497, 'thats': 4425, 'no': 3020, 'other': 3135, 'even': 1533, 'these': 4441, 'faults': 1669, 'version': 4720, 'one': 3107, 'if': 2222, 'as': 311, 'powerful': 3360, 'drama': 1346, 'ought': 3138, 'be': 418, 'bit': 488, 'equally': 1510, 'we': 4823, 'get': 1899, 'complete': 921, 'text': 4419, 'brought': 600, 'screen': 3829, 'mostly': 2910, 'perfect': 3224, 'modern': 2882, 'highly': 2105, 'understandable': 4644, 'voices': 4763, 'they': 4442, 'sometimes': 4067, 'speak': 4094, 'quickly': 3491, 'order': 3126, 'massive': 2756, 'over': 3148, 'possible': 3350, 'slowly': 4032, 'enough': 1491, 'audience': 352, 'really': 3556, 'appreciate': 279, 'full': 1846, 'language': 2516, 'into': 2332, 'print': 3399, 'versions': 4721, 'plays': 3301, 'actors': 104, 'are': 285, 'utterly': 4702, 'instantly': 2306, 'classic': 835, 'jack': 2373, 'lemmon': 2567, 'julie': 2428, 'surely': 4309, 'best': 469, 'ever': 1538, 'american': 213, 'heston': 2094, 'player': 3298, 'king': 2479, 'who': 4871, 'would': 4957, 'have': 2052, 'thought': 4462, 'story': 4207, 'going': 1931, 'around': 297, 'once': 3106, 'played': 3297, 'on': 3105, 'stage': 4139, 'when': 4862, 'critic': 1061, 'front': 1841, 'row': 3744, 'couldnt': 1008, 'stand': 4143, 'his': 2118, 'acting': 99, 'said': 3774, 'loud': 2664, 'terrible': 4407, 'from': 1840, 'well': 4843, 'didnt': 1242, 'write': 4967, 'crap': 1031, 'course': 1019, 'may': 2775, 'true': 4596, 'funny': 1852, 'bold': 528, 'ironic': 2355, 'choice': 797, 'include': 2261, 'here': 2086, 'robin': 3715, 'williams': 4888, 'young': 4989, 'perhaps': 3235, 'part': 3193, 'makes': 2716, 'comical': 894, 'overall': 3150, 'very': 4723, 'produced': 3414, 'most': 2909, 'key': 2458, 'scenes': 3811, 'my': 2951, 'mind': 2849, 'memorable': 2802, 'watched': 4813, 'movie': 2926, 'just': 2437, 'was': 4805, 'becoming': 435, 'interested': 2324, 'same': 3778, 'time': 4495, 'made': 2697, 'great': 1964, 'impression': 2252, 'me': 2778, 'account': 89, 'some': 4061, 'things': 4451, 'considered': 951, 'favorite': 1671, 'derek': 1192, '1980': 20, 'bbc': 417, 'close': 853, 'second': 3846, 'probably': 3407, 'more': 2904, 'than': 4420, 'finding': 1727, 'him': 2110, 'an': 223, 'expert': 1585, 'attitude': 346, 'words': 4938, 'deep': 1154, 'appreciation': 281, 'world': 4946, 'two': 4620, 'remain': 3609, 'olivier': 3103, 'superior': 4300, 'actor': 103, 'brings': 587, 'down': 1335, 'easy': 1410, 'none': 3028, 'dignity': 1252, 'believe': 454, 'yet': 4984, 'seen': 3865, '10': 0, 'tremendous': 4579, 'knowing': 2490, 'nothing': 3047, 'brief': 579, 'description': 1197, 'read': 3543, 'after': 143, 'watching': 4815, 'originally': 3131, 'director': 1264, 'shows': 3960, 'promise': 3430, 'kind': 2476, 'amateurish': 207, 'then': 4436, 'looked': 2647, 'stuff': 4243, 'hes': 2093, 'done': 1322, 'see': 3855, 'first': 1736, 'did': 1241, 'house': 2178, 'haunted': 2050, 'hill': 2108, 'fear': 1676, 'sort': 4077, 'missed': 2867, 'mark': 2739, 'both': 547, 'those': 4460, 'movies': 2927, 'pretty': 3384, 'awful': 372, 'could': 1007, 'someone': 4064, 'fall': 1637, 'love': 2669, 'girl': 1909, 'because': 432, 'shes': 3930, 'child': 789, 'gave': 1875, 'there': 4438, 'were': 4848, 'visuals': 4759, 'rather': 3528, 'enjoyed': 1486, 'near': 2979, 'end': 1468, 'whole': 4873, 'excellent': 1555, 'expect': 1575, 'cinematography': 820, 'quite': 3495, 'stunning': 4244, 'playing': 3300, 'directly': 1263, 'melodramatic': 2798, 'moment': 2886, 'rest': 3657, 'watch': 4811, 'anyway': 261, 'tried': 4584, 'fast': 1661, 'forward': 1808, 'through': 4477, 'last': 2521, 'thirty': 4456, 'minutes': 2859, 'feel': 1684, 'wasted': 4809, 'couple': 1016, 'hours': 2177, 'been': 438, 'wouldnt': 4958, 'lasted': 2522, 'fifteen': 1706, 'southern': 4088, 'give': 1912, 'below': 462, 'average': 362, 'rating': 3529, 'christian': 808, 'certainly': 738, 'arent': 288, 'many': 2732, 'want': 4788, 'makers': 2715, 'genre': 1888, 'under': 4639, 'still': 4188, 'honestly': 2147, 'loves': 2674, 'joy': 2422, 'typically': 4624, 'low': 2676, 'budget': 610, 'self': 3869, 'plot': 3309, 'predictable': 3367, 'mediocre': 2791, 'editing': 1421, 'atrocious': 335, 'tv': 4610, 'might': 2835, 'slightly': 4029, 'above': 68, 'feature': 1678, 'leaves': 2556, 'much': 2934, 'desired': 1206, 'keep': 2449, 'trying': 4601, 'guys': 2001, 'youve': 4995, 'got': 1944, 'real': 3547, 'christians': 809, 'inside': 2297, 'you': 4986, 'somewhere': 4069, 'suggest': 4280, 'turn': 4605, 'lewis': 2586, 'inspiration': 2300, 'guy': 2000, 'idea': 2213, 'cinema': 816, 'okay': 3099, 'few': 1700, 'theater': 4427, 'youth': 4994, 'acceptable': 81, 'success': 4265, 'political': 3324, 'reasons': 3560, 'cause': 723, 'communist': 907, 'look': 2646, 'carefully': 689, 'does': 1308, 'know': 2489, 'job': 2405, 'without': 4913, 'proper': 3436, 'start': 4156, 'content': 966, 'subject': 4253, 'violence': 4747, 'how': 2181, 'alive': 186, 'such': 4268, 'rotten': 3740, 'corpse': 999, 'understood': 4647, 'anything': 260, 'art': 304, 'why': 4878, 'let': 2579, 'piece': 3272, 'ive': 2372, 'heard': 2062, 'dull': 1384, 'isnt': 2362, 'action': 100, 'thank': 4421, 'god': 1926, 'psychological': 3458, 'happens': 2029, 'killing': 2472, 'way': 4820, 'extremely': 1610, 'terrific': 4409, 'performances': 3229, 'roles': 3727, 'actually': 109, 'looks': 2649, 'disappointed': 1273, 'towards': 4540, 'given': 1913, 'face': 1616, 'alone': 194, 'dirty': 1268, 'someones': 4065, 'need': 2987, 'serious': 3891, 'help': 2079, 'clever': 841, 'havent': 2053, 'original': 3129, 'remake': 3612, '1950s': 14, 'better': 472, 'major': 2711, 'kicked': 2461, 'military': 2844, 'winds': 4895, 'up': 4683, 'teaching': 4377, 'children': 792, 'school': 3813, 'unfortunately': 4654, 'annoying': 249, 'can': 665, 'losers': 2656, 'shape': 3919, 'become': 433, 'human': 2188, 'films': 1721, 'do': 1302, 'moments': 2887, 'william': 4887, 'minute': 2858, 'fair': 1630, 'charming': 768, 'man': 2721, 'known': 2492, 'tales': 4357, 'uncle': 4636, 'louis': 2665, 'christmas': 810, 'vacation': 4704, 'shines': 3932, 'appearance': 274, 'fits': 1741, 'perfectly': 3226, 'carried': 698, 'far': 1653, 'theres': 4440, 'attractive': 351, 'teacher': 4375, 'falls': 1640, 'though': 4461, 'treats': 4575, 'kids': 2467, 'poorly': 3329, 'social': 4049, 'skills': 4014, 'impossible': 2249, 'spend': 4105, 'she': 3923, 'either': 1438, 'incredibly': 2270, 'stupid': 4247, 'desperate': 1208, 'sure': 4308, 'seem': 3861, 'since': 3990, 'clear': 839, 'often': 3095, 'shining': 3933, 'dance': 1103, 'sequence': 3887, 'where': 4864, 'performs': 3234, 'series': 3890, 'moves': 2925, 'including': 2264, 'nice': 3008, 'robot': 3717, 'music': 2946, 'live': 2625, 'crew': 1053, 'scene': 3809, 'enjoyable': 1485, 'hardly': 2036, 'dog': 1310, 'seriously': 3892, 'avoid': 363, 'loser': 2655, 'helps': 2082, 'heroes': 2089, 'rent': 3626, 'buy': 640, 'goes': 1930, 'camp': 662, 'least': 2554, 'lovable': 2668, 'maybe': 2776, 'id': 2212, 'forget': 1793, 'life': 2592, 'learned': 2551, 'folks': 1771, 'shop': 3945, 'corner': 996, 'another': 250, 'quiet': 3492, 'triumph': 4590, 'added': 116, 'credit': 1049, 'lovely': 2671, 'dialogue': 1234, 'wonderful': 4928, 'cast': 710, 'talented': 4355, 'performers': 3232, 'created': 1037, 'truly': 4597, 'always': 203, 'believing': 457, 'intelligence': 2313, 'viewers': 4739, 'slapstick': 4019, 'cinematic': 818, 'quality': 3484, 'touch': 4533, 'although': 201, 'set': 3898, 'accents': 79, 'among': 217, 'players': 3299, 'beautiful': 428, 'simplicity': 3984, 'any': 256, 'city': 825, 'small': 4033, 'town': 4541, 'easily': 1406, 'jimmy': 2403, 'stewart': 4184, 'margaret': 2735, 'romance': 3732, 'each': 1395, 'their': 4431, 'handled': 2019, 'natural': 2973, 'confusion': 943, 'desperation': 1210, 'seek': 3858, 'soul': 4079, 'stories': 4205, 'frank': 1821, 'morgan': 2905, 'usual': 4699, 'whose': 4877, 'importance': 2246, 'finds': 1728, 'himself': 2111, 'accomplished': 87, 'allows': 192, 'emotion': 1458, 'escape': 1517, 'provides': 3450, 'enjoys': 1489, 'eve': 1532, 'joseph': 2419, 'adds': 119, 'vivid': 4760, 'depiction': 1185, 'thoroughly': 4459, 'deserves': 1201, 'punishment': 3467, 'eventually': 1537, 'gentle': 1890, 'felix': 1689, 'finest': 1730, 'family': 1645, 'afford': 138, 'involved': 2346, 'remains': 3611, 'friend': 1835, 'tracy': 4546, 'hilarious': 2106, 'ambitious': 211, 'boy': 557, 'takes': 4351, 'advantage': 129, 'onto': 3111, 'force': 1786, 'tiny': 4500, 'charles': 764, 'nonsense': 3030, 'detective': 1220, 'appears': 278, 'doctor': 1304, 'will': 4886, 'recognize': 3569, 'mary': 2751, 'single': 3996, 'miss': 2866, 'grandmother': 1955, 'aunt': 355, 'ok': 3098, 'mystery': 2956, 'science': 3816, '3000': 43, 'am': 204, 'huge': 2185, 'fan': 1648, 'gives': 1914, 'mst3k': 2932, 'hate': 2046, 'worst': 4952, 'able': 66, 'enjoy': 1484, 'wonder': 4926, 'fact': 1621, 'writers': 4969, 'themselves': 4435, 'commented': 900, 'check': 777, 'site': 4005, 'example': 1553, 'what': 4858, 'bad': 382, 'worse': 4951, 'pathetic': 3210, 'direction': 1261, 'pacing': 3163, 'viewer': 4738, 'wait': 4770, 'literally': 2622, 'something': 4066, 'happen': 2026, 'sound': 4081, 'long': 2644, 'amount': 219, 'particularly': 3195, 'meant': 2784, 'create': 1036, 'mood': 2898, 'bored': 541, 'felt': 1692, 'ten': 4399, 'disbelief': 1277, 'means': 2783, 'falling': 1639, 'asleep': 320, 'during': 1387, 'plenty': 3307, 'screaming': 3827, 'horrible': 2163, 'possibly': 3351, 'gotten': 1947, 'thus': 4486, 'indeed': 2271, 'non': 3027, 'boring': 543, 'warm': 4794, 'year': 4978, 'breasts': 572, 'style': 4249, 'cant': 671, 'understand': 4643, 'found': 1811, 'sick': 3963, 'willing': 4889, 'son': 4070, 'spanish': 4092, 'sexual': 3908, 'open': 3112, 'european': 1530, 'types': 4622, 'wed': 4835, 'off': 3084, 'result': 3660, 'liberal': 2588, 'character': 758, 'lover': 2672, 'says': 3801, 'embarrassed': 1453, 'form': 1798, 'clark': 832, 'wins': 4899, 'trip': 4588, 'europe': 1529, 'humor': 2192, 'worked': 4941, 'practically': 3362, 'fault': 1668, 'lies': 2591, 'whos': 4876, 'obviously': 3072, 'nowhere': 3056, 'script': 3834, 'handful': 2017, 'decent': 1147, 'lines': 2612, 'chase': 769, 'proceedings': 3410, 'eric': 1514, 'completely': 922, 'potentially': 3356, 'potential': 3355, 'leave': 2555, 'dimensional': 1253, 'english': 1483, 'apart': 264, 'laugh': 2529, 'sight': 3969, 'ending': 1471, 'youre': 4992, 'myself': 2953, 'watchable': 4812, 'cover': 1022, 'box': 555, 'fooled': 1780, 'splatter': 4118, 'university': 4667, 'came': 656, '1984': 23, 'horror': 2168, 'sucks': 4271, 'characters': 760, 'cool': 989, 'hell': 2077, 'produce': 3413, 'waste': 4808, 'spoilers': 4124, 'ahead': 159, 'dies': 1245, 'female': 1693, 'break': 569, 'rules': 3754, 'flick': 1754, 'delightful': 1168, 'storytelling': 4209, 'simple': 3983, 'effective': 1429, 'visual': 4757, 'media': 2789, 'used': 4693, 'train': 4556, 'meets': 2795, 'taken': 4350, 'ride': 3692, 'situations': 4009, 'leads': 2548, 'unique': 4662, 'features': 1680, 'tell': 4395, 'needs': 2990, 'fantastic': 1651, 'mr': 2929, 'fox': 1814, 'comedy': 890, 'based': 404, 'book': 535, 'wes': 4851, 'anderson': 227, 'directs': 1267, 'short': 3946, 'name': 2960, 'big': 478, 'length': 2569, 'respect': 3652, 'seemed': 3862, 'lost': 2660, 'own': 3158, 'spirit': 4113, 'left': 2561, 'behind': 447, 'happened': 2027, 'go': 1924, 'your': 4991, 'day': 1129, 'making': 2718, 'animation': 242, 'harder': 2035, 'leaving': 2557, 'having': 2054, 'random': 3514, 'shots': 3950, 'happening': 2028, 'jason': 2383, 'george': 1893, 'smart': 4035, 'ass': 323, 'especially': 1520, 'engaging': 1481, 'level': 2584, 'closer': 856, 'along': 195, 'back': 378, 'track': 4544, 'amazing': 209, 'decides': 1150, 'now': 3054, 'sorry': 4076, 'disappointment': 1275, 'installment': 2303, 'manages': 2725, 'again': 146, 'casting': 711, 'episode': 1507, 'common': 906, 'except': 1556, 'wit': 4908, 'silly': 3976, 'woman': 4921, 'by': 642, 'serial': 3889, 'killer': 2470, 'dressed': 1358, 'santa': 3783, 'killed': 2469, 'her': 2085, 'husband': 2204, 'humorous': 2193, 'tie': 4488, 'between': 475, 'murder': 2939, 'phone': 3255, 'call': 651, 'until': 4680, 'becomes': 434, 'finally': 1724, 'infamous': 2284, 'ice': 2210, 'age': 148, 'dead': 1132, 'hoped': 2156, 'seeing': 3857, 'brilliant': 583, 'word': 4937, 'disney': 1289, '1st': 28, 'attempt': 340, 'cg': 739, 'heart': 2064, 'eyes': 1613, 'sad': 3767, 'glimpse': 1919, 'past': 3207, 'tears': 4380, 'baby': 376, 'father': 1666, 'hold': 2129, 'them': 4432, 'anymore': 258, 'trouble': 4592, 'walking': 4779, 'thin': 4449, 'line': 2610, 'sappy': 3784, 'cliché': 844, 'bring': 585, 'touching': 4536, 'animated': 241, 'looking': 2648, 'grow': 1982, 'voice': 4761, 'talents': 4356, 'reason': 3557, 'plus': 3311, 'personal': 3240, '2002': 32, 'taking': 4352, 'upper': 4685, 'hand': 2015, 'future': 1856, 'detailed': 1218, 'dr': 1340, 'us': 4690, 'pre': 3365, 'chose': 804, 'difficult': 1249, 'debut': 1143, 'details': 1219, 'treatment': 4574, 'sets': 3899, 'costumes': 1006, 'unlike': 4670, 'focuses': 1768, 'gory': 1943, 'effects': 1431, 'come': 886, 'impressive': 2253, 'performance': 3228, 'acted': 98, 'showing': 3958, 'plight': 3308, 'guilt': 1994, 'ridden': 3691, 'run': 3755, 'mill': 2845, 'tragic': 4552, 'begins': 444, 'struggling': 4236, 'followed': 1773, 'flashback': 1746, 'gore': 1941, 'guess': 1989, 'add': 115, 'realistic': 3550, 'peoples': 3222, 'heads': 2059, 'sent': 3880, 'avoided': 364, 'strange': 4211, 'surreal': 4317, 'intellectual': 2312, 'started': 4157, 'scared': 3805, 'wish': 4904, 'barely': 399, 'multiple': 2936, 'before': 440, 'person': 3238, 'likes': 2602, 'dinner': 1254, 'drugs': 1374, 'wow': 4962, 'slow': 4031, 'chance': 747, 'builds': 617, 'interest': 2323, 'complexity': 924, 'storyline': 4208, 'cliche': 843, 'superb': 4296, 'new': 3003, 'york': 4985, 'locations': 2636, 'gritty': 1977, 'commercial': 902, 'sex': 3907, 'entire': 1502, 'hbo': 2055, 'hollywood': 2137, 'notion': 3050, 'relationships': 3598, 'rare': 3523, 'loved': 2670, 'notable': 3041, 'steve': 4181, 'dawson': 1128, 'forgot': 1796, 'miserable': 2863, 'should': 3951, 'bomb': 531, 'douglas': 1334, 'displays': 1293, 'charisma': 762, 'jerk': 2395, 'bette': 471, 'sings': 3997, 'chorus': 803, 'ill': 2228, 'ridiculous': 3693, 'deals': 1137, 'picture': 3269, 'castle': 712, 'saved': 3795, 'lets': 2580, 'years': 4979, 'later': 2525, 'married': 2744, 'count': 1010, 'faces': 1618, 'similar': 3978, 'situation': 4008, 'wedding': 4836, 'night': 3013, 'invasion': 2340, 'soldiers': 4054, 'acts': 107, 'army': 295, 'arrives': 302, 'news': 3005, 'marriage': 2743, 'poor': 3328, 'imitation': 2241, 'harry': 2039, 'veteran': 4724, 'supporting': 4304, 'died': 1244, 'career': 686, 'walter': 4784, 'co': 867, 'stars': 4155, 'writing': 4971, 'stone': 4197, 'wearing': 4831, 'bought': 552, 'cd': 728, 'store': 4204, 'kinda': 2477, 'regret': 3591, 'saying': 3800, 'cheesy': 781, 'flicks': 1755, 'provide': 3448, 'horribly': 2164, 'cheap': 774, 'entertainment': 1500, 'entertained': 1498, 'half': 2007, 'hour': 2176, 'fun': 1848, 'manner': 2729, 'expected': 1577, 'laughably': 2531, 'provided': 3449, 'side': 3965, 'entertaining': 1499, 'lighting': 2596, 'mother': 2911, 'charge': 761, 'decided': 1149, 'eat': 1411, 'food': 1778, 'five': 1743, 'straight': 4210, 'served': 3894, 'inappropriate': 2259, 'cuts': 1091, 'away': 369, 'pure': 3471, 'darkness': 1117, 'outside': 3146, 'speaking': 4095, 'funniest': 1851, 'parts': 3199, 'apparently': 270, 'unless': 4669, 'lit': 2621, 'whats': 4860, 'frustration': 1843, 'climactic': 848, 'supposed': 4306, 'shocking': 3940, 'comes': 891, 'contains': 964, 'surprised': 4313, 'reveal': 3670, 'surprise': 4312, 'coming': 896, 'wont': 4932, 'ruin': 3750, 'spent': 4108, 'twenty': 4612, 'various': 4715, 'find': 1726, 'wasnt': 4807, 'commentary': 899, 'tracks': 4545, 'high': 2100, 'head': 2057, 'cars': 702, 'kitchen': 2485, 'floor': 1759, 'beings': 449, 'living': 2629, 'animals': 240, 'cat': 713, 'hat': 2045, 'hitler': 2124, 'put': 3480, 'disturbing': 1300, 'joke': 2414, 'elaborate': 1439, 'mike': 2838, 'myers': 2952, 'drug': 1373, 'bet': 470, 'exceptional': 1558, 'late': 2523, 'already': 197, 'directors': 1266, 'beyond': 476, 'country': 1014, 'born': 544, 'nobody': 3022, 'remember': 3616, 'generation': 1883, 'final': 1722, 'song': 4071, 'younger': 4990, 'move': 2921, 'changed': 750, 'unexpected': 4650, 'itself': 2371, 'laughed': 2532, 'third': 4455, 'grade': 1951, 'point': 3316, 'wife': 4884, 'soundtrack': 4085, 'kidding': 2465, 'try': 4600, 'inept': 2281, 'unbelievably': 4635, 'lifetime': 2594, 'reputation': 3640, 'turning': 4608, 'television': 4394, 'opposed': 3122, 'korean': 2495, 'china': 795, 'strong': 4229, 'clearly': 840, 'shown': 3959, 'consider': 949, 'please': 3304, 'indie': 2276, 'however': 2183, 'weak': 4824, 'pace': 3161, 'middle': 2833, 'sub': 4252, 'par': 3184, 'act': 97, 'cute': 1090, 'pleasure': 3306, 'suitable': 4285, 'confused': 941, 'sat': 3786, 'take': 4349, 'dozens': 1339, 'episodes': 1508, 'hit': 2122, 'saw': 3798, 'friends': 1837, 'happy': 2032, 'days': 1130, 'interesting': 2325, 'others': 3136, 'stinker': 4191, 'jackie': 2374, 'chan': 746, 'interview': 2329, 'unbelievable': 4634, 'stunts': 4246, 'jaw': 2384, 'dropping': 1371, 'fight': 1707, 'sequences': 3888, 'lee': 2559, 'fire': 1734, 'cash': 709, 'opening': 3114, 'hong': 2149, 'kong': 2494, 'immediately': 2242, 'jumps': 2432, 'continues': 971, 'moving': 2928, 'bus': 631, 'catch': 714, 'evil': 1548, 'greatest': 1966, 'villains': 4745, 'tries': 4585, 'balance': 387, 'duty': 1390, 'maggie': 2702, 'protect': 3443, 'secretary': 3850, 'information': 2288, 'absolute': 71, 'mall': 2720, 'anyone': 259, 'period': 3236, 'intense': 2316, 'lights': 2597, 'skin': 4015, 'hands': 2020, 'stunt': 4245, 'instead': 2307, 'lower': 2677, 'definitely': 1162, 'held': 2074, 'neither': 2996, 'responsibility': 3655, 'treat': 4572, 'type': 4621, '100': 1, 'general': 1880, 'yourself': 4993, 'pg': 3250, 'whale': 4857, '13': 4, 'parents': 3188, 'mistake': 2871, 'numerous': 3062, 'uncomfortable': 4637, 'totally': 4532, 'blue': 518, 'unnecessary': 4672, 'aside': 315, 'saving': 3797, 'kelly': 2452, 'case': 707, 'aspect': 321, 'kept': 2456, 'throwing': 4480, 'mention': 2810, 'talking': 4360, 'allowed': 190, 'childrens': 793, 'portrayal': 3341, 'fat': 1663, 'powers': 3361, 'stayed': 4167, 'ruined': 3751, 'anger': 235, 'rented': 3628, 'domino': 1319, 'dumb': 1385, 'reviews': 3679, 'liked': 2600, 'mickey': 2831, 'christopher': 811, 'walken': 4777, 'tony': 4521, 'scott': 3824, 'adventure': 130, 'yes': 4982, 'bizarre': 492, 'underrated': 4642, 'released': 3603, 'everyone': 1542, 'wanted': 4789, 'emotional': 1459, 'journey': 2421, 'everybody': 1540, 'hated': 2047, 'recommend': 3571, 'monkey': 2890, 'mentioned': 2811, 'wandering': 4785, 'thru': 4483, 'deeper': 1155, 'levels': 2585, 'begin': 442, 'discuss': 1283, 'theyll': 4444, 'connection': 946, 'suppose': 4305, 'shed': 3924, 'basement': 405, 'remembered': 3617, 'somebody': 4062, 'gonna': 1936, '50s': 52, 'black': 493, 'white': 4870, 'lack': 2502, 'special': 4097, 'brilliantly': 584, 'four': 1812, 'elements': 1443, 'filmed': 1717, 'note': 3044, 'repeated': 3631, 're': 3535, 'use': 4692, 'stock': 4193, 'footage': 1782, 'plan': 3287, 'creative': 1041, 'hey': 2095, 'worry': 4950, 'place': 3282, 'cleverly': 842, 'trick': 4582, 'grab': 1949, 'popcorn': 3331, 'brain': 562, 'several': 3905, 'sit': 4003, 'heck': 2071, 'comment': 898, 'useful': 4694, 'image': 2233, 'hollow': 2135, 'spread': 4133, 'propaganda': 3435, 'captured': 677, 'garbage': 1870, 'question': 3487, 'pet': 3246, 'project': 3427, 'took': 4523, 'wing': 4896, 'pick': 3265, 'fascinated': 1657, 'decades': 1145, 'oliver': 3102, 'robert': 3713, 'tim': 4494, 'robbins': 3712, 'warren': 4801, 'beatty': 427, 'alan': 171, 'streisand': 4218, 'overrated': 3156, 'artists': 309, 'politically': 3325, 'projects': 3428, 'somehow': 4063, 'che': 773, 'arguably': 289, 'popular': 3333, 'hasnt': 2044, 'topic': 4526, 'truth': 4599, 'epic': 1506, 'scale': 3802, 'detail': 1217, 'fairy': 1632, 'tale': 4353, 'gandhi': 1866, 'ie': 2221, 'del': 1165, 'famous': 1647, 'revolutionary': 3681, 'nevertheless': 3002, 'controversial': 978, 'criminal': 1057, 'mans': 2730, 'actions': 101, 'intelligent': 2314, 'rich': 3685, 'bill': 481, 'visually': 4758, 'charismatic': 763, 'physically': 3263, 'qualities': 3483, 'whatsoever': 4861, 'hence': 2083, 'uninteresting': 4660, 'kubrick': 2496, 'telling': 4396, 'solid': 4057, 'early': 1400, 'task': 4368, 'tedious': 4387, 'jungle': 2434, 'choose': 799, 'ignore': 2224, 'earlier': 1399, 'massacre': 2754, 'holds': 2131, 'huh': 2187, 'fit': 1740, 'negative': 2991, 'dark': 1115, '90': 60, 'historical': 2119, 'ugly': 4625, 'holy': 2140, 'proves': 3447, 'fake': 1635, 'pop': 3330, 'personalities': 3241, 'struggle': 4234, 'careers': 687, 'opposite': 3123, 'cares': 690, 'ideas': 2215, 'whom': 4875, 'term': 4405, 'theyre': 4445, 'supposedly': 4307, 'students': 4239, 'wear': 4830, 'red': 3576, 'orange': 3125, 'figure': 1711, 'chest': 784, 'appear': 273, 'hip': 2114, 'reality': 3551, 'shirt': 3937, 'ones': 3108, 'total': 4531, 'education': 1424, 'advertising': 132, 'simpson': 3987, 'coffee': 870, 'cup': 1080, 'hair': 2005, 'laid': 2508, 'learn': 2550, 'kim': 2475, 'pot': 3354, 'iron': 2354, 'hundred': 2195, 'million': 2847, 'mentally': 2809, 'system': 4345, 'matters': 2770, 'won': 4925, 'award': 366, 'vote': 4766, 'hint': 2112, 'sean': 3840, 'headed': 2058, 'ago': 154, 'related': 3594, 'collection': 874, 'songs': 4072, 'meaning': 2780, 'demented': 1176, 'pointless': 3318, 'marketing': 2741, 'scheme': 3812, 'cut': 1089, 'fine': 1729, 'message': 2819, 'video': 4733, 'ps': 3453, 'bucks': 606, 'somewhat': 4068, 'campy': 664, 'main': 2707, 'tone': 4517, 'returns': 3668, 'iii': 2227, '35': 45, 'quote': 3496, 'car': 680, 'cliff': 847, 'wants': 4791, 'scare': 3803, 'funnier': 1850, 'werent': 4849, 'today': 4508, 'sweet': 4336, 'dancing': 1107, 'singing': 3995, 'masterpiece': 2759, 'dream': 1354, 'combination': 883, 'highest': 2102, 'beauty': 430, 'french': 1830, 'choreography': 802, 'de': 1131, 'separate': 3883, 'magnificent': 2705, 'color': 877, 'explosion': 1596, 'dances': 1106, 'genius': 1887, 'artist': 307, 'shadow': 3912, 'doubt': 1332, 'steven': 4182, 'seagal': 3839, 'hadnt': 2004, 'worthy': 4956, 'existed': 1570, 'fighting': 1709, 'lots': 2662, 'dubbing': 1380, 'lazy': 2543, 'care': 684, 'less': 2575, 'obvious': 3071, 'describe': 1194, 'basically': 407, 'concept': 930, 'asian': 314, 'ghost': 1902, 'bunch': 623, 'college': 875, 'deaths': 1142, 'ghosts': 1903, 'scary': 3807, 'clichéd': 845, 'different': 1248, 'ring': 3698, 'lead': 2545, 'includes': 2263, 'arm': 292, 'explain': 1586, 'blood': 512, 'arms': 294, 'zombie': 4997, 'bloody': 513, 'scares': 3806, 'youll': 4988, 'creepy': 1052, 'images': 2235, 'water': 4816, 'deliver': 1169, 'directing': 1260, 'miike': 2837, 'compared': 912, 'portrays': 3344, 'messed': 2821, '15': 7, '20': 29, 'flawed': 1750, 'fans': 1650, 'warning': 4800, 'giving': 1915, 'worth': 4953, 'higher': 2101, 'quick': 3490, 'equivalent': 1512, 'japan': 2381, 'scream': 3826, 'urban': 4688, 'summer': 4291, '90s': 61, 'imagery': 2234, 'change': 749, 'sisters': 4002, 'went': 4847, 'tape': 4365, 'search': 3841, 'etc': 1527, 'earth': 1403, 'excited': 1561, 'chris': 806, 'rock': 3720, 'proved': 3446, 'rocks': 3722, 'nearly': 2981, 'badly': 383, 'directed': 1259, 'routine': 3743, 'doing': 1312, 'comedian': 887, 'talk': 4358, 'prefer': 3368, 'jokes': 2415, 'decide': 1148, 'show': 3953, 'laughter': 2535, 'shame': 3918, 'zombies': 4998, 'witch': 4909, 'downright': 1337, 'cult': 1077, 'oh': 3096, 'scripts': 3836, 'illogical': 2231, 'la': 2500, 'props': 3439, 'logic': 2638, 'flies': 1756, 'wind': 4893, 'senseless': 3878, 'monster': 2892, 'attention': 345, 'chain': 741, 'accident': 84, 'involving': 2349, 'keeps': 2451, 'ray': 3533, 'gun': 1996, 'prison': 3401, 'planet': 3289, 'sexy': 3911, 'hunter': 2199, 'chases': 771, 'retarded': 3663, 'extra': 1606, 'anybody': 257, 'accused': 91, 'claire': 831, 'danes': 1108, 'kate': 2446, 'matter': 2769, 'stinks': 4192, 'visit': 4755, 'germany': 1898, 'meet': 2793, 'women': 4923, 'stick': 4185, 'united': 4664, 'states': 4163, 'theatre': 4429, 'false': 1641, 'money': 2888, 'cannot': 670, 'finished': 1733, 'makeup': 2717, 'utter': 4701, 'rubbish': 3748, 'costs': 1004, 'mean': 2779, 'fresh': 1833, 'questions': 3489, 'asking': 318, 'throughout': 4478, 'caught': 722, 'section': 3853, 'tired': 4501, 'called': 652, 'draws': 1352, 'chilling': 794, 'knew': 2486, 'dvd': 1391, 'release': 3602, 'semi': 3874, 'satisfied': 3789, 'pretending': 3382, 'boys': 559, 'kill': 2468, 'duo': 1386, 'terror': 4412, 'halloween': 2010, 'kid': 2464, 'holes': 2133, 'surface': 4310, 'home': 2142, 'met': 2822, 'round': 3742, 'appeared': 276, 'mask': 2752, 'ask': 316, 'identify': 2216, 'stranger': 4213, 'teach': 4374, 'our': 3139, 'strangers': 4214, 'tad': 4347, 'odd': 3080, 'daughters': 1122, 'boyfriend': 558, 'pull': 3461, 'dying': 1393, 'promising': 3433, 'failed': 1626, 'fails': 1628, 'tells': 4397, '12': 3, 'dollars': 1315, 'heavily': 2069, 'curious': 1083, 'believable': 453, 'stood': 4199, 'reviewers': 3678, 'namely': 2962, 'exactly': 1551, 'nature': 2975, 'motivation': 2914, 'raped': 3522, 'victims': 4730, 'psychotic': 3459, 'attack': 337, 'sister': 4001, 'credible': 1048, 'background': 380, 'necessary': 2984, 'crazy': 1035, 'puts': 3481, 'contact': 961, 'vulnerable': 4768, 'girls': 1911, 'complaint': 920, 'position': 3345, 'sheer': 3925, 'exploitation': 1592, 'japanese': 2382, 'machines': 2694, 'beat': 423, 'winner': 4897, 'pair': 3176, 'lovers': 2673, 'technically': 4382, 'body': 527, 'flying': 1764, 'taste': 4369, 'gruesome': 1986, 'steps': 4177, 'personally': 3243, 'normally': 3034, 'twisted': 4618, 'intrigued': 2334, 'revealed': 3671, 'zero': 4996, 'hide': 2097, 'alert': 178, 'fiction': 1702, 'knock': 2488, 'nicholson': 3011, 'twist': 4617, 'evening': 1534, 'elvira': 1450, 'crappy': 1032, 'anyways': 262, 'value': 4709, '70s': 56, 'dialog': 1232, 'plots': 3310, 'speed': 4103, 'shall': 3916, 'flow': 1762, 'expression': 1602, 'existence': 1571, 'birth': 486, 'humble': 2191, 'office': 3091, 'intensity': 2317, 'surprisingly': 4316, 'upon': 4684, 'due': 1382, 'culture': 1079, 'ashamed': 312, 'desire': 1205, 'passion': 3205, 'witness': 4914, 'emotions': 1461, 'smile': 4036, 'symbolism': 4341, 'filled': 1715, 'marvelous': 2750, 'erotic': 1515, 'weve': 4856, 'silent': 3975, 'german': 1896, 'filmmakers': 1720, 'intended': 2315, 'reach': 3536, 'subtitles': 4259, 'narrative': 2966, 'power': 3359, 'obscure': 3068, 'star': 4150, 'remind': 3618, 'convey': 982, 'working': 4944, 'class': 833, 'creature': 1045, 'creator': 1043, 'blend': 504, 'soviet': 4089, 'realism': 3549, 'national': 2970, 'beginning': 443, 'distinct': 1296, 'artistic': 308, 'era': 1513, 'yeah': 4977, 'inferior': 2285, 'sequel': 3885, 'david': 1124, 'harvey': 2042, 'producer': 3415, 'concern': 931, 'named': 2961, 'woods': 4935, 'karen': 2444, 'grant': 1956, 'gene': 1879, 'meanwhile': 2785, 'creates': 1038, 'destroyed': 1214, 'eye': 1611, 'investigate': 2342, 'weird': 4841, 'events': 1536, 'thrills': 4475, 'eerie': 1427, 'killings': 2473, 'chief': 788, 'excitement': 1562, 'innocent': 2294, 'victim': 4729, 'furthermore': 1854, 'protagonists': 3442, 'michael': 2829, 'recently': 3567, 'deceased': 1146, 'don': 1320, 'davis': 1126, 'captain': 674, 'turned': 4606, 'musical': 2947, 'score': 3822, 'omen': 3104, 'jerry': 2396, 'hardcore': 2034, 'saga': 3773, 'motion': 2913, 'previous': 3387, 'following': 1774, 'immensely': 2243, 'richard': 3686, 'taylor': 4372, 'neil': 2995, 'baker': 385, 'noir': 3023, 'soon': 4074, 'classics': 837, 'double': 1331, 'rings': 3699, 'twice': 4613, 'welles': 4844, 'shouldnt': 3952, 'against': 147, 'starts': 4159, 'vaguely': 4706, 'logical': 2639, 'display': 1291, 'typical': 4623, 'philosophy': 3254, 'unusual': 4681, 'presumably': 3380, 'intentionally': 2320, 'formula': 1802, 'using': 4698, 'backgrounds': 381, 'lucky': 2683, 'free': 1827, 'pass': 3201, 'advance': 127, 'screening': 3830, 'ended': 1470, 'teenagers': 4391, 'sitting': 4007, 'next': 3007, 'exception': 1557, 'paced': 3162, 'student': 4238, 'forces': 1788, 'control': 977, 'loose': 2650, 'traveling': 4568, 'addition': 118, 'woody': 4936, 'allen': 188, 'light': 2595, 'hearted': 2065, 'pack': 3165, 'grown': 1984, 'top': 4525, 'wishing': 4907, 'hed': 2072, 'opinion': 3118, 'missing': 2869, 'ian': 2209, 'camera': 659, 'hugh': 2186, 'regular': 3592, 'match': 2762, 'magic': 2703, 'material': 2766, 'glad': 1916, 'sophisticated': 4075, 'brand': 565, 'latter': 2528, 'former': 1800, 'introduce': 2336, 'independent': 2272, 'tall': 4362, 'festival': 1697, 'opportunity': 3121, 'amazed': 208, 'talent': 4354, 'teen': 4388, 'adult': 125, 'proud': 3444, 'fabulous': 1615, 'spoil': 4121, 'places': 3284, 'hope': 2155, 'baseball': 403, 'team': 4378, 'win': 4892, 'opens': 3115, 'roger': 3724, 'gordon': 1940, 'jr': 2423, 'riding': 3695, 'angels': 234, 'return': 3665, 'foster': 1809, 'mothers': 2912, 'dad': 1095, 'mom': 2885, 'asks': 319, 'championship': 745, 'tree': 4576, 'danny': 1112, 'glover': 1923, 'mad': 2696, 'game': 1864, 'angles': 237, 'nelson': 2997, 'brenda': 575, 'agrees': 157, 'sees': 3866, 'field': 1704, 'matthew': 2772, 'jay': 2386, 'learns': 2553, 'angel': 231, 'lloyd': 2630, 'expecting': 1578, 'promised': 3431, 'hooked': 2153, 'till': 4493, 'kick': 2460, 'drags': 1345, 'thinking': 4453, 'lacked': 2503, 'aspects': 322, 'rambo': 3511, 'helped': 2080, 'irritating': 2359, 'banned': 395, 'foreign': 1790, 'heres': 2087, 'three': 4469, 'thugs': 4484, 'torture': 4529, 'kinds': 2478, 'burn': 625, 'spin': 4112, 'chair': 742, 'listen': 2619, 'nuts': 3064, 'throw': 4479, 'guts': 1999, 'animal': 239, 'finale': 1723, 'charlie': 765, 'freak': 1824, 'underground': 4640, 'shock': 3938, 'creativity': 1042, 'spoiler': 4123, 'creep': 1051, 'imdb': 2240, 'wondering': 4930, 'absurd': 73, 'outrageous': 3145, 'complain': 919, 'comfortable': 892, 'seat': 3845, 'death': 1141, '60': 53, 'lonely': 2643, 'station': 4164, 'suspense': 4330, 'sudden': 4272, 'editor': 1423, 'drops': 1372, 'developed': 1223, 'discovery': 1282, 'channel': 753, 'die': 1243, 'survivor': 4324, 'push': 3477, 'poignant': 3315, 'endearing': 1469, 'spots': 4132, 'uninspired': 4657, 'dogs': 1311, 'stylish': 4251, 'pleasant': 3302, 'appealing': 272, 'gerard': 1895, 'glenn': 1918, 'previously': 3388, 'cox': 1026, 'history': 2121, 'irish': 2353, 'troubles': 4594, 'civil': 826, 'war': 4792, 'state': 4160, 'victor': 4731, 'brains': 563, 'buddy': 609, 'crowd': 1067, 'challenging': 744, 'men': 2805, 'reminiscent': 3621, 'bare': 398, 'john': 2409, 'ford': 1789, 'partly': 3197, 'responsible': 3656, 'getting': 1901, 'trial': 4580, 'tricks': 4583, 'depth': 1190, 'surprising': 4315, 'contrast': 975, 'odds': 3082, 'local': 2634, 'fashioned': 1660, 'capable': 672, 'wide': 4880, 'range': 3516, 'expectations': 1576, 'accent': 78, 'distracting': 1297, 'drew': 1360, 'humanity': 2189, 'notably': 3042, 'room': 3735, 'outcome': 3142, 'satisfying': 3791, 'ireland': 2352, 'tortured': 4530, 'providing': 3451, 'sadly': 3769, 'stephen': 4176, 'kings': 2481, 'irony': 2357, 'experience': 1580, 'impact': 2244, 'disagree': 1269, 'hearts': 2066, 'memory': 2804, 'inner': 2292, 'thoughts': 4464, 'unreal': 4676, 'points': 3319, 'view': 4736, 'access': 83, 'stretch': 4221, 'claim': 828, 'whereas': 4865, 'limited': 2606, 'petty': 3249, 'writes': 4970, 'shooting': 3943, 'regard': 3588, 'whether': 4866, 'blame': 499, 'incredible': 2269, 'adaptation': 113, 'gold': 1932, 'luck': 2681, 'international': 2326, 'bits': 490, 'west': 4852, 'smaller': 4034, 'category': 718, 'creating': 1039, 'core': 995, 'documentary': 1307, 'fool': 1779, 'lives': 2628, 'approach': 282, 'ties': 4490, 'deadly': 1133, 'extreme': 1609, 'technique': 4383, 'mix': 2876, 'photography': 3260, 'digital': 1251, 'performed': 3230, 'industry': 2280, 'covers': 1024, 'heavy': 2070, 'companion': 909, 'innocence': 2293, 'influence': 2286, 'cultural': 1078, 'philosophical': 3253, 'fired': 1735, 'dialogues': 1235, 'actual': 108, 'needless': 2989, 'viewings': 4741, 'follow': 1772, 'introduced': 2337, 'figures': 1713, 'post': 3352, 'youd': 4987, 'important': 2247, 'cake': 648, 'nose': 3037, 'gang': 1867, 'bull': 619, 'besides': 468, 'atmospheric': 334, 'wacky': 4769, 'exaggerated': 1552, 'despite': 1211, 'frame': 1815, 'improve': 2254, 'atmosphere': 333, 'demand': 1174, 'reading': 3544, 'references': 3583, 'area': 286, 'extended': 1604, 'lacks': 2505, 'largely': 2518, 'halfway': 2008, 'reaches': 3538, 'dutch': 1389, 'dub': 1378, 'anime': 243, 'styles': 4250, 'sounds': 4084, 'viewing': 4740, 'translation': 4562, 'floating': 1758, 'worthless': 4954, 'justice': 2438, 'specific': 4099, 'western': 4853, 'waiting': 4772, 'sign': 3970, 'dry': 1377, 'spirits': 4115, '45': 50, '50': 51, 'nine': 3017, 'ms': 2931, 'goldberg': 1933, 'discussion': 1284, 'agreed': 156, 'efforts': 1433, 'hang': 2022, 'together': 4511, 'waited': 4771, 'months': 2897, 'notes': 3046, 'yesterday': 4983, 'descent': 1193, 'nyc': 3065, 'sold': 4052, 'fellow': 1691, 'patrick': 3213, '75': 57, 'environment': 1505, 'wild': 4885, 'parties': 3196, 'quest': 3486, 'womans': 4922, 'apartment': 265, 'dreary': 1356, 'reminded': 3619, 'colors': 879, 'proceeds': 3411, 'rape': 3521, 'follows': 1775, 'lose': 2654, 'morning': 2906, 'told': 4513, 'saves': 3796, 'introduces': 2338, 'club': 863, 'photographed': 3258, 'noticed': 3049, 'credits': 1050, 'priceless': 3390, 'unfolds': 4651, 'strip': 4228, 'thinks': 4454, 'plans': 3292, 'nudity': 3059, 'turns': 4609, 'beast': 422, 'rough': 3741, 'skip': 4016, 'save': 3794, 'performing': 3233, 'male': 2719, 'revenge': 3675, 'strength': 4219, 'explained': 1587, 'required': 3641, 'trust': 4598, 'believes': 456, 'tear': 4379, 'roll': 3728, 'cheek': 779, 'constant': 957, '17': 9, 'jobs': 2406, 'album': 175, 'repetitive': 3633, 'energy': 1478, 'corporate': 998, 'psycho': 3457, 'included': 2262, 'whatever': 4859, 'distant': 1295, 'balls': 390, 'shoot': 3942, 'passed': 3202, 'board': 522, 'invisible': 2344, 'hear': 2061, 'naked': 2959, 'busy': 635, 'uses': 4697, 'spy': 4135, 'ends': 1474, 'aka': 168, 'format': 1799, 'group': 1980, 'super': 4295, 'mid': 2832, 'orders': 3127, 'leader': 2546, 'ultra': 4629, 'pro': 3406, 'lesson': 2577, 'bright': 581, 'revealing': 3672, 'navy': 2976, 'closest': 857, 'mansion': 2731, 'defend': 1158, 'fascinating': 1658, 'sentence': 3881, 'sides': 3967, 'central': 735, 'dedicated': 1153, 'relations': 3596, 'society': 4050, 'keeping': 2450, 'americas': 215, 'samurai': 3779, 'spiritual': 4116, 'developing': 1224, 'inevitably': 2283, 'became': 431, 'fully': 1847, 'serves': 3895, 'arrived': 301, 'bang': 393, 'ships': 3935, 'thrown': 4481, 'crisis': 1060, 'british': 589, 'fate': 1665, 'neighbor': 2992, 'within': 4912, 'usually': 4700, 'trade': 4547, 'advanced': 128, 'technology': 4385, 'represented': 3638, 'loyal': 2679, 'believed': 455, 'prevent': 3385, 'selling': 3873, 'familiar': 1643, 'motivations': 2915, 'suggests': 4282, 'mainly': 2708, 'represent': 3637, 'suspenseful': 4331, 'hero': 2088, 'sympathy': 4343, 'compelling': 916, 'nor': 3032, 'stands': 4147, 'achieve': 92, 'status': 4165, 'scores': 3823, 'disappointing': 1274, 'sounding': 4083, 'barry': 401, 'chinese': 796, 'tiger': 4491, 'hidden': 2096, 'dragon': 1344, 'genres': 1889, 'succeeds': 4264, 'traditional': 4550, 'unrealistic': 4677, 'jumping': 2431, 'shot': 3949, 'fly': 1763, 'ratings': 3530, 'impress': 2250, 'bourne': 554, 'gone': 1935, 'trilogy': 4586, 'nicely': 3009, 'novels': 3053, 'achievement': 94, 'cry': 1073, 'stop': 4201, 'smiling': 4037, 'paul': 3214, 'conclusion': 936, 'test': 4416, 'altogether': 202, 'unforgettable': 4652, 'giant': 1905, 'gift': 1906, 'universe': 4666, 'theyve': 4446, 'eating': 1413, 'swimming': 4338, 'fish': 1738, 'matrix': 2767, 'spectacular': 4101, 'brothers': 599, 'argue': 290, 'load': 2631, 'wrong': 4973, 'anti': 254, 'climax': 849, 'gradually': 1952, 'knows': 2493, 'gotta': 1946, 'wood': 4933, 'pile': 3275, 'merits': 2817, 'trailer': 4554, 'showed': 3956, 'sir': 4000, 'anthony': 253, 'jackson': 2375, 'lynch': 2691, 'timothy': 4499, 'street': 4216, 'pieces': 3273, 'flash': 1745, 'wrote': 4974, 'review': 3676, 'essentially': 1523, 'written': 4972, 'redeeming': 3577, 'unfortunate': 4653, 'effect': 1428, 'batman': 413, 'nonetheless': 3029, 'bottom': 551, 'list': 2617, 'lacking': 2504, 'imagination': 2236, 'sam': 3777, 'concerned': 932, 'superman': 4301, 'starring': 4154, 'kirk': 2482, 'chapter': 757, 'offers': 3090, 'inane': 2258, 'titles': 4506, 'vs': 4767, 'wizard': 4919, 'mechanical': 2788, 'toward': 4539, 'devils': 1229, 'critical': 1062, 'miscast': 2862, 'charm': 767, 'individual': 2277, 'bruce': 602, 'wayne': 4821, 'dynamic': 1394, 'anywhere': 263, 'considerable': 950, 'older': 3101, 'costume': 1005, 'exciting': 1563, 'drink': 1361, 'chemistry': 782, 'evident': 1547, 'wilson': 4891, 'development': 1225, 'managed': 2723, 'present': 3374, 'support': 4303, 'led': 2558, 'dubbed': 1379, 'desperately': 1209, 'menacing': 2807, 'prime': 3395, 'suspects': 4328, 'eccentric': 1414, 'professor': 3422, 'radio': 3504, 'established': 1524, 'comic': 893, 'alfred': 181, 'butler': 637, 'mere': 2814, 'walk': 4775, 'drawn': 1351, 'incoherent': 2265, 'further': 1853, 'design': 1202, 'resembles': 3646, 'sitcom': 4004, 'rolled': 3729, 'pity': 3281, 'effort': 1432, 'thrilling': 4474, 'capture': 676, 'authentic': 358, 'combined': 885, 'multi': 2935, 'weapon': 4828, 'authority': 360, 'officer': 3092, 'entry': 1504, 'guard': 1988, 'lake': 2509, 'stolen': 4195, 'blind': 506, 'monk': 2889, 'favorites': 1672, 'explains': 1589, 'appeal': 271, 'manhattan': 2726, 'island': 2361, 'witty': 4917, 'romantic': 3733, 'peter': 3247, 'native': 2972, 'location': 2635, 'limits': 2607, 'ensemble': 1492, 'cried': 1054, 'cats': 721, 'dorothy': 1330, 'cameo': 657, 'subsequent': 4257, 'imagine': 2238, 'helen': 2075, 'mess': 2818, 'certain': 737, 'sexuality': 3909, 'minds': 2852, 'process': 3412, 'stated': 4161, 'porn': 3336, 'adam': 111, 'jones': 2418, 'cross': 1066, 'eyed': 1612, 'minor': 2857, 'picked': 3266, 'bigger': 479, 'adams': 112, 'hello': 2078, 'signs': 3973, 'weeks': 4839, 'lay': 2542, 'website': 4834, 'comedies': 889, 'alright': 198, 'worlds': 4947, 'tap': 4364, 'childish': 791, 'robinson': 3716, 'nail': 2957, 'band': 391, 'portraying': 3343, 'awkward': 374, 'singer': 3993, 'fever': 1699, 'concert': 935, 'thousands': 4466, 'exists': 1573, 'confusing': 942, 'stay': 4166, 'focused': 1767, 'notice': 3048, 'smoking': 4040, 'connected': 945, 'destiny': 1212, 'everyones': 1543, '30': 42, 'presented': 3376, 'shallow': 3917, 'bother': 548, 'bland': 500, 'photo': 3257, 'compare': 911, 'alas': 172, 'built': 618, 'tied': 4489, 'build': 614, 'existent': 1572, 'travel': 4567, 'sequels': 3886, 'bears': 421, 'bleak': 503, 'closely': 855, 'consequences': 947, 'global': 1920, 'warming': 4795, 'simplistic': 3985, 'issue': 2364, 'scientists': 3819, 'al': 170, '2007': 37, 'cities': 823, 'tend': 4400, 'reminds': 3620, 'treasure': 4571, 'spoof': 4127, 'gangster': 1868, 'keaton': 2448, 'ball': 388, 'talks': 4361, 'da': 1094, 'joe': 2407, 'gangsters': 1869, 'mafia': 2700, '2006': 36, 'london': 2641, 'sounded': 4082, 'blowing': 515, 'brilliance': 582, 'ed': 1415, 'particular': 3194, 'driven': 1365, 'mainstream': 2709, 'teenager': 4390, 'likewise': 2603, 'masterpieces': 2760, 'jesus': 2399, 'franco': 1820, 'recent': 3566, 'disappeared': 1271, 'fairly': 1631, 'lengthy': 2570, '1990s': 25, 'needed': 2988, 'hunting': 2201, 'haunting': 2051, 'described': 1195, 'briefly': 580, 'received': 3564, 'thankfully': 4422, 'cold': 872, 'winters': 4901, 'knowledge': 2491, 'poster': 3353, 'firstly': 1737, 'number': 3060, 'available': 361, 'theatrical': 4430, 'classes': 834, 'positive': 3346, 'critics': 1064, 'placed': 3283, 'trash': 4565, 'secondly': 3847, 'larry': 2520, 'currently': 1085, 'growing': 1983, 'numbers': 3061, 'steal': 4170, '14': 6, 'billy': 482, 'obsessed': 3069, 'rule': 3753, 'contain': 962, 'insult': 2309, 'ben': 463, 'cardboard': 682, 'james': 2378, 'favor': 1670, 'inspiring': 2302, 'designed': 1203, 'chick': 786, 'ryan': 3765, 'overdone': 3152, 'settings': 3901, 'painful': 3171, 'embarrassing': 1454, 'sticks': 4186, 'belongs': 460, 'fx': 1858, 'amateur': 206, 'considering': 952, 'attacked': 338, 'gay': 1876, 'staying': 4168, 'cops': 993, 'reunion': 3669, 'cousin': 1021, 'implausible': 2245, 'ron': 3734, 'starting': 4158, 'painting': 3175, 'strikes': 4225, 'ex': 1549, 'girlfriend': 1910, 'questionable': 3488, 'enjoying': 1487, 'laughing': 2533, 'killers': 2471, 'bay': 416, 'rate': 3526, 'agent': 150, 'agents': 151, 'jamie': 2379, 'bin': 483, 'jim': 2402, 'zone': 4999, 'brother': 598, 'flaw': 1749, 'thriller': 4472, 'flat': 1748, 'scenario': 3808, 'horse': 2170, 'race': 3499, 'door': 1328, 'checking': 778, '2000': 30, 'reviewer': 3677, 'claimed': 829, 'violent': 4748, 'california': 650, 'terrifying': 4410, 'risk': 3704, 'trite': 4589, 'em': 1452, 'setting': 3900, 'renting': 3629, 'price': 3389, 'instant': 2305, 'caring': 691, 'horrendous': 2162, 'cage': 645, '80s': 59, 'thanks': 4423, 'large': 2517, 'brown': 601, 'lou': 2663, 'vietnam': 4735, 'bar': 396, 'soft': 4051, 'crash': 1033, 'holding': 2130, 'bag': 384, 'recommended': 3572, 'loaded': 2632, 'failing': 1627, 'legs': 2566, 'gratuitous': 1961, 'fill': 1714, 'accept': 80, 'suspend': 4329, 'pointed': 3317, 'space': 4090, 'disaster': 1276, 'focus': 1766, 'dreams': 1355, 'possibilities': 3348, 'lie': 2590, 'arthur': 305, 'writer': 4968, 'date': 1118, 'quit': 3494, 'pay': 3216, 'disneys': 1290, 'overly': 3155, 'landscapes': 2514, 'criticism': 1063, 'alice': 182, 'pan': 3180, 'weakest': 4825, 'cinderella': 815, 'subtle': 4260, 'consistent': 953, 'swear': 4334, 'humans': 2190, 'herself': 2092, 'studio': 4240, 'creatures': 1046, 'draw': 1349, 'wicked': 4879, 'conceived': 929, 'ward': 4793, 'drawing': 1350, 'grand': 1953, 'duke': 1383, 'struck': 4232, 'fashion': 1659, 'eight': 1436, 'raw': 3532, 'picking': 3267, 'heroine': 2091, 'remarkable': 3613, 'successful': 4266, 'bringing': 586, 'cutting': 1092, 'across': 96, 'merely': 2815, 'punch': 3466, 'rose': 3739, 'beneath': 464, 'strongly': 4231, 'mixture': 2878, 'pushing': 3479, 'bergman': 466, 'mel': 2796, 'inevitable': 2282, 'fell': 1690, 'parallel': 3185, 'subplot': 4255, 'boat': 523, 'portion': 3338, 'estate': 1525, 'blown': 516, 'randomly': 3515, 'streets': 4217, 'page': 3167, 'offer': 3087, 'occasionally': 3075, 'raising': 3509, 'sky': 4017, 'ways': 4822, 'jake': 2377, 'homer': 2144, 'cooper': 990, 'picks': 3268, 'ability': 65, 'medium': 2792, 'threw': 4470, 'wanna': 4786, 'stays': 4169, 'usa': 4691, 'shirley': 3936, 'wise': 4903, 'harris': 2038, 'plain': 3286, 'goofy': 1939, 'computer': 927, 'doom': 1326, 'effectively': 1430, 'professional': 3421, 'extraordinary': 1607, 'literature': 2623, 'afraid': 140, 'interpretation': 2328, 'sake': 3775, 'examples': 1554, 'master': 2757, 'complex': 923, 'fetched': 1698, 'filmmaker': 1719, 'reads': 3545, 'america': 212, '1972': 18, 'century': 736, 'clothing': 861, 'fond': 1776, 'memories': 2803, 'aids': 161, 'muslim': 2949, 'terrorists': 4414, 'road': 3709, 'rage': 3505, 'bird': 484, 'wars': 4804, 'internet': 2327, 'producers': 3416, 'market': 2740, 'company': 910, 'began': 441, 'church': 813, 'thief': 4448, 'copy': 994, 'meeting': 2794, 'members': 2801, 'event': 1535, 'week': 4837, 'values': 4710, 'nostalgic': 3039, 'machine': 2693, 'lady': 2507, 'poetic': 3313, 'pictures': 3270, 'equal': 1509, 'amounts': 220, 'paranoia': 3186, 'therefore': 4439, 'increasingly': 2268, 'polanski': 3321, 'suicide': 4283, 'guide': 1993, 'party': 3200, 'obnoxious': 3067, 'seemingly': 3863, 'building': 615, 'mental': 2808, 'sinister': 3998, 'relief': 3605, 'experienced': 1581, 'hop': 2154, 'daughter': 1121, 'generally': 1881, 'twists': 4619, 'network': 3000, 'loving': 2675, 'send': 3875, 'private': 3404, 'angry': 238, 'wooden': 4934, 'merit': 2816, 'cases': 708, 'vehicle': 4718, 'share': 3920, 'views': 4742, 'italian': 2367, 'families': 1644, 'business': 633, 'thrill': 4471, 'solve': 4060, 'murders': 2943, 'clint': 850, 'eastwood': 1409, 'luke': 2687, 'cynical': 1093, 'victoria': 4732, 'albert': 174, 'queen': 3485, 'villain': 4744, 'affair': 135, 'explore': 1594, 'theory': 4437, 'emily': 1456, 'blunt': 520, 'convincing': 985, 'princess': 3397, 'trapped': 4564, 'england': 1482, 'mouth': 2920, 'frankly': 1823, 'fortunately': 1805, 'van': 4713, 'elephant': 1444, 'ultimately': 4628, 'carry': 700, 'fantasy': 1652, 'riveting': 3708, 'tension': 4404, 'troubled': 4593, 'convince': 983, 'compelled': 915, 'blair': 497, 'protagonist': 3441, 'crying': 1074, 'ticket': 4487, 'rip': 3700, 'forgotten': 1797, 'idiotic': 2219, 'elvis': 1451, 'indian': 2274, 'broken': 594, 'thomas': 4458, 'substance': 4258, 'otherwise': 3137, 'government': 1948, 'familys': 1646, 'sing': 3992, 'easier': 1405, 'upset': 4687, 'stuck': 4237, 'air': 164, 'smith': 4038, 'wonderfully': 4929, 'grace': 1950, 'circle': 821, 'diana': 1237, 'moore': 2901, 'celebrity': 729, 'member': 2800, 'lisa': 2616, 'tommy': 4516, 'beloved': 461, 'hyde': 2206, 'roberts': 3714, 'broadway': 592, 'delight': 1167, 'surprises': 4314, 'longer': 2645, 'creators': 1044, 'terry': 4415, 'turner': 4607, 'sun': 4292, '1940s': 13, 'neo': 2998, 'deserved': 1200, 'tight': 4492, 'appreciated': 280, 'contemporary': 965, 'paying': 3217, 'tribute': 4581, 'changing': 752, 'south': 4087, 'religious': 3608, 'ignorant': 2223, 'mentions': 2813, 'shoes': 3941, 'normal': 3033, 'teenage': 4389, 'walks': 4780, 'disgusting': 1286, 'bible': 477, 'offensive': 3086, 'texas': 4418, 'attraction': 350, 'dennis': 1179, 'bob': 524, 'glory': 1922, 'brian': 576, 'listed': 2618, 'source': 4086, 'pleased': 3305, 'freedom': 1828, 'fighter': 1708, 'slave': 4022, 'owner': 3159, 'explored': 1595, 'drive': 1363, 'con': 928, 'land': 2511, 'heroic': 2090, 'knife': 2487, 'anna': 245, 'president': 3378, 'mexico': 2827, 'north': 3036, 'americans': 214, 'settle': 3902, 'mexican': 2826, 'julia': 2427, 'genuine': 1891, '1970s': 17, 'tame': 4363, 'vampire': 4711, 'edited': 1420, 'titled': 4505, 'mario': 2738, 'games': 1865, 'variety': 4714, 'challenge': 743, 'slasher': 4020, 'isolated': 2363, 'granted': 1957, 'seed': 3856, 'gross': 1978, 'meat': 2787, 'mine': 2853, 'asked': 317, 'step': 4175, 'tongue': 4518, 'ultimate': 4627, 'sunday': 4293, 'tradition': 4549, 'household': 2179, 'viewed': 4737, 'breathtaking': 574, 'suit': 4284, 'reflection': 3585, 'survival': 4320, 'sixties': 4011, 'ready': 3546, 'nation': 2969, 'borrowed': 545, 'theaters': 4428, 'studios': 4241, 'weekend': 4838, 'counter': 1011, 'similarly': 3980, 'nick': 3012, 'seven': 3903, 'jealous': 2388, 'realize': 3552, 'theme': 4433, 'stereotypical': 4180, 'blonde': 511, 'changes': 751, 'corny': 997, 'primarily': 3393, 'sends': 3876, 'danger': 1109, 'fame': 1642, 'fortune': 1806, 'constantly': 958, 'raymond': 3534, 'golden': 1934, 'books': 536, 'philip': 3252, 'wealthy': 4827, 'sorts': 4078, 'clues': 865, 'reduced': 3579, 'dealing': 1136, 'movement': 2923, 'recording': 3575, 'answer': 251, 'crime': 1055, 'gain': 1863, 'defined': 1160, 'solely': 4056, 'jane': 2380, 'green': 1971, 'parody': 3192, 'integrity': 2311, 'murdered': 2940, 'locked': 2637, 'rarely': 3524, 'brutal': 603, 'suspect': 4327, 'marks': 2742, 'themes': 4434, 'evidence': 1546, 'hollywoods': 2138, 'glorious': 1921, 'movements': 2924, 'suddenly': 4273, 'angle': 236, 'appropriate': 283, 'refuses': 3587, 'hall': 2009, 'nasty': 2968, 'drop': 1369, 'cruise': 1071, 'police': 3322, 'powell': 3358, 'decade': 1144, 'vicious': 4728, 'attempted': 341, 'guilty': 1995, 'horrors': 2169, 'scientist': 3818, 'sidekick': 3966, 'greed': 1968, 'hot': 2174, 'waters': 4817, 'generic': 1885, 'entertain': 1497, 'un': 4630, 'research': 3644, 'wannabe': 4787, 'offering': 3089, 'cell': 730, 'tons': 4520, 'scientific': 3817, 'bitter': 491, 'endless': 1473, 'security': 3854, 'sons': 4073, 'species': 4098, 'warn': 4797, 'saturday': 3792, 'removed': 3624, 'replaced': 3634, 'stupidity': 4248, 'vision': 4754, 'lame': 2510, 'intent': 2318, 'wasting': 4810, 'akshay': 169, 'abraham': 69, 'dating': 1120, 'rights': 3697, 'vhs': 4725, 'running': 3756, 'delivers': 1172, 'silence': 3974, 'heat': 2067, 'degree': 1164, 'succeeded': 4263, 'delivering': 1171, 'kudos': 2497, 'delivered': 1170, 'law': 2538, 'flashbacks': 1747, 'reasonable': 3558, 'edge': 1418, 'sloppy': 4030, 'aware': 368, 'assault': 324, 'expressed': 1601, 'miracle': 2860, 'arrival': 299, 'village': 4743, 'identity': 2217, 'funeral': 1849, 'mass': 2753, 'represents': 3639, 'context': 968, 'serving': 3897, 'bridge': 578, 'indians': 2275, 'paid': 3169, 'crocodile': 1065, 'grew': 1972, 'caused': 724, 'johnny': 2410, 'lees': 2560, 'childhood': 790, 'whenever': 4863, 'plant': 3293, 'bud': 607, 'roots': 3738, 'cowboy': 1025, 'pie': 3271, 'prove': 3445, 'failure': 1629, 'kevin': 2457, 'edition': 1422, 'abc': 63, 'feels': 1687, 'henry': 2084, 'panic': 3181, 'macy': 2695, 'ritter': 3705, 'campbell': 663, 'donald': 1321, 'sutherland': 4333, 'barbara': 397, 'welcome': 4842, 'alex': 179, 'mail': 2706, 'appearances': 275, 'unhappy': 4656, 'seeks': 3860, 'psychiatrist': 3455, 'attracted': 349, 'breaks': 571, 'receives': 3565, 'discovers': 1281, 'profound': 3423, 'kills': 2474, 'decision': 1151, 'difference': 1246, 'loss': 2659, 'monsters': 2893, 'cared': 685, 'damn': 1100, 'feelings': 1686, 'realizes': 3554, 'apparent': 269, 'discover': 1279, 'training': 4558, 'returned': 3666, 'names': 2963, 'fights': 1710, 'snake': 4042, 'tends': 4402, 'drag': 1342, 'dramatic': 1348, 'comparison': 914, 'affected': 137, 'frightening': 1839, 'abandoned': 62, 'houses': 2180, 'fears': 1677, 'perspective': 3245, 'concerning': 933, 'everyday': 1541, 'encounter': 1466, 'reference': 3582, 'melodrama': 2797, 'deal': 1135, 'moral': 2902, 'issues': 2365, 'racism': 3502, 'property': 3438, 'guest': 1992, 'statement': 4162, 'comics': 895, 'extras': 1608, 'gas': 1874, 'modesty': 2883, 'alien': 183, 'australian': 357, 'faster': 1662, 'elderly': 1440, '40': 48, 'unable': 4631, 'insulting': 2310, 'foul': 1810, 'amusing': 221, 'entirely': 1503, 'calls': 654, 'handed': 2016, 'dire': 1257, 'aliens': 184, 'deliberately': 1166, 'manage': 2722, 'direct': 1258, 'meaningless': 2782, 'legend': 2564, 'celluloid': 731, 'trashy': 4566, 'dear': 1140, 'lord': 2652, 'winning': 4898, 'oscar': 3133, 'nominated': 3025, 'drunk': 1375, 'burt': 629, 'johnson': 2411, 'chosen': 805, 'susan': 4326, 'waitress': 4773, 'linda': 2609, 'threatening': 4468, 'wishes': 4906, 'happily': 2030, 'ted': 4386, 'martin': 2748, 'ralph': 3510, 'anne': 246, 'pearl': 3220, 'mrs': 2930, 'perry': 3237, 'likable': 2598, 'screenplay': 3831, 'laughs': 2534, 'masterful': 2758, 'letter': 2581, 'incomprehensible': 2267, 'understanding': 4645, 'amazingly': 210, 'awesome': 371, 'passionate': 3206, 'awe': 370, 'landing': 2512, 'moon': 2900, 'associated': 327, 'fatal': 1664, 'seconds': 3848, '11': 2, 'documentaries': 1306, 'simon': 3982, 'russian': 3762, 'lifestyle': 2593, 'hoping': 2160, 'andrew': 228, 'financial': 1725, 'circumstances': 822, 'von': 4765, 'bore': 540, 'audiences': 353, 'march': 2734, 'museum': 2945, 'demands': 1175, 'blank': 501, 'aged': 149, '1960s': 15, 'hal': 2006, 'clean': 838, 'greatly': 1967, 'lol': 2640, 'kennedy': 2454, 'standard': 4144, 'rated': 3527, 'cable': 644, 'allow': 189, 'african': 142, 'reaction': 3541, 'groups': 1981, 'theyd': 4443, 'blacks': 494, 'satire': 3788, 'rap': 3520, 'pseudo': 3454, 'portrayed': 3342, 'mighty': 2836, 'contained': 963, 'boot': 538, 'opened': 3113, 'ludicrous': 2685, 'sell': 3871, 'hired': 2117, 'six': 4010, 'souls': 4080, 'letters': 2582, 'base': 402, 'faced': 1617, 'possibility': 3349, 'honest': 2146, 'manager': 2724, 'snow': 4045, 'winter': 4900, 'persona': 3239, 'washington': 4806, 'boss': 546, 'fictional': 1703, 'closing': 859, 'nervous': 2999, 'hung': 2197, 'creation': 1040, 'universal': 4665, 'depicted': 1183, 'dinosaurs': 1256, 'ran': 3513, 'generations': 1884, 'rush': 3759, 'remotely': 3623, 'foot': 1781, 'millions': 2848, 'blow': 514, 'maker': 2714, 'dvds': 1392, 'tour': 4538, 'ancient': 225, 'gods': 1928, 'jeff': 2390, 'flop': 1760, 'rental': 3627, 'timeless': 4496, 'involves': 2348, 'centered': 733, 'public': 3460, 'laughable': 2530, 'racist': 3503, 'stereotypes': 4179, 'depressing': 1188, 'kurt': 2499, 'russell': 3761, 'dropped': 1370, 'rat': 3525, 'football': 1783, 'figured': 1712, 'passes': 3203, '70': 55, 'titanic': 4503, 'listening': 2620, 'oscars': 3134, 'friday': 1834, 'alcohol': 176, 'domestic': 1318, 'miles': 2843, 'highlight': 2103, 'torn': 4528, 'poverty': 3357, 'jeremy': 2394, 'disappoint': 1272, 'beating': 425, 'breaking': 570, 'conversation': 980, 'kicking': 2462, 'hopeless': 2158, 'carrying': 701, 'grim': 1974, 'faithful': 1634, 'amanda': 205, 'root': 3737, 'friendly': 1836, 'cruel': 1070, 'window': 4894, 'bed': 436, 'enormous': 1490, 'kidnapped': 2466, 'sensitive': 3879, 'angela': 232, 'dangerous': 1110, 'operation': 3117, 'occasional': 3074, 'humour': 2194, 'unfunny': 4655, 'enjoyment': 1488, 'department': 1182, 'insane': 2296, 'murderous': 2942, 'abysmal': 76, 'prepared': 3371, 'undoubtedly': 4648, 'wouldve': 4959, 'sum': 4289, 'itll': 2369, 'sword': 4340, 'techniques': 4384, 'unpredictable': 4675, 'kung': 2498, 'fu': 1844, 'snl': 4044, 'hits': 2125, 'originality': 3130, 'overacting': 3149, 'joined': 2413, 'stanley': 4148, 'agree': 155, 'hotel': 2175, 'closed': 854, 'resident': 3647, 'convinced': 984, 'overcome': 3151, 'block': 508, 'cabin': 643, 'driving': 1368, 'rooms': 3736, 'empty': 1465, 'calm': 655, 'moody': 2899, 'shadows': 3913, 'cop': 991, 'andrews': 229, 'newly': 3004, 'hates': 2048, 'rats': 3531, 'tough': 4537, 'hook': 2152, 'advice': 133, 'relies': 3606, 'partner': 3198, 'involvement': 2347, 'investigation': 2343, 'doomed': 1327, 'gripping': 1976, 'polished': 3323, 'dated': 1119, 'notch': 3043, 'slick': 4026, 'actress': 105, 'heaven': 2068, 'destruction': 1216, 'slight': 4027, 'model': 2880, 'disc': 1278, 'spoken': 4126, 'burton': 630, 'cgi': 740, 'apes': 267, 'via': 4726, 'ruins': 3752, 'wreck': 4965, 'unoriginal': 4673, 'superficial': 4298, 'sheriff': 3929, 'catches': 715, 'denzel': 1181, 'hire': 2116, 'forever': 1792, 'express': 1600, 'peace': 3219, 'holiday': 2134, 'careful': 688, 'greedy': 1969, 'ellen': 1446, 'bell': 458, 'coach': 868, '3rd': 47, 'featuring': 1681, 'solo': 4058, 'pursuit': 3476, 'happiness': 2031, 'attached': 336, 'disease': 1285, 'putting': 3482, 'sacrifice': 3766, 'develop': 1222, 'presence': 3373, 'harsh': 2040, 'weight': 4840, 'terms': 4406, 'walls': 4783, 'criminals': 1058, 'crimes': 1056, 'presentation': 3375, 'occurred': 3077, 'ship': 3934, 'painted': 3174, 'surrounding': 4319, 'cameos': 658, 'redemption': 3578, 'spoke': 4125, 'allowing': 191, 'map': 2733, 'hopefully': 2157, 'benefit': 465, 'prisoners': 3403, 'confidence': 938, 'intention': 2319, 'cartoon': 704, 'square': 4136, 'nostalgia': 3038, 'intriguing': 2335, 'ham': 2011, 'dick': 1239, 'pacino': 3164, 'nomination': 3026, 'madonna': 2699, 'condition': 937, 'willis': 4890, 'grasp': 1960, 'tender': 4401, 'le': 2544, 'achieved': 93, 'georges': 1894, 'personality': 3242, 'warmth': 4796, 'directions': 1262, 'unlikely': 4671, 'friendship': 1838, 'beer': 439, 'develops': 1226, 'sleeping': 4025, 'correct': 1000, 'bear': 420, 'rain': 3506, 'daniel': 1111, 'treated': 4573, 'empathy': 1462, 'overlooked': 3154, 'awfully': 373, 'punk': 3468, 'san': 3780, 'visits': 4756, 'hospital': 2172, 'mature': 2773, 'albeit': 173, 'actresses': 106, 'serve': 3893, 'remarks': 3615, 'lying': 2690, 'aging': 153, 'definite': 1161, 'resemblance': 3645, 'streep': 4215, 'physical': 3262, 'striking': 4226, 'richardson': 3688, 'plastic': 3294, 'exact': 1550, 'center': 732, 'explaining': 1588, 'rocky': 3723, 'thoughtful': 4463, 'passing': 3204, 'extent': 1605, 'product': 3418, 'beliefs': 452, 'legendary': 2565, 'successfully': 4267, 'scottish': 3825, 'premise': 3370, 'quirky': 3493, '16': 8, 'nights': 3016, 'distribution': 1298, 'racial': 3501, 'adults': 126, 'teens': 4392, 'leading': 2547, 'path': 3209, 'buried': 624, 'heights': 2073, 'neighborhood': 2993, 'portray': 3340, 'initial': 2290, 'curiosity': 1082, 'exist': 1569, 'bush': 632, 'commit': 904, 'record': 3573, 'homeless': 2143, 'frankenstein': 1822, 'breath': 573, 'kicks': 2463, 'elizabeth': 1445, 'feet': 1688, 'lived': 2626, 'scenery': 3810, 'soldier': 4053, 'hundreds': 2196, 'loosely': 2651, 'poem': 3312, 'stevens': 4183, 'cary': 706, 'india': 2273, 'ups': 4686, 'unit': 4663, 'joan': 2404, 'service': 3896, 'escapes': 1519, 'broad': 590, 'handsome': 2021, 'tense': 4403, 'battle': 414, 'annie': 247, 'brave': 567, 'scope': 3821, 'graphics': 1959, 'suck': 4269, 'sue': 4274, 'park': 3190, 'sucked': 4270, 'throws': 4482, 'womens': 4924, 'determined': 1221, 'territory': 4411, 'devoid': 1230, 'neighbors': 2994, 'refreshing': 3586, 'pig': 3274, 'survive': 4321, 'walked': 4776, 'cards': 683, 'stronger': 4230, 'bond': 532, 'explanation': 1590, 'vast': 4716, 'mountains': 2918, 'bonus': 534, 'thumbs': 4485, 'melting': 2799, 'eighties': 1437, 'suited': 4286, 'relatively': 3600, 'storm': 4206, 'purpose': 3474, 'basic': 406, 'pleasantly': 3303, 'importantly': 2248, 'nicholas': 3010, 'norman': 3035, 'academy': 77, 'depicts': 1186, 'unknown': 4668, 'mistaken': 2872, 'relation': 3595, 'appalling': 268, 'beach': 419, 'amy': 222, 'ii': 2226, 'dislike': 1288, 'hills': 2109, 'excuse': 1564, 'judge': 2424, 'favourite': 1673, 'realise': 3548, 'suggested': 4281, 'hurt': 2202, 'trap': 4563, 'ah': 158, 'burns': 628, 'recall': 3562, 'similarities': 3979, 'nightmares': 3015, 'accidentally': 85, 'executive': 1567, 'fail': 1625, 'stomach': 4196, 'neck': 2985, 'pool': 3327, 'truck': 4595, 'continue': 969, 'regarding': 3589, 'committed': 905, 'join': 2412, 'bothered': 549, 'likely': 2601, 'finger': 1731, 'occurs': 3078, 'calling': 653, 'murderer': 2941, 'hammer': 2014, 'prisoner': 3402, 'rex': 3683, 'rid': 3690, 'motives': 2916, 'turkey': 4604, 'sci': 3815, 'fi': 1701, 'aired': 165, 'graphic': 1958, 'clichés': 846, 'decisions': 1152, 'selfish': 3870, 'eaten': 1412, 'spot': 4131, 'buck': 605, 'afterwards': 145, 'leg': 2562, 'dinosaur': 1255, 'bodies': 526, 'chuck': 812, 'warned': 4798, 'wallace': 4782, 'speaks': 4096, 'population': 3335, 'rival': 3706, 'dare': 1113, 'jump': 2429, 'brooklyn': 595, 'jumped': 2430, 'ladies': 2506, 'mistakes': 2873, 'fay': 1674, 'prostitute': 3440, 'ego': 1435, 'worried': 4949, 'sea': 3838, 'adequate': 120, 'reasonably': 3559, 'suffering': 4277, 'sympathetic': 4342, 'affect': 136, 'whilst': 4869, 'combat': 882, 'martial': 2747, 'choreographed': 801, 'glass': 1917, 'helping': 2081, 'essential': 1522, 'narration': 2965, 'connect': 944, 'nowadays': 3055, 'toy': 4542, 'ages': 152, '1999': 27, 'surfing': 4311, 'month': 2896, 'returning': 3667, 'cost': 1003, 'summary': 4290, 'unbearable': 4633, 'sleep': 4024, 'respected': 3653, 'dust': 1388, 'bat': 410, 'deeply': 1156, 'response': 3654, 'deserve': 1199, 'stopped': 4202, 'presents': 3377, 'lone': 2642, 'cusack': 1088, 'wet': 4855, 'alike': 185, 'method': 2824, 'madness': 2698, 'dozen': 1338, 'relative': 3599, 'ease': 1404, 'shell': 3927, 'drives': 1367, 'plane': 3288, 'journalist': 2420, 'screams': 3828, 'concerns': 934, 'holmes': 2139, 'inspector': 2299, 'hudson': 2184, 'intrigue': 2333, 'kissing': 2484, 'alongside': 196, 'clumsy': 866, 'pal': 3177, 'edward': 1426, 'hardy': 2037, 'forty': 1807, 'kingdom': 2480, 'colorful': 878, 'remarkably': 3614, 'standards': 4145, 'ho': 2127, 'coherent': 871, 'mile': 2842, 'metal': 2823, 'perform': 3227, 'introduction': 2339, 'awake': 365, 'menace': 2806, 'appearing': 277, 'bugs': 613, '13th': 5, 'laura': 2536, 'methods': 2825, 'ken': 2453, 'craig': 1030, 'gary': 1873, 'tom': 4514, 'laws': 2540, 'arrested': 298, 'attorney': 348, 'eddie': 1416, 'prior': 3400, 'ruth': 3763, 'restaurant': 3658, 'caliber': 649, 'pops': 3332, 'lips': 2615, 'mgm': 2828, 'convincingly': 986, 'loses': 2657, 'depression': 1189, 'resort': 3650, 'diamond': 1236, 'paper': 3183, 'revolves': 3682, 'silver': 3977, 'genuinely': 1892, 'widow': 4883, 'spirited': 4114, 'spoiled': 4122, 'abusive': 75, 'royal': 3746, 'prince': 3396, 'naturally': 2974, 'dress': 1357, 'pushed': 3478, 'runs': 3757, 'despair': 1207, 'midnight': 2834, 'flaws': 1752, 'according': 88, 'flesh': 1753, 'exposed': 1598, 'pretentious': 3383, '60s': 54, 'measure': 2786, 'flynn': 1765, 'bedroom': 437, 'antics': 255, 'boxing': 556, 'francisco': 1819, 'bank': 394, 'attend': 344, 'illegal': 2229, 'skill': 4013, 'sport': 4129, 'sullivan': 4288, 'magical': 2704, 'union': 4661, 'delivery': 1173, 'spell': 4104, 'border': 539, 'suits': 4287, 'purposes': 3475, 'unpleasant': 4674, 'solution': 4059, 'court': 1020, 'technical': 4381, 'diane': 1238, 'occasion': 3073, 'forth': 1804, 'brutally': 604, 'object': 3066, 'closet': 858, 'sexually': 3910, 'candy': 668, 'meaningful': 2781, 'greater': 1965, 'facial': 1619, 'expressions': 1603, 'comments': 901, 'burned': 626, 'recorded': 3574, 'resolution': 3649, 'commercials': 903, 'program': 3424, '2005': 35, 'conversations': 981, 'fourth': 1813, 'ingredients': 2289, 'wwii': 4975, 'miserably': 2864, 'river': 3707, 'card': 681, 'daily': 1097, 'basis': 408, 'kiss': 2483, 'factory': 1623, 'scrooge': 3837, 'acid': 95, 'workers': 4943, 'blatant': 502, 'husbands': 2205, 'ignored': 2225, 'relevant': 3604, 'irrelevant': 2358, 'obsession': 3070, 'politics': 3326, 'birthday': 487, 'recognized': 3570, 'caine': 647, 'prom': 3429, 'reveals': 3673, 'hamilton': 2012, '1990': 24, 'exploration': 1593, 'novel': 3052, 'widmark': 4882, 'misses': 2868, 'dan': 1102, 'moved': 2922, 'interaction': 2322, 'adventures': 131, 'jail': 2376, 'butt': 638, 'standing': 4146, '30s': 44, 'horses': 2171, 'fix': 1744, 'hiding': 2099, 'filming': 1718, 'jean': 2389, 'grey': 1973, 'edie': 1419, 'worn': 4948, 'paint': 3173, 'newspaper': 3006, 'nude': 3058, 'tea': 4373, 'mirror': 2861, 'cameras': 660, 'finish': 1732, 'underlying': 4641, 'competition': 918, 'emotionally': 1460, 'dancers': 1105, 'lucas': 2680, 'secrets': 3852, 'lion': 2614, 'fathers': 1667, 'dig': 1250, 'lane': 2515, 'prequel': 3372, 'season': 3843, 'walker': 4778, 'shelf': 3926, 'structure': 4233, 'matched': 2763, 'beaten': 424, 'ordinary': 3128, 'oil': 3097, 'wealth': 4826, '80': 58, 'doctors': 1305, 'cia': 814, 'rolling': 3730, 'overwhelming': 3157, 'helicopter': 2076, 'desert': 1198, 'gem': 1877, 'seventies': 3904, 'nightmare': 3014, 'marie': 2737, 'carries': 699, 'april': 284, 'leonard': 2572, 'strictly': 4223, 'frequently': 1832, 'reel': 3581, 'bathroom': 412, 'jeffrey': 2391, 'murphy': 2944, 'idiot': 2218, 'whoever': 4872, 'matt': 2768, 'productions': 3420, 'causes': 725, 'reactions': 3542, 'witnesses': 4916, 'complicated': 925, 'describes': 1196, 'abuse': 74, 'tune': 4602, 'aint': 163, 'wore': 4939, 'necessarily': 2983, 'wanting': 4790, 'countries': 1013, 'jet': 2400, 'assigned': 325, 'involve': 2345, 'ad': 110, 'abilities': 64, 'engage': 1479, 'chess': 783, 'target': 4366, 'recognition': 3568, 'opportunities': 3120, 'overlook': 3153, 'inventive': 2341, 'soap': 4047, 'competent': 917, 'paltrow': 3178, 'requires': 3642, 'distance': 1294, 'accompanied': 86, 'sneak': 4043, 'clown': 862, 'suffered': 4276, 'scripted': 3835, 'worker': 4942, 'hank': 2024, 'fields': 1705, 'doll': 1313, 'spends': 4107, 'minimum': 2856, 'enthusiasm': 1501, 'continuity': 972, 'errors': 1516, 'lily': 2605, 'stanwyck': 4149, 'subtlety': 4261, 'receive': 3563, 'paris': 3189, 'encounters': 1467, 'reached': 3537, 'warner': 4799, 'code': 869, 'subjects': 4254, 'tragedy': 4551, 'hints': 2113, 'speech': 4102, 'explicit': 1591, 'jazz': 2387, 'twin': 4615, 'carrie': 697, 'fisher': 1739, 'escaped': 1518, 'rising': 3703, 'brando': 566, 'raised': 3508, 'wished': 4905, 'curtis': 1087, 'cook': 988, 'dreadful': 1353, 'stiff': 4187, 'threat': 4467, 'uneven': 4649, 'assumed': 329, 'dude': 1381, 'dawn': 1127, 'slaughter': 4021, 'todd': 4510, 'moronic': 2907, 'pain': 3170, 'throat': 4476, 'pitch': 3279, 'ground': 1979, 'rise': 3702, 'insight': 2298, 'buff': 611, 'britain': 588, 'strangely': 4212, 'weapons': 4829, 'flawless': 1751, 'stones': 4198, 'nuclear': 3057, 'visible': 4753, 'sandler': 3781, 'iraq': 2351, 'suffer': 4275, 'lesser': 2576, 'africa': 141, 'wondered': 4927, 'lesbian': 2573, 'gray': 1963, 'progresses': 3426, 'fallen': 1638, 'blade': 495, 'imaginative': 2237, 'sin': 3988, 'futuristic': 1857, 'drivel': 1364, 'experiment': 1583, 'swedish': 4335, 'artificial': 306, 'succeed': 4262, 'portrait': 3339, 'enter': 1494, 'official': 3094, 'popularity': 3334, 'demon': 1177, 'savage': 3793, 'adding': 117, 'discovered': 1280, 'wisdom': 4902, 'stealing': 4171, 'horrifying': 2167, 'perfection': 3225, 'ensues': 1493, 'mentioning': 2812, 'mission': 2870, 'device': 1227, 'pants': 3182, 'sole': 4055, 'andy': 230, '2001': 31, 'broke': 593, 'experiences': 1582, 'reynolds': 3684, 'mildly': 2840, 'aforementioned': 139, 'pulled': 3462, 'answers': 252, 'spider': 4109, 'oz': 3160, 'twelve': 4611, 'repeatedly': 3632, 'temple': 4398, 'seeking': 3859, 'luckily': 2682, 'severe': 3906, 'wholly': 4874, 'table': 4346, 'frustrated': 1842, 'unseen': 4678, 'cube': 1076, 'focusing': 1769, 'react': 3540, 'latest': 2526, 'comedic': 888, 'dave': 1123, 'miller': 2846, 'constructed': 959, 'disappear': 1270, 'synopsis': 4344, 'behavior': 446, 'birds': 485, 'sunshine': 4294, 'intentions': 2321, 'generous': 1886, 'featured': 1679, 'couldve': 1009, 'buffs': 612, 'relatives': 3601, 'construction': 960, 'phantom': 3251, 'resources': 3651, 'jennifer': 2392, 'grave': 1962, 'judging': 2425, '18': 10, 'unintentional': 4658, 'majority': 2712, 'hilariously': 2107, 'showdown': 3955, 'females': 1694, 'signed': 3971, 'boom': 537, 'amongst': 218, 'credibility': 1047, 'covered': 1023, 'dolph': 1317, 'arts': 310, 'timing': 4498, 'damage': 1099, 'shut': 3961, 'individuals': 2278, 'reporter': 3636, 'command': 897, 'packed': 3166, 'awards': 367, 'jonathan': 2417, 'directorial': 1265, 'outfit': 3144, 'chicks': 787, 'valley': 4707, 'dolls': 1316, 'ruby': 3749, 'lively': 2627, 'supernatural': 4302, 'mindless': 2851, 'feminist': 1695, 'blues': 519, 'rubber': 3747, 'trio': 4587, 'stops': 4203, 'toilet': 4512, 'messages': 2820, 'persons': 3244, 'australia': 356, 'aid': 160, 'safe': 3771, 'legal': 2563, 'repeat': 3630, 'sentimental': 3882, 'spielberg': 4110, 'hanks': 2025, 'wonders': 4931, 'afternoon': 144, 'cartoons': 705, '1996': 26, 'study': 4242, 'worthwhile': 4955, 'capturing': 679, 'cure': 1081, 'karloff': 2445, 'religion': 3607, 'kenneth': 2455, 'morris': 2908, 'rendition': 3625, 'rank': 3518, 'exotic': 1574, 'corrupt': 1001, 'nations': 2971, 'mild': 2839, 'contrived': 976, 'guessing': 1991, 'improved': 2255, 'lawyer': 2541, 'september': 3884, 'planned': 3290, 'destroy': 1213, 'st': 4137, 'incident': 2260, 'rachel': 3500, 'falk': 1636, 'precious': 3366, 'survivors': 4325, 'porno': 3337, 'liking': 2604, 'starred': 4153, 'contrary': 974, 'wives': 4918, 'realizing': 3555, 'rescue': 3643, 'channels': 754, 'regardless': 3590, 'progress': 3425, 'noble': 3021, 'bumbling': 622, 'uk': 4626, 'provoking': 3452, 'argument': 291, 'masses': 2755, 'elegant': 1441, 'fury': 1855, 'unintentionally': 4659, 'battles': 415, 'wake': 4774, 'carl': 692, 'mysterious': 2955, 'embarrassment': 1455, 'babe': 375, 'donna': 1323, 'fulci': 1845, 'giallo': 1904, 'areas': 287, 'chances': 748, 'cheated': 775, 'countryside': 1015, 'author': 359, 'retired': 3664, 'spooky': 4128, 'gothic': 1945, 'wears': 4832, 'dracula': 1341, 'gorgeous': 1942, 'pitt': 3280, 'highlights': 2104, 'lousy': 2667, 'stole': 4194, 'promises': 3432, 'user': 4696, 'mixed': 2877, 'liners': 2611, '1930s': 11, 'neat': 2982, 'brady': 561, 'split': 4120, 'videos': 4734, 'online': 3109, 'reaching': 3539, 'unconvincing': 4638, 'current': 1084, 'christ': 807, 'interviews': 2330, 'sandra': 3782, 'dealt': 1138, 'health': 2060, 'carol': 693, 'bacall': 377, 'subplots': 4256, 'captures': 678, 'seasons': 3844, 'guarantee': 1987, 'instinct': 2308, 'proof': 3434, 'conspiracy': 956, 'properly': 3437, 'pit': 3278, 'factor': 1622, 'web': 4833, 'elsewhere': 1449, 'darker': 1116, 'imagined': 2239, 'impressed': 2251, 'offered': 3088, 'parker': 3191, 'sharp': 3922, 'los': 2653, 'blew': 505, 'capital': 673, 'empire': 1464, 'farce': 1654, 'sellers': 3872, 'handle': 2018, 'arrogant': 303, 'montage': 2894, 'raise': 3507, 'bound': 553, 'annoyed': 248, 'priest': 3392, 'clothes': 860, 'catholic': 720, 'corruption': 1002, 'pride': 3391, 'lessons': 2578, 'transformation': 4560, 'schools': 3814, 'dean': 1139, 'richards': 3687, 'peters': 3248, 'marry': 2745, 'shake': 3914, 'ironically': 2356, 'influenced': 2287, 'shorts': 3948, 'characterization': 759, 'max': 2774, 'bollywood': 530, 'kapoor': 2443, 'forgettable': 1794, 'grows': 1985, 'buying': 641, 'lyrics': 2692, 'contract': 973, 'ape': 266, 'incompetent': 2266, 'audio': 354, 'trailers': 4555, 'wrestling': 4966, 'twins': 4616, 'segment': 3867, 'screenwriter': 3833, 'essence': 1521, 'bone': 533, 'forgive': 1795, 'inducing': 2279, 'horrific': 2166, 'brad': 560, 'fred': 1825, 'possessed': 3347, 'staged': 4140, 'adapted': 114, 'terrorist': 4413, 'widely': 4881, 'trees': 4577, 'spring': 4134, 'minded': 2850, 'musicals': 2948, 'reed': 3580, '1968': 16, 'dickens': 1240, 'hopes': 2159, 'nancy': 2964, 'consistently': 954, 'tunes': 4603, 'catchy': 717, 'endure': 1475, 'admittedly': 123, 'cringe': 1059, 'offended': 3085, 'freddy': 1826, 'elm': 1447, 'warriors': 4803, 'rob': 3710, 'roy': 3745, 'noted': 3045, 'larger': 2519, 'conflict': 939, 'sleazy': 4023, 'sadistic': 3768, 'ruthless': 3764, 'unaware': 4632, 'betty': 474, 'pregnant': 3369, 'resulting': 3661, 'depicting': 1184, 'jessica': 2398, 'courage': 1018, 'captivating': 675, 'struggles': 4235, 'pink': 3277, 'crack': 1027, 'guns': 1998, 'suffers': 4278, 'lab': 2501, 'attacks': 339, 'hanging': 2023, 'report': 3635, 'ned': 2986, 'drunken': 1376, '2nd': 41, 'kane': 2442, 'jewish': 2401, 'cheating': 776, 'amitabh': 216, 'grandfather': 1954, 'pat': 3208, 'gabriel': 1859, 'host': 2173, 'planning': 3291, 'revelation': 3674, 'bobby': 525, 'initially': 2291, 'exceptionally': 1559, 'hitchcock': 2123, 'flight': 1757, 'homage': 2141, 'mundane': 2938, 'enemy': 1477, 'pays': 3218, 'scooby': 3820, 'doo': 1325, 'mountain': 2917, 'tiresome': 4502, 'faith': 1633, 'mtv': 2933, 'talked': 4359, 'countless': 1012, 'alternate': 200, 'preview': 3386, 'burning': 627, 'testament': 4417, 'fare': 1655, 'centers': 734, 'nearby': 2980, 'molly': 2884, 'hearing': 2063, 'goodness': 1938, 'smooth': 4041, 'revolution': 3680, 'touched': 4534, 'thrillers': 4473, 'tarzan': 4367, 'mate': 2765, 'secretly': 3851, 'civilization': 827, 'painfully': 3172, 'screens': 3832, 'couples': 1017, 'chooses': 800, 'convoluted': 987, 'valuable': 4708, 'watches': 4814, 'clue': 864, 'enterprise': 1495, 'honesty': 2148, 'pulling': 3463, 'plausible': 3295, 'buddies': 608, 'hideous': 2098, 'nazi': 2977, 'pretend': 3381, 'mini': 2854, 'depressed': 1187, 'reflect': 3584, 'resist': 3648, 'steel': 4173, 'boredom': 542, 'lena': 2568, 'terribly': 4408, 'wall': 4781, 'touches': 4535, 'pulp': 3465, '25': 40, 'werewolf': 4850, 'hitting': 2126, 'topless': 4527, '3d': 46, 'wolf': 4920, 'junk': 2436, 'iran': 2350, 'slightest': 4028, 'landscape': 2513, 'classical': 836, 'library': 2589, '1973': 19, 'improvement': 2256, 'shark': 3921, 'columbo': 881, 'virginia': 4750, 'astaire': 330, 'rogers': 3725, 'berlin': 467, 'piano': 3264, 'singers': 3994, 'disturbed': 1299, 'dressing': 1359, 'realized': 3553, 'inspired': 2301, 'belief': 451, 'bargain': 400, 'pilot': 3276, 'forest': 1791, 'justify': 2439, 'crush': 1072, 'mistress': 2874, 'conflicts': 940, 'crucial': 1068, '24': 39, 'shortly': 3947, 'naive': 2958, 'staff': 4138, 'chaos': 755, 'emphasis': 1463, 'innovative': 2295, '2003': 33, '1980s': 21, 'morality': 2903, 'todays': 4509, 'eyre': 1614, 'dentist': 1180, 'outstanding': 3147, 'manipulative': 2727, 'france': 1816, 'westerns': 4854, 'dramas': 1347, 'homosexual': 2145, 'idiots': 2220, 'segments': 3868, 'bottle': 550, 'vampires': 4712, 'edgar': 1417, 'enters': 1496, 'combine': 884, 'accurate': 90, 'safety': 3772, 'godfather': 1927, 'surrounded': 4318, 'hood': 2151, 'chased': 770, 'executed': 1565, 'cole': 873, 'stale': 4141, 'sarah': 3785, 'carter': 703, 'link': 2613, 'spain': 4091, 'excessive': 1560, 'narrator': 2967, 'taught': 4370, 'explosions': 1597, 'minimal': 2855, 'pulls': 3464, 'catching': 716, 'prize': 3405, 'cinematographer': 819, 'jon': 2416, 'voight': 4764, 'hippie': 2115, 'suspicious': 4332, 'stress': 4220, 'conservative': 948, 'attempting': 342, 'howard': 2182, 'folk': 1770, 'slap': 4018, 'tonight': 4519, 'witnessed': 4915, 'carrey': 696, 'niro': 3019, 'gifted': 1907, 'ridiculously': 3694, 'transfer': 4559, 'useless': 4695, 'airplane': 166, 'sink': 3999, 'brooks': 596, 'praise': 3364, 'execution': 1566, 'relate': 3593, 'masters': 2761, 'ranks': 3519, 'buildings': 616, 'leo': 2571, 'travels': 4569, 'ocean': 3079, 'dollar': 1314, 'stilted': 4190, 'hunt': 2198, 'feed': 1683, 'shoots': 3944, 'string': 4227, 'warrior': 4802, 'nonsensical': 3031, 'remaining': 3610, 'ripped': 3701, 'wrapped': 4964, 'rebel': 3561, 'craft': 1028, 'greek': 1970, 'endings': 1472, 'citizen': 824, 'ninja': 3018, 'carpenter': 694, 'blockbuster': 509, 'yellow': 4981, 'lucy': 2684, 'horrid': 2165, 'letting': 2583, 'principal': 3398, 'hatred': 2049, 'purely': 3472, 'performer': 3231, 'blows': 517, 'ethan': 1528, 'copies': 992, 'causing': 726, 'lately': 2524, 'chaplin': 756, 'maintain': 2710, 'sadness': 3770, 'farm': 1656, 'businessman': 634, 'engaged': 1480, 'superhero': 4299, 'facts': 1624, 'hype': 2207, 'lawrence': 2539, 'sinatra': 3989, 'nazis': 2978, 'mayor': 2777, 'crafted': 1029, 'cuba': 1075, 'earned': 1401, 'orson': 3132, 'illness': 2230, 'gags': 1862, 'vague': 4705, 'vincent': 4746, 'defense': 1159, 'behave': 445, 'community': 908, 'godzilla': 1929, 'freeman': 1829, 'wrap': 4963, 'cave': 727, 'canada': 666, 'canadian': 667, 'brosnan': 597, 'sports': 4130, 'drinking': 1362, 'claims': 830, 'chasing': 772, 'assume': 328, 'travesty': 4570, 'dragged': 1343, 'differences': 1247, 'hoffman': 2128, 'alcoholic': 177, 'button': 639, 'psychic': 3456, 'fonda': 1777, 'steals': 4172, 'learning': 2552, 'stellar': 4174, 'restored': 3659, 'colour': 880, 'primary': 3394, 'spare': 4093, 'expensive': 1579, 'officers': 3093, 'displayed': 1292, 'formulaic': 1803, 'shocked': 3939, 'devoted': 1231, 'equipment': 1511, 'rangers': 3517, 'ginger': 1908, 'aimed': 162, 'italy': 2368, 'matches': 2764, 'shy': 3962, 'accepted': 82, 'medical': 2790, 'wound': 4960, 'opera': 3116, 'spending': 4106, 'ashley': 313, 'maria': 2736, 'michelle': 2830, 'franchise': 1817, 'poetry': 3314, 'blake': 498, 'facing': 1620, 'stooges': 4200, 'monkeys': 2891, 'shine': 3931, 'phony': 3256, 'conventional': 979, 'contest': 967, 'ourselves': 3140, 'exposure': 1599, 'trek': 4578, 'quotes': 3497, 'urge': 4689, 'robbery': 3711, 'montana': 2895, 'yelling': 4980, 'switch': 4339, 'transition': 4561, 'significant': 3972, 'surviving': 4323, 'destroying': 1215, 'curse': 1086, 'blob': 507, 'suffice': 4279, 'shelley': 3928, 'forbidden': 1785, 'stargate': 4151, 'mummy': 2937, 'sidney': 3968, 'lumet': 2688, 'garbo': 1871, 'catherine': 719, 'backdrop': 379, 'scarecrow': 3804, 'thick': 4447, 'stretched': 4222, 'designs': 1204, 'historically': 2120, '40s': 49, 'generated': 1882, 'fest': 1696, 'sits': 4006, 'crude': 1069, 'demons': 1178, 'jesse': 2397, 'honor': 2150, 'spite': 4117, 'florida': 1761, 'fitting': 1742, 'consists': 955, 'davies': 1125, 'louise': 2666, 'superbly': 4297, 'belong': 459, 'chicago': 785, 'patient': 3211, 'assistant': 326, 'et': 1526, 'sally': 3776, 'bath': 411, 'mildred': 2841, 'absence': 70, 'craven': 1034, 'producing': 3417, 'strike': 4224, 'patients': 3212, 'bride': 577, 'lust': 2689, 'attitudes': 347, 'damon': 1101, 'khan': 2459, 'wave': 4818, 'daring': 1114, 'satan': 3787, 'spike': 4111, 'understated': 4646, 'shower': 3957, 'simmons': 3981, 'hurts': 2203, 'definition': 1163, 'gag': 1861, 'dancer': 1104, 'ballet': 389, 'trained': 4557, 'ha': 2002, 'ear': 1397, 'misery': 2865, 'versus': 4722, 'holly': 2136, 'judy': 2426, 'junior': 2435, 'bullet': 620, 'ramones': 3512, 'plague': 3285, 'mars': 2746, 'eager': 1396, 'ideal': 2214, 'showcase': 3954, 'driver': 1366, 'fbi': 1675, 'fancy': 1649, 'wounded': 4961, 'mouse': 2919, 'arrive': 300, 'vengeance': 4719, 'purple': 3473, 'li': 2587, 'voiced': 4762, 'bands': 392, 'emma': 1457, 'loads': 2633, 'ya': 4976, 'advise': 134, 'mann': 2728, 'leslie': 2574, 'intimate': 2331, 'bettie': 473, 'pages': 3168, 'photos': 3261, 'alexander': 180, 'clip': 851, 'juvenile': 2441, 'forms': 1801, 'hole': 2132, '1933': 12, 'broadcast': 591, 'bakshi': 386, 'mob': 2879, 'ears': 1402, 'clips': 852, 'searching': 3842, 'toys': 4543, 'fed': 1682, 'cannibal': 669, 'notorious': 3051, 'press': 3379, 'disjointed': 1287, 'robots': 3718, 'rushed': 3760, 'league': 2549, 'francis': 1818, 'ann': 244, 'soccer': 4048, 'cheese': 780, 'rick': 3689, 'specifically': 4100, 'eastern': 1408, 'frequent': 1831, 'composed': 926, 'taxi': 4371, 'laurel': 2537, 'trail': 4553, 'mitchell': 2875, 'satisfy': 3790, 'smoke': 4039, 'brazil': 568, 'unwatchable': 4682, 'remote': 3622, 'devil': 1228, 'eg': 1434, 'analysis': 224, 'bullets': 621, 'guessed': 1990, 'garden': 1872, 'stiller': 4189, 'gundam': 1997, 'airport': 167, 'parent': 3187, 'sid': 3964, 'nurse': 3063, 'wendy': 4846, 'angeles': 233, 'unsettling': 4679, 'purchased': 3470, 'pamela': 3179, 'icon': 2211, 'doubts': 1333, 'cagney': 646, 'divorce': 1301, 'atlantis': 332, 'stereotype': 4178, 'rocket': 3721, 'gender': 1878, 'deaf': 1134, 'basketball': 409, 'armed': 293, 'june': 2433, 'opinions': 3119, 'defeat': 1157, 'colonel': 876, 'hunters': 2200, 'marty': 2749, 'enemies': 1476, 'teeth': 4393, 'admire': 121, 'models': 2881, 'tag': 4348, 'downhill': 1336, 'practice': 3363, 'vegas': 4717, 'size': 4012, 'virgin': 4749, 'joey': 2408, 'rural': 3758, 'noise': 3024, 'twilight': 4614, 'photographer': 3259, 'oddly': 3081, 'east': 1407, 'hopper': 2161, 'rochester': 3719, 'troops': 4591, 'roman': 3731, 'cinemas': 817, 'adorable': 124, 'blah': 496, 'educational': 1425, 'latin': 2527, 'purchase': 3469, 'per': 3223, 'blond': 510, 'earl': 1398, 'bo': 521, 'hart': 2041, 'daddy': 1096, '2004': 34, 'rabbit': 3498, 'activities': 102, 'tomatoes': 4515, 'lincoln': 2608, 'charlotte': 766, 'dialogs': 1233, 'dalton': 1098, '1983': 22, 'magazine': 2701, 'bela': 450, 'lugosi': 2686, 'jaws': 2385, 'swim': 4337, 'kay': 2447, 'der': 1191, 'continued': 970, 'occur': 3076, 'waves': 4819, 'germans': 1897, '20th': 38, 'virus': 4752, 'survived': 4322, 'sincere': 3991, 'gadget': 1860, 'wells': 4845, 'witches': 4910, 'goal': 1925, 'bite': 489, 'beats': 426, 'outer': 3143, 'teachers': 4376, 'comparing': 913, 'lowest': 2678, 'experiments': 1584, 'vice': 4727, 'eva': 1531, 'grinch': 1975, 'tooth': 4524, 'exercise': 1568, 'cameron': 661, 'jenny': 2393, 'matthau': 2771, 'doc': 1303, 'stan': 4142, 'staring': 4152, 'carradine': 695, 'uwe': 4703, 'boll': 529, 'arnold': 296, 'justin': 2440, 'paulie': 3215, 'pokemon': 3320}\n"
     ]
    }
   ],
   "source": [
    "print(str(vocabulary))"
   ]
  },
  {
   "cell_type": "markdown",
   "metadata": {},
   "source": [
    "Once you have added the endpoint name to the Lambda function, click on **Save**. Your Lambda function is now up and running. Next we need to create a way for our web app to execute the Lambda function.\n",
    "\n",
    "In addition, we could create a test by creating a test case:\n",
    "\n",
    "- Configure test event\n",
    "- Create test event under event template \"API Gateway AWS Proxy\"\n",
    "- Name your test event \n",
    "- Only body entry counts, where we insert a sample review\n",
    "- Create test event \n",
    "- Select \"Test\"\n",
    "- Look at the body for the result (either 0 or 1)"
   ]
  },
  {
   "cell_type": "markdown",
   "metadata": {},
   "source": [
    "### Setting up API Gateway\n",
    "\n",
    "Now that our Lambda function is set up, it is time to create a new API using API Gateway that will trigger the Lambda function we have just created.\n",
    "\n",
    "Using AWS Console, navigate to **Amazon API Gateway** and then click on **Get started**.\n",
    "\n",
    "On the next page, make sure that **New API** is selected and give the new api a name, for example, `sentiment_analysis_web_app`. Then, click on **Create API**.\n",
    "\n",
    "Now we have created an API, however it doesn't currently do anything. What we want it to do is to trigger the Lambda function that we created earlier.\n",
    "\n",
    "Select the **Actions** dropdown menu and click **Create Method**. A new blank method will be created, select its dropdown menu and select **POST**, then click on the check mark beside it.\n",
    "\n",
    "For the integration point, make sure that **Lambda Function** is selected and click on the **Use Lambda Proxy integration**. This option makes sure that the data that is sent to the API is then sent directly to the Lambda function with no processing. It also means that the return value must be a proper response object as it will also not be processed by API Gateway.\n",
    "\n",
    "Type the name of the Lambda function you created earlier into the **Lambda Function** text entry box and then click on **Save**. Click on **OK** in the pop-up box that then appears, giving permission to API Gateway to invoke the Lambda function you created.\n",
    "\n",
    "The last step in creating the API Gateway is to select the **Actions** dropdown and click on **Deploy API**. You will need to create a new Deployment stage and name it anything you like, for example `prod`.\n",
    "\n",
    "You have now successfully set up a public API to access your SageMaker model. Make sure to copy or write down the URL provided to invoke your newly created public API as this will be needed in the next step. This URL can be found at the top of the page, highlighted in blue next to the text **Invoke URL**."
   ]
  },
  {
   "cell_type": "markdown",
   "metadata": {},
   "source": [
    "- https://fwhq93p1t1.execute-api.us-west-2.amazonaws.com/prod"
   ]
  },
  {
   "cell_type": "markdown",
   "metadata": {},
   "source": [
    "## Step 7: Deploying our web app\n",
    "\n",
    "Now that we have a publicly available API, we can start using it in a web app. For our purposes, we have provided a simple static html file which can make use of the public api you created earlier.\n",
    "\n",
    "In the `website` folder there should be a file called `index.html`. Download the file to your computer and open that file up in a text editor of your choice. There should be a line which contains **\\*\\*REPLACE WITH PUBLIC API URL\\*\\***. Replace this string with the url that you wrote down in the last step and then save the file.\n",
    "\n",
    "Now, if you open `index.html` on your local computer, your browser will behave as a local web server and you can use the provided site to interact with your SageMaker model.\n",
    "\n",
    "If you'd like to go further, you can host this html file anywhere you'd like, for example using github or hosting a static site on Amazon's S3. Once you have done this you can share the link with anyone you'd like and have them play with it too!\n",
    "\n",
    "> **Important Note** In order for the web app to communicate with the SageMaker endpoint, the endpoint has to actually be deployed and running. This means that you are paying for it. Make sure that the endpoint is running when you want to use the web app but that you shut it down when you don't need it, otherwise you will end up with a surprisingly large AWS bill."
   ]
  },
  {
   "cell_type": "markdown",
   "metadata": {},
   "source": [
    "### Delete the endpoint\n",
    "\n",
    "Remember to always shut down your endpoint if you are no longer using it. You are charged for the length of time that the endpoint is running so if you forget and leave it on you could end up with an unexpectedly large bill."
   ]
  },
  {
   "cell_type": "code",
   "execution_count": 82,
   "metadata": {},
   "outputs": [],
   "source": [
    "xgb_predictor.delete_endpoint()"
   ]
  },
  {
   "cell_type": "markdown",
   "metadata": {},
   "source": [
    "## Optional: Clean up\n",
    "\n",
    "The default notebook instance on SageMaker doesn't have a lot of excess disk space available. As you continue to complete and execute notebooks you will eventually fill up this disk space, leading to errors which can be difficult to diagnose. Once you are completely finished using a notebook it is a good idea to remove the files that you created along the way. Of course, you can do this from the terminal or from the notebook hub if you would like. The cell below contains some commands to clean up the created files from within the notebook."
   ]
  },
  {
   "cell_type": "code",
   "execution_count": 83,
   "metadata": {},
   "outputs": [],
   "source": [
    "# First we will remove all of the files contained in the data_dir directory\n",
    "!rm $data_dir/*\n",
    "\n",
    "# And then we delete the directory itself\n",
    "!rmdir $data_dir\n",
    "\n",
    "# Similarly we remove the files in the cache_dir directory and the directory itself\n",
    "!rm $cache_dir/*\n",
    "!rmdir $cache_dir"
   ]
  },
  {
   "cell_type": "code",
   "execution_count": 84,
   "metadata": {},
   "outputs": [
    {
     "name": "stdout",
     "output_type": "stream",
     "text": [
      "Done!\n"
     ]
    }
   ],
   "source": [
    "print(\"Done!\")"
   ]
  },
  {
   "cell_type": "code",
   "execution_count": null,
   "metadata": {},
   "outputs": [],
   "source": []
  }
 ],
 "metadata": {
  "kernelspec": {
   "display_name": "conda_python3",
   "language": "python",
   "name": "conda_python3"
  },
  "language_info": {
   "codemirror_mode": {
    "name": "ipython",
    "version": 3
   },
   "file_extension": ".py",
   "mimetype": "text/x-python",
   "name": "python",
   "nbconvert_exporter": "python",
   "pygments_lexer": "ipython3",
   "version": "3.6.5"
  }
 },
 "nbformat": 4,
 "nbformat_minor": 2
}
